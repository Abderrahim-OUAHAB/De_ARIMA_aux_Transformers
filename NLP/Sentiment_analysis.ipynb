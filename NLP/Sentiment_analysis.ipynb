{
  "cells": [
    {
      "cell_type": "code",
      "execution_count": 4,
      "metadata": {
        "id": "832dCOQox-59"
      },
      "outputs": [],
      "source": [
        "from keras.datasets import imdb\n",
        "from keras.preprocessing import sequence\n",
        "import keras\n",
        "import os\n",
        "import tensorflow as tf\n",
        "import numpy as np\n",
        "#import streamlit as st\n",
        "from tensorflow.keras.saving import register_keras_serializable\n",
        "from transformers import BertTokenizer, TFBertForSequenceClassification\n",
        "from tensorflow.keras.preprocessing.sequence import pad_sequences"
      ]
    },
    {
      "cell_type": "code",
      "execution_count": 6,
      "metadata": {
        "id": "OKaoJdHcBWgR",
        "colab": {
          "base_uri": "https://localhost:8080/",
          "height": 1000
        },
        "outputId": "d35ff191-55b1-42f5-ff64-6a3774431e60"
      },
      "outputs": [
        {
          "output_type": "display_data",
          "data": {
            "text/plain": [
              "<IPython.core.display.HTML object>"
            ],
            "text/html": [
              "\n",
              "     <input type=\"file\" id=\"files-085fc824-f393-4202-9553-3ff959d69979\" name=\"files[]\" multiple disabled\n",
              "        style=\"border:none\" />\n",
              "     <output id=\"result-085fc824-f393-4202-9553-3ff959d69979\">\n",
              "      Upload widget is only available when the cell has been executed in the\n",
              "      current browser session. Please rerun this cell to enable.\n",
              "      </output>\n",
              "      <script>// Copyright 2017 Google LLC\n",
              "//\n",
              "// Licensed under the Apache License, Version 2.0 (the \"License\");\n",
              "// you may not use this file except in compliance with the License.\n",
              "// You may obtain a copy of the License at\n",
              "//\n",
              "//      http://www.apache.org/licenses/LICENSE-2.0\n",
              "//\n",
              "// Unless required by applicable law or agreed to in writing, software\n",
              "// distributed under the License is distributed on an \"AS IS\" BASIS,\n",
              "// WITHOUT WARRANTIES OR CONDITIONS OF ANY KIND, either express or implied.\n",
              "// See the License for the specific language governing permissions and\n",
              "// limitations under the License.\n",
              "\n",
              "/**\n",
              " * @fileoverview Helpers for google.colab Python module.\n",
              " */\n",
              "(function(scope) {\n",
              "function span(text, styleAttributes = {}) {\n",
              "  const element = document.createElement('span');\n",
              "  element.textContent = text;\n",
              "  for (const key of Object.keys(styleAttributes)) {\n",
              "    element.style[key] = styleAttributes[key];\n",
              "  }\n",
              "  return element;\n",
              "}\n",
              "\n",
              "// Max number of bytes which will be uploaded at a time.\n",
              "const MAX_PAYLOAD_SIZE = 100 * 1024;\n",
              "\n",
              "function _uploadFiles(inputId, outputId) {\n",
              "  const steps = uploadFilesStep(inputId, outputId);\n",
              "  const outputElement = document.getElementById(outputId);\n",
              "  // Cache steps on the outputElement to make it available for the next call\n",
              "  // to uploadFilesContinue from Python.\n",
              "  outputElement.steps = steps;\n",
              "\n",
              "  return _uploadFilesContinue(outputId);\n",
              "}\n",
              "\n",
              "// This is roughly an async generator (not supported in the browser yet),\n",
              "// where there are multiple asynchronous steps and the Python side is going\n",
              "// to poll for completion of each step.\n",
              "// This uses a Promise to block the python side on completion of each step,\n",
              "// then passes the result of the previous step as the input to the next step.\n",
              "function _uploadFilesContinue(outputId) {\n",
              "  const outputElement = document.getElementById(outputId);\n",
              "  const steps = outputElement.steps;\n",
              "\n",
              "  const next = steps.next(outputElement.lastPromiseValue);\n",
              "  return Promise.resolve(next.value.promise).then((value) => {\n",
              "    // Cache the last promise value to make it available to the next\n",
              "    // step of the generator.\n",
              "    outputElement.lastPromiseValue = value;\n",
              "    return next.value.response;\n",
              "  });\n",
              "}\n",
              "\n",
              "/**\n",
              " * Generator function which is called between each async step of the upload\n",
              " * process.\n",
              " * @param {string} inputId Element ID of the input file picker element.\n",
              " * @param {string} outputId Element ID of the output display.\n",
              " * @return {!Iterable<!Object>} Iterable of next steps.\n",
              " */\n",
              "function* uploadFilesStep(inputId, outputId) {\n",
              "  const inputElement = document.getElementById(inputId);\n",
              "  inputElement.disabled = false;\n",
              "\n",
              "  const outputElement = document.getElementById(outputId);\n",
              "  outputElement.innerHTML = '';\n",
              "\n",
              "  const pickedPromise = new Promise((resolve) => {\n",
              "    inputElement.addEventListener('change', (e) => {\n",
              "      resolve(e.target.files);\n",
              "    });\n",
              "  });\n",
              "\n",
              "  const cancel = document.createElement('button');\n",
              "  inputElement.parentElement.appendChild(cancel);\n",
              "  cancel.textContent = 'Cancel upload';\n",
              "  const cancelPromise = new Promise((resolve) => {\n",
              "    cancel.onclick = () => {\n",
              "      resolve(null);\n",
              "    };\n",
              "  });\n",
              "\n",
              "  // Wait for the user to pick the files.\n",
              "  const files = yield {\n",
              "    promise: Promise.race([pickedPromise, cancelPromise]),\n",
              "    response: {\n",
              "      action: 'starting',\n",
              "    }\n",
              "  };\n",
              "\n",
              "  cancel.remove();\n",
              "\n",
              "  // Disable the input element since further picks are not allowed.\n",
              "  inputElement.disabled = true;\n",
              "\n",
              "  if (!files) {\n",
              "    return {\n",
              "      response: {\n",
              "        action: 'complete',\n",
              "      }\n",
              "    };\n",
              "  }\n",
              "\n",
              "  for (const file of files) {\n",
              "    const li = document.createElement('li');\n",
              "    li.append(span(file.name, {fontWeight: 'bold'}));\n",
              "    li.append(span(\n",
              "        `(${file.type || 'n/a'}) - ${file.size} bytes, ` +\n",
              "        `last modified: ${\n",
              "            file.lastModifiedDate ? file.lastModifiedDate.toLocaleDateString() :\n",
              "                                    'n/a'} - `));\n",
              "    const percent = span('0% done');\n",
              "    li.appendChild(percent);\n",
              "\n",
              "    outputElement.appendChild(li);\n",
              "\n",
              "    const fileDataPromise = new Promise((resolve) => {\n",
              "      const reader = new FileReader();\n",
              "      reader.onload = (e) => {\n",
              "        resolve(e.target.result);\n",
              "      };\n",
              "      reader.readAsArrayBuffer(file);\n",
              "    });\n",
              "    // Wait for the data to be ready.\n",
              "    let fileData = yield {\n",
              "      promise: fileDataPromise,\n",
              "      response: {\n",
              "        action: 'continue',\n",
              "      }\n",
              "    };\n",
              "\n",
              "    // Use a chunked sending to avoid message size limits. See b/62115660.\n",
              "    let position = 0;\n",
              "    do {\n",
              "      const length = Math.min(fileData.byteLength - position, MAX_PAYLOAD_SIZE);\n",
              "      const chunk = new Uint8Array(fileData, position, length);\n",
              "      position += length;\n",
              "\n",
              "      const base64 = btoa(String.fromCharCode.apply(null, chunk));\n",
              "      yield {\n",
              "        response: {\n",
              "          action: 'append',\n",
              "          file: file.name,\n",
              "          data: base64,\n",
              "        },\n",
              "      };\n",
              "\n",
              "      let percentDone = fileData.byteLength === 0 ?\n",
              "          100 :\n",
              "          Math.round((position / fileData.byteLength) * 100);\n",
              "      percent.textContent = `${percentDone}% done`;\n",
              "\n",
              "    } while (position < fileData.byteLength);\n",
              "  }\n",
              "\n",
              "  // All done.\n",
              "  yield {\n",
              "    response: {\n",
              "      action: 'complete',\n",
              "    }\n",
              "  };\n",
              "}\n",
              "\n",
              "scope.google = scope.google || {};\n",
              "scope.google.colab = scope.google.colab || {};\n",
              "scope.google.colab._files = {\n",
              "  _uploadFiles,\n",
              "  _uploadFilesContinue,\n",
              "};\n",
              "})(self);\n",
              "</script> "
            ]
          },
          "metadata": {}
        },
        {
          "output_type": "stream",
          "name": "stdout",
          "text": [
            "Saving smile.jpg to smile.jpg\n",
            "Saving sad.png to sad.png\n"
          ]
        },
        {
          "output_type": "execute_result",
          "data": {
            "text/plain": [
              "{'smile.jpg': b'\\xff\\xd8\\xff\\xe0\\x00\\x10JFIF\\x00\\x01\\x01\\x01\\x01,\\x01,\\x00\\x00\\xff\\xe1\\x00VExif\\x00\\x00MM\\x00*\\x00\\x00\\x00\\x08\\x00\\x04\\x01\\x1a\\x00\\x05\\x00\\x00\\x00\\x01\\x00\\x00\\x00>\\x01\\x1b\\x00\\x05\\x00\\x00\\x00\\x01\\x00\\x00\\x00F\\x01(\\x00\\x03\\x00\\x00\\x00\\x01\\x00\\x02\\x00\\x00\\x02\\x13\\x00\\x03\\x00\\x00\\x00\\x01\\x00\\x01\\x00\\x00\\x00\\x00\\x00\\x00\\x00\\x00\\x01,\\x00\\x00\\x00\\x01\\x00\\x00\\x01,\\x00\\x00\\x00\\x01\\xff\\xed\\x00,Photoshop 3.0\\x008BIM\\x04\\x04\\x00\\x00\\x00\\x00\\x00\\x0f\\x1c\\x01Z\\x00\\x03\\x1b%G\\x1c\\x01\\x00\\x00\\x02\\x00\\x04\\x00\\xff\\xe1\\x0c\\x81http://ns.adobe.com/xap/1.0/\\x00<?xpacket begin=\\'\\xef\\xbb\\xbf\\' id=\\'W5M0MpCehiHzreSzNTczkc9d\\'?>\\n<x:xmpmeta xmlns:x=\\'adobe:ns:meta/\\' x:xmptk=\\'Image::ExifTool 10.10\\'>\\n<rdf:RDF xmlns:rdf=\\'http://www.w3.org/1999/02/22-rdf-syntax-ns#\\'>\\n\\n <rdf:Description rdf:about=\\'\\'\\n  xmlns:tiff=\\'http://ns.adobe.com/tiff/1.0/\\'>\\n  <tiff:ResolutionUnit>2</tiff:ResolutionUnit>\\n  <tiff:XResolution>300/1</tiff:XResolution>\\n  <tiff:YResolution>300/1</tiff:YResolution>\\n </rdf:Description>\\n\\n <rdf:Description rdf:about=\\'\\'\\n  xmlns:xmpMM=\\'http://ns.adobe.com/xap/1.0/mm/\\'>\\n  <xmpMM:DocumentID>adobe:docid:stock:142197c9-4fe8-4a17-bf9c-8f1d769c9a23</xmpMM:DocumentID>\\n  <xmpMM:InstanceID>xmp.iid:08e7f297-e422-4170-b564-15f3b07ca56f</xmpMM:InstanceID>\\n </rdf:Description>\\n</rdf:RDF>\\n</x:xmpmeta>\\n                                                                                                    \\n                                                                                                    \\n                                                                                                    \\n                                                                                                    \\n                                                                                                    \\n                                                                                                    \\n                                                                                                    \\n                                                                                                    \\n                                                                                                    \\n                                                                                                    \\n                                                                                                    \\n                                                                                                    \\n                                                                                                    \\n                                                                                                    \\n                                                                                                    \\n                                                                                                    \\n                                                                                                    \\n                                                                                                    \\n                                                                                                    \\n                                                                                                    \\n                                                                                                    \\n                                                                                                    \\n                                                                                                    \\n                                                                                                    \\n<?xpacket end=\\'w\\'?>\\xff\\xdb\\x00C\\x00\\x05\\x03\\x04\\x04\\x04\\x03\\x05\\x04\\x04\\x04\\x05\\x05\\x05\\x06\\x07\\x0c\\x08\\x07\\x07\\x07\\x07\\x0f\\x0b\\x0b\\t\\x0c\\x11\\x0f\\x12\\x12\\x11\\x0f\\x11\\x11\\x13\\x16\\x1c\\x17\\x13\\x14\\x1a\\x15\\x11\\x11\\x18!\\x18\\x1a\\x1d\\x1d\\x1f\\x1f\\x1f\\x13\\x17\"$\"\\x1e$\\x1c\\x1e\\x1f\\x1e\\xff\\xdb\\x00C\\x01\\x05\\x05\\x05\\x07\\x06\\x07\\x0e\\x08\\x08\\x0e\\x1e\\x14\\x11\\x14\\x1e\\x1e\\x1e\\x1e\\x1e\\x1e\\x1e\\x1e\\x1e\\x1e\\x1e\\x1e\\x1e\\x1e\\x1e\\x1e\\x1e\\x1e\\x1e\\x1e\\x1e\\x1e\\x1e\\x1e\\x1e\\x1e\\x1e\\x1e\\x1e\\x1e\\x1e\\x1e\\x1e\\x1e\\x1e\\x1e\\x1e\\x1e\\x1e\\x1e\\x1e\\x1e\\x1e\\x1e\\x1e\\x1e\\x1e\\x1e\\x1e\\x1e\\xff\\xc0\\x00\\x11\\x08\\x01h\\x01h\\x03\\x01\\x11\\x00\\x02\\x11\\x01\\x03\\x11\\x01\\xff\\xc4\\x00\\x1d\\x00\\x01\\x00\\x02\\x02\\x03\\x01\\x01\\x00\\x00\\x00\\x00\\x00\\x00\\x00\\x00\\x00\\x00\\x07\\x08\\x06\\t\\x01\\x03\\x04\\x02\\x05\\xff\\xc4\\x00M\\x10\\x00\\x01\\x03\\x02\\x03\\x05\\x04\\x04\\x0b\\x05\\x04\\x08\\x07\\x01\\x00\\x00\\x01\\x00\\x02\\x03\\x04\\x05\\x06\\x07\\x11\\x08\\x12!1A\\x13Qaq\"\\x81\\x82\\xa1\\x14\\x15\\x16#2Rb\\x91\\x92\\xb1\\xc1\\tBr\\xa2\\xb2\\x17$\\xb3\\xc2\\x184Ccu\\x93\\xa3\\xd2%37Ts\\xc3\\xe36\\xff\\xc4\\x00\\x1c\\x01\\x01\\x00\\x02\\x02\\x03\\x01\\x00\\x00\\x00\\x00\\x00\\x00\\x00\\x00\\x00\\x00\\x00\\x05\\x06\\x01\\x07\\x02\\x04\\x08\\x03\\xff\\xc4\\x00D\\x11\\x00\\x02\\x01\\x02\\x02\\x06\\x07\\x05\\x06\\x03\\x07\\x04\\x03\\x01\\x00\\x00\\x00\\x01\\x02\\x03\\x04\\x05\\x11\\x06\\x12!1AQ\\x13\"aq\\x81\\x91\\xb1\\x072\\xa1\\xc1\\xd1\\x14\\x15#3RbB\\xb2\\xf0$r\\x82\\x92\\xc2\\xd2\\xe145T\\xa2\\x16\\x17\\xe2S\\xff\\xda\\x00\\x0c\\x03\\x01\\x00\\x02\\x11\\x03\\x11\\x00?\\x00\\xb9h\\x02\\x00\\x80 \\x08\\x02\\x00\\x80 \\x08\\x02\\x00\\x80 \\x08\\x02\\x00\\x80 \\x08\\x02\\x00\\x80 \\x08\\x02\\x00\\x80 \\x08\\x02\\x00\\x80 \\x08\\x02\\x00\\x80 \\x08\\x02\\x00\\x80 \\x08\\x02\\x00\\x80 \\x08\\x02\\x00\\x80 \\x08\\x02\\x00\\x80 \\x08\\x02\\x00\\x80 \\x08\\x02\\x00\\x80 \\x08\\x02\\x00\\x80 \\x08\\x02\\x00\\x80 \\x08\\x02\\x00\\x80 \\x08\\x02\\x00\\x80 \\x08\\x02\\x00\\x80 \\x08\\x02\\x00\\x80 \\x08\\x02\\x00\\x80 \\x08\\x02\\x00\\x80 \\x08\\x02\\x00\\x80 \\x08\\x02\\x00\\x80 \\x08\\x02\\x00\\x80 \\x08\\x02\\x00\\x80 \\x08\\x02\\x00\\x80j\\x10\\x18\\xb6\\'\\xccl\\x07\\x86w\\x85\\xfb\\x18X\\xed\\xcfo8\\xe6\\xae\\x8cI\\xf85\\xde\\xf7 #\\x8b\\xee\\xd5y/ls\\x99\\x0e!\\xaa\\xb9\\xbd\\xbc\\xc5\\x15\\x04\\xae\\x1e\\xa784{\\xd0\\x18e\\xd3m|\\x01\\x13\\x9c\\xdbv\\x18\\xc4\\x95Zr2\\x88b\\x07\\xf9\\xdc}\\xc8\\x0f\\xc2\\xa9\\xdb\\x8a\\xda\\xd2E6]\\xd5\\xbf\\xb8\\xc9uk\\x7f(\\xca\\x03\\xc9\\xfe\\x9cc_\\xfd7\\xe1\\xff\\x00\\x18\\xff\\x00\\xf2@z\\xe9\\xb6\\xe2\\xb6\\xb8\\x81S\\x97ul\\xef1\\xddZ\\xef\\xce0\\x80\\xfd\\xdb^\\xda\\xf8\\x02W5\\xb7\\x1c1\\x89)u\\xe6b\\x10\\xca\\x07\\xf3\\xb4\\xfb\\x90\\x19\\x9d\\x8bj\\xbc\\x97\\xb9\\xb9\\xac\\x9b\\x10\\xd5[\\x1e\\xeeB\\xb6\\x82V\\x8f[\\x9a\\x1c=\\xe8\\t\\x1f\\x0cf6\\x03\\xc4\\xdb\\xa2\\xc3\\x8c,w\\x17\\xbb\\x94p\\xd7Fd\\xfc\\x1a\\xef{\\x90\\x19N\\xa1\\x00@\\x10\\x04\\x01\\x00@\\x10\\x04\\x01\\x00@\\x10\\x04\\x01\\x00@\\x10\\x04\\x01\\x00@\\x10\\x04\\x01\\x00@\\x10\\x04\\x01\\x00@\\x10\\x04\\x01\\x00@\\x10\\x04\\x07\\x0f{X\\xc7=\\xee\\rkF\\xa4\\x93\\xa0\\x03\\xbd\\x01\\x0ffF\\xd2yS\\x82\\x8c\\xb4\\xf2\\xdf\\x85\\xea\\xbe=A\\xa4\\xb4\\x81P\\xe0{\\x8b\\xf5\\x11\\xb7\\xc8\\xbb_\\x04\\x05s\\xc7\\xbbib\\xeb\\x83\\xa4\\x83\\x07\\xe1\\xeb}\\x96\\x13\\xc1\\xb3\\xd5\\x93U?\\x98\\x1e\\x8b\\x07\\x91\\x0e@Ax\\xc76s#\\x17\\xb9\\xe3\\x10c;\\xc5\\\\O\\xd7X\\x1bPb\\x87\\xfe[4o\\xb9\\x01\\x85\\x12I\\xd7\\xaa\\x01\\xc7\\xaa\\x03\\xb6\\x9a\\x96\\xa6\\xa5\\xdb\\xb4\\xf0K3\\xbb\\xa3aq\\xf7.\\x13\\xa9\\x08,\\xe4\\xf22\\xa2\\xde\\xe3\\xf5 \\xc2X\\xa6q\\xac\\x18j\\xf3(\\xfb\\x142\\xbb\\xf2j\\xeaK\\x14\\xb2\\x87\\xbdZ+\\xfcK\\xea}\\x15\\n\\xaft_\\x91\\xe8\\xf9\\x0b\\x8d\\xb4\\xd7\\xe4~ \\xd3\\xfe\\x1b7\\xfd\\xab\\xe5\\xf7\\xd6\\x1d\\xff\\x00\\x91\\x0f\\xf3G\\xeag\\xec\\xd5\\xbfC\\xf2g\\x9e|%\\x8a`\\x1a\\xcf\\x86\\xaf1\\x0f\\xb7C+\\x7f6\\xaf\\xacqK)\\xfb\\xb5\\xa2\\xff\\x00\\xc4\\xbe\\xa6\\x1d\\n\\xab|_\\x91\\xf9u4\\xb5\\x14\\xce\\xdd\\xa8\\x82X]\\xdd#\\x0bO\\xbdv\\xe1R\\x13Y\\xc5\\xe6|\\xdcZ\\xdeuq\\xe8\\xb9\\x98\\x00\\x90u\\xea\\x80\\xcdpvl\\xe6F\\x10s\\x06\\x1f\\xc6w\\x8aH\\x99\\xa6\\x90:\\xa0\\xcb\\x0f\\xfc\\xb7\\xea\\xdfr\\x02t\\xc0[ib\\xeb{\\xa3\\x83\\x18a\\xeb}\\xea\\x11\\xc1\\xd3\\xd2\\x13K?\\x99\\x1e\\x93\\x0f\\x90\\r@X\\xcc\\xb7\\xdaO*q\\xa9\\x8a\\x9e+\\xf0\\xb2\\xd7\\xc9\\xa0\\x14\\x97`)\\xdcOp~\\xa67y\\x07k\\xe0\\x80\\x98\\x18\\xf6\\xbd\\x8d{\\x1c\\x1c\\xd7\\rA\\x07PGx@} \\x08\\x02\\x00\\x80 \\x08\\x02\\x00\\x80 \\x08\\x02\\x00\\x80 \\x08\\x02\\x00\\x80 \\x08\\x02\\x00\\x80 \\x08\\x02\\x00\\x80 \\x08\\x0e\\xaa\\xaa\\x88)i\\xe4\\xa9\\xa9\\x9a8!\\x89\\xa5\\xf2I#\\x83Z\\xc6\\x8ed\\x93\\xc0\\x0f\\x14\\x05o\\xce\\x1d\\xaep^\\x173[pl?*nm\\xd5\\xbd\\xbb\\x1eYE\\x19\\xfe>r{\\x03C\\xf5\\x90\\x15\\x074s\\xab1s\\x1aI\\x19\\x881\\x04\\xcd\\xa0q\\xe1n\\xa4\\xd6\\x1af\\x8e\\xe2\\xc0}?7\\x97\\x14\\x04w\\xc4\\xa02l\\x1f\\x97\\xf8\\xcb\\x16\\xb8|\\x9f\\xc3\\xd5\\xd5\\x91\\x13\\xa7n#\\xdc\\x84y\\xc8\\xed\\x1b\\xefQ8\\x869\\x87\\xe1\\xcb\\xfbMU\\x17\\xcb<\\xdf\\x92\\xdav(\\xda\\xd6\\xad\\xeeG2`\\xc2\\xbb-b\\n\\x90\\xc9q\\x1e \\xa1\\xb6\\xb4\\xf11R\\xb0\\xd4I\\xe4O\\xa2\\xd0}eRo\\xbd\\xa5ZS\\xcdZ\\xd2s\\xed}U\\xf3~\\x84\\xa5,\\x12\\xa4\\xb6\\xceY\\x12v\\x1f\\xd9\\xbb.-\\xa1\\xa6\\xba+\\x95\\xe2A\\xc4\\x9a\\x9a\\xa2\\xc6\\x93\\xfc1\\x86\\xfeeT\\xee\\xfd\\xa1b\\xf5\\xff\\x00-\\xc6\\x0b\\xb1g\\xf1y\\xfa\\x12\\x14\\xf0kx\\xfb\\xd9\\xb3<\\xb3e\\xd6\\x03\\xb4\\x01\\xf1v\\x10\\xb2B\\xe1\\xc9\\xe6\\x91\\xaf\\x7f\\xe2x\\'\\xde\\xab\\xb7\\x1aA\\x89\\xdc\\xfem\\xc4\\xdf\\x8bK\\xc9dwaeB\\x1b\\xa0\\x8c\\x96\\x9e\\x08i\\xd8\\x19O\\x0cp\\xb4r\\x11\\xb04{\\x94T\\xeaJo9<\\xfb\\xce\\xc2\\x84R\\xc9#\\xb7y\\xdfY\\xdfz\\xe1\\xb0\\xce\\xaa8\\xd4\\xf7\\x9f\\xbd\\x0c\\xe4\\x8ew\\x9d\\xf5\\x9d\\xf7\\xa6F5Q\\xd5Q\\x045\\x0c,\\xa8\\x869\\x9ay\\x89\\x18\\x1c=\\xeb\\x9c*J\\x0f8\\xbc\\xbb\\xb6\\x18p\\x8bY4cW\\x8c\\xba\\xc0w}~0\\xc2\\x16I\\x9cy\\xbcR5\\x8f\\xfcL\\xd0\\xfb\\xd4\\xad\\xbe\\x90bv\\xdf\\x95q%\\xe2\\xda\\xf2y\\x9dy\\xd9P\\x9e\\xf8#\\x03\\xc4;7e\\xc5\\xc88\\xd0Er\\xb3\\xc8x\\x83MT^\\xc0\\x7f\\x86@\\xef\\xcc+\\x15\\xa7\\xb4,^\\x87\\xe68\\xcdv\\xac\\xbe+/C\\xa5S\\x06\\xb7\\x97\\xbb\\x9a#\\x1cS\\xb2\\xd6 \\xa6\\x0f\\x97\\x0eb\\n\\x1b\\x93G\\x11\\x15S\\r<\\x9aw\\x03\\xe94\\x9fXV\\xcb\\x1fiV\\x952WT\\x9c;WY|\\x9f\\xa9\\x1dW\\x04\\xa9\\x1d\\xb0\\x96d?\\x8c2\\xff\\x00\\x19a\\'\\x1f\\x94\\x18z\\xba\\x8e \\x7f\\xf3\\xcc{\\xf0\\x9f)\\x1b\\xab}\\xea\\xed\\x87\\xe3\\x98~\"\\xbf\\xb3UR|\\xb7?\\'\\xb4\\x8c\\xadkZ\\x8f\\xbf\\x1c\\x8cg\\x88R\\xc7\\\\\\x912\\xbb:\\xb3\\x17.d\\x8d\\x98\\x7f\\x10N\\xea\\x06\\x9e6\\xea\\xbdf\\xa6p\\xee\\x0c\\'\\xd0\\xf3ai@[\\xec\\x9e\\xda\\xe7\\x05\\xe2\\x83\\r\\xb7\\x19C\\xf2Z\\xe6\\xed\\x1b\\xdb\\xbd\\xe5\\xf4R\\x1f\\xe3\\xe7\\x1f\\xb64\\x1fY\\x01d)j \\xaa\\xa7\\x8e\\xa6\\x9ah\\xe7\\x86V\\x87\\xc7$n\\x0ek\\xday\\x10G\\x02<P\\x1d\\xa8\\x02\\x00\\x80 \\x08\\x02\\x00\\x80 \\x08\\x02\\x00\\x80 \\x08\\x02\\x00\\x80 \\x08\\x02\\x00\\x80 \\x08\\x02\\x00\\x80\\x89\\xb3\\xcf>\\xb0VU\\xd3\\xbe\\x9a\\xb6\\x7f\\x8d/\\xc5\\x9a\\xc5j\\xa5x\\xed\\x06\\xbc\\x8c\\x8e\\xe5\\x13|\\xf8\\x9e\\x80\\xa0(nsg~;\\xcd\\x1a\\xa7\\xb2\\xf5q4\\x96\\x90\\xedb\\xb5R\\x12\\xcav\\xf7\\x17\\x0er;\\xc5\\xda\\xf8\\x01\\xc9\\x01\\x1a5\\xae{\\x83Z\\x0b\\x9cN\\x80\\x0ed\\xac6\\x96\\xf0K\\xb9q\\xb3\\xee6\\xc5M\\x8a\\xb2\\xe5\\x10\\xc3\\xf6\\xe7\\xe8D\\xb5\\x8c=\\xb3\\xc7{b\\xe7\\xf8\\xb7B\\xa5\\xe3\\x1au\\x87a\\xf9\\xc2\\x93\\xe9g\\xca;\\xbce\\xbb\\xcb2N\\xdb\\n\\xad[k\\xd8\\xbb~\\x85\\x8b\\xc0y\\x15\\x97\\xf8TG3\\xed\\x9f\\x1dW7\\x8f\\xc2n:H\\x01\\xfb1\\xfd\\x01\\xf7\\x13\\xe2\\xb5\\x86+\\xa6\\xb8\\xae!\\x9cT\\xfa8\\xf2\\x8e\\xcf7\\xbd\\xfc;\\x89\\xeb|*\\x85\\x1d\\xadf\\xfbI9\\x8dk\\x18\\xd8\\xd8\\xd0\\xd64h\\xd6\\x81\\xa0\\x03\\xc0tU6\\xdby\\xb2E$\\xb7\\x1fK\\x89\\x90\\x80 \\x08\\x02\\x00\\x80 \\x08\\x02\\x00\\x80 >^\\xd6\\xbd\\x8e\\x8d\\xed\\x0ec\\x86\\x8ei\\x1a\\x82<GU\\xc96\\x9eh\\xc3I\\xef#\\x1cy\\x91Y\\x7f\\x8a\\x84\\x932\\xd9\\xf1-s\\xb5?\\t\\xb7i\\x18\\'\\xedG\\xf4\\x0f\\xdc\\x0f\\x8a\\xb6aZm\\x8a\\xe1\\xf9E\\xcf\\xa4\\x8f)m\\xf2{\\xd7\\xc7\\xb8\\x8e\\xb8\\xc2\\xa8U\\xda\\x96O\\xb0\\xae\\xb9\\x8f\\xb3\\xee5\\xc2\\xad\\x96\\xb2\\xdb\\x10\\xc4\\x16\\xe6jL\\xb4l=\\xb3\\x07{\\xa2\\xe7\\xf8w\\x82\\xd9\\xf8>\\x9da\\xd8\\x86P\\xaa\\xfa)\\xf2\\x96\\xef\\tn\\xf3\\xc8\\x81\\xb9\\xc2\\xabQ\\xda\\xb6\\xaf\\xeb\\x81\\x10\\xb9\\xaec\\x8b\\\\\\x0b\\\\\\x0e\\x84\\x1e\\x85]\\x13Oq\\x18Iy3\\x9d\\xf8\\xef+\\xaa\\x98\\xcb-\\xc4\\xd5\\xdaK\\xb5\\x96\\xd5VK\\xe9\\xdd\\xdeZ9\\xc6\\xef\\x16\\xe9\\xe2\\x0f%\\x90_,\\x8c\\xcf\\xac\\x15\\x9a\\x94\\xcc\\xa6\\xa2\\x9f\\xe2\\xbb\\xf0f\\xb2\\xda\\xaa\\x9e;C\\xa73\\x13\\xb9J\\xdf.#\\xa8\\x08\\te\\x00@\\x10\\x04\\x01\\x00@\\x10\\x04\\x01\\x00@\\x10\\x04\\x01\\x00@\\x10\\x04\\x01\\x00@\\x10\\x04\\x07\\xc5D\\xd0\\xd3\\xc1$\\xf5\\x12\\xb2(\\xa3i{\\xde\\xf7\\x06\\xb5\\xad\\x03RI<\\x00\\x03\\xaa\\x02\\x9bm#\\xb5\\x91\\x0e\\xa9\\xc3\\x19WP8k\\x1dE\\xf3M|\\x08\\xa7\\x07\\xfcC\\xec\\x8eN@S\\x9a\\xca\\x9a\\x9a\\xda\\xb9j\\xaa\\xe7\\x96\\xa2\\xa2g\\x97\\xc9,\\xaf/{\\xdcN\\xa4\\x92x\\x92{\\xca\\x03;\\xca\\xac\\xa4\\xc5y\\x83;e\\xb7\\xd3\\x8a;Pv\\x92\\xdcjA\\x11\\x0e\\xf0\\xc1\\xcd\\xee\\xf0\\x1e\\xb2\\x15o\\x1d\\xd2\\x8b\\x1c\\x1a9Uz\\xd3\\xe1\\x15\\xbf\\xc7\\x92\\xef\\xf0L\\xee\\xda\\xd8\\xd5\\xb9}U\\xb3\\x99mr\\xbf\\'\\xb0v\\x03du\\x14\\x94b\\xe1uh\\xf4\\xae\\x15m\\x0e\\x90\\x1f\\xb0\\xdeQ\\x8f.=\\xe4\\xad3\\x8eif!\\x8b7\\x19\\xcbV\\x9f\\xe9[\\xbc^\\xf7\\xe3\\xb3\\xb0\\xb3Z\\xe1\\xb4m\\xf6\\xe5\\x9b\\xe6H\\x8a\\xaeH\\x04\\x01\\x00@\\x10\\x04\\x01\\x00@\\x10\\x04\\x01\\x00@\\x10\\x04\\x01\\x00@\\x10\\x11\\xdehd\\xf6\\x0e\\xc7\\x91\\xc9QWF-\\xf7W\\x0fF\\xe1H\\xd0\\xd9\\t\\xfbm\\xe5 \\xf3\\xe3\\xdcB\\xb4`zY\\x88a-F\\x12\\xd6\\xa7\\xfa^\\xef\\x07\\xbdxl\\xec#\\xee\\xb0\\xda7\\x1br\\xc9\\xf3*Vj\\xe5&+\\xcb\\xe9\\xdd-\\xc2\\x9cVZ\\x8b\\xb4\\x8a\\xe3L\\t\\x88\\xf7\\x07\\x8elw\\x81\\xf5\\x12\\xb76\\x05\\xa5\\x168\\xccr\\xa4\\xf5g\\xc6/\\x7f\\x875\\xdd\\xe2\\x91Y\\xba\\xb0\\xabl\\xfa\\xcbg3\\x04\\xa3\\xa9\\xa9\\xa2\\xab\\x8a\\xaa\\x92yi\\xea!x|r\\xc4\\xf2\\xc7\\xb1\\xc0\\xea\\x08#\\x88#\\xbc+!\\xd2.6\\xcd\\xdbY\\x12\\xeal1\\x9a\\x95\\x03\\x8e\\x91\\xd3\\xdf4\\xd3\\xc0\\n\\x80?\\xc4\\x1e\\xd0\\xe6\\xe4\\x05\\xc9\\xa7\\x9a\\x1a\\x88#\\x9e\\x9eVK\\x14\\x8d\\x0fc\\xd8\\xe0\\xe6\\xb9\\xa4j\\x08#\\x81\\x04u@}\\xa0\\x08\\x02\\x00\\x80 \\x08\\x02\\x00\\x80 \\x08\\x02\\x00\\x80 \\x08\\x02\\x00\\x80 <\\x18\\x82\\xf1k\\xc3\\xf6Z\\xbb\\xcd\\xea\\xba\\n\\x1b}$fY\\xea&v\\xeb\\x18\\xd1\\xd4\\xfe@s\\'@8\\xa05\\xed\\xb4\\xee\\xd1w\\x8c\\xca\\xaa\\x9f\\x0fa\\xd7\\xcfl\\xc2Lv\\x9d\\x9e\\xbb\\xb2\\xd7\\xe8x>]97\\xa8\\x8f\\x97S\\xa9\\xd3@ 8\"\\x96\\xa2vC\\x0co\\x96Y\\x1c\\x1a\\xc61\\xa5\\xces\\x8f\\x00\\x00\\x1c\\xca\\xe3)F\\t\\xcaO$\\x8c\\xa4\\xdb\\xc9\\x16o$\\xb6thl\\x17\\xdc\\xc2\\x84\\xeb\\xc1\\xf0\\xda\\x03\\xb4\\xf23\\x91\\xfd\\x03\\xd6y\\x85\\xaa4\\x97O\\xf7\\xdb\\xe1\\x8f\\xbe\\x7f\\xed\\xfa\\xf9s\\'\\xecp\\x8c\\xfa\\xf5\\xbc\\xbe\\xa5\\x96\\xa5\\xa7\\x82\\x96\\x9a:jhc\\x82\\x08\\x9a\\x19\\x1cq\\xb05\\xach\\xe4\\x00\\x1c\\x00\\xf0\\x0bT\\xd4\\xa9*\\x92s\\x9b\\xcd\\xbd\\xed\\xef,Q\\x8a\\x8a\\xc9\\x1d\\xab\\x81\\x90\\x80 \\x08\\x02\\x00\\x80 \\x08\\x02\\x00\\x80 \\x08\\x02\\x00\\x80 \\x08\\x02\\x00\\x80 :\\xaa\\xa9\\xe0\\xaa\\xa6\\x92\\x9a\\xa6\\x18\\xe7\\x82V\\x96I\\x1c\\x8c\\x0ek\\xday\\x82\\x0f\\x02<\\n\\xe7N\\xa4\\xa9\\xc9J\\x0f&\\xb75\\xbc\\xc4\\xa2\\xa4\\xb2ei\\xce\\xdd\\x9d\\x1a[=\\xf7/a:\\xf1|\\xd6\\x82\\xed|\\xcc\\x04\\xff\\x00A\\xf5\\x1eAmm\\x1a\\xd3\\xfd\\xd6\\xf8\\x9b\\xee\\x9f\\xfb\\xbe\\xbe|\\xca\\xed\\xf6\\x11\\x97^\\x8f\\x97\\xd0\\xac\\x93\\xc5-<\\xef\\x86h\\xdf\\x14\\xb1\\xb8\\xb5\\xec{K\\\\\\xd7\\x0e\\x04\\x10y\\x15\\xb5\\xe3(\\xcd)E\\xe6\\x99\\x00\\xd3O&O\\x9b1m\\x17x\\xcbZ\\xa80\\xf6\"|\\xf7<$\\xf7i\\xd9\\xeb\\xbd-\\x06\\xa7\\x8b\\xe2\\xd7\\x9bz\\x98\\xf9u\\x1a\\x1du\\xe4`\\xd8N\\x1f\\xbcZ\\xf1\\x05\\x96\\x92\\xf3e\\xae\\x82\\xba\\xdfW\\x18\\x96\\n\\x88]\\xbc\\xc7\\xb4\\xf5\\x1f\\x91\\x1c\\xc1\\xd4\\x1e(\\x0fz\\x00\\x80 \\x08\\x02\\x00\\x80 \\x08\\x02\\x00\\x80 \\x08\\x02\\x00\\x80 <8\\x82\\xf1l\\xc3\\xf6Z\\xbb\\xd5\\xe6\\xb6\\x1a\\x1b}\\x1cFZ\\x89\\xe5v\\x8dcG2\\x7f@8\\x93\\xa0\\x1cP\\x1a\\xe0\\xda{=\\xae\\xd9\\xaf}u\\x05\\x03\\xa6\\xa1\\xc2\\x94r\\x93GFN\\x8e\\x9d\\xc3\\x87m.\\x9c\\xdcz7\\x93A\\xef\\xd4\\x90\"+\\x15\\xa6\\xe3|\\xbbSZm4r\\xd6V\\xd4\\xbc2\\x18bn\\xaeq\\xfd\\x07RO\\x008\\x95\\xf0\\xba\\xba\\xa3kJU\\xabIF1\\xda\\xdb9\\xc2\\x12\\xa9%\\x18\\xac\\xdb.~D\\xe4\\xb5\\xaf\\x01SEv\\xba\\xb6\\x1b\\x86${u3i\\xact\\x9a\\x8e-\\x8b^\\xbd\\x0b\\xf9\\x9e\\x9a\\x0ez+J4\\xc2\\xb6/\\'F\\x8eq\\xa3\\xcb\\x8c\\xbbe\\xf2^y\\xb2\\xd7a\\x86\\xc6\\x82\\xd7\\x9e\\xd9z\\x12\\xea\\xa5\\x12\\xa1`\\x04\\x01\\x00@\\x10\\x04\\x01\\x00@\\x10\\x04\\x01\\x00@\\x10\\x04\\x01\\x00@\\x10\\x04\\x01\\x00@\\x10\\x05\\x90DY\\xed\\x92\\xd6\\xbc{M-\\xda\\xd4\\xd8m\\xf8\\x91\\x8d\\xd4M\\xa6\\x91\\xd5h86]:\\xf4\\x0f\\xe6:\\xea9]t_L+a\\x12Tkg*<\\xb8\\xc7\\xb6?5\\xe5\\x93\"\\xaf\\xf0\\xd8\\xd7Z\\xf0\\xd9/R\\x98_m7+\\x1d\\xda\\xa6\\xd3v\\xa3\\x96\\x8e\\xb6\\x99\\xe5\\x93C(\\xd1\\xcd?\\xa8\\xea\\x08\\xe0G\\x10\\xb7\\xad\\xad\\xd5\\x1b\\xbaQ\\xadFJQ\\x96\\xd4\\xd1T\\x9c%\\t8\\xc9d\\xd1.\\xec\\xc3\\x9e\\xd7l\\xa8\\xbe\\x8a\\n\\xf7M]\\x85+%\\x06\\xb2\\x8c\\x1d]\\x03\\x8f\\x0e\\xda-y8uo\\'\\x01\\xdf\\xa1\\x1fs\\x81\\xb1\\xfc?x\\xb6b\\x0b-%\\xea\\xcd[\\ru\\xbe\\xb2!-<\\xf1;V\\xbd\\xa7\\x91\\x1f\\xa8<A\\xd4\\x1e(\\x0fr\\x00\\x80 \\x08\\x02\\x00\\x80 \\x08\\x02\\x00\\x80 \\x08\\x02\\x03\\xe2\\xa2h\\xa9\\xe0\\x92y\\xe5dQF\\xd2\\xf7\\xbd\\xee\\rkZ\\x06\\xa4\\x92y\\x00:\\xa05\\xd3\\xb5\\xd6z\\xd4fV v\\x1d\\xc3\\xd5/\\x8f\\t[\\xe5\\xf9\\xbd\\xddG\\xc3\\xe5\\x1c;g\\x0f\\xaa?q\\xa7\\xa7\\xa4x\\x9d\\x00\\x10u\\x8a\\xd3q\\xbe]\\xe9m\\x16\\x9aI*\\xebj\\xa4\\x11\\xc3\\x0ccR\\xe7\\x1f\\xc8u$\\xf0\\x03\\x89_\\x0b\\xab\\xaaV\\xb4eZ\\xb4\\xb5c\\x15\\x9bl\\xe5\\x08JrQ\\x8a\\xcd\\xb2\\xf0\\xe4^T[2\\xea\\xcc&\\x94EW\\x7f\\xa9`\\x15u`j\\x189\\xf6Q\\xeb\\xc9\\x83\\xa9\\xe6\\xe3\\xc4\\xf0\\xd0\\r\\x01\\xa5\\x1aQ[\\x1a\\xad\\xab\\x1e\\xad(\\xee_7\\xdb\\xe8[\\xec0\\xf8\\xdbG7\\xb6L\\x92\\xd5L\\x92\\x08\\x02\\x00\\x80 \\x08\\x0c\\x133s_\\x07\\xe5\\xf3\\xe3\\xa6\\xbdUO5t\\xad\\xdfm\\x1d#\\x04\\x92\\xee\\xf4s\\xb5 4\\x1e\\x9a\\x9e=\\x15\\x8f\\x04\\xd1{\\xfca9\\xd0\\x8aQ_\\xc4\\xf6,\\xf9-\\xed\\xf8n:7X\\x85\\x1bg\\x94\\xb7\\xf2G\\xb7-\\xb3\\x17\\x0bf\\x05\\x0c\\xb5\\x18~\\xb1\\xee\\x96\\r;zY\\xd9\\xb94Z\\xf2%\\xba\\x9dA\\xef\\x04\\x8fZ\\xeb\\xe3:?{\\x83\\xcdF\\xe6;\\x1e\\xe6\\xb6\\xa7\\xe3\\xcf\\xb1\\xed9\\xda\\xde\\xd2\\xb9]Fe\\xca\\x10\\xed\\x84\\x01\\x00@\\x10\\x04\\x01\\x00@\\x10\\x18\\x8ed\\xe6.\\x16\\xcb\\xfa\\x18\\xaa1\\rc\\xdb,\\xfa\\xf6\\x14\\xb03~it\\xe6Cu\\x1a\\x01\\xdeH\\x1e\\xb57\\x83h\\xfd\\xee17\\x1bh\\xec[\\xdb\\xd8\\x97\\x8f>\\xc5\\xb4\\xea]^\\xd2\\xb6]vx\\xb2\\xcb5\\xf0~`\\xbeZk-T\\xf0WD\\xdd\\xf7Q\\xd5\\xb0G.\\xe7\\xd6n\\x84\\x87\\x01\\xd7C\\xc3\\xa8_|oE\\xef\\xf0d\\xa7^)\\xc5\\xff\\x00\\x12\\xda\\xb3\\xe4\\xf75\\xe2p\\xb5\\xc4(\\xdc\\xbc\\xa3\\xbf\\x91\\x9d\\xaa\\xe9\\xde\\x08\\x02\\x00\\x80 \\x08\\x08\\xd3=2\\xa2\\xd9\\x98\\xb6c4B*K\\xfd3\\x08\\xa4\\xab#@\\xf1\\xcf\\xb2\\x93\\xbd\\x87\\xa1\\xe6\\xd3\\xc4p\\xd4\\x1bf\\x8b\\xe9El\\x16\\xb6\\xac\\xba\\xd4\\xa5\\xbd|\\xd7o\\xa9\\x1b\\x88a\\xf1\\xb9\\x8ekd\\x8a=}\\xb4\\xdclwz\\xabM\\xda\\x92JJ\\xdaY\\x0csC \\xd0\\xb5\\xc3\\xf3\\x1dA\\x1c\\x08\\xe2\\x16\\xff\\x00\\xb5\\xba\\xa5uF5\\xa8\\xcbZ2Y\\xa6\\x8a\\x84\\xe1*rq\\x92\\xda\\x89\\xc7d\\\\\\xf5\\xa8\\xcb\\\\@\\xdc;\\x88j_&\\x12\\xb8K\\xf3\\x9b\\xda\\x9f\\x80Jxv\\xcd\\x1fT\\xfe\\xfbGOHq\\x1a\\x1f\\xb9\\xc4\\xd8\\xb5<\\xd1TA\\x1c\\xf0J\\xc9b\\x91\\xa1\\xec{\\x1c\\x1c\\xd74\\x8dA\\x04s\\x04u@}\\xa0\\x08\\x02\\x00\\x80 \\x08\\x02\\x00\\x80 \\x08\\x02\\x00\\x80\\xa6\\x9bv\\xe7a\\x06|\\xab\\xc3\\x15Zp\\x1f\\x1eT\\xc4\\xefX\\xa6\\x04z\\x8b\\xfdM\\xfa\\xc1\\x01M\\xa0\\x8aZ\\x89\\xd9\\x0c1\\xbeYdpk\\x18\\xc6\\xea\\xe78\\x9d\\x00\\x00s$\\xae2\\x92\\x84\\\\\\xa4\\xf2H\\xcaM\\xbc\\x91vvt\\xcah0\\x15\\x90]n\\xd0\\xb1\\xf8\\x92\\xb6?\\x9e\\'\\x8f\\xc1c<{&\\x9e\\xff\\x00\\xacz\\x9e\\x1c\\x87\\x1d\\x0b\\xa6\\x1aQ,^\\xb7CE\\xfe\\x0c^\\xcf\\xdc\\xff\\x00S\\xf9/\\x1d\\xec\\xb6a\\x96\\n\\x84u\\xe7\\xef?\\x81.\\xaaI,\\x10\\x04\\x01\\x00@\\x10\\x1f\\x89\\x8e\\xf1\\x15&\\x12\\xc2\\x17<GZ\\x03\\xa2\\xa1\\xa7t\\x81\\x9a\\xe9\\xda?\\x93\\x19\\xed8\\x81\\xebR\\x18V\\x1f<F\\xee\\x9d\\xad=\\xf2yw./\\xc1m>\\x175\\x95\\nNo\\x81\\xaf\\x1cKy\\xb8b\\x1b\\xf5m\\xee\\xebPg\\xad\\xac\\x94\\xcb3\\xcfy\\xe8;\\x80\\x1a\\x00:\\x00\\x17\\xa6l\\xed)Y\\xd0\\x85\\n+(\\xc5d\\xbf\\xafR\\x8dR\\xa4\\xaaI\\xce[\\xd9\\xfaYo\\x8bn\\x18\\'\\x18\\xd0b\\x1b{\\x9d\\xbdN\\xfd&\\x8b]\\x04\\xd1\\x1f\\xa7\\x19\\xf0#\\xee:\\x1e\\x8b\\xab\\x8cat\\xb1K9\\xdbU\\xe3\\xb9\\xf2|\\x1f\\x81\\xf4\\xb7\\xaf*\\x15\\x14\\xe3\\xc0\\xd8m\\xa6\\xbe\\x96\\xebk\\xa4\\xb9\\xd0\\xca%\\xa5\\xab\\x85\\x93\\xc2\\xf1\\xfb\\xccp\\x04\\x1f\\xb8\\xaf3\\\\P\\x9d\\xbdYQ\\xa8\\xb2\\x94[O\\xbd\\x17\\x9asU\"\\xa4\\xb73\\xd4\\xbe\\'0\\x80 \\x08\\x02\\x00\\x80 <\\xb7j\\xfaKU\\xaa\\xae\\xe7](\\x8a\\x96\\x92\\x17\\xcf3\\xcf\\xee\\xb1\\xa0\\x92~\\xe0\\xbe\\xd6\\xf4\\'qV4i\\xac\\xe5&\\x92\\xefg\\n\\x93T\\xe2\\xe4\\xf7#^Y\\x91\\x8bn\\x18\\xdb\\x18\\xd7\\xe2\\x1b\\x83\\x9d\\xbdP\\xfd!\\x8b]D1\\x0f\\xa1\\x18\\xf0\\x03\\xef:\\x9e\\xab\\xd38>\\x17K\\x0b\\xb3\\x85\\xb5.\\x1b\\xdf7\\xc5\\xf8\\x94k\\x8a\\xf2\\xafQ\\xce\\\\O\\xcd\\xc3W\\x9b\\x86\\x1e\\xbfQ^\\xedU\\x06\\n\\xda9D\\xb1<w\\x8e\\x87\\xbc\\x11\\xa8#\\xa8%v\\xaf-)^P\\x9d\\n\\xcb8\\xc9d\\xff\\x00\\xafC\\xe7N\\xa4\\xa9\\xc9J;\\xd1\\xb0\\xec\\t\\x88\\xa91n\\x10\\xb6b: \\x1b\\x15t\\x02B\\xcdu\\xec\\xdf\\xc9\\xec\\xf6\\\\\\x08\\xf5/3b\\xb8|\\xf0\\xeb\\xba\\x96\\xb57\\xc5\\xe5\\xde\\xb8?\\x15\\xb4\\xbc\\xdbVU\\xe9)\\xae\\'\\xed\\xa8\\xf3\\xee\\x10\\x04\\x01\\x00@\\x10\\x11\\x1e\\xd1yM\\x06=\\xb2\\x1b\\xad\\xa6\\x163\\x12QG\\xf3.\\x1a\\x0f\\x85F8\\xf6.=\\xff\\x00T\\xf4<9\\x1e\\x17m\\x0f\\xd2\\x89a\\x15\\xba\\x1a\\xcf\\xf0d\\xf6\\xfe\\xd7\\xfa\\x97\\xcdx\\xefDN\\'`\\xab\\xc7^\\x1e\\xf2\\xf8\\x94\\x96x\\xa5\\xa7\\x9d\\xf0\\xcd\\x1b\\xe2\\x967\\x16\\xbd\\x8fn\\x8ek\\x81\\xd0\\x82\\x0f\"\\n\\xdfQ\\x92\\x9cT\\xa2\\xf3L\\xa9\\xb4\\xd3\\xc9\\x97#a,\\xec$\\xc1\\x95x\\x9e\\xab^\\x07\\xe2:\\x99]\\xeb4\\xc4\\x9fYg\\xad\\xbfT.F\\x0b\\x98\\x80 \\x08\\x02\\x00\\x80 \\x08\\x02\\x00\\x80 \\x08\\x08\\x9bj<\\xd7\\x87*\\xf2\\xe2j\\xdai#u\\xfa\\xe3\\xbdMj\\x89\\xdc~sOJR>\\xab\\x01\\xd7\\xc4\\x96\\x8e\\xa8\\rcVT\\xd4VVMWU4\\x93\\xd4O#\\xa4\\x96I\\x1d\\xbc\\xe7\\xbd\\xc7R\\xe2O2I%\\x01fvF\\xca\\xe0\\x1b\\x1ea_i\\xf5<E\\xa2\\x19\\x1b\\xea3\\x91\\xf7\\x86\\xfa\\xcfr\\xd4\\xda\\x7f\\xa4\\xbb\\xf0\\xcbw\\xfd\\xf7\\xfe\\x9f\\x9b\\xf2\\xe6X0\\x8b\\x1c\\xff\\x00\\x1a~\\x1fR\\xcd\\xadNX\\xc2\\xc0\\x08\\x02\\x00\\x80 \\x08\\n\\xf1\\xb6\\xde!u.\\x17\\xb2\\xe1\\xa8d!\\xd5\\xf5\\x0e\\xaa\\x9c\\x0e\\xac\\x88h\\xd0|\\x0b\\x9d\\xaf\\xb2\\xb6w\\xb3K\\x05R\\xe6\\xad\\xdc\\x97\\xba\\x92]\\xf2\\xdf\\xf0_\\x12\\x07\\x1c\\xad\\x94#Mq*b\\xdc\\x85h .\\xae\\xc88\\x85\\xd7\\x8c\\xa7e\\xbai\\x0b\\xa6\\xb3\\xd5>\\x9b\\x8f>\\xcd\\xde\\x9b?\\xa9\\xc3\\xd9Z\\x1f\\xda\\r\\x82\\xb6\\xc5]X\\xee\\xa8\\x93\\xf1[\\x1f\\xa2~%\\xb3\\x06\\xad\\xafCU\\xf0&UE%\\xc2\\x00\\x80 \\x08\\x02\\x00\\x80\\x86\\xb6\\xbe\\xc4.\\xb3\\xe5;\\xed\\xd0\\xc8[5\\xe2\\xa9\\x94\\xdc\\x0f\\x1e\\xcd\\xbe\\x9b\\xff\\x00\\xa5\\xa3\\xdaW\\xafg\\xd6\\n\\xe7\\x15Ud\\xb6SM\\xf8\\xbd\\x8b\\xe6\\xfc\\x08\\x8cf\\xb6\\xa5\\rU\\xc4\\xa5K|\\x150\\x80\\xb6{\\x12b\\x17Ua{\\xce\\x1a\\x9aB]AP\\xda\\xa8\\x01\\xe8\\xc9F\\x8e\\x03\\xc09\\xba\\xfbKM\\xfbK\\xb0T\\xeei]\\xc5{\\xc9\\xa7\\xdf\\x1d\\xdf\\x07\\xf0,\\xb8\\x1dl\\xe1*o\\x81a\\xd6\\xb1\\'\\x82\\x00\\x80 \\x08\\x02\\x00\\xb2\\n\\xc9\\xb5\\xceW\\x02\\xd93\\n\\xc5O\\xa1\\x1a\\x0b\\xbc1\\xb7\\xd4\\'\\x03\\xee\\x0e\\xf5\\x1e\\xf5\\xb64\\x03Iwa\\xb7\\x0f\\xfb\\x8f\\xfd?5\\xe5\\xc8\\xaeb\\xf69~4<~\\xa5f\\xa3\\xa9\\xa8\\xa3\\xac\\x86\\xae\\x96i \\xa8\\x82F\\xc9\\x14\\x91\\xbbu\\xcc{N\\xa1\\xc0\\x8eD\\x10\\n\\xdb%|\\xd9\\xce\\xcb\\x99\\xaf\\x0eje\\xc45\\xb52F\\xdb\\xf5\\xbbv\\x9a\\xeb\\x13x|\\xe6\\x9e\\x8c\\xa0}W\\x81\\xaf\\x81\\x0e\\x1d\\x10\\x12\\xca\\x00\\x80 \\x08\\x02\\x00\\x80 \\x08\\x02\\x03\\xaa\\xae\\xa2\\x1aJYjjed0\\xc4\\xc2\\xf9$y\\xd1\\xach\\x1a\\x92O@\\x00\\xd5\\x01\\xab\\x9d\\xa5s2\\xa34s>\\xba\\xf4\\xc9\\x1e-4\\xc4\\xd2\\xda\\xe2:\\x8d\\xd8\\x1ax8\\x8f\\xac\\xf3\\xab\\x8f\\x98\\x1d\\x02\\x03\\xc7\\x90\\xd9\\x7f.`\\xe3\\x98h%k\\xdbj\\xa5\\xd2\\xa2\\xe3+xi\\x18<\\x18\\x0f\\xd6y\\xf4G\\xac\\xf4U\\xbd)\\xc7c\\x83X\\xba\\x8b\\xdf\\x96\\xc8\\xae\\xde}\\xcb\\x7f\\x92\\xe2wlm]\\xcdU\\x1e\\x1cK\\xebK\\x044\\xb4\\xd1SSD\\xc8`\\x85\\x828\\xe3`\\xd1\\xach\\x1a\\x06\\x81\\xd0\\x004^t\\xa9RU$\\xe77\\x9b{[\\xed.\\xb1\\x8a\\x8a\\xc9\\x1d\\x8b\\x81\\x90\\x80 \\x08\\x02\\x00\\x80 )n\\xd8\\xd7C]\\x9b\\xce\\xa1\\x0f\\xd5\\x96\\xea\\x08`\\xdd\\xe8\\x1c\\xe0d?\\xd6>\\xe5\\xbe=\\x9e[tXB\\xa9\\xfa\\xe4\\xdf\\x96\\xcf\\x91Q\\xc6\\'\\xads\\x97$B\\xea\\xf4E\\x04\\x05\\x8b\\xd8v\\xeab\\xc4\\xf8\\x86\\xca\\xe7\\xfa54Q\\xd4\\xb5\\xba\\xf5\\x8d\\xfb\\xa7\\xdd\"\\xd6>\\xd3-\\xb5\\xadh\\xd7\\xcb\\xdd\\x93^k?\\x919\\x81\\xcf*\\x92\\x875\\xfdz\\x96\\xbdi\\xb2\\xce\\x10\\x04\\x01\\x00@\\x10\\x04\\x05P\\xdb\\x8a\\xeae\\xc4\\xf8z\\xca\\xd7\\xfa4\\xd4RT\\xb9\\xba\\xf5\\x91\\xfb\\xa3\\xdd\\x1a\\xdc\\x9e\\xcc\\xed\\xb5mkW\\xfdRK\\xc9g\\xf3+\\x18\\xe4\\xf3\\xa9\\x18rEt[8\\x83\\x08\\t\\xa3c\\x9b\\xa1\\xa1\\xcd\\xe6\\xd0\\x97\\xe8\\xcb\\x8d\\x04\\xd0i\\xde\\xe6\\x81 \\xfe\\x83\\xf7\\xaa/\\xb4;n\\x97\\x08u?D\\x93\\xf3\\xd9\\xf3%py\\xea\\xdc\\xe5\\xcd\\x17Ihr\\xdc\\x10\\x04\\x01\\x00@\\x10\\x04\\x07]T\\x10\\xd5SKMS\\x13&\\x82f\\x18\\xe4\\x8d\\xe3V\\xbd\\xa4hZGPA\\xd1s\\xa7RT\\xe4\\xa7\\x07\\x93[S\\xed1(\\xa9,\\x99B\\xb3\\xe7/\\xe5\\xcb\\xecs5\\x04M{\\xadUZ\\xd4[\\xa5w\\x1dc\\'\\x8b\\t\\xfa\\xcc>\\x89\\xf5\\x1e\\xab\\xd1z-\\x8e\\xc7\\x19\\xb1U_\\xbf\\x1d\\x92]\\xbc\\xfb\\x9e\\xff\\x005\\xc0\\xa5_Z\\xbbj\\xae<8\\x1e\\xcd\\x9a\\xb32\\xa3+\\xb3>\\x86\\xf4\\xf9\\x1em5$R\\xdd\"\\x1a\\x9d\\xe8\\x1cx\\xb8\\x0f\\xac\\xc3\\xa3\\x87\\x91\\x1dJ\\xb2\\x1d#h\\xd4\\x95\\x10\\xd5\\xd2\\xc5UM+&\\x86V\\x07\\xc7#\\x0e\\xad{H\\xd4\\x10z\\x82\\x0e\\xa8\\x0e\\xd4\\x01\\x00@\\x10\\x04\\x01\\x00@\\x10\\x15\\xabo\\x8c\\xc98_.\\xa2\\xc1\\x96\\xda\\x8d\\xcb\\x9e\"\\xdel\\xe5\\xa7\\xd2\\x8e\\x8d\\xa7\\xd3\\xf2\\xdf:3\\xc4o\\xa05\\xfc\\xc6\\xb9\\xef\\rkK\\x9cN\\x80\\x01\\xc4\\x95\\x86\\xf2Y\\xb0_M\\x9f\\xb0\\x1b0\\x1e_SQ\\xd4D\\x1bu\\xad\\xd2\\xaa\\xe0\\xee\\xa1\\xe4z1\\xf90p\\xf3\\xde=W\\x9d\\xb4\\xb3\\x1bx\\xbe!)\\xc5\\xfe\\x1cvG\\xbb\\x8b\\xf1{{\\xb2.xm\\xaf\\xd9\\xe9,\\xf7\\xbd\\xe4\\x88\\xaa\\xe4\\x80@\\x10\\x04\\x01\\x00@\\x10\\x1c\\x1eK(\\x14\\x0bh*\\xbf\\x86\\xe7>*\\x9b]wn\\x0f\\x88y0\\x06\\x0f\\xe9^\\x90\\xd1:]\\x16\\ro\\x1f\\xda\\x9f\\x9e\\xdf\\x99G\\xbf\\x96\\xb5\\xc4\\xdfi\\x81\\xab\\t\\xd4\\x08\\t{dJ\\xcf\\x82\\xe7U\\x04:\\xe8*\\xa9*a>?6^=\\xec\\n\\x95\\xa7\\xf4\\xbaL\\x16o\\xf4\\xb8\\xbf\\x8e_2O\\t\\x96W)s\\xcc\\xbb\\x8bA\\x17\\x00\\x80 \\x08\\x02\\x00\\x80 )\\x1e\\xd7u\\x9f\\n\\xce\\xaa\\xf8u\\xd4R\\xd2SB<>l<\\xfb\\xdeV\\xfd\\xd0\\n]\\x1e\\x0b\\x07\\xfa\\x9c\\x9f\\xc7/\\x91O\\xc5\\xe5\\x9d\\xcb\\\\\\xb2\"\\x15u#\\x02\\x03<\\xd9\\xf6\\xaf\\xe0Y\\xcf\\x85f\\xd7M\\xeb\\x83\">R\\x02\\xc3\\xfdJ\\xbd\\xa5\\x94\\xba\\\\\\x1a\\xe2?\\xb5\\xbf-\\xbf#\\xb7a-[\\x88>\\xd2\\xfe\\x8eK\\xcd\\xec\\xbc\\x1c\\xac\\x00\\x80 \\x08\\x02\\x00\\x80 #\\xbd\\xa0p\\x1b1\\xe6_T\\xd2S\\xc4\\x1du\\xa2\\xd6\\xaa\\xde\\xed8\\x97\\x81\\xe9G\\xe4\\xf1\\xc3\\xcft\\xf4V\\x8d\\x13\\xc6\\xde\\x11\\x88Fr\\x7f\\x87-\\x92\\xee\\xe0\\xfc\\x1e\\xde\\xec\\xc8\\xfcJ\\xd7\\xed\\x14\\x9e[\\xd6\\xe2\\x85\\xbd\\xaec\\xcb\\\\\\xd2\\xd7\\x03\\xa1\\x04q\\x05z%<\\xd6h\\xa6\\x1b\\x01\\xd8\\x1f2N(\\xcb\\xa9pe\\xca\\xa3~\\xe7\\x87w[\\x01q\\xf4\\xa4\\xa3q\\xf4<\\xf7\\x0e\\xac\\xf0\\x1b\\x8b \\xb2\\xa8\\x02\\x00\\x80 \\x08\\x02\\x00\\x80\\xe2G\\xb5\\x8c/{\\x83Z\\xd1\\xa9$\\xe8\\x00\\xef@j\\xb7h\\xecz\\xfc\\xc6\\xcd\\xdb\\xce!\\x8eB\\xfa\\x01\\'\\xc1m\\xe3^\\x02\\x9a=Z\\xc2?\\x8b\\x8b\\xcf\\x8b\\x8a\\x03\\xf6\\xf6R\\xc1C\\x14\\xe6<w*\\xc8{Ku\\x906\\xaaP\\xe1\\xab_.\\xbf4\\xcf\\xc4\\x0b\\xbc\\x98\\xa9Zu\\x8c}\\xdf\\x87:PyN\\xa7Uw\\x7f\\x13\\xf2\\xd9\\xe2I\\xe1V\\xdd5l\\xde\\xe5\\xb7\\xe8]\\xa5\\xa0\\xcb\\x80X\\x01\\x00@\\x10\\x04\\x01\\x00@\\x071\\xe6\\x81\\xee5\\xd1\\x99\\xf2\\x99\\xb3#\\x13J\\xe3\\xa9u\\xde\\xa8\\xff\\x00\\xd5r\\xf4\\xfe\\x0b\\x1d\\\\:\\xdd~\\xc8\\xff\\x00*(w/:\\xd3}\\xaf\\xd4\\xc7\\x14\\x99\\xf0\\x08\\t\\x1ffw\\x98\\xf3\\xcb\\x0c8\\x1d5\\xa8\\x91\\xbf|/\\x1f\\xaa\\xab\\xe9\\x9cu\\xb0K\\x8e\\xe5\\xfc\\xc8\\xefa\\xaf+\\x98\\x7f\\\\\\x0b\\xe49/;2\\xear\\xb0\\x02\\x00\\x80 \\x08\\x0e\\x0f%\\x90P\\xdd\\xa6$2g\\x8e\\'q<\\xaa#o\\xdd\\x0b\\x07\\xe8\\xbd\\x13\\xa1\\x91\\xd5\\xc1-\\xd7c\\xfefR\\xb1\\'\\x9d\\xcc\\xff\\x00\\xae\\x04p\\xad\\x07D 2<\\xb0\\x94\\xc1\\x998fV\\x9d\\x0bn\\xf4\\xa7\\xfe\\xabTf7\\x1dl6\\xe1~\\xc9\\x7f+>\\xf6\\xcf*\\xd0}\\xab\\xd4\\xd8\\xb9\\xfaG\\xcdy\\x80\\xbd\\xad\\xc1\\x0c\\x84\\x01\\x00@\\x10\\x04\\x01\\x00Y\\x05%\\xda\\xb7\\x05\\x0c-\\x98\\xf2\\\\\\xe8\\xe1\\x0c\\xb7^\\xc3\\xaa\\xa2\\r\\x1a5\\x92\\xeb\\xf3\\xac\\xfcD;\\xc9\\xeb~h.1\\xf7\\x86\\x1c\\xa9M\\xf5\\xe9\\xf5_w\\xf0\\xbf-\\x9e\\x05?\\x15\\xb6\\xe8kf\\xb7=\\xbfS\\xf16q\\xc7\\xaf\\xcb\\x9c\\xdc\\xb3b\\x19$,\\xa02|\\x16\\xe05\\xe0\\xeai4k\\xc9\\xfe\\x1e\\x0f\\x1e-\\n\\xeaF\\x1bR\\x8d\\xed{\\x03\\xd8\\xe0\\xe6\\xb8j\\x08:\\x82;\\xd0\\x1c\\xa0\\x08\\x02\\x00\\x80 \\x08\\x08wl<lpNF\\xde%\\xa6\\x9b\\xb3\\xb8]t\\xb6R\\x10t \\xca\\x0e\\xfb\\x87\\x94a\\xe7^\\xfd\\x10\\x1a\\xca\\xe6P\\x17\\xa7f<$0\\xaeT\\xd0:h\\xb7+\\xae\\xbf\\xdf\\xeau\\x1c@x\\xf9\\xb6\\xfa\\x99\\xa7\\xad\\xc5y\\xefMq_\\xbc1Y\\xa8\\xbe\\xad>\\xaa\\xf0\\xde\\xfc_\\xa1p\\xc2\\xad\\xfa*\\t\\xbd\\xefi(*\\x89&\\x10\\x04\\x01\\x00@\\x10\\x04\\x01\\x01\\xcb~\\x90\\xf3\\x08a\\xee5\\xc7\\x98\\xed,\\xcc,H\\xd3\\xcd\\xb7j\\xa1\\xff\\x00Y\\xcb\\xd48;\\xcf\\x0f\\xa0\\xff\\x00d\\x7f\\x95\\x14;\\x8f\\xce\\x97{\\xf5?\\x01H\\x9f\\x10\\x80\\x916livw\\xe1p?\\xf7N?to*\\xb3\\xa6O,\\x12\\xe3\\xbb\\xe6\\x8e\\xee\\x1d\\xff\\x00S\\x02\\xfa\\x8eAy\\xd1\\x97c\\x95\\x80\\x10\\x04\\x01\\x00@py\\x15\\x94\\n\\x15\\xb4\\x9bKs\\xbf\\x14\\x03\\xff\\x00\\xbai\\xfb\\xe3a^\\x8b\\xd0\\xd7\\x9e\\to\\xdd\\xf3e\\'\\x11\\xff\\x00\\xa9\\x99\\x1d\\xab1\\xd2\\x08\\x0f\\xdf\\xcb\\x86\\x97\\xe6\\x16\\x1bh\\xe6n\\xd4\\xa3\\xfe\\xb3Tv0\\xf2\\xc3\\xeb\\xbf\\xd9/\\xe5g\\xda\\xdf\\xf3\\xa3\\xde\\xbdM\\x8e;\\xe9\\x1f2\\xbc\\xbc_\\x16\\xe3\\x842\\x10\\x04\\x01\\x00@\\x10\\x04\\x01\\x01\\x17\\xed9\\x84\\x86*\\xca\\x9a\\xf7C\\x16\\xfdu\\xab\\xfb\\xfd6\\x83\\x89\\x0c\\x1f8\\xdf[5\\xf5\\xb4+v\\x85b\\xbfw\\xe2\\xb0R}Z\\x9dW\\xe3\\xb9\\xf8?VFb\\xb6\\xfd-\\x06\\xd6\\xf5\\xb4\\xa2\\xdc\\x8a\\xf4!O6k\\xb1\\xe668\\xdb#l\\xf2\\xd4\\xcd\\xda\\\\-Z\\xdb*\\xc9:\\x92b\\x03q\\xc7\\xce2\\xc3\\xaf~\\xa8\\t\\x89\\x00@\\x10\\x04\\x01\\x00@Q\\x1f\\xda1\\x8b\\x8d\\xc3\\x1fYp|\\x12\\x93\\r\\xa6\\x8c\\xd4\\xce\\xd1\\xcb\\xb6\\x98\\xf0\\x07\\xc9\\x8di\\xf6\\xca\\x02\\xbeeV\\x1bv-\\xcc;&\\x1f\\xdd&*\\xaa\\xa6\\x89\\xf4\\xe9\\x13})\\x0f\\xe1iQ8\\xe6 \\xb0\\xec>\\xad\\xcf\\x18\\xa7\\x97{\\xd8\\xbe\\'b\\xd6\\x8fMZ0\\xe6lE\\x8dc\\x18\\x19\\x1bC\\x18\\xd1\\xa3Z\\x07\\x00\\x07 \\xbc\\xcb&\\xdb\\xcd\\x97\\xa4\\xb2Y\\x1fK\\x89\\x90\\x80 \\x08\\x02\\x00\\x80 \\x08\\x07.+ \\xd7\\xb6vR\\xfc\\x0f71\\\\\\x1ai\\xff\\x00\\x8a\\xce\\xe1\\xe4\\xe7\\x97\\x0f\\xcdz[F\\xea\\xf4\\xb8M\\xb4\\xbfd~\\x0b\"\\x8bz\\xb2\\xb8\\x9f{0\\xe56u\\x82\\x02S\\xd9N\\x94\\xd4\\xe7\\x8d\\x8d\\xfaj eD\\xa7\\xc3H^?2\\x15GN\\xaa\\xea`\\x95\\x97=U\\xff\\x00\\xb2$p\\xa8\\xe7u\\x1f\\x1fB\\xf3\\xaf>\\x17 \\xb0\\x02\\x00\\x80 \\x08\\x02\\xc8(\\xc6\\xd5\\x94\\xa6\\x9b<o\\x8f\\xd3A;i\\xe5\\x1e:\\xc2\\xc1\\xf9\\x82\\xbd\\x07\\xa0\\xb55\\xf0J+\\x96\\xb2\\xff\\x00\\xd9\\x94\\xdcV9]K\\xc3\\xd0\\x8b\\x15\\xb8\\x8e\\x08\\x0c\\xc7$\\xe9MfnaH4\\xd7\\xff\\x00\\x15\\x81\\xc7\\xc9\\xaf\\x0e?\\x92\\x84\\xd2J\\xbd\\x16\\x13s/\\xd9/\\x8a\\xc8\\xec\\xd9,\\xee!\\xde\\x8d\\x84\\xeb\\xaf\\x15\\xe6\\x92\\xf4\\x16\\x00@\\x10\\x04\\x01\\x00@\\x10\\x04\\x07\\xcb\\xda\\xc7\\xb0\\xb2F\\x87\\xb1\\xc0\\x874\\x8e\\x04\\x1ear\\x8bi\\xe6\\x8c5\\x9a\\xc8\\xd7vj\\xe1\\xb7a,\\xc3\\xbd\\xe1\\xfd\\xd2\"\\xa5\\xaap\\x83^\\xb1;\\xd2\\x8c\\xfe\\x17\\x05\\xe9\\xac\\x0f\\x10X\\x8e\\x1fJ\\xe7\\x8c\\x96\\xde\\xf5\\xb1\\xfcJ-\\xd5\\x1e\\x86\\xb4\\xa1\\xc8\\xb0\\x7f\\xb3\\x9f\\x17\\x1b~>\\xbd`\\xf9\\xe5\"\\x1b\\xb5\\x18\\xa9\\x81\\xa7\\x97m\\t\\xe2\\x07\\x9b\\x1c\\xe3\\xec\\x05,u\\xcb\\xdc\\x80 \\x08\\x02\\x00\\x80\\x1eH\\rN\\xe7\\xbe%8\\xbf81N \\x0f\\xdf\\x8a\\xa6\\xe3(\\x80\\xeb\\xaf\\xcc\\xb0\\xeeG\\xfc\\x8dj\\x02Q\\xd8\\x8e\\xc0*qU\\xeb\\x11\\xca\\xcdYAJ\\xdah\\x89\\xe5\\xdaJu$x\\x86\\xb0\\x8fik?iW\\xdd\\x1d\\xa5+T\\xfd\\xe7\\x9b\\xee\\x8f\\xfc\\xbf\\x819\\x82Q\\xd6\\xa9)\\xbe\\x05\\xb3Zd\\xb3\\x84\\x01\\x00@\\x10\\x04\\x01\\x00@\\x10\\x05\\x90Q\\xad\\xab\\xad\\xc6\\x83;n\\xf2i\\xa3+c\\x82\\xa9\\xbe\\xd4m\\x07\\xf9\\x9aW\\xa0t\\x16\\xe3\\xa6\\xc1i/\\xd3\\xac\\xbc\\x9b\\xf92\\x9b\\x8a\\xc3V\\xe6]\\xa4T\\xae\\x04p@O\\x1b\\x14[\\x9dQ\\x99W\\x1b\\x89\\x1a\\xb2\\x8e\\xd6\\xf1\\xafs\\xa4{\\x1a=\\xc1\\xcb^{I\\xb8P\\xc3aK\\x8c\\xa6\\xbc\\x92o\\xe8L`\\xb0\\xd6\\xae\\xdf$\\\\%\\xa4\\x0bX@\\x10\\x04\\x01\\x00@\\x10\\x14\\xf7m{k\\xa9\\xb3*\\xddq\\x03\\xd0\\xad\\xb5\\xb0k\\xde\\xe8\\xde\\xf6\\x9fqj\\xdd\\xfe\\xcd\\xae\\x14\\xf0\\xd9\\xd2\\xe3\\x19\\xbf&\\x93\\xfa\\x95Lj\\x1a\\xb5\\xd3\\xe6\\x88\\x1dl2\\x1c %]\\x94m\\xa6\\xe1\\x9d\\xb6\\x894\\xd5\\x94Q\\xcfT\\xef\\r\\xd8\\xdc\\x07\\xf38*~\\x9d\\xdct8-U\\xfa\\xb5W\\x9b_$H\\xe1P\\xd6\\xb9\\x8fayW\\x9f\\x8b\\x90X\\x01\\x00@\\x10\\x04\\x01\\x00@\\x10\\x04\\x05L\\xdbr\\xc0)\\xb1U\\x97\\x11\\xc4\\xcd\\x19_J\\xeaiH\\x1c;H\\x8e\\xa0\\x9f\\x12\\xd7\\x81\\xec\\xad\\xcd\\xec\\xd6\\xfb\\xa4\\xb4\\xabj\\xdf\\xba\\xf3]\\xd2\\xff\\x00\\x95\\xf1*\\xf8\\xdd-Z\\x8ak\\x89\\x17dF%8C80\\xb6 /\\xdc\\x8a\\x9a\\xe3\\x10\\x9c\\xeb\\xa7\\xcc\\xbc\\xeeI\\xfc\\x8er\\xd9\\x84!\\xb6!\\xc9\\x00@\\x10\\x04\\x01\\x01\\x8bf\\xed\\xf7\\xe4\\xceW\\xe2{\\xf0v\\xeb\\xe8mu\\x13F~\\xd8\\x8c\\xee\\x7f1\\x08\\rH\\xbbR\\xee<\\xd0\\x17Sc\\xeb8\\xb6\\xe5\\x04u\\xe5\\x9aIt\\xad\\x9a\\xa0\\x93\\xcc\\xb5\\xa4F\\xdf\\xe8w\\xde\\xb4?\\xb4+\\xbe\\x9f\\x17t\\xf8B)x\\xbd\\xaf\\xd5\\x16\\xcc\\x1a\\x9e\\xad\\xbe\\xb76L\\xaa\\x8aK\\x84\\x01\\x00@\\x10\\x04\\x01\\x00@\\x10\\x04\\x05Y\\xdb\\x8a\\xc6\\xe6\\\\\\xf0\\xf6$\\x8e?FXd\\xa2\\x95\\xdd\\xcea\\xdfg\\xde\\x1e\\xef\\xb9m\\xff\\x00fW\\xa9\\xd2\\xafj\\xde\\xe6\\xa4\\xbcv?DV\\xb1\\xcaYN3\\xf0+Z\\xdad\\x08@[}\\x89,f\\x93\\x07^o\\xf2G\\xba\\xeb\\x85c`\\x8c\\x9e\\xac\\x89\\xba\\x93\\xf8\\x9e~\\xe5\\xa6=\\xa5^\\xf4\\x97\\x94\\xad\\x93\\xf7#\\x9b\\xef\\x93\\xfa/\\x89f\\xc0\\xe9e\\tO\\x9f\\xc8\\xb0kZ\\x13\\xa1\\x00@\\x10\\x04\\x01\\x00@W\\xcd\\xb6\\xecF\\xaf\\x07Yo\\xf1\\xc7\\xbc\\xeb}c\\xa0\\x90\\x8e\\x8c\\x95\\xba\\x83\\xf8\\x98>\\xf5\\xb2\\xfd\\x9a\\xde\\xf4w\\x95m\\x9b\\xf7\\xe3\\x9a\\xef\\x8b\\xfa?\\x81\\x05\\x8eR\\xce\\x11\\x9f/\\x99R\\x16\\xe7+!\\x01e6\\x1d\\xb1\\xb9\\xf7<C\\x89\\x1e\\xcfF(c\\xa2\\x89\\xc7\\xab\\x9ew\\xdf\\xf7\\x067\\xefZ\\xb3\\xdam\\xeaT\\xa8Z\\xa7\\xbd\\xb9?\\r\\x8b\\xd5\\x93\\xd8\\x1d,\\xe7)\\xf8\\x16\\x99j\\x02\\xca\\x10\\x04\\x01\\x00@\\x10\\x04\\x01\\x00@\\x10\\x10\\xd6\\xd86qr\\xca\\t+\\xc35\\x92\\xd7[\\r@#\\x98k\\x89\\x8d\\xdf\\xd6\\xdf\\xb9^\\xbd\\x9e\\xdd\\xf4\\x18\\xba\\xa7\\xc2qk\\xc5m^\\x8c\\x88\\xc6i\\xeb[\\xebre+n\\xa1\\xdc9\\xad\\xf0T\\xcd\\xb7e\\x15\\xf7\\xe56W\\xe1\\x8b\\xf1v\\xf3\\xeb\\xadt\\xf3H~\\xd9\\x8co\\xff\\x000(\\x0c\\xa5\\x00@\\x10\\x04\\x04\\x1f\\xb7%\\xd9\\xd6\\xcd\\x9dop\\xb1\\xdb\\xaf\\xb8OMH\\x0f\\x81\\x94=\\xc3\\xf0\\xb0\\xa05\\xb1\\xd7T\\x06\\xc42\\x8e\\xdb\\xf1FW\\xe1\\x9bq\\x1b\\xae\\x8a\\xd9\\x01x\\xfbNh{\\xbd\\xee+\\xcc\\xbaAq\\xf6\\x9cN\\xe2\\xaf9?$\\xf2^\\x85\\xe6\\xca\\x1a\\x94 \\xbb\\x0c\\xa5C\\x9d\\xa0\\x80 \\x08\\x02\\x00\\x80 \\x08\\x02\\x00\\x80\\x8f\\xf6\\x82\\xc2/\\xc6Y]s\\xb7SE\\xdaW\\xd3\\x01YF\\x00\\xd4\\x99#\\xd4\\xee\\x8f\\x174\\xb9\\xbed+.\\x89b\\xab\\x0c\\xc5)\\xd5\\x9b\\xca2\\xea\\xcb\\xb9\\xf1\\xf0y3\\xa1\\x89[\\xf4\\xf4\\x1a[\\xd6\\xd2\\x83\\x11\\xa1\\xd1z4\\xa5\\x9d\\xb44\\xd3\\xd6\\xd6CGK\\x13\\xa6\\xa8\\x9eF\\xc7\\x14m\\x1a\\x97\\xbd\\xc7@\\x07\\x89$\\x05\\xc2\\xa5H\\xd2\\x83\\x9c\\xdeImo\\xb1\\x19I\\xc9\\xe4\\x8d\\x88\\xe5\\xa6\\x1a\\x8f\\x07\\xe0KF\\x1c\\x8ft\\xba\\x8e\\x9c6g7\\x93\\xe5>\\x94\\x8e\\xf5\\xb8\\x9fr\\xf3.5\\x88\\xbcJ\\xfa\\xad\\xd3\\xfe\\'\\xb3\\xbbr\\xf8\\x17\\x9bJ=\\x05\\x18\\xc3\\x91\\x91\\xa8\\xa3\\xb2\\x10\\x04\\x01\\x00@\\x10\\x04\\x069\\x99xj<a\\x81.\\xf8rM\\xd0\\xea\\xcar\\xd8\\\\\\xeeM\\x94zQ\\xbb\\xd4\\xe0=\\xeaS\\x05\\xc4^\\x1b}J\\xe9\\x7f\\x0b\\xdb\\xdd\\xb9\\xfc\\x0e\\xb5\\xdd\\x1e\\x9e\\x8c\\xa1\\xcc\\xd7uu4\\xf4U\\x93Q\\xd5D\\xe8j \\x91\\xd1\\xcb\\x1b\\x86\\x85\\x8fi\\xd0\\x83\\xe2\\x08+\\xd3t\\xeaF\\xa4\\x14\\xe0\\xf3Mf\\x9fc(\\xd2N/&u\\x01\\xa9\\xd1s0_\\x9d\\x9fp\\x8b\\xf0nW[-\\xd51vu\\xf5 \\xd6V\\x028\\x89$\\xd0\\xee\\x9f\\x16\\xb45\\xbe`\\xaf9in*\\xb1<R\\xa5X<\\xe3\\x1e\\xac{\\x97\\x1f\\x17\\x9b.\\x98m\\xbfAA\\'\\xbd\\xed$\\x05Z;\\xe1\\x00@\\x10\\x04\\x01\\x00@\\x10\\x04\\x01\\x01\\x8bf\\xe5\\xb7\\xe3|\\xaf\\xc4\\xd6\\xe07\\x9d-\\xb2r\\xc1\\xf6\\x9a\\xd2\\xf6\\xfb\\xda\\x14\\xc6\\x8f\\xdc}\\x9b\\x13\\xb7\\xab\\xcaK\\xc9\\xbc\\x9f\\xa9\\xd5\\xbd\\x86\\xbd\\t\\xae\\xc3]\\xfdu^\\x9a(\\xc6\\xc9\\xf6\\x1b\\xbb:\\xe7\\xb3\\xad\\x92\\x17\\xbby\\xf6\\xf9\\xeai\\t\\xf0\\x12\\x97\\xb4~\\x17\\x84\\x04\\xe0\\x80 \\x08\\x02\\x02\\xae~\\xd1\\xea\\xf7E\\x95v\\x0bs]\\xa7\\xc2oBB;\\xc3!\\x93\\xf5x@Q\\n(]SW\\r;~\\x94\\xb25\\x83\\xd6t\\xfdW\\n\\x93\\xd4\\x83\\x93\\xe0f+7\\x91\\xb3\\nh[OM\\x15;\\x06\\x8d\\x89\\x8d\\x8c\\x0f\\x06\\x8d?E\\xe5:\\x93s\\x93\\x93\\xe3\\xb4\\xd8\\x10YE$v.\\x07 \\x80 \\x08\\x02\\x00\\x80 \\x08\\x02\\x00\\x80,\\x82\\xb3g\\x8e\\xcf7\\x1b\\x9e!\\x9f\\x10`V\\xd2\\xb9\\xb5\\x8f2T\\xdb\\xa4\\x90E\\xb9!\\xe6\\xe8\\xc9\\xf4wI\\xe3\\xbaH\\xd0\\xf2\\xd4p\\x1b_Ft\\xf2\\x8d\\x0bx\\xdbb\\x19\\xf5v)%\\x9ek\\x93\\xe3\\x9a\\xe7\\xc7\\x89]\\xbe\\xc2\\')\\xb9\\xd1\\xe3\\xc0\\xfd\\x9d\\x9e\\xf2\"\\xa7\\t\\xdd\\xd9\\x8a1s\\xa9\\xe4\\xb9\\xc3\\xaf\\xc0\\xa8\\xe2\\x7fh\\xd8\\x1c\\x7f\\xda=\\xdc\\x8b\\xfb\\x80\\xd4\\x0ez\\xeb\\xa6\\x9d\\x1d,\\xd3hb\\x14]\\xa5\\x96j\\x0f\\xde\\x93\\xd8\\xdfb\\\\\\xb9\\xe7\\xbfv\\xe3\\xeb\\x87\\xe1n\\x94\\xbaJ\\xbb\\xf8\"\\xc0-jN\\x84\\x01\\x00@\\x10\\x04\\x01\\x00@\\x10\\x15\\xff\\x00hL\\x88\\xa9\\xc5\\x97w\\xe2\\x8c\"\\xeax\\xees\\x7f\\xae\\xd1\\xca\\xfe\\xcd\\xb3\\xb8\\x7f\\xb4c\\xb9\\x07\\xf7\\x83\\xa0<\\xf5\\xd7]vV\\x89i\\xb40\\xfa*\\xd2\\xf77\\x05\\xee\\xc9mk\\xb1\\xae\\\\\\xb2\\xdd\\xbbq\\x05\\x88an\\xac\\xbaJ[\\xf8\\xa3\\xf1\\xb2;g\\x9b\\x95\\xb3\\x10\\xc1\\x881\\xd3iZ\\xda7\\x89)\\xad\\xd1\\xc8%\\xdf\\x90rt\\x84z;\\xa0\\xf1\\xdd\\x04\\xeay\\xe88\\x1e\\xf6\\x93i\\xe5\\x1a\\xf6\\xf2\\xb6\\xc3\\xf3\\xeblrk,\\x97%\\xc77\\xcf\\x87\\x03\\xe5c\\x84N3S\\xad\\xc3\\x81fV\\xa8,A`\\x04\\x01\\x00@\\x10\\x04\\x01\\x00@\\x10\\x04\\x07]L-\\xa8\\xa6\\x96\\x9d\\xe3V\\xca\\xc7FG\\x83\\x86\\x9f\\xaa\\xe7Nn\\x12R\\\\6\\x9cf\\xb3\\x8bL\\xd6}l.\\xa6\\xab\\x9a\\x9d\\xdfJ)\\x1c\\xc3\\xea:~\\x8b\\xd5\\x94\\xe7\\xaf\\x05%\\xc4\\xd7\\xf2Y<\\x8b\\xdf\\xfb8k\\xdd.U\\xdf\\xed\\xcev\\xbf\\x06\\xbd\\x19\\x00\\xee\\x12C\\x1f\\xea\\xc2\\xb9\\x98-\\x1a\\x00\\x80 \\x08\\n\\x7f\\xfbKg\\xdd\\xb3\\xe0\\x8a`~\\x9dEd\\x84y6!\\xfeb\\x80\\xa88\\x12!Q\\x8d\\xecP\\x11\\xa8\\x92\\xe5N\\xcf\\xbeV\\x85\\xd1\\xc5%\\xa9eZ\\\\\\xa3/F}h,\\xea\\xc5v\\xa3d.\\xfan\\xf3+\\xcbkq}\\x8e\\xe3\\x842\\x10\\x04\\x01\\x00@\\x10\\x04\\x01\\x00@\\x10\\x04\\x01\\x00@\\x10\\x04\\x01\\x00@\\x10\\x04\\x01\\x00@\\x10\\x04\\x01\\x00@\\x10\\x04\\x01\\x00@\\x10\\x04\\x01\\x00@\\x10\\x04\\x07-\\xfam\\xf3\\x08\\xf7\\x18\\x96\\xe3[\\xd8\\xee!O\\x8d\\xef\\xb0\\x01\\xa0\\x8e\\xe5P\\xcf\\xbaW\\x05\\xeaL.Z\\xf6Te\\xce1\\xf4E\\n\\xba\\xca\\xac\\x97k-\\xf7\\xec\\xd2\\x9fz\\xcf\\x8d\\xe9\\x89\\xfa\\x15\\x14r\\x01\\xe6\\xd9G\\xf9B\\xef\\x1f\"\\xe0 \\x08\\x02\\x00\\x80\\xa6\\x9f\\xb4\\xbf]0/w\\xf7\\xef\\xfe\\x84\\x05T\\xcb-?\\xb4\\x8c3\\xaf/\\x8d\\xe9\\x7f\\xc6j\\x8c\\xc6\\xbf\\xed\\xd7\\x1f\\xdc\\x97\\xf2\\xb3\\xefm\\xf9\\xd0\\xef^\\xa6\\xc6\\x0f3\\xe6W\\x98\\x0b\\xe2\\xdc\\x10\\x04\\x01\\x01\\x12\\xe7\\x86r\\xff\\x00fw\\xbb}\\xb4\\xe1\\xdf\\x8d\\x05e)\\xa8\\xed>\\x17\\xd9n\\xe8\\xf2\\xdd\\xdd7\\x0e\\xbc\\xb5\\xd5]4gD~\\xfc\\xa1:\\xbd.\\xa6\\xab\\xcb-\\\\\\xf8g\\xcd\\x11w\\xd8\\x97\\xd9f\\xa3\\xab\\x9e}\\xa6;\\x97{F7\\x17ckV\\x1b\\xf9%\\xf0?\\x8c\\'\\x10\\xf6\\xff\\x00\\x18o\\xeep\\']\\xde\\xcck\\xcb\\xbc)<_\\xd9\\xff\\x00\\xdd\\xd6U.\\xba}mE\\x9eZ\\xb9g\\xe3\\x99\\xd7\\xb7\\xc6zj\\x8a\\x1a\\x99g\\xdb\\xff\\x00\\x04\\xf69-rN\\x1c\\xac\\x00\\x80 \\x08\\x02\\x00\\x80 \\x08\\x02\\x00\\x80 \\x08\\x02\\x00\\x80 \\x08\\x02\\x00\\x80 \\x08\\x02\\x00\\x80 8<\\x96A\\x02f&\\xd1\\x8d\\xc28\\xda\\xeb\\x86\\xfeI|3\\xe2\\xf9\\xcc=\\xbf\\xc6\\x1b\\x9b\\xfc\\x01\\xd7w\\xb3:s\\xef+ca\\x1e\\xcf\\xfe\\xf1\\xb2\\xa7u\\xd3\\xea\\xeb\\xac\\xf2\\xd5\\xcf/\\x1c\\xc8;\\x8cg\\xa1\\xa8\\xe1\\xa9\\x9e]\\xbf\\xf0dY\\x1f\\x9c\\xbf\\xdae\\xee\\xe1m\\x18w\\xe2\\xb1GJ*;O\\x85\\xf6\\xbb\\xda\\xbc7wM\\xc1\\xa7=uQ\\x9aM\\xa2?q\\xd0\\x85^\\x97_Y\\xe5\\x96\\xae\\\\3\\xe6\\xce\\xc5\\x8e%\\xf6\\xa9\\xb8\\xea\\xe5\\x97i-*Y(\\x10\\x04\\x00s\\x1ea\\x03\\xdck\\x9f3t\\xfe\\xd216\\x9c\\xbe7\\xaa\\xff\\x00\\x19\\xcb\\xd3\\xf8/\\xfd\\xba\\xdf\\xfb\\x91\\xfeTP\\xee\\x7f:}\\xef\\xd4\\xb5\\x7f\\xb3C]1\\xd7w\\xf7\\x1f\\xfe\\xf5&|\\x0b\\x96\\x80 \\x08\\x02\\x02\\x9f\\xfe\\xd2\\xd87\\xac\\xf8\"\\xa4\\x0f\\xa1QY\\x19>m\\x88\\xff\\x00\\x94\\xa0*\\x0e\\x03\\x94A\\x8d\\xecS\\x93\\xa0\\x8a\\xe5N\\xff\\x00\\xbaV\\x95\\xd1\\xc5#\\xafeZ<\\xe3/F}h<\\xaa\\xc5\\xf6\\xa3d.\\xfan\\xf3+\\xcbkq}\\x8e\\xe3\\x842\\x10\\x04\\x05U\\xdb\\x9a\\x02\\xdb\\xf6\\x18\\xaa\\xd3\\x84\\x94\\x93\\xc7\\xaf\\xf0\\xc8\\xd3\\xfee\\xb8}\\x98\\xcf:\\x17\\x10\\xe5(\\xbf4\\xfe\\x85g\\x1d_\\x89\\x16DY\\x1fT\\xda<\\xde\\xc2\\x93\\xb8\\xe8>5\\x81\\xa4\\xff\\x00\\x13\\xb7\\x7fUu\\xd2j}&\\x11s\\x15\\xfa%\\xf0Y\\x91\\x96O+\\x88w\\x9b\\x07\\xe5\\xc1y\\xa8\\xbc\\x85\\x80\\x10\\x04\\x01\\x00@\\x10\\x04\\x01\\x00@\\x10\\x04\\x01\\x00@\\x10\\x04\\x01\\x00@\\x10\\x04\\x01\\x00@\\x10\\x04\\x03\\x9f\\x05\\x90k\\xe3<*\\x9bY\\x9b\\xd8\\xaev\\x9dG\\xc6\\xb3\\xb4\\x1f\\xe1v\\xef\\xe8\\xbd+\\xa34\\xdd<\"\\xda/\\xf4G\\xe2\\xb3(\\xd7\\xaf;\\x89\\xf7\\x92\\xee\\xc30\\x17_\\xb1=N\\x9c#\\xa4\\x82=\\x7f\\x8aG\\x1f\\xf2\\xaaW\\xb4\\xe9\\xe5B\\xde\\x1c\\xe5\\'\\xe4\\x97\\xd4\\x93\\xc0\\xd7\\xe2I\\x96\\xa9i\\xe2\\xcc\\x10\\x04\\x07-\\xfam\\xf3\\x08\\xf7\\x18\\x96\\xe3[\\xd8\\xf2Q>7\\xbe\\xce\\x0e\\xa2[\\x95C\\xfe\\xf9\\\\W\\xa90\\xb8\\xeaYQ\\x8f(\\xc7\\xd1\\x14*\\xef:\\xb2}\\xac\\xb7\\xdf\\xb3J\\r\\xdb>7\\xa9#\\xe9\\xd4Q\\xc6\\x0f\\x93e?\\xe6\\x0b\\xbc|\\x8b\\x80\\x80 \\x08\\x02\\x02\\xae~\\xd1\\xea\\x07K\\x95v\\x0b\\x8b[\\xaf\\xc1\\xafB2{\\x83\\xe1\\x93\\xf5`@Q\\n)\\x9dMW\\rC~\\x94R5\\xe3\\xd4u\\xfd\\x17\\n\\x90S\\x83\\x8b\\xe2f/\\'\\x99\\xb3\\ni\\x9bQM\\x15C\\x0e\\xad\\x95\\x8d\\x90\\x1f\\x07\\r\\x7fU\\xe5:\\x90p\\x93\\x8b\\xe1\\xb0\\xd8\\x10y\\xc54v.\\x07 \\x80 +\\xbe\\xdcV\\xf3.\\x14\\xc3\\xb7@\\xdd~\\x0f],\\x04\\xe9\\xcb\\xb4\\x8c8\\x7f\\x86\\xb6w\\xb3*\\xfa\\xb7U\\xe8\\xf3\\x8a~O/\\x99\\x03\\x8e\\xc38F\\\\\\x8a\\xb9\\x87\\xab\\x8d\\xb2\\xfdo\\xb97\\x9d%TS\\x8fa\\xe1\\xdf\\xa2\\xdb\\x97tzz\\x13\\xa5\\xfa\\x93^k\"\\xbbNZ\\x93R\\xe4l\\xa69\\x19+\\x1b,gV<o4\\xf7\\x83\\xc4/+\\xca./U\\xefE\\xfe/4}.&B\\x00\\x80 \\x08\\x02\\x00\\x80 \\x08\\x02\\x00\\x80 \\x08\\x02\\x00\\x80 \\x08\\x02\\x00\\x80 \\x08\\x02\\x00\\x80\\xf9\\x92FD\\xc7K!\\xd1\\x8c\\x1b\\xce=\\xc0q+\\x94b\\xe4\\xf5V\\xf6bO$k[\\x10\\xd7\\x1b\\x9d\\xfa\\xe1rw:\\xba\\xa9g>\\xdb\\xcb\\xbfU\\xea\\x8bJ=\\x05\\x08R\\xfd)/%\\x91@\\xa9-y\\xb9s-\\x1e\\xc3\\xb6\\xfe\\xcb\\nb+\\xa1n\\x9f\\x08\\xae\\x8a\\x00t\\xe7\\xd9\\xc6\\\\\\x7f\\xc4Z\\x8f\\xdam}k\\xaa\\x14yE\\xbf7\\x97\\xc8\\xb1`Q\\xca\\x12\\x97ib\\x16\\xb1\\'\\x82\\x00\\x80\\xeb\\xa9\\x99\\xb4\\xf4\\xd2\\xd4<\\xe8\\xd8\\x98\\xe9\\t\\xf0h\\xd7\\xf4\\\\\\xe9\\xc1\\xceJ+\\x8e\\xc3\\x8c\\xdeQm\\x9a\\xcf\\xad\\x99\\xd55sT;\\xe9K#\\x9e}g_\\xd5z\\xb2\\x9c\\x14 \\xa2\\xb8\\x1a\\xfeO7\\x99{\\xff\\x00g\\r\\x03\\xa2\\xca\\xbb\\xfd\\xc5\\xcd\\xd3\\xe17\\xa3\\x18=\\xe28c\\xfd^W3\\x05\\xa3@\\x10\\x04\\x01\\x01\\x07\\xed\\xc9iu\\xcfg[\\xdc\\xccn\\xf3\\xed\\xf3\\xd3U\\x81\\xe0%\\x0cq\\xfc/(\\rlu\\xd1\\x01\\xb1\\x0c\\xa3\\xb9|o\\x95\\xf8f\\xe2]\\xbc\\xe9m\\x90\\x07\\x9f\\xb4\\xd6\\x86;\\xde\\xd2\\xbc\\xcb\\xa4\\x16\\xff\\x00f\\xc5.)r\\x93\\xf2o5\\xea^l\\xa7\\xafB\\x0f\\xb0\\xcaT9\\xda\\x08\\x02\\x020\\xda\\x8e\\xcen\\xf9-y,n\\xf4\\xb4&*\\xd6p\\xfa\\x8e\\x01\\xdf\\xc8\\xe7+v\\x83\\xdd\\xfd\\x9b\\x19\\xa5\\x9e\\xe9g\\x1f5\\xb3\\xe2\\x91\\x1b\\x8bS\\xd7\\xb6}\\x9bJ+\\xd5z\\x10\\xa7\\x1b\\x07\\xc9\\x1b\\xd8\\xc49Q\\x87.{\\xfb\\xf2\\x1a\\x16A1\\xff\\x00y\\x17\\xcd\\xbb\\xde\\xdd}k\\xcdZMg\\xf6<V\\xbd,\\xb6k6\\xbb\\xa5\\xb5z\\x97|>\\xa7Io\\x17\\xd8fJ\\x08\\xee\\x04\\x01\\x00@\\x10\\x04\\x01\\x00@\\x10\\x04\\x01\\x00@\\x10\\x04\\x01\\x00@\\x10\\x04\\x01\\x00@\\x10\\x04\\x01\\x01\\x86\\xe7u\\xeca\\xec\\xa8\\xc4w=\\xfd\\xc9\\x05\\x0b\\xe0\\x84\\xff\\x00\\xbc\\x97\\xe6\\xdb\\xefv\\xbe\\xa5;\\xa36\\x7fl\\xc5hR\\xcbf\\xb2o\\xba;_\\xa1\\xd3\\xc4*tv\\xf2}\\x86\\xbe:\\xafJ\\x94\\x82\\xf5l\\xb9g6\\x8c\\x96\\xb3\\x17\\xb7vZ\\xe3-k\\xf8t{\\x88o\\xf25\\xab\\xcfzqw\\xf6\\x9cf\\xae[\\xa3\\x94|\\x96\\xdf\\x8be\\xc7\\t\\xa7\\xa9l\\xbbv\\x92z\\xa8\\x92A\\x00@b\\xd9\\xb9r\\xf8\\xa3+\\xf15\\xc4;u\\xd1[\\'\\x0c?i\\xcd,o\\xbd\\xc1Lh\\xfd\\xbf\\xdaq;z\\\\\\xe4\\xbc\\x93\\xcd\\xfa\\x1d[\\xd9\\xeaP\\x9b\\xec5\\xdf\\xd7E\\xe9\\xa2\\x8cl\\x9fa\\xbbK\\xad\\x9b:\\xd9&{w_p\\x9e\\xa6\\xac\\x8f\\x03)cO\\xe1`@N\\x08\\x02\\x00\\x80 1l\\xdd\\xb1|\\xa6\\xca\\xfcOa\\r\\xde}u\\xae\\xa2\\x18\\xc7\\xdb1\\x9d\\xcf\\xe6\\x01\\x01\\xa9\\x17j\\x1d\\xc7\\x9a\\x02\\xeal}x\\x17,\\xa0\\x8e\\x80\\xbfY-u\\xb3S\\x90y\\x86\\xb8\\x89\\x1b\\xfdn\\xfb\\x96\\x87\\xf6\\x85i\\xd0b\\xee\\xa7\\t\\xc5?-\\x8f\\xd1\\x16\\xcc\\x1a\\xa6\\xb5\\xbe\\xaf&L\\xaa\\x8aK\\x84\\x01\\x01\\xe4\\xbc\\xdb\\xe0\\xbbZ+-uCX+ }<\\xa3\\xec\\xbd\\xa5\\xa7\\xf3_{j\\xf2\\xb7\\xad\\x1a\\xd0\\xdf\\x16\\x9a\\xf0y\\x9c*\\xc1N\\x0e/\\x89\\xad\\xdb\\xf5\\xb6\\xa2\\xcf{\\xad\\xb4\\xd5\\xb7v\\xa2\\x8a\\xa1\\xf4\\xf2\\x8d4\\xf4\\x98\\xe2\\xd3\\xf9/RZ\\xdcB\\xe6\\x8c+Ct\\x92k\\xc5fP\\xaaA\\xc2N/\\x81hv$\\xc4\\xa2\\xa2\\xc1y\\xc2\\x93I\\xac\\x94s\\n\\xdapO\\xfb7\\xe8\\xd7\\x81\\xe4\\xe6\\xb4\\xfbKR{J\\xc3\\xb5+\\xd2\\xbc\\x8a\\xd9%\\xaa\\xfb\\xd6\\xd5\\xe6\\x9b\\xf2,8\\x1dl\\xe3*o\\xbc\\xb1\\x8bW\\x93\\xe1\\x00@\\x10\\x04\\x01\\x00@\\x10\\x04\\x01\\x00@\\x10\\x04\\x01\\x00@\\x10\\x04\\x01\\x00@\\x10\\x04\\x01\\x00@W=\\xb6\\xf1(\\xa7\\xb0Y\\xb0\\xa42i%d\\xc6\\xb6\\xa0\\x03\\xfe\\xcd\\x9a\\xb5\\x80\\xf9\\xb9\\xce>\\xca\\xda\\x1e\\xcdp\\xedz\\xf5o$\\xb6Ej\\xae\\xf7\\xb5\\xf9$\\xbc\\xc8\\x0cr\\xb6Q\\x8d5\\xdeU\\xeb\\r\\xb6\\xa2\\xf1{\\xa2\\xb4\\xd27z\\xa2\\xb6\\xa1\\x94\\xf1\\r5\\xf4\\x9e\\xe0\\xd1\\xf9\\xad\\xb7uq\\x0bj3\\xad=\\xd1M\\xbf\\r\\xa5z\\x9c\\x1c\\xe4\\xa2\\xb8\\x9b\"\\xb3[\\xe0\\xb4\\xda(\\xedt\\xa3H(\\xe0e<C\\xec\\xb1\\xa1\\xa3\\xf2^[\\xb9\\xaf+\\x8a\\xd2\\xad=\\xf2m\\xbf\\x17\\x99}\\xa5\\x05\\x08(\\xae\\x07\\xad|\\x0ea\\x00@C[`\\xdeE\\xb7($\\xa0\\x0f\\xd2K\\xa5l4\\xe0\\x0ee\\xad&G\\x7fC~\\xf5z\\xf6{i\\xd3\\xe2\\xea\\xa7\\x08E\\xbf\\x17\\xb1z\\xb2#\\x19\\xa9\\xabo\\xab\\xcd\\x94\\xad\\xba\\x97p\\xe6\\xb7\\xc1S6\\xdd\\x94V/\\x939_\\x86,%\\xbb\\xaf\\xa1\\xb5\\xd3\\xc3 \\xfbb1\\xbf\\xfc\\xc4\\xa02\\x94\\x01\\x00@\\x10\\x03\\xc9\\x01\\xa9\\xdc\\xf7\\xc3G\\x08g\\x06)\\xc3\\xe1\\x9b\\x91S\\\\e0\\r4\\xf9\\x97\\x9d\\xf8\\xff\\x00\\x91\\xcd@J;\\x11\\xdf\\xc5.*\\xbda\\xc9d\\xd1\\x95\\xf4\\xad\\xa9\\x88\\x13\\xc3\\xb4\\x88\\xe8@\\xf1-y>\\xca\\xd6~\\xd2\\xaczKJWI{\\x8f\\'\\xdd/\\xf9_\\x12o\\x04\\xab\\xabRP|Kf\\xb4\\xc9h\\x08\\x02\\x00\\x80\\xa6{a\\xe1Ce\\xcc\\x86\\xdf\\xa0\\x8fv\\x92\\xf7\\x08\\x94\\x91\\xc8N\\xcd\\x1b \\xf5\\x8d\\xc7{Eo_g\\xb8\\x9a\\xba\\xc3~\\xcf\\'\\xd6\\xa4\\xf2\\xff\\x00\\x0b\\xda\\xbek\\xc0\\xa9c\\x14::\\xfa\\xebt\\x8c\\'#q\\x7f\\xc8\\xac\\xcb\\xb5\\xdeeym\\x1b\\x9f\\xf0z\\xdf\\xfe\\t88\\xfb<\\x1d\\xec\\xa9\\xed&\\xc2\\xbe\\xf4\\xc3jPK\\xad\\xbe=\\xebw\\x9e\\xef\\x13\\xa9e_\\xa0\\xac\\xa7\\xc3\\x89\\xb0\\x16\\x90\\xe6\\x875\\xc1\\xc0\\x8dA\\x07\\x81\\x1d\\xe1y\\xb5\\xac\\x9eE\\xdd<\\xd6g+\\x06B\\x00\\x80 \\x08\\x02\\x00\\x80 \\x08\\x02\\x00\\x80 \\x08\\x02\\x00\\x80 \\x08\\x02\\x00\\x80 \\x08\\x0e\\x1cCZ\\\\\\xe7\\x06\\x805$\\x9e\\x00w\\x95\\x94\\xb3y\\x18o%\\x99\\xaf\\xec\\xf2\\xc5\\xe3\\x1a\\xe6]\\xd2\\xf3\\x13\\xcb\\xa8\\xda\\xff\\x00\\x83\\xd1\\x7f\\xf0G\\xc1\\xa7\\xda\\xe2\\xefizKFp\\xaf\\xba\\xf0\\xdat\\x1a\\xebo\\x97{\\xdf\\xe5\\xbb\\xc0\\xa4^\\xd7\\xe9\\xeb9\\xf0\\xe0f\\xdb\\x1eaCz\\xcc\\x87_\\xa7\\x8fz\\x92\\xc9\\x0fj\\t\\x1c\\x0c\\xef\\xd5\\xb1\\x8fP\\xdfw\\xb2\\x14\\x0f\\xb4,MZ\\xe1\\xbfg\\x8b\\xebUy\\x7f\\x85m\\x7f%\\xe2v\\xf0{~\\x92\\xbe\\xbb\\xdd\\x12\\xe6-\\x16[B\\xc0\\x08\\x02\\x02\\xa6m\\xb9\\x7f\\x158\\xaa\\xcb\\x87\"~\\xad\\xa0\\xa5uL\\xa0r\\xed%:\\x00|CX\\x0f\\xb4\\xb77\\xb3[\\x1e\\x8e\\xd2\\xad\\xd3^\\xfb\\xc9wG\\xfe_\\xc0\\xab\\xe3uu\\xaaF\\x0b\\x81\\x17dF\\x1a8\\xbf80\\xb6\\x1f,\\xdf\\x8a\\xa6\\xe3\\x11\\x9ci\\xaf\\xcc\\xb0\\xef\\xc9\\xfc\\x8dr\\xd9\\x84!\\xb6!\\xc9\\x00@\\x10\\x04\\x01\\x00@Q\\x1f\\xda1\\x84M\\xbf\\x1fYq\\x84\\x11\\x11\\r\\xda\\x8c\\xd3N\\xe1\\xcb\\xb6\\x84\\xf0\\'\\xcd\\x8eh\\xf6\\n\\x02\\xbeeV$v\\x12\\xcc;& \\xde\"*Z\\xa6\\x99\\xf4\\xeb\\x13\\xbd\\x19\\x07\\xe1qQ8\\xe6\\x1e\\xb1\\x1c>\\xad\\xb7\\x19\\'\\x97z\\xda\\xbe\\'b\\xd6\\xb7CZ3\\xe4lE\\x8ec\\xd8\\xd7\\xc6\\xe0\\xf68j\\xd7\\x03\\xc0\\x83\\xc8\\xaf2\\xb4\\xd3\\xc9\\x97\\xa4\\xf3Y\\x9fK\\x89\\x90\\x80 #\\x9d\\xa2pY\\xc6\\xb9g[KM\\x17ir\\xa1\\xfe\\xf9D\\x00\\xe2\\xe7\\xb0\\x1d\\xe6\\x0f\\xe2n\\xa3\\xcfEi\\xd1\\x0cc\\xee\\xbcJ\\x13\\x9b\\xeaK\\xab.\\xe7\\xb9\\xf8?\\x86dv\\'m\\xd3\\xd0yo[QC\\x0f\\x02\\xbd\\x12SK\\xb1\\xb2\\xae;\\x18\\xaf\\x002\\xcf[6\\xf5\\xd6\\xc8\\xd6\\xd3\\xc9\\xbc}) \\xe5\\x13\\xfct\\x03p\\xff\\x00\\x08\\xefZ\\x17N\\xb0O\\xbb\\xef\\xddzk\\xf0\\xea\\xed\\xee\\x97\\x15\\xf3]\\xfd\\x85\\xb7\\x08\\xba\\xe9ijKz\\xf4&\\x15G%\\x82\\x00\\x80 \\x08\\x02\\x00\\x80 \\x08\\x02\\x00\\x80 \\x08\\x02\\x00\\x80 \\x08\\x02\\x00\\x80 \\x08\\x08{j\\xacv0\\xa6\\x00}\\x9e\\x8am\\xdb\\xad\\xed\\xae\\xa7\\x8ft\\xfaQ\\xc1\\xcaW\\xf8j\\x0e\\xe0\\xfe#\\xdc\\xaf\\x1a\\x0b\\x82}\\xe1~\\xab\\xd4_\\x87Ko|\\xb8/\\x9b\\xee\\xed\"q{\\xae\\x8a\\x96\\xa4w\\xbfB\\x93\\x8e%o\\xa2\\xa4_=\\x9d\\xb0Y\\xc1YgEKS\\x17gr\\xae\\xfe\\xf9Z\\x08\\xe2\\xd7\\xbc\\r\\xd6\\x1f\\xe1n\\x83\\xcfU\\xe7m/\\xc6>\\xf4\\xc4\\xa78>\\xa4z\\xb1\\xee[\\xdf\\x8b\\xf8d\\\\\\xb0\\xcbn\\x82\\x82\\xcf{\\xda\\xc9\\x19U\\x89\\x10\\x80 >^\\xe61\\x8e|\\x8e\\x0ccF\\xaeq<\\x00\\x1c\\xca\\xe4\\x93o$a\\xbc\\x96f\\xbb\\xb3W\\x12;\\x16\\xe6\\x1d\\xef\\x10o\\x13\\x15US\\x8c\\x1a\\xf4\\x89\\xbe\\x8cc\\xf0\\xb4/M`xz\\xc3\\xb0\\xfaV\\xdcb\\x96}\\xefk\\xf8\\x94[\\xaa\\xdd5iO\\x99`\\xff\\x00g>\\x117\\x0c}z\\xc6\\x13\\xc4L6\\x9a1M\\x03\\x8f.\\xdac\\xc4\\x8f&5\\xc3\\xdb\\nX\\xeb\\x97\\xb9\\x00@\\x10\\x04\\x01\\x00@C\\xbba\\xe0\\x93\\x8d\\xb26\\xf1\\x154=\\xa5\\xc2\\xd5\\xa5\\xce\\x90\\x01\\xa9& w\\xda<\\xe3/\\x1aw\\xe8\\x80\\xd6W\"\\x80\\xbd;1\\xe2\\xd1\\x8a\\xb2\\xa6\\x81\\xb3K\\xbf]j\\xfe\\xe1S\\xa9\\xe2C\\x07\\xcd\\xbb\\xd6\\xcd=m+\\xcfzk\\x85}\\xdf\\x8aM\\xc5uju\\x97\\x8e\\xf5\\xe0\\xfdK\\x86\\x15q\\xd2\\xd0I\\xef[\\tATI0\\x80 \\x1eK \\xa4\\xbbR\\xe5\\xf1\\xc1\\xf8\\xe5\\xf7j\\x087l\\xf7\\x97:xwG\\xa3\\x14\\xdc\\xe4\\x8f\\xc3\\x89\\xde\\x1e\\x0e\\xf0[\\xf3B1\\xdf\\xbc\\xacU\\x1a\\x8f\\xf1)\\xe4\\x9fj\\xe0\\xfeO\\xb5v\\x94\\xfcR\\xd3\\xa0\\xab\\xac\\xb73\\n\\xca\\x9ci]\\x80\\xb1\\xad\\x16 \\xa3\\x0e\\x926\\x1e\\xce\\xaa\\x00t\\xed\\xe1w\\xd3g\\x9fQ\\xdc@*w\\x1d\\xc2)\\xe2\\xf6S\\xb6\\x9e\\xc6\\xf6\\xa7\\xc9\\xad\\xcf\\xeb\\xd8u-n%oQM\\x1b\\x01\\xb0]\\xad\\xf7\\xdb-%\\xe2\\xd7P\\xda\\x8a*\\xc8\\x84\\xb0\\xc8:\\xb4\\xf7\\xf7\\x11\\xc8\\x8e\\x84\\x10\\xbc\\xddwkV\\xd2\\xb4\\xa8VYJ/&\\x8b\\xbd*\\x91\\xab\\x058\\xeeg\\xb9u\\x8f\\xa0@\\x10\\x04\\x01\\x00@\\x10\\x04\\x01\\x00@\\x10\\x04\\x01\\x00@\\x10\\x04\\x01\\x00@\\x10\\x1e\\x1b\\xfd\\xda\\x82\\xc5e\\xab\\xbc]*\\x1bOEG\\x11\\x96i\\x0fF\\x8e\\xee\\xf2y\\x01\\xd4\\x90\\x17f\\xd2\\xd6\\xad\\xddh\\xd0\\xa2\\xb3\\x94\\x9eI\\x1f:\\xb5#J\\x0er\\xdc\\x8d\\x7ff\\xb64\\xae\\xc7\\xb8\\xd6\\xb7\\x10V\\x07G\\x1b\\xcfgK\\x01:\\xf6\\x10\\xb7\\xe83\\xcf\\xa9\\xef$\\x95\\xe9\\x1c\\x0b\\x08\\xa7\\x84YB\\xda\\x1bZ\\xda\\xdf6\\xf7\\xbf\\xa7aH\\xba\\xb8\\x95\\xc5W6f\\xbb-e\\xf1\\xc5\\xf8\\xe5\\x97j\\xf87\\xac\\xf6g6y\\xb7\\x87\\xa3,\\xdc\\xe3\\x8f\\xc7\\x88\\xde>\\r\\xf1PZq\\x8e\\xfd\\xdbb\\xe8\\xd3\\x7f\\x89S4\\xbb\\x17\\x17\\xf2]\\xaf\\xb0\\xed\\xe1v\\x9d=]g\\xb9\\x17k\\xcdh2\\xe0\\x16\\x00@\\x10\\x11~\\xd3\\x98\\xb4a\\\\\\xa9\\xafl2\\xeeW]\\x7f\\xb8Shx\\x80\\xf1\\xf3\\x8e\\xf53_[\\x82\\xb7hV\\x15\\xf7\\x86)\\x07%\\xd5\\xa7\\xd6~\\x1b\\x97\\x8b\\xf4#1[\\x8e\\x8a\\x83K{\\xd8Qnez\\x10\\xa7\\x9b5\\xd8\\xf3\\x04\\x9c\\x13\\x91\\xb6x\\xaaa\\xec\\xee\\x17]nu`\\x8d\\x082\\x81\\xb8\\xd3\\xe5\\x18`\\xd3\\xbfT\\x04\\xc4\\x80 \\x08\\x02\\x00\\x80 8\\x91\\x8d{\\x0b\\x1e\\xd0\\xe6\\xb8hA\\x1a\\x82;\\x90\\x1a\\xad\\xda;\\x01?.sv\\xf3\\x87\\xa3\\x8c\\xb2\\x80\\xc9\\xf0\\xaby\\xd3\\x81\\xa6\\x93W0\\x0f\\xe1\\xe2\\xc3\\xe2\\xd2\\x80\\xfd\\xbd\\x94\\xb1\\xa8\\xc2\\xd9\\x8f\\x1d\\xb6\\xb2n\\xce\\xdd{\\r\\xa5\\x94\\xb8\\xe8\\xd6K\\xaf\\xcd?\\xf1\\x12\\xdf\\'\\xaaV\\x9d`\\xff\\x00xa\\xce\\xac\\x17^\\x97Yw\\x7f\\x12\\xf2\\xdb\\xe0I\\xe1W=\\rl\\x9e\\xe7\\xb3\\xe8]\\xa5\\xa0\\xcb\\x80X\\x01\\x00@c9\\x9b\\x83\\xad\\xd8\\xeb\\x07Va\\xeb\\x86\\x8c\\xedF\\xfd<\\xdaj`\\x98}\\x07\\x8f.Du\\x04\\x85/\\x82b\\xd5p\\x9b\\xc8\\xdc\\xd3\\xe1\\xbds\\\\W\\xd3\\xb7#\\xadwm\\x1b\\x8aN\\x0c\\xd7\\xfe)\\xb1\\\\\\xf0\\xce \\xac\\xb1\\xdd\\xe9\\xcd=m\\x1c\\xa69Y\\xd3\\xc0\\x83\\xd5\\xa4hA\\xea\\x08^\\x91\\xb1\\xbd\\xa3}o\\x0b\\x8a\\x0f8\\xc9f\\xbf\\xaek\\x89I\\xabNT\\xa6\\xe1-\\xe8\\x97v`\\xcd\\xa6\\xe1\\x0b\\x9f\\xc9\\x8cAR[a\\xad\\x97X\\xa6y\\xe1G1\\xfd\\xef\\x06;\\xf7\\xbb\\x8e\\x8e\\xef\\xd6\\x95\\xa6\\xda/\\xf7\\x95/\\xb5\\xdb/\\xc5\\x8a\\xda\\xbfR\\xe5\\xde\\xb8s\\xdd\\xc8\\x93\\xc3/\\xfa\\tjO\\xdd\\x7f\\x02\\xe44\\x8749\\xa4\\x10F\\xa0\\x83\\xa8+F\\xb5\\x96\\xc6Z\\xd3\\xcdf\\x8eV\\x0c\\x84\\x01\\x00@\\x10\\x04\\x01\\x00@\\x10\\x04\\x01\\x00@\\x10\\x04\\x01\\x00@\\x10\\x1c8\\x86\\xb4\\xb9\\xc4\\x00\\x06\\xa4\\x93\\xa0\\x0b)f\\xf2F\\x1b\\xc9f\\xcao\\xb4\\xfem7\\x17\\xdc\\xfeLa\\xfa\\x92\\xeb\\r\\x14\\x9a\\xcb3\\x0f\\n\\xc9\\x87\\xefx\\xb1\\xbf\\xbb\\xdeuwv\\x9b\\xcfBt_\\xee\\xda_k\\xb9_\\x8b%\\xb1~\\x95\\xcb\\xbd\\xf1\\xe5\\xbb\\x99T\\xc4\\xef\\xfayjC\\xdd_\\x12\"\\xc2\\xd6+\\x9e&\\xc4\\x14v;E9\\xa8\\xad\\xac\\x94G\\x13:x\\x92z4\\rI=\\x00*\\xe9}{F\\xc6\\xdew\\x15\\xdeQ\\x8a\\xcd\\xff\\x00\\\\\\xdf\\x022\\x959U\\x9a\\x84w\\xb3`\\x19e\\x83\\xad\\xd8\\x17\\x07Q\\xe1\\xeb~\\x8f\\xec\\x86\\xfdD\\xdahg\\x98\\xfd7\\x9f>@t\\x00\\x05\\xe6\\xeco\\x16\\xab\\x8b^J\\xe6\\xa7\\x1d\\xcb\\x92\\xe0\\xbe\\xbd\\xb9\\x97kKh\\xdb\\xd2PFL\\xa2\\x0e\\xc8@\\x10\\x05\\x90R]\\xabq\\xa8\\xc59\\x8f%\\xb6\\x8e`\\xfbm\\x90:\\x96\"\\xd3\\xab_.\\xbf:\\xf1\\xed\\x00\\xdf&-\\xf7\\xa0\\xb8?\\xdd\\xf8r\\xab5\\xd7\\xa9\\xd6}\\xdf\\xc2\\xbc\\xb6\\xf8\\x94\\xfcV\\xe7\\xa6\\xad\\x92\\xdc\\xb6}O\\xc4\\xd9\\xc7\\x01?1\\xb3r\\xcd\\x87\\xa4\\x8c\\xbe\\x80I\\xf0\\xab\\x81\\xd3\\x83i\\xa3\\xd1\\xcf\\x07\\xf8\\xb80x\\xb8+\\xb1\\x18mJ65\\x8c\\x0ccCZ\\xd1\\xa0\\x00h\\x00\\xee@r\\x80 \\x08\\x02\\x00\\x80 \\x08\\n\\xd5\\xb7\\xc6[\\x1cQ\\x97Qc;m>\\xfd\\xcf\\x0e\\xef:p\\xd1\\xe9IF\\xe3\\xe9\\xf9\\xee\\x1d\\x1f\\xe07\\xd0\\x1a\\xfec\\x9c\\xc7\\x875\\xc5\\xae\\x07PA\\xe2\\x16\\x1aMd\\xc1}6~\\xc7\\x8c\\xc7\\x99}MWQ(u\\xd6\\x8bJ[\\x83z\\x97\\x81\\xe8\\xc9\\xe4\\xf1\\xc7\\xcf{\\xb9y\\xdbK07\\x84b\\x12\\x84W\\xe1\\xcbl{\\xb8\\xaf\\x07\\xb3\\xbb\"\\xe7\\x86\\xdd\\xfd\\xa2\\x8a\\xcfz\\xdeH\\x8a\\xaeH\\x04\\x01\\x00@C\\xfbH\\xe5;1\\xe5\\x90^,\\xd0\\xb0b:\\x18\\xf4\\x88\\x0e\\x1f\\x0b\\x88q\\xec\\x89\\xfa\\xc3\\x89i\\xef\\xd4u\\xe1x\\xd0\\xdd(xMn\\x82\\xbb\\xfc\\x19=\\xbf\\xb5\\xf3\\xee\\xe7\\xe7\\xc0\\x89\\xc4\\xec\\x15x\\xeb\\xc3\\xde_\\x12\\x94O\\x14\\xb0N\\xf8f\\x8d\\xf1K\\x1b\\x8b^\\xc7\\xb7G5\\xc3\\x81\\x04\\x1eDw-\\xf1\\x19FiJ/4\\xca\\x9bM<\\x99b\\xf6k\\xce\\xf6\\xda\\xd9M\\x83q\\x95^\\x94#H\\xe8.\\x12\\xbb\\xfd_\\xba)\\x0f\\xd4\\xeew\\xee\\xf2<9k-2\\xd0\\xd7p\\xe5}c\\x1e\\xb6\\xf9Eq\\xed]\\xbc\\xd7\\x1e\\xfd\\xf3\\x98n\\'\\xd1\\xe5J\\xab\\xd9\\xc1\\x96\\xad\\xa49\\xa1\\xcd \\x825\\x04\\x1ekN\\xb4\\xd6\\xf2\\xcc\\x9e{Q\\xca\\xc0\\x08\\x02\\x00\\x80 \\x08\\x02\\x00\\x80 \\x08\\x02\\x00\\x80 \\x08\\x02\\x03\\x87\\x10\\xd6\\x978\\x80\\x00\\xd4\\x92y,\\xa4\\xde\\xe3\\r\\xe5\\xb5\\x95SiL\\xefm\\xd1\\x9587\\x06\\xd5\\xebBu\\x8e\\xbe\\xe1\\x1b\\xbf\\xd6;\\xe2\\x8c\\xfdN\\xf7~\\xf7!\\xc3\\x9e\\xe2\\xd0\\xdd\\rv\\xee7\\xd7\\xd1\\xebo\\x8c_\\x0e\\xd7\\xdb\\xc9p\\xef\\xddZ\\xc4\\xb1>\\x93:T\\x9e\\xce,\\xae\\x90E,\\xf3\\xb2\\x18c|\\xb2\\xc8\\xe0\\xd61\\x8d\\xd5\\xceq\\xe0\\x00\\x03\\x99=\\xcbf\\xcaQ\\x82r\\x93\\xc9\"\\r&\\xdeH\\xba\\xfb7e;0\\x1d\\x90\\xde/0\\xb0\\xe2:\\xe8\\xf4\\x90\\x1e?\\x04\\x88\\xf1\\xec\\x81\\xfa\\xc7\\x81q\\xef\\xd0t\\xe3\\xa1\\xf4\\xcbJ\\x1e-[\\xa0\\xa0\\xff\\x00\\x06/g\\xee|\\xfb\\xb9y\\xf1-\\x98e\\x82\\xa1\\x1dy\\xfb\\xcf\\xe0L\\n\\x8eK\\x04\\x01\\x00@G{@\\xe3\\xc6`<\\xbe\\xa9\\xab\\xa7\\x946\\xeb[\\xad-\\xbd\\xbdC\\xc8\\xf4\\xa4\\xf2`\\xe3\\xe7\\xba:\\xabF\\x89\\xe0o\\x17\\xc4#\\t/\\xc3\\x8e\\xd9wp^/gvd~%u\\xf6z/-\\xefqB\\xde\\xe7=\\xe5\\xceqs\\x89\\xd4\\x92x\\x95\\xe8\\x94\\xb2Y\"\\x98l\\x07`|\\xb68_.\\xa5\\xc6w*}\\xcb\\x9e\"\\xddt\\x01\\xc3\\xd2\\x8e\\x8d\\xa7\\xd0\\xf2\\xdf:\\xbf\\xc4n,\\x82\\xca\\xa0\\x08\\x02\\x00\\x80 \\x08\\x02\\x00\\x80\\xea\\xab\\xa7\\x86\\xae\\x96Zj\\x98\\x9942\\xb0\\xb2H\\xde5k\\xdaF\\x84\\x11\\xd4\\x10t@j\\xe7i\\\\\\xb3\\xa8\\xca\\xec\\xcf\\xae\\xb2\\xb27\\x9bMI5V\\xb9N\\xa7z\\x07\\x1e\\r\\'\\xeb0\\xea\\xd3\\xe4\\x0fP\\x80\\xf1\\xe46`K\\x97\\xd8\\xe6\\x1a\\xf9\\\\\\xf7Z\\xaa\\xb4\\xa7\\xb8\\xc4\\xde:\\xc6O\\x07\\x81\\xf5\\x98}!\\xeb\\x1dUoJp(\\xe36.\\x92\\xf7\\xe3\\xb6/\\xb7\\x97s\\xdd\\xe4\\xf8\\x1d\\xdb\\x1b\\xa7mUK\\x87\\x12\\xfa\\xd2\\xcf\\rU4U4\\xd2\\xb2h&`\\x929\\x18uk\\xdaF\\xa1\\xc0\\xf5\\x04\\x1dW\\x9d*S\\x9598Md\\xd6\\xc6\\xbbK\\xacd\\xa4\\xb3Gb\\xe0d \\x08\\x02\\xc8 }\\xa3\\xf2Q\\xb8\\xa9\\x93b\\xac+N\\xd6_X\\xdd\\xea\\xaaV\\xf0\\x15\\xa0\\x0ec\\xba_\\xea\\xf3\\xe7\\xb1t;L\\x1d\\x83Vw\\x8f\\xf0\\xb8?\\xd3\\xff\\x00\\xe7\\xd3\\xb8\\x83\\xc4\\xb0\\xde\\x93:\\x94\\x96\\xdfR\\xa0O\\x14\\xb0L\\xf8f\\x8d\\xf1K\\x1b\\x8b^\\xc7\\xb4\\x874\\x8e\\x04\\x10y\\x1f\\x05\\xba\\xa3%8\\xa9E\\xe6\\x99Yi\\xa7\\x93&\\xec\\x87\\xcfz\\xec \\xd80\\xfe\\'\\xed\\xae\\x16\\x11\\xa3b\\x90zSQ\\x8f\\xb3\\xaf\\xd2g\\xd9\\xe6:w\\x1a\\x16\\x94hU,K;\\x9bL\\xa3W\\x8a\\xe1.\\xfeO\\xb7\\x8f\\x1ed\\xb5\\x86\\'*\\x1dI\\xed\\x8f\\xa1n\\xecW{e\\xf6\\xd5\\x05\\xd6\\xcf]\\x05u\\x14\\xe3X\\xe6\\x85\\xdb\\xcd>\\x1e\\x04u\\x07\\x88\\xea\\xb4\\xad\\xd5\\xa5kJ\\xae\\x8dx\\xb8\\xc9oO\\xfa\\xf8\\x96\\x8auaV:\\xd0y\\xa3\\xdc\\xba\\xc7\\xd0 \\x08\\x02\\x00\\x80 \\x08\\x02\\x00\\x80 \\x08\\x02\\x00\\x80\\xf0\\xdfn\\xf6\\xcb\\x15\\xaa{\\xad\\xe2\\xba\\n\\x1a(\\x06\\xb2M3\\xb7Z<<I\\xe8\\x07\\x13\\xd1vmm+]\\xd5ThE\\xcaOrG\\xce\\xa5XR\\x8e\\xb4\\xdeH\\xa8\\x99\\xf1\\x9e\\xf5\\xd8\\xbd\\xb3\\xe1\\xfc1\\xdb[\\xec\\'VM!\\xf4f\\xac\\x1fkO\\xa0\\xcf\\xb3\\xcc\\xf5\\xee\\x1b\\xabE\\xf4&\\x96\\x1b\\x95\\xcd\\xdeR\\xab\\xc1p\\x8fw7\\xdb\\xc3\\x872\\xaf\\x7f\\x89\\xca\\xbfR\\x1b#\\xeaB0E,\\xf32\\x18c|\\xb2\\xc8\\xe0\\xd61\\x8d%\\xce\\'\\x80\\x00\\x0eg\\xc1_e%\\x04\\xe5\\'\\x92DJY\\xecE\\xbf\\xd9\\xc3%\\x1b\\x85Y\\x0e*\\xc5T\\xed}\\xf5\\xcd\\xde\\xa5\\xa5v\\x84Q\\x029\\x9e\\xf9\\x7f\\xa7\\xcf\\x96\\x95\\xd3\\x1d0w\\xed\\xd9\\xd9\\xbf\\xc2\\xe2\\xff\\x00W\\xff\\x00\\x9f^\\xe2\\xcd\\x86\\xe1\\xbd\\x1eU*-\\xbe\\x84\\xf0\\xb5\\xd18\\x16\\x00@\\x10\\x1duS\\xc3KM-ML\\xac\\x86\\x08Xd\\x92G\\x9d\\x1a\\xc6\\x81\\xa9q=\\x00\\x03U\\xce\\x9d9T\\x92\\x84\\x16m\\xecK\\xb4\\xc4\\xa4\\xa2\\xb3e\\n\\xcf\\x9c\\xc0\\x970q\\xcc\\xd5\\xf19\\xed\\xb5R\\xebOn\\x89\\xdc4\\x8c\\x1e/#\\xeb<\\xfaG\\xd4:/E\\xe8\\xb6\\x05\\x1c\\x1a\\xc5R~\\xfc\\xb6\\xc9\\xf6\\xf2\\xee[\\xbc\\xdf\\x12\\x95}t\\xeej\\xb9p\\xe0{6j\\xcb:\\x8c\\xd1\\xcc\\xfa\\x1b+\\xe3x\\xb4\\xd3iUt\\x94j7`i\\xe2\\xd0~\\xb3\\xce\\x8d\\x1ed\\xf4*\\xc8t\\x8d\\xa3RS\\xc3IK\\x15-4L\\x86\\x18\\x98\\x19\\x1cl\\x1a5\\x8d\\x03@\\x00\\xe8\\x00\\x1a ;P\\x04\\x01\\x00@\\x10\\x04\\x01\\x00@\\x10\\x116\\xd4yQ\\x0eje\\xc4\\xd4T\\xd1\\xc6\\xdb\\xf5\\xbbz\\xa6\\xd5+\\xb8|\\xe6\\x9e\\x94D\\xfdW\\x81\\xa7\\x81\\r=\\x10\\x1a\\xc6\\xac\\xa6\\xa8\\xa3\\xac\\x9a\\x92\\xaa\\x19 \\xa8\\x82GG,r7u\\xcc{N\\x85\\xa4\\x1eD\\x10B\\x02\\xcc\\xec\\x8d\\x9a@\\xb6<\\xbd\\xbe\\xd4hF\\xa6\\xd14\\x8e\\xf5\\x98\\t\\xfb\\xcb}c\\xb9jm?\\xd1\\xad\\xf8\\x9d\\xba\\xfe\\xfa\\xff\\x00W\\xd7\\xcf\\x99`\\xc2/\\xb2\\xfc\\x19\\xf8}\\x0b6\\xb59c\\x0b\\x00 \\x08\\x02\\xc8!\\xec\\xf5\\xc9+^;d\\xb7\\x9b?cn\\xc4a\\xba\\x99\\x08\\xd2*\\xbd9\\t4\\xe4\\xee\\xe7\\x8f^\\xbd.\\xfa/\\xa6U\\xb0\\x96\\xa8W\\xceTyq\\x8fwgg\\x97lM\\xfe\\x19\\x1a\\xfdxl\\x97\\xa9Nq5\\x82\\xf1\\x86\\xaf\\x13Z/\\x94\\x13\\xd0\\xd6\\xc2}8\\xa5n\\x87N\\x84\\x1eE\\xa7\\xa1\\x1a\\x82\\xb7\\x85\\x95\\xed\\x0b\\xea*\\xb5\\xbc\\x94\\xa2\\xf8\\xaf\\xebc\\xec*\\xd5)N\\x94\\xb5f\\xb2g\\xece\\xd6`\\xe2\\x8c\\x05s5\\x98~\\xe0\\xe8\\xe3y\\x06zY=8\\'\\x1fm\\x9d\\xfe#B:\\x15\\xd1\\xc5\\xf0+,^\\x9e\\xa5\\xcc3ks[\\x1a\\xee\\x7f-\\xdd\\x87\\xd2\\xde\\xea\\xa5\\xbc\\xb3\\x83-vW\\xed\\x01\\x841[b\\xa2\\xbcH\\xdc?uv\\x83\\xb3\\xa9\\x93\\xfb\\xbc\\x87\\xecK\\xc8y;O2\\xb4\\xee7\\xa0\\xb7\\xf8{u(.\\x96\\x1d\\x9e\\xf2\\xef\\x8f\\xcdg\\xe0YmqjUvOc&\\x06\\xb89\\xa1\\xcd \\x87\\rA\\x1c\\x88\\xef\\n\\x90\\xd3[\\xc9T\\xd3\\xdcr\\xb0d \\x08\\x02\\x00\\x80 \\x08\\x02\\x00\\x80\\xe1\\xc45\\xa5\\xce \\x06\\x8dI<\\x80\\xef+)7\\xb1\\x06\\xd2\\xdeC\\xf9\\xa1\\xb4\\x06\\x10\\xc2\\x8d\\x96\\x8a\\xcf#q\\x05\\xd5\\xba\\x8e\\xce\\x9aO\\xee\\xf1\\x9f\\xb7/#\\xe4\\xdd|\\xc2\\xbb\\xe0\\x9a\\x0b\\x7f\\x885R\\xba\\xe8\\xa1\\xdb\\xef>\\xe8\\xfc\\xde^$M\\xd6-J\\x96\\xc8meQ\\xcc\\\\\\xc1\\xc5\\x18\\xf6\\xe6+1\\x05\\xc1\\xd2F\\xc2L\\x14\\xb1\\xfa\\x10@>\\xc3;\\xfcN\\xa4\\xf5+qa\\x18\\x15\\x96\\x11OR\\xda\\x197\\xbd\\xbd\\xad\\xf7\\xbf\\x96\\xee\\xc2\\xb5quR\\xe2Y\\xcd\\x9f\\x8f\\x86l\\x17\\x8cKx\\x86\\xd1c\\xa0\\x9e\\xba\\xb6c\\xe8E\\x13u:u$\\xf2\\r\\x1dI\\xd0\\x05\\xde\\xbd\\xbd\\xa1cE\\xd6\\xb8\\x92\\x8cW\\x17\\xfdm}\\x87\\xce\\x9d)\\xd5\\x96\\xac\\x16l\\xb8\\xf9\\x15\\x92V\\xbc\\t\\x1cW\\x9b\\xc1\\x86\\xe3\\x88\\xcbu\\x12\\x01\\xacT\\x9a\\xf3\\x11\\xeb\\xcd\\xdd\\xef>\\xad:\\xe8\\xfd(\\xd3*\\xd8\\xb3t(g\\x1a<\\xb8\\xcb\\xbf\\xb3\\xb3\\xcc\\xb4\\xd8a\\x91\\xa1\\xd7\\x9e\\xd9z\\x13\\x02\\xa4\\x12\\xc1`\\x04\\x01\\x00Y\\x05d\\xda\\xe74@l\\x99{b\\xa8\\xd4\\xf07y\\xa3w\\xac@\\x0f\\xdc]\\xea\\x1d\\xeblh\\x06\\x8dn\\xc4\\xee\\x17\\xf7\\x17\\xfa\\xbeK\\xcf\\x91\\\\\\xc5\\xef\\xb3\\xfc\\x18x\\xfd\\n\\xcdGMQYY\\r%,2OQ<\\x8d\\x8e(\\xe3n\\xf3\\x9e\\xf7\\x1d\\x03@\\x1c\\xc9$\\x05\\xb6J\\xf9\\xb3\\x9d\\x972\\xa2\\x1c\\xab\\xcb\\x88h\\xaac\\x8d\\xd7\\xeb\\x8e\\xedM\\xd6V\\xf1\\xf9\\xcd=\\x18\\x81\\xfa\\xac\\x07O\\x12\\\\z\\xa0%\\x94\\x01\\x00@\\x10\\x04\\x01\\x00@\\x10\\x04\\x01\\x00@S=\\xbbrL\\x93>ja\\x8a]x\\x0f\\x8f)\\xa2o\\xa8T\\x80=A\\xfe\\xa7}b\\x80\\xa6\\xf0K-<\\xec\\x9a\\x19\\x1f\\x14\\xb1\\xb89\\x8fc\\xb4s\\\\\\x0e\\xa0\\x829\\x10W\\x19EN.2Y\\xa6e6\\x9eh\\xbb;:f\\xcc\\x18\\xf6\\xc8-Wi\\x98\\xccIE\\x1f\\xcf\\x03\\xc3\\xe1Q\\x8e\\x1d\\xb3G\\x7f\\xd6\\x1d\\x0f\\x1eG\\x86\\x85\\xd3\\r\\x17\\x96\\x11[\\xa6\\xa2\\xbf\\x06Og\\xed\\x7f\\xa5\\xfc\\x9f\\x86\\xf4[0\\xcb\\xf5^:\\x93\\xf7\\x97\\xc4\\x97U$\\x96\\x08\\x02\\x00\\x80 1\\x9c\\xc2\\xc0\\x98k\\x1d\\xda~/\\xc44\\r\\x9bp\\x1e\\xc2\\xa1\\x87vh\\t\\xea\\xc7\\xf4\\xf2:\\x83\\xd4)|#\\x1b\\xbc\\xc2j\\xf4\\x96\\xd2\\xcb\\x9a\\xe0\\xfb\\xd7\\xcf\\x7fi\\xd6\\xb9\\xb4\\xa5q\\x1c\\xa6\\x8a\\x95\\x9a\\xd9\\t\\x8a\\xf0{\\xa6\\xaf\\xb5\\xc6\\xfb\\xed\\x99\\xba\\xbb\\xb7\\xa7\\x8c\\xf6\\xd17\\xfd\\xe4cS\\xed7Q\\xe4\\xb76\\x05\\xa6\\xf68\\x9eT\\xea\\xbe\\x8e\\xa7&\\xf6>\\xe7\\xf2y>\\xf2\\xb1w\\x85\\xd5\\xa1\\xb6;Q\\x10\\xf1\\n\\xeaF\\x19\\xbe\\x01\\xcd\\\\q\\x82\\x83\"\\xb3^\\xa5u\\x1bO\\xfa\\x95O\\xcfA\\xe4\\x1a~\\x8f\\xb2B\\x80\\xc5tg\\r\\xc53u\\xe9\\xf5\\xbfR\\xd8\\xfc\\xd6\\xff\\x00\\x1c\\xce\\xdd\\x0b\\xda\\xd4=\\xc7\\xb3\\x91;`\\xed\\xa9-\\x15\\rd8\\xae\\xc1QC\\'#Q@\\xee\\xd63\\xe2X\\xe2\\x1c\\x07\\x91r\\xd7\\x98\\x8f\\xb3Z\\xf0\\xceVuT\\x97)l~kc\\xf2D\\xcd\\x1cr/eH\\xf9\\x12\\xd6\\x1b\\xcd,\\xbd\\xc4!\\x9f\\x16b\\xcba\\x91\\xdc\\xa2\\xa8\\x97\\xb0\\x93\\xcbvM\\x0f\\xdc\\xa9\\xb7\\x9a3\\x8a\\xd9\\xe7\\xd2\\xd0\\x96\\\\\\xd2\\xd6^k2N\\x95\\xfd\\xbdOvH\\xcc\"{e\\x8cI\\x13\\x84\\x8c<\\x9c\\xc3\\xbc\\x0f\\xac(9E\\xc5\\xe5-\\x8c\\xed\\xa9&}\\x1e\\x1c\\xf8,\\x198\\xd4w\\x84\\xc8\\x1c\\x8e<\\xb8\\xa0>e{b\\x8c\\xc9+\\x84l\\x1c\\xdc\\xf3\\xba\\x07\\xac\\xac\\xc6.O(\\xedf\\x1c\\x920\\xfcI\\x9aY{\\x87\\x83\\xfe3\\xc5\\x96\\xc1#y\\xc5O/o\\'\\x96\\xecz\\x9f\\xbdNY\\xe8\\xce+y\\x97EBYskUy\\xbc\\x8e\\xa5[\\xfbz~\\xf4\\x91\\x12\\xe3-\\xa9-\\x14\\xed|8R\\xc1Q]\\'!Q^\\xee\\xca1\\xe2\\x18\\xd2\\\\}e\\xaa\\xe5\\x87{5\\xaf<\\xa5yUEr\\x8e\\xd7\\xe6\\xf6/&FV\\xc7\"\\xb6S\\x8f\\x99\\x04\\xe3\\xec\\xd5\\xc7\\x18\\xd4>+\\xcd\\xeaV\\xd1\\xb8\\xff\\x00\\xa9S|\\xcc\\x1eE\\xa3\\xe9{D\\xad\\x87\\x85h\\xce\\x1b\\x85\\xe4\\xe8S\\xeb~\\xa7\\xb5\\xf9\\xbd\\xde\\x19\\x10\\xd5\\xefkW\\xf7\\xde\\xceF\\x11\\xc4\\xa9\\xf3\\xa8K\\xd9S\\x90\\x98\\xaf\\x18:\\x1a\\xfb\\xa4o\\xb1Y\\x9d\\xa3\\xbbz\\x88\\xcfm+\\x7f\\xdd\\xc6t>\\xd3\\xb4\\x1ej\\x95\\x8e\\xe9\\xbd\\x8e\\x19\\x9d:O\\xa4\\xa9\\xc9=\\x8b\\xbd\\xfc\\x96o\\xb8\\x93\\xb4\\xc2\\xea\\xd7\\xda\\xf6\"\\xda\\xe5\\xee\\x04\\xc3X\\x12\\xd3\\xf1~\\x1e\\xa0l;\\xe0v\\xf5\\x0f\\xf4\\xa6\\x9c\\x8e\\xaf\\x7f_!\\xa0\\x1d\\x02\\xd38\\xbe7y\\x8bU\\xe9.e\\x9f%\\xc1w/\\x9e\\xfe\\xd2\\xcfmiJ\\xde9A\\x192\\x88;!\\x00@\\x10\\x04\\x04E\\xb4^l\\xc1\\x80\\xac\\x86\\xd5i\\x99\\x8f\\xc4\\x95\\xb1\\xfc\\xc8\\x1a\\x1f\\x82\\xc6xv\\xce\\x1d\\xff\\x00Tu<y\\x0e7m\\x0f\\xd1yb\\xf5\\xbaj\\xcb\\xf0b\\xf6\\xfe\\xe7\\xfaW\\xcd\\xf8odN\\'~\\xa8GR\\x1e\\xf3\\xf8\\x14\\x9aye\\xa8\\x9d\\xf3M#\\xe5\\x96G\\x17=\\xefv\\xaes\\x89\\xd4\\x92O2J\\xdfQ\\x8a\\x84Tb\\xb2H\\xa9\\xb6\\xdb\\xcd\\x97#a,\\x93 \\xc1\\x9a\\x98\\x9e\\x97N\\x07\\xe2:i[\\xea5$\\x1fXg\\xad\\xdfT\\xaeF\\x0b\\x98\\x80 \\x08\\x02\\x00\\x80 \\x08\\x02\\x00\\x80 \\x08\\x02\\x03\\xe2\\xa2\\x18\\xaa \\x92\\t\\xe2d\\xb1H\\xd2\\xc7\\xb1\\xed\\x0ek\\x9aF\\x84\\x10y\\x82: 5\\xd3\\xb5\\xd6ETe\\xae v\"\\xc3\\xd4\\xcf\\x93\\t\\\\%\\xf9\\xbd\\xddO\\xc0%<{\\x17\\x1f\\xaa\\x7fq\\xc7\\xa7\\xa2x\\x8dH\\x10u\\x8a\\xedq\\xb1\\xdd\\xe9n\\xd6\\x9a\\xb9)+id\\x12C4gB\\xd7\\x0f\\xcct \\xf0#\\x81_\\x0b\\xabZWTeF\\xb4u\\xa3%\\x93L\\xe5\\t\\xca\\x9c\\x94\\xa2\\xf6\\xa2\\xf0\\xe4^k\\xdb3\\x16\\xcc!\\x94\\xc5I\\x7f\\xa6`5t\\x80\\xe8\\x1e9v\\xb1\\xf7\\xb0\\xf5\\x1c\\xdax\\x1e\\x1a\\x13\\xa04\\xa3E\\xeb`\\xb5\\xb5\\xa3\\xd6\\xa5-\\xcf\\xe4\\xfb}K~\\x1f\\x88F\\xe69=\\x92$\\xb5S$\\x82\\x00\\x80 \\x08\\x07\\x8a\\x028\\xccl\\x97\\xc0\\xd8\\xd4\\xc9SSo\\xf8\\xb6\\xe4\\xfe&\\xb6\\x80\\x08\\xde\\xe3\\xde\\xf6\\xe9\\xba\\xff\\x0025\\xf1V\\xac\\x1fL1,/(Fz\\xf0_\\xc3-\\xab\\xc1\\xef^\\x9d\\x84u\\xce\\x19F\\xbe\\xdc\\xb2|\\xd1^q\\xce\\xcd\\xb8\\xde\\xca\\xe7\\xcfbu>!\\xa4\\x1cG`{)\\xc0\\xf1\\x8d\\xc7\\x8f\\xb2J\\xd9xg\\xb4\\x1c6\\xe9(\\xdcgJ]\\xbbW\\x9a\\xf9\\xa4A\\xd7\\xc2+\\xd3\\xdb\\x1e\\xb2!\\xfb\\xbd\\xa6\\xe7g\\xabu%\\xd6\\xdfUAP\\xdeqT\\xc2\\xe8\\xdc=N\\x01]\\xad\\xeeh\\xdc\\xc3^\\x8c\\xd4\\x974\\xf3\\xf4#\\'\\tA\\xe5%\\x91\\xe3\\xe2\\xbe\\xe7\\x03\\xddm\\xbc\\xdd\\xed\\x87[m\\xd2\\xba\\x88\\xf7\\xd3\\xd4>?\\xe9!u\\xebZP\\xaf\\xf9\\xb0R\\xefI\\xfa\\x9c\\xe3Rp\\xf7^FIE\\x9a\\x99\\x8fF\\xd0\\xd81\\xb5\\xf7A\\xc8>\\xb1\\xcf\\xfe\\xadT]M\\x19\\xc2*<\\xe5m\\x0f\\xf2\\xa5\\xe8}\\xd5\\xed\\xc2\\xfe6{?\\xb6|\\xd1\\xd3O\\x96\\x97O\\xc4\\xdf\\xfbW_\\xff\\x00\\x88\\xe0\\xbf\\xf8\\xf1\\xf8\\xfdN_o\\xb8\\xfdg\\x8e\\xb753\\x1e\\xb1\\xa5\\xb3\\xe3k\\xee\\x87\\x98ec\\x99\\xfd:.\\xc5=\\x19\\xc2)\\xbc\\xe3m\\x0f\\xf2\\xa7\\xeaqw\\xb7\\x0f\\xf8\\xd9\\x8d\\xdc\\xaf7{\\x99\\xd6\\xe5t\\xae\\xad=\\xf5\\x15\\x0f\\x93\\xfa\\x89R\\x94m(P\\xfc\\xa8(\\xf7$\\xbd\\x0f\\x84\\xaaN~\\xf3\\xcc\\xf0\\xf1]\\x83\\x81\\xec\\xb4Z\\xaew\\x8a\\xb6\\xd2Z\\xad\\xf5U\\xf5\\x0e\\xe5\\x154.\\x91\\xc7\\xd4\\xd0W\\xc2\\xe2\\xe6\\x8d\\xb45\\xebMEso/S\\x94!)\\xbc\\xa2\\xb3&\\x0c\\r\\xb3n7\\xbd9\\x93\\xdf]O\\x87\\xa9\\x0f\\x12\\'=\\xac\\xe4xF\\xd3\\xc3\\xda!Rq?h8m\\xaaq\\xb7\\xce\\xac\\xbb6G\\xcd\\xfc\\x93%(`\\xf5\\xeam\\x97U\\x16\\x1b.r_\\x03`\\xa3\\x1dM5\\xbf\\xe3+\\x938\\x8a\\xda\\xe0${O{\\x1b\\xa6\\xeb<\\xc0\\xd7\\xc5k<cL1,S8Jz\\x90\\x7f\\xc3\\x1d\\x8b\\xc5\\xef~\\x9d\\x84\\xe5\\xb6\\x19F\\x86\\xdc\\xb3|\\xd9#\\xaa\\xb1\"\\x10\\x04\\x01\\x00@\\x10\\x11\\xa6zf\\xbd\\xb3.l\\xc6\\x18\\x8cUw\\xfa\\xa6\\x13IHN\\xa1\\x83\\x97k\\'s\\x07A\\xcd\\xc7\\x80\\xe1\\xa9\\x16\\xcd\\x17\\xd1z\\xd8\\xd5miuiG{\\xf9.\\xdfB6\\xfe\\xfe6\\xd1\\xc9m\\x93(\\xed\\xf6\\xedq\\xbe]\\xea\\xae\\xd7j\\xb9*\\xebj\\xa42M4\\x87R\\xe7\\x1f\\xc8t\\x00p\\x03\\x80[\\xfe\\xd6\\xd6\\x95\\xad\\x18\\xd1\\xa3\\x1dX\\xc5d\\x92*3\\x9c\\xa7\\')=\\xac\\x9c\\xb6E\\xc8\\xaa\\x8c\\xca\\xc4\\r\\xc4X\\x86\\x99\\xf1\\xe1+|\\xbf9\\xbd\\xa8\\xf8|\\xa3\\x8fb\\xd3\\xf5G\\xef\\xb8t\\xf4G\\x13\\xa8\\xfb\\x9c\\r\\x8bS\\xc3\\r<\\x11\\xc1\\x04L\\x8a(\\xda\\x18\\xc61\\xa1\\xadk@\\xd0\\x00\\x07 \\x07D\\x07\\xda\\x00\\x80 \\x08\\x02\\x00\\x80 \\x08\\x02\\x00\\x80 \\x08\\x02\\x03\\xc3\\x88,\\xf6\\xccAe\\xab\\xb2\\xdeh\\xa1\\xae\\xb7\\xd6Db\\xa8\\x82V\\xea\\xd7\\xb4\\xf3\\x07\\xf4#\\x88:\\x11\\xc5\\x01\\xae\\r\\xa7\\xb2&\\xed\\x95\\x17\\xd7W\\xd06j\\xec)Y)\\x14u\\x84j\\xe8\\x1cx\\xf62\\xe9\\xc9\\xc3\\xa3\\xb98\\x0e\\xfd@\\x02\"\\xb1]\\xaeV;\\xb55\\xda\\xd3Y-\\x1dm3\\xc3\\xe1\\x9a#\\xa3\\x9a\\x7fQ\\xd0\\x83\\xc0\\x8e\\x05|.\\xadh\\xdd\\xd2\\x95\\x1a\\xd1R\\x8c\\xb64\\xcep\\x9c\\xa9\\xc9J/&\\x8b\\x9f\\x91\\x19\\xd3k\\xc7\\xb4\\xd1Zn\\xae\\x86\\xdf\\x89\\x18\\xdd\\x0c:\\xe9\\x1d^\\x9c\\xdd\\x16\\xbdz\\x96s\\x1d5\\x1c\\xb4V\\x94h}l\"N\\xb5\\x1c\\xe5G\\x9f\\x18\\xf6K\\xe4\\xfc\\xf2e\\xae\\xc3\\x12\\x8du\\xa9=\\x92\\xf5%\\xd5J%B\\xc0\\x08\\x02\\x00\\x80 \\x0b \\xf2]\\xad\\x96\\xdb\\xb5)\\xa5\\xba\\xdb\\xe9+\\xe0<\\xe3\\xa9\\x85\\xb2\\xb7\\xeep+\\xedB\\xe6\\xb5\\xbc\\xb5\\xe8\\xcd\\xc5\\xf3M\\xafC\\x84\\xe9Bk),\\xc8\\xeb\\x10d&X]\\xdc\\xe7\\x8b\\x03\\xad\\xd2\\xbb\\xf7\\xe8*\\x1d\\x10\\x1e\\xc9\\xd5\\xbe\\xe5g\\xb4\\xd3\\x8cf\\xdbgK\\xac\\xbfrO\\xe3\\xb1\\xfcN\\x85L&\\xda|2\\xee0k\\xae\\xca\\xb8~R\\xe3k\\xc5w:n\\xe1QO\\x1c\\xdaz\\xdaZ\\xac\\x14=\\xa6\\xddG\\xf3\\xa8E\\xf76\\xbds:r\\xc0\\xa0\\xfd\\xd9\\x18\\xf5N\\xcaWv\\x93\\xf0lco\\x90t\\xedh\\xe4g\\xe4J\\x93\\x87\\xb4\\xebw\\xef\\xdb\\xc9wI?\\x92:\\xef\\x03\\xa9\\xc2G\\x93\\xfd\\x15\\xb1F\\xbf\\xff\\x00Md\\xd3\\xf8&\\xff\\x00\\xb5}\\xbf\\xfb2\\xcb\\xff\\x00\\xe3?\\xfd~\\xa7\\x1f\\xb8\\xea\\xfe\\xa4z\\xe9\\xb6R\\xbb\\xb8\\x8f\\x84\\xe3\\x1b|c\\xafeG#\\xff\\x002\\x17\\xc6~\\xd3\\xad\\xd7\\xb9o\\'\\xdf$\\xbeL\\xe4\\xb0:\\x9cdd6\\xad\\x95p\\xfcE\\xa6\\xe9\\x8a\\xeeu=\\xe2\\x9e\\x9e8u\\xf5\\xb8\\xb9FW\\xf6\\x9bu/\\xc9\\xa1\\x15\\xde\\xdb\\xf4\\xc8\\xecG\\x02\\x82\\xf7\\xa4g8\\x7f!2\\xc2\\xd0\\xe6\\xbc\\xd8\\x1dq\\x95\\xbf\\xbf_P\\xe9A\\xf6F\\x8d\\xf7*\\xfd\\xde\\x9cc7;:]U\\xfbR_\\x1d\\xaf\\xe2w)\\xe16\\xd0\\xe1\\x9fy\"\\xda\\xad\\x96\\xdbM(\\xa5\\xb5[\\xe9( \\x1c\\xa3\\xa6\\x85\\xb17\\xeeh\\n\\xb1^\\xe6\\xb5\\xcc\\xb5\\xebM\\xc9\\xf3m\\xbfS\\xbf\\nP\\x82\\xca+#\\xd6\\xbe\\'0\\xb0\\x02\\x00\\x80 \\x08\\x02\\xc8\",\\xf6\\xce\\x9b^\\x02\\xa6\\x96\\xd3j0\\xdc1#\\xdb\\xa0\\x87]c\\xa4\\xd7\\x93\\xa5\\xd3\\xafP\\xceg\\xae\\x83\\x9d\\xd7E\\xf4>\\xb6/%Z\\xb6q\\xa3\\xcf\\x8c\\xbb#\\xf3~[H\\xab\\xfcJ4\\x16\\xa46\\xcb\\xd0\\xa6\\x17\\xdb\\xb5\\xc6\\xf9v\\xa9\\xbb]\\xab%\\xac\\xad\\xa9y|\\xd3Jus\\x8f\\xe8:\\x008\\x01\\xc0-\\xebkkF\\xd2\\x94h\\xd1\\x8a\\x8cc\\xb1$U\\'9T\\x93\\x94\\x9em\\x92\\xee\\xcc9\\x13v\\xcd{\\xebk\\xeb\\xdb5\\x0e\\x14\\xa3\\x94\\n\\xca\\xc04t\\xee\\x1c{\\x18\\xb5\\xe6\\xe3\\xd5\\xdc\\x9a\\x0f~\\x80\\xfd\\xce\\x06\\xc7\\xf0\\xfd\\x9e\\xd9\\x87\\xec\\xb4\\x96[5\\x1446\\xfa8\\x84T\\xf0D\\xdd\\x1a\\xc6\\x8e@~\\xa4\\xf1\\'Rx\\xa0=\\xc8\\x02\\x00\\x80 \\x08\\x02\\x00\\x80 \\x08\\x02\\x00\\x80 \\x08\\x02\\x00\\x80\\xf0b\\x0b=\\xaf\\x10Yj\\xec\\xd7\\xaa\\x18+\\xad\\xf5q\\x98\\xa7\\xa7\\x99\\xbb\\xcc{OC\\xf9\\x83\\xcc\\x1d\\x08\\xe2\\x80\\xd7\\xb6\\xd3\\xbb:^2\\xd6\\xaa|C\\x87Y=\\xcf\\t=\\xda\\xf6\\x9aoKA\\xa9\\xe0\\xc9t\\xe6\\xde\\x82N]\\x0e\\x87M@\\x80\\xe0\\x96Zy\\xd942>)cps\\x1e\\xc7\\x16\\xb9\\xae\\x1cA\\x04r+\\x8c\\xa3\\x19\\xa7\\x19,\\xd32\\x9bO4Y\\xbc\\x92\\xda-\\xa5\\xb0X\\xb3\\nS\\xaf\\x06Cw\\r\\xd7\\xc8N\\x07\\xf5\\x8fX\\xe6V\\xa8\\xd2]\\x00\\xdfq\\x86.\\xf8\\x7f\\xb7\\xe8\\xfc9\\x13\\xf68\\xbe]J\\xde\\x7fR\\xcbR\\xd4AUM\\x1dM4\\xd1\\xcf\\x04\\xad\\x0f\\x8eH\\xde\\x1c\\xd7\\xb4\\xf2 \\x8e\\x04x\\x85\\xaajS\\x9598\\xcdd\\xd6\\xf4\\xf7\\x96(\\xc9If\\x8e\\xd5\\xc0\\xc8@\\x10\\x04\\x01\\x00@\\x10\\x04\\x01\\x00@\\x10\\x04\\x01\\x00@\\x10\\x04\\x01\\x00@\\x10\\x1dUU\\x10R\\xd3ISS4pA\\x13K\\xe4\\x92G\\x86\\xb5\\x8d\\x1c\\xc9\\'\\x80\\x1e%s\\xa7NU$\\xa3\\x05\\x9b{\\x92\\xdebRQY\\xb2\\xb4\\xe7n\\xd1m\\r\\x9e\\xc5\\x97\\xb3\\x1dx\\xb2k\\xb9n\\x9eb\\x00\\x7f\\xac\\xfa\\x87\"\\xb6\\xb6\\x8dh\\x06\\xeb\\x8cMwC\\xfd\\xdfO>Ev\\xfb\\x17\\xcf\\xa9G\\xcf\\xe8VI\\xe5\\x96\\xa2w\\xcd4\\x8f\\x96Y\\x1c\\\\\\xf7\\xbd\\xc5\\xces\\x8f\\x12I<\\xca\\xda\\xf1\\x8ca\\x15\\x18\\xac\\x92 \\x1bm\\xe6\\xc9\\xeff-\\x9d/\\x19\\x95U\\x06!\\xc4L\\x9e\\xd9\\x84\\x98\\xed{M7e\\xaf\\xd0\\xf1dZ\\xf2oC\\'.\\x83S\\xae\\x9c\\x8c\\x1b\\n\\xc3\\xf6{^\\x1f\\xb2\\xd2Y\\xac\\xb40P\\xdb\\xe9#\\x11AO\\x0bwX\\xc6\\x8e\\x83\\xf3\\'\\x99:\\x93\\xc5\\x01\\xef@\\x10\\x04\\x01\\x00@\\x10\\x04\\x01\\x00@\\x10\\x04\\x01\\x00@\\x10\\x04\\x01\\x00@|TC\\rD\\x12AQ\\x13%\\x8aF\\x96=\\x8fhs\\\\\\xd24 \\x83\\xc0\\x82: )\\xb6\\xd2;&\\x92\\xea\\x9cO\\x95t\\xe3\\x8e\\xb2TX\\xf5\\xd3\\xc4\\x9ar\\x7f\\xc3>\\xc9\\xe4\\xd4\\x059\\xac\\xa6\\xa9\\xa2\\xab\\x96\\x96\\xae\\ti\\xea!yd\\x91J\\xc2\\xc7\\xb1\\xc0\\xe8A\\x07\\x88#\\xb8\\xa03\\xbc\\xaa\\xcd\\xbcW\\x97\\xd3\\xb6+}@\\xac\\xb5\\x17k-\\xba\\xa4\\x93\\x11\\xef,<\\xd8\\xef\\x11\\xeb\\x05V\\xf1\\xdd\\x17\\xb1\\xc6c\\x9dU\\xab>\\x12[\\xfcy\\xae\\xff\\x00\\x06\\x8e\\xed\\xad\\xfd[g\\xd5{9\\x16\\xd7+\\xf3\\x87\\x07c\\xc6GOIV-\\xf7W\\x0fJ\\xdfV\\xe0\\xd9\\t\\xfb\\x0e\\xe5 \\xf2\\xe3\\xde\\x02\\xd38\\xe6\\x89\\xdf\\xe1\\r\\xcaq\\xd6\\xa7\\xfa\\x96\\xef\\x15\\xbdx\\xec\\xed,\\xd6\\xb8\\x95\\x1b\\x8d\\x99\\xe4\\xf9\\x12\"\\xab\\x92\\x01\\x00@\\x10\\x04\\x01\\x00@\\x10\\x04\\x01\\x00@\\x10\\x04\\x01\\x00@\\x10\\x04\\x04w\\x9a\\x19\\xc3\\x83\\xb0\\x1b$\\xa7\\xab\\xab\\x17\\x0b\\xabG\\xa3o\\xa4pt\\x80\\xfd\\xb7r\\x8cy\\xf1\\xee\\x05Z0=\\x13\\xc41f\\xa5\\x08\\xea\\xd3\\xfdOw\\x82\\xde\\xfc6v\\x91\\xf7X\\x8d\\x1b}\\x99\\xe6\\xf9\\x15+5so\\x15\\xe6\\x0c\\xee\\x8a\\xe1P(\\xedA\\xda\\xc5n\\xa6$D;\\x8b\\xcf7\\xbb\\xc4\\xfa\\x80[\\x9b\\x02\\xd1{\\x1c\\x1a9\\xd2Z\\xd3\\xe3\\'\\xbf\\xc3\\x92\\xee\\xf1l\\xac\\xdd_\\xd5\\xb9}g\\xb3\\x91\\x82Q\\xd3T\\xd6\\xd5\\xc5KI\\x04\\xb5\\x15\\x13<28\\xa2a{\\xde\\xe2t\\x00\\x01\\xc4\\x93\\xdc\\x15\\x90\\xe9\\x17\\x1bf\\xed\\x93Hu6\\'\\xcdJq\\xc3I)\\xacz\\xeb\\xe2\\rA\\x1f\\xe1\\x8fh\\xf3j\\x02\\xe4S\\xc3\\r<\\x11\\xc1O\\x13\"\\x8a6\\x861\\x8chkZ\\xd04\\x00\\x01\\xc0\\x00: ;\\x10\\x04\\x01\\x00@\\x10\\x04\\x01\\x00@\\x10\\x04\\x01\\x00@\\x10\\x04\\x01\\x00@\\x10\\x04\\x01\\x00@D\\xd9\\xe7\\x90\\xb8+5)\\x9fS[\\x07\\xc5w\\xe0\\xcd\"\\xba\\xd2\\xb0v\\x87NBV\\xf2\\x95\\xbe|GB\\x10\\x1479\\xb2C\\x1d\\xe5uS\\xdfz\\xb7\\x1a\\xbbIv\\x91]i\\x01};\\xbb\\x83\\x8f8\\xdd\\xe0\\xed<\\t\\xe6\\x80\\x8d\\x1a\\xe71\\xc1\\xcd%\\xae\\x07PG0V\\x1aOx%\\xdc\\xb8\\xda\\x0b\\x1baV\\xc5Gr\\x94b\\x0bs4\\x02*\\xc7\\x9e\\xd9\\x83\\xb9\\xb2\\xf3\\xfc[\\xc1R\\xf1\\x8d\\x05\\xc3\\xb1\\x0c\\xe7ItS\\xe7\\x1d\\xde1\\xdd\\xe5\\x91\\'m\\x8a\\xd6\\xa3\\xb1\\xed]\\xbfR\\xc5\\xe0<\\xf5\\xcb\\xfcT#\\x85\\xf7?\\x89k\\x9d\\xc3\\xe0\\xd7\\x1d#\\x04\\xfd\\x99>\\x81\\xfb\\xc1\\xf0Z\\xc3\\x15\\xd0\\xacW\\x0f\\xceJ\\x1d$y\\xc7o\\x9a\\xde\\xbe=\\xe4\\xf5\\xbe+B\\xb6\\xc6\\xf2}\\xa4\\x9c\\xc75\\xecl\\x8cps\\x1c5k\\x81\\xd4\\x11\\xe0z\\xaa\\x9bM<\\x99\"\\x9a{\\x8f\\xa5\\xc4\\xc8@\\x10\\x04\\x01\\x00@\\x10\\x04\\x01\\x00@\\x10\\x1f/{X\\xc7H\\xf7\\x06\\xb1\\xa3W8\\x9d\\x00\\x1e\\'\\xa2\\xcaM\\xbc\\x91\\x86\\xd2\\xdeF8\\xf3=r\\xff\\x00\\n\\x89!e\\xcf\\xe3\\xaa\\xe6\\xea>\\rn\\xd2@\\x0f\\xda\\x93\\xe8\\x0f\\xbc\\x9f\\x05m\\xc2\\xb4\\'\\x15\\xc42\\x93\\x87G\\x1er\\xd9\\xe4\\xb7\\xfaw\\x91\\xd7\\x18\\xad\\n;\\x13\\xcd\\xf6\\x15\\xd71\\xf6\\x82\\xc6\\xb8\\xa9\\xb2\\xd1\\xdbe\\x18~\\xdc\\xfdA\\x8a\\x8d\\xe7\\xb6x\\xeet\\xbc\\xff\\x00\\x0e\\xe8[?\\x07\\xd0\\\\;\\x0f\\xcauWK>r\\xdd\\xe1\\x1d\\xdey\\x9078\\xadj\\xdb\\x16\\xc5\\xfdq\"\\x179\\xcfqs\\x89s\\x89\\xd4\\x93\\xcc\\x95tI-\\xc4a%\\xe4\\xceHc\\xbc\\xd1\\xaac\\xec\\xb6\\xe3Ii\\x0e\\xd2[\\xadX,\\xa7oxi\\xe7#\\xbc\\x1b\\xaf\\x89\\x1c\\xd6A|\\xb23!pVU\\xd32\\xa6\\x8a\\x0f\\x8d/\\xc5\\x9aKu\\xaa`\\xed\\x06\\xbc\\xc4M\\xe5\\x13|\\xb8\\x9e\\xa4\\xa0%\\x94\\x01\\x00@\\x10\\x04\\x01\\x00@\\x10\\x04\\x01\\x00@\\x10\\x04\\x01\\x00@\\x10\\x04\\x01\\x00@\\x10\\x04\\x01\\x00@uUS\\xc1UO%5L1\\xcf\\x0c\\xad,\\x929\\x1a\\x1c\\xd7\\xb4\\xf3\\x04\\x1e\\x04x +~p\\xec\\x8d\\x82\\xf1A\\x9a\\xe5\\x83f\\xf9-sv\\xae\\xec\\x18\\xc2\\xfa)\\x0f\\xf0s\\x8f\\xd8:\\x0f\\xaa\\x80\\xa89\\xa3\\x92\\xb9\\x8b\\x972H\\xfcA\\x87\\xe6u\\x03O\\x0b\\x8d&\\xb3S8w\\x97\\x81\\xe8y<4\\xa0#\\xbe!\\x01\\x93`\\xfc\\xc0\\xc6XI\\xc3\\xe4\\xfe!\\xae\\xa3\\x88\\x1f\\xfc\\x80\\xfd\\xf8O\\x9cn\\xd5\\xbe\\xe5\\x13\\x88`x~\"\\xbf\\xb4\\xd2R|\\xf7?5\\xb4\\xecQ\\xba\\xadG\\xdc\\x96D\\xc1\\x85v\\xa5\\xc4\\x14\\xc1\\x91b<?Crh\\xe0e\\xa5y\\xa7\\x93N\\xf2=&\\x93\\xea\\n\\x93}\\xec\\xd6\\xd2\\xa6n\\xd6\\xab\\x87c\\xeb/\\x93\\xf5$\\xe9cu#\\xb2q\\xcc\\x93\\xb0\\xfe\\xd29qr\\r\\x15\\xd2\\xdc\\xac\\xf2\\x1e\\x04T\\xd2\\x97\\xb4\\x1f\\xe2\\x8c\\xbb\\xf2\\n\\xa7w\\xec\\xf7\\x17\\xa1\\xf9j3]\\x8f/\\x83\\xcb\\xd4\\x91\\xa7\\x8c\\xdb\\xcb\\xde\\xcd\\x19\\xe5\\x9b1p\\x1d\\xdc\\x0f\\x8b\\xb1}\\x92g\\x1eL5mc\\xff\\x00\\x0b\\xc8>\\xe5]\\xb8\\xd1\\xfcN\\xdb\\xf3m\\xe4\\xbc\\x1b^k3\\xbb\\x0b\\xda\\x13\\xdd4d\\xb4\\xf3\\xc3P\\xc0\\xfay\\xa3\\x99\\xa7\\x91\\x8d\\xe1\\xc3\\xdc\\xa2\\xa7NPyIe\\xdev\\x14\\xe2\\xd6i\\x9d\\xbb\\xae\\xfa\\xae\\xfb\\x97\\r\\x86u\\x91\\xc6\\x87\\xb8\\xfd\\xc8g4s\\xba\\xef\\xaa\\xef\\xb931\\xac\\x8e\\xaa\\x89\\xe1\\xa7a}D\\xd1\\xc2\\xd1\\xcc\\xc8\\xf0\\xd1\\xef\\\\\\xe1NSyEg\\xdd\\xb4\\xc3\\x9cR\\xcd\\xb3\\x1a\\xbc\\xe6.\\x03\\xb4k\\xf1\\x8e/\\xb2B\\xe1\\xcd\\x82\\xad\\xaf\\x7f\\xe1a\\'\\xdc\\xa5m\\xf4\\x7f\\x13\\xb9\\xfc\\xaby\\xbf\\x06\\x97\\x9b\\xc8\\xeb\\xce\\xf6\\x847\\xcd\\x18\\x1e!\\xdaG.-\\xa1\\xc2\\x82[\\x95\\xe2A\\xc0\\njR\\xc6\\x93\\xfcR\\x16\\xfeEX\\xad=\\x9e\\xe2\\xf5\\xbf1F\\x0b\\xb5\\xe7\\xf0Y\\xfa\\x9d*\\x98\\xcd\\xbc}\\xdc\\xd9\\x18\\xe2\\x9d\\xa9q\\x05H|Xs\\x0f\\xd0\\xdbZx\\tj\\x9ej$\\xd3\\xbc\\x0fE\\xa0\\xfa\\x8a\\xb6X\\xfb5\\xb4\\xa7\\x93\\xba\\xaa\\xe7\\xd8\\xba\\xab\\xe6\\xfd\\x08\\xea\\xb8\\xddIl\\x84r!\\xfca\\x98\\x18\\xcb\\x16\\xb8\\xfc\\xa0\\xc45\\xd5\\x91\\x13\\xff\\x00\\x90d\\xdc\\x84yF\\xdd\\x1b\\xeeWl?\\x03\\xc3\\xf0\\xe5\\xfd\\x9a\\x92\\x8b\\xe7\\xbd\\xf9\\xbd\\xa4ek\\xaa\\xd5\\xbd\\xf9fc<J\\x96:\\xe4\\x89\\x95\\xd9+\\x98\\xb9\\x8d$o\\xc3\\xf8~f\\xd08\\xf1\\xb8\\xd5\\xeb\\r3Gxy\\x1e\\x9f\\x93\\x03\\x8a\\x02\\xdfd\\xf6\\xc8\\xd8/\\x0b\\x98nX\\xcao\\x9576\\xe8\\xee\\xc1\\xec,\\xa2\\x8c\\xff\\x00\\x079=\\xb3\\xa1\\xfa\\xa8\\x0b#KO\\x05-<t\\xd4\\xd0\\xc7\\x041428\\xe3hkX\\xd1\\xc8\\x008\\x01\\xe0\\x80\\xec@\\x10\\x04\\x01\\x00@\\x10\\x04\\x01\\x00@\\x10\\x04\\x01\\x00@\\x10\\x04\\x01\\x00@\\x10\\x04\\x01\\x00@\\x10\\x04\\x01\\x00@\\x10\\x1f/c^\\xc71\\xed\\x0ek\\x86\\x84\\x11\\xa8#\\xb8\\xa0!\\xfc\\xc8\\xd9\\xb3*q\\xa9\\x96\\xa2[\\x08\\xb2\\xd7\\xc9\\xa95v\\x92)\\xdcOyf\\x867y\\x96\\xeb\\xe2\\x80\\xaex\\xf7b\\xdc]ot\\x93\\xe0\\xfcCo\\xbdB8\\xb6\\n\\xb0ig\\xf2\\x07\\xd2a\\xf3%\\xa8\\x08/\\x18\\xe56da\\x07<\\xe2\\x0c\\x19x\\xa4\\x89\\x9a\\xeb;i\\xcc\\xb0\\xff\\x00\\xccf\\xad\\xf7\\xa00\\xa2\\x08:u@8\\xf5@v\\xd3UT\\xd3;z\\x9eyaw|o->\\xe5\\xc2t\\xe15\\x94\\x96fT\\x9a\\xdc~\\xa4\\x18\\xb7\\x14\\xc04\\x83\\x12\\xdeb\\x1fb\\xbaV\\xfeN]IavS\\xf7\\xa8\\xc5\\xff\\x00\\x85}\\x0f\\xa2\\xafUn\\x93\\xf3=\\x1f.\\xb1\\xb6\\x9a|\\xb0\\xc4\\x1a\\x7f\\xc4\\xa6\\xff\\x00\\xb9|\\xbe\\xe5\\xc3\\xbf\\xf1\\xe1\\xfeX\\xfd\\x0c\\xfd\\xa6\\xb7\\xeb~l\\xf3\\xcf\\x8bqL\\xe3I\\xf1-\\xe6Q\\xf6\\xeb\\xa5w\\xe6\\xe5\\xf5\\x8e\\x17e\\x0fv\\x8cW\\xf8W\\xd0\\xc3\\xafU\\xef\\x93\\xf3?.\\xa6\\xaa\\xa2\\xa5\\xdb\\xd5\\x13\\xcb3\\xbb\\xe4yq\\xf7\\xae\\xdc)\\xc2\\x0b(\\xac\\x8f\\x9b\\x93{\\xce\\xae=\\x173\\x00\\x02N\\x9dP\\x19\\xae\\x0e\\xcal\\xc8\\xc5\\xeea\\xc3\\xf82\\xf1W\\x13\\xf4\\xd2wS\\x98\\xa1\\xff\\x00\\x98\\xfd\\x1b\\xef@N\\x98\\x0bb\\xdc]pts\\xe3\\x0cCo\\xb2\\xc2x\\xba\\n@j\\xa7\\xf2\\'\\xd1`\\xf3\\x05\\xc8\\x0b\\x19\\x96\\xfb6eN\\n1TEa\\x17\\xaa\\xf8\\xf4\"\\xae\\xecEC\\x81\\xef\\x0c\\xd0F\\xdf0\\xdd|P\\x13\\x03\\x18\\xd61\\xaccCZ\\xd1\\xa0\\x00h\\x00\\xee\\x08\\x0f\\xa4\\x01\\x00@\\x10\\x04\\x01\\x00@\\x10\\x04\\x01\\x00@\\x10\\x04\\x01\\x00@\\x10\\x04\\x01\\x00@\\x10\\x04\\x01\\x00@\\x10\\x04\\x01\\x00@\\x10\\x04\\x01\\x00@4\\x08\\x0c[\\x13\\xe5\\xce\\x03\\xc4\\xdb\\xc6\\xfd\\x83\\xecW\\x17\\xbb\\x9c\\x93P\\xc6d\\xfczo{\\xd0\\x11\\xc5\\xf7eL\\x97\\xb9\\xb9\\xcf\\x87\\x0fU[\\x1e\\xeef\\x8a\\xbeV\\x8fS\\\\\\\\=\\xc8\\x0c2\\xe9\\xb1N\\x00\\x95\\xceu\\xbb\\x13\\xe2J]y\\tL2\\x81\\xfc\\x8d(\\x0f\\xc2\\xa9\\xd8v\\xda\\xedM6bU\\xb3\\xb8Ijk\\xbf)\\x02\\x03\\xc9\\xfe\\x83\\x83_\\xfdH\\xe1\\xff\\x00\\x07\\xff\\x00\\xf5@z\\xe9\\xb6\\x1d\\xb6\\xb7CS\\x98\\x95o\\xef\\x11\\xda\\x9a\\xdf\\xceB\\x80\\xfd\\xdb^\\xc58\\x02\\'5\\xd7\\x1cO\\x89*\\xb4\\xe6\"0\\xc4\\x0f\\xf28\\xa03;\\x16\\xca\\x99/ls_6\\x1e\\xaa\\xb9\\xbd\\xbc\\x8dm|\\xae\\x1e\\xb6\\xb4\\xb4{\\x90\\x12>\\x18\\xcb\\x9c\\x07\\x86wM\\x87\\x07\\xd8\\xad\\xcfo)!\\xa1\\x8cI\\xf8\\xf4\\xde\\xf7\\xa02\\x9d\\x02\\x00\\x80 \\x08\\x02\\x00\\x80 \\x08\\x02\\x00\\x80 \\x08\\x02\\x00\\x80 \\x08\\x02\\x00\\x80 \\x08\\x02\\x00\\x80 \\x08\\x02\\x00\\x80 \\x08\\x02\\x00\\x80 \\x08\\x02\\x00\\x80 \\x08\\x02\\x00\\x80 \\x08\\x02\\x00\\x80 \\x08\\x02\\x00\\x80 \\x08\\x02\\x00\\x80 \\x08\\x02\\x00\\x80 \\x08\\x02\\x00\\x80 \\x08\\x02\\x00\\x80 \\x08\\x02\\x00\\x80 \\x08\\x02\\x00\\x80 \\x08\\x02\\x00\\x80 \\x08\\x02\\x00\\x80 \\x08\\x02\\x00\\x80 \\x08\\x02\\x00\\x80 \\x08\\x02\\x00\\x80 \\x08\\x02\\x00\\x80 \\x08\\x02\\x00\\x80 \\x08\\x02\\x00\\x80 \\x08\\x02\\x00\\x80 \\x08\\x0f\\xff\\xd9',\n",
              " 'sad.png': b'\\x89PNG\\r\\n\\x1a\\n\\x00\\x00\\x00\\rIHDR\\x00\\x00\\x02\\x00\\x00\\x00\\x02\\x00\\x08\\x06\\x00\\x00\\x00\\xf4x\\xd4\\xfa\\x00\\x00\\x00\\x04sBIT\\x08\\x08\\x08\\x08|\\x08d\\x88\\x00\\x00\\x00\\tpHYs\\x00\\x00\\x0e\\xc4\\x00\\x00\\x0e\\xc4\\x01\\x95+\\x0e\\x1b\\x00\\x00\\x00\\x19tEXtSoftware\\x00www.inkscape.org\\x9b\\xee<\\x1a\\x00\\x00 \\x00IDATx\\x9c\\xec\\xddw|\\xd5\\xd5\\xfd\\xc7\\xf1\\xd7\\x1d\\xb97\\xc9\\xcd\\x9e\\x84\\x04\\x08{\\xaf\\xb07\"\\xc8P\\xdc\\xe2\\xc2=\\xab\\xad\\xb6\\x8ej\\xad\\xbfVm\\xeb\\xaa\\xb5U\\xab\\xd6\\xd5*nq\\xa3,\\x11A6\\xc8\\x94\\xbdG\\x02d\\xef\\x9d\\x9b\\xfc\\xfe\\xf8\\x02\"&\\x90q\\xef=\\xe7~\\xef\\xe7\\xf9x\\xdc\\x07\\x1a\\xc8\\xbdo.7\\xdf\\xf3\\xf9\\x9eiA\\x08\\xa1;;\\x10\\x7f\\xec\\x91\\x08D\\x01\\xd1\\xc7~=\\xf9\\xe1\\x02B\\x8f\\xfd\\xea\\x00\"\\x01\\xdb\\xb1\\xdf;Y\\x18\\x10t\\xca\\xd7\\xaa\\x81\\x92S\\xbeV\\x00\\xd4\\x00E@\\x15P\\n\\x94\\x1d\\xfb\\xb5\\xe0\\x94G\\xfe\\xb1_3\\x81l \\x0bp7\\xfbo,\\x84\\xf0:\\x8b\\xea\\x00B\\x04\\xb8\\x18 \\x05h{\\xec\\x91r\\xec\\x91\\x0c$\\x1c{\\xc4\\xe3\\x7f?\\xabu\\xfcT\\x08d\\x02\\x87\\x81C@\\xfa\\xb1_\\x0f\\x1e\\xfb\\xef<U\\x01\\x85\\x08t\\xfevQ\\x11\\xc2\\xdfX0\\x1a\\xf4N\\xa7<:\\x1e\\xfb\\xd5\\xa5.\\x9a\\x16J\\x80=\\xc0\\xeeS\\x1e{0\\n\\x84:u\\xd1\\x8407)\\x00\\x84\\xf0\\x9c\\xd6@\\x0f\\xa0\\xe7I\\xbf\\xf6\\x01\\xc2U\\x86\\xf2c\\x95\\x18\\x85\\xc0\\x16`\\xebI\\xbfn\\x03j\\x15\\xe6\\x12\\xc2\\x14\\xa4\\x00\\x10\\xa2\\xe9\\xec@W`\\xc0\\xb1G\\x0f \\r\\xa3;_x_\\t\\xb0\\x91\\x9f\\n\\x82\\xb5\\xc0\\x0f@\\x85\\xcaPB\\xf8\\x1b)\\x00\\x848=\\x0b\\xd0\\x19\\x18r\\xd2\\xa37\\xe0T\\x19J\\xfcB%\\xb0\\tX\\r\\xac\\x02V\\x02\\xbb\\x94&\\x12BsR\\x00\\x08\\xf1s\\xa1\\xc0P`\\x14?5\\xf8rg\\xef\\x9fr1\\x8a\\x81U\\xc0\\xf7\\xc7~-W\\x9aH\\x08\\x8dH\\x01 \\x02\\x9d\\x0b\\x18\\x06\\x8c\\x04F`4\\xfcrwoN5\\x18C\\x07\\x0b\\x80e\\xc0\\x12\\x8c\\xa5\\x8bB\\x04$)\\x00D\\xa0\\xb1c\\xdc\\xe1O8\\xf6\\x18t\\xeck\"\\xf0\\xd4`\\xf4\\n|s\\xec\\xb1\\xfa\\xd8\\xd7\\x84\\x08\\x08R\\x00\\x88@\\xd0\\x11\\x98\\x84\\xd1\\xe0\\x9f\\x05D\\xa8\\x8d#4U\\x08|\\x87Q\\x0c\\xcc\\x01\\xf6\\xa9\\x8d#\\x84wI\\x01 \\xcc\\xc8\\x06\\xf4\\x03\\xa6\\x02\\xe7a\\xcc\\xd4\\x17\\xa2\\xa9\\xf6\\x02_\\x01\\xb3\\x80\\xc5\\x18\\xbb%\\na\\x1aR\\x00\\x08\\xb3p\\x01\\x93\\x81\\x0b1\\xee\\xf6c\\xd5\\xc6\\x11&\\x93\\x8b\\xd1+\\xf0\\x050\\x1bcKd!\\xfc\\x9a\\x14\\x00\\xc2\\x9f\\x85\\x02g\\x03\\x97\\x01\\x17a\\xecq/\\x84\\xb7U`L$\\x9c\\x89Q\\x10\\x14\\xaa\\x8d#D\\xf3H\\x01 \\xfcM8Fc?\\r\\x18\\x8f\\xcc\\xd8\\x17jUb\\xcc\\x19\\xf8\\x08\\xf8\\x8c_\\x1e\\xa8$\\x84\\xb6\\xa4\\x00\\x10\\xfe\\xc0\\x01LD\\xee\\xf4\\x85\\xde\\x8e\\xf7\\x0c\\xcc\\xc0\\xe8\\x19\\xa8R\\x1bG\\x88\\xd3\\x93\\x02@\\xe8\\xca\\x82\\xb1.\\xffZ\\xe0R\\x8c\\xe3o\\x85\\xf0\\x17y\\xc0\\xc7\\x18\\xc5\\xc02\\xc5Y\\x84\\xa8\\x97\\x14\\x00B7I\\x18\\xdd\\xfb7al\\xb9+\\x84\\xbf\\xdb\\t\\xbc\\x0f\\xfc\\x0f8\\xa08\\x8b\\x10\\'H\\x01 t\\xe0\\x00\\xce\\x07n\\xc0\\xe8\\xea\\xb7\\xa9\\x8d#\\x84W\\xb8\\x81\\xb9\\x18\\x85\\xc0\\x97\\xc8\\xb2B\\xa1\\x98\\x14\\x00B\\xa5\\xd6\\xc05\\xc0\\xaf\\x81\\x14\\xc5Y\\x84\\xf0\\xa5L\\xe0M\\xe0?\\xc0~\\xa5ID\\xc0\\x92\\x02@\\xf8\\x9a\\x15\\x18\\x07\\xdc\\x8a1\\xa1O\\xb6\\xe1\\x15\\x81\\xac\\x16X\\x08\\xbc\\n|\\x8a\\xd1K \\x84OH\\x01 |%\\x02c\\\\\\xff\\xd7@\\x07\\xc5Y\\x84\\xd0\\xd1\\x1e\\xe09\\xe0\\xbf@\\xa9\\xe2,\"\\x00H\\x01 \\xbc\\xad\\x03\\xc6\\xdd\\xfem@\\x94\\xe2,B\\xf8\\x83\"\\x8c\\xe1\\x81\\xbf\\x03\\xe9j\\xa3\\x08!D\\xd3\\x8d\\xc1X\\x0b\\xed\\x06\\xea\\xe4!\\x0fy4\\xf9Q\\x01\\xbc\\x01\\xf4D\\x08!4g\\xc18\\x80g\\x19\\xea/\\x9e\\xf2\\x90\\x87\\x99\\x1eK1~\\xb6\\xa4\\xd7V\\x08\\xa1\\x95 \\x8c\\r{\\xb6\\xa0\\xfeB)\\x0fy\\x98\\xf9\\xb1\\x01\\xe3g-\\x08!\\x84P\\xc8\\x01\\xdc\\x01\\x1cB\\xfd\\x85Q\\x1e\\xf2\\x08\\xa4\\xc7\\x01\\xe0W\\x18?\\x83B\\x08\\xe13\\xc7\\xef\\xf8w\\xa3\\xfeB(\\x0fy\\x04\\xf2\\xe3\\x00\\xc6$[YN+\\x84\\xf0*+\\xc6\\x81<;Q\\x7f\\xe1\\x93\\x87<\\xe4\\xf1\\xd3c\\x1fF! \\xbbh\\n!<\\xea\\xf8\\xe4\\xbe\\r\\xa8\\xbf\\xd0\\xc9C\\x1e\\xf2h\\xf8\\xb1\\x15\\xa3wN\\n\\x01!D\\x8b\\x8d\\x07\\xd6\\xa2\\xfe\\xc2&\\x0fy\\xc8\\xa3\\xf1\\x8f\\xcd\\x18\\xbdu\\xb2j@\\x08\\xd1dS\\x80\\x1fP\\x7f!\\x93\\x87<\\xe4\\xd1\\xfc\\xc7j`\\x12B\\xd4C\\xaaCq\\xaa4\\xe0\\x1f\\xc0X\\xc59\\x84\\x10\\x9e\\xf3\\x1d\\xf0[`\\x93\\xea B\\x1fR\\x00\\x88\\xe3R\\x80\\xbf\\x01\\xd31&\\xfb\\t\\xcd8\\x1dVb\\xa3\\x1c\\xc4E9\\x8c_\\xa3\\x1d\\xc4E;\\x89\\x8d\\n\"6\\xd2\\xf8Zl\\x94\\x03G\\x90\\x95 \\xbb\\x85\\xb0Pcb\\xb8+\\xd4\\x8e#\\xc8\\xf8Q\\x8f\\x8e0V\\x8d9\\x82\\xac\\xb8B\\x8ca\\xe2\\xd2r7U\\xd5\\xb5\\x00\\xe4\\x17U\\x01PU]GiY\\r\\x00%e5T\\xd7\\xd4QU]KnA\\x95\\xf1(\\xac\"\\xb7\\xa0\\x9a\\xec\\xbcJr\\xf2\\x8f\\xff\\xbf\\xf1\\xa8\\xac\\xaa\\xf5\\xe9\\xfb\"\\x1a\\xad\\x06\\xe3\\xd0\\xa1?\\x01\\xb9\\x8a\\xb3\\x08\\rH\\x01 \\xc2\\x81\\x07\\x80\\xdf\\x01\\xa1\\x8a\\xb3\\x04\\xac \\xbb\\x956\\xadBHM\\x0e!59\\x94\\xf6\\xc9.R\\x93Ch\\x9f\\xe2\"%1\\x98\\xd8(\\xc7\\x89\\x06]w%e5\\xe4\\x16T\\x91\\x9eY\\xc1\\xbe\\xf4R\\xf6e\\x94\\xb1?\\xa3\\x8c}\\xe9e\\xec?\\\\\\xc6\\xa1#\\xe5\\xd4\\xb8\\xebT\\xc7\\x0cdy\\xc0\\xa3\\xc0K\\x18E\\x81\\x08PR\\x00\\x04.\\x0bp5\\xf04\\x90\\xa48K@\\xb0\\xdb,tI\\r\\xa3w\\x97\\x08\\xba\\xb5\\x0f;\\xd6\\xd0\\x87\\x92\\x9a\\x1cJJb\\x086[`\\xfc8\\xd6\\xb8\\xebH?Z\\xce\\xfe\\xc3\\xc7\\x8a\\x82\\x8c2v\\xec/\\xe1\\xc7\\x9dE\\xec\\xdc_\"\\xc5\\x81\\xefl\\xc3(\\xfc\\xe7\\xa9\\x0e\"\\xd4\\x08\\x8c+\\x8e8U_\\xe0\\x05`\\x94\\xea f\\x15\\x1d\\x11D\\x8f\\x8e\\xe1\\x0c\\xe8\\x19E\\xcfN\\xe1\\xf4\\xe8\\x18NZ\\x8f(B\\x83eu\\xd6\\xe9T\\xd7\\xd4\\xb2s\\x7f)[\\xf7\\x14\\xb3ew\\x11k\\xb7\\x14\\xb2vk\\x01G\\xb2+TG3\\xb3\\x05\\x18\\xf3\\x03\\xb6\\xa8\\x0e\"|K\\n\\x80\\xc0\\x12\\r\\xfc\\x05\\xb8\\x1dY\\'\\xec1m\\x93B\\x18\\x99\\x16KZ\\x8fH\\xfav\\x8d\\xa4w\\x97\\x08\\x12c\\x9d\\xaac\\x99Jfn%\\x9bv\\x14\\xb1ig!\\xeb\\xb6\\x16\\xb2dm.\\x87\\x8e\\x96\\xab\\x8ee&U\\x187\\x05\\x7f\\x01\\n\\x15g\\x11>\"\\x05@`\\xb0\\x00\\xd7\\x00\\xcf\\x00\\xf1\\x8a\\xb3\\xf85\\xbb\\xcdB\\x9f\\xae\\x11\\x8c\\xe8\\x1f\\xcb\\x88\\xfe1\\x8cH\\x8b!%1Du\\xac\\x80\\x94\\x9eY\\xce\\xd2\\xb5y,\\xdf\\x90\\xc7\\xd2u\\xb9l\\xdaY\\x84[\\x86\\x0fZ*\\x13\\xa37\\xe0\\x03\\xd5A\\x84\\xf7I\\x01`~\\x1d\\x81\\x97\\x81\\t\\xaa\\x83\\xf8\\xa3\\xb0P;}\\xbbF02-\\x96\\x11i1\\x8c\\x1a\\x10KT\\xb8\\x1c\\xc4\\xa6\\xa3\\xd2r7\\xeb\\xb7\\x15\\xb0l}\\x1eK\\xd7\\xe6\\xb1l}.\\xf9E\\xd5\\xaac\\xf9\\xab\\xd9\\x18\\x87\\r\\x1dT\\x1dDx\\x8f\\x14\\x00\\xe6\\xe5\\xc4\\x98\\xdd\\xff\\x07 Xq\\x16\\xbfa\\xb5Z\\x18\\xd83\\x8a\\xc9\\xa3\\x12\\x98<*\\x91\\x81=\\xa3\\x02fr\\x9e\\xd9\\xb8\\xddu\\xac\\xfe1\\x9f9K\\xb2\\x98\\xbb4\\x93\\xb5[\\x0b\\xa9\\xad\\x95\\x1e\\x82&(\\x02\\x1e\\xc2\\xb8\\x81\\x90\\xb5\\x9d&$W6s\\x1a\\x01\\xbc\\x0etS\\x1d\\xc4\\x1f\\xc4\\xc789gx<\\x93G%r\\xce\\xf0x\\xe2cd\\xfc\\xde\\x8c\\xb2\\xf2*\\x99\\xbf,\\x8b9K\\xb2\\x98\\xbf<\\x8b\\x9c\\xfc*\\xd5\\x91\\xfc\\xc52\\xe0\\x16\\x8cU\\x03\\xc2D\\xa4\\x000\\x97\\x10\\xe0\\xcf\\xc0}\\xc8$\\xbf\\x06Y\\xad\\x16\\xfaw\\x8fd\\xfc\\xd0x\\xc6\\x0f\\x8bg\\xec\\xe08\\xecr\\x97\\x1fPjk\\xebX\\xbf\\xad\\x90\\x05+\\xb3Y\\xb0\"\\x9bE\\xabsd\\xf9\\xe1\\xe9U\\x03\\xcfb\\\\_*\\x15g\\x11\\x1e\"W=\\xf3\\x18\\x03\\xbc\\x811\\xe6/Na\\xb3Y\\x1830\\x96\\xcb\\'\\'s\\xf1\\xf8\\xd6\\xc4E;TG\\x12\\x1a\\xc9\\xce\\xab\\xe4\\x93o\\x8e\\xf0\\xd1\\xdc\\x0c\\xbe_\\x9b+\\x93\\t\\x1b\\xb6\\x19\\xa37`\\xa5\\xea \\xa2\\xe5\\xa4\\x00\\xf0\\x7fa\\xc0S\\x18\\x13v\\xe4\\xdf\\xf3$V\\xab\\x85\\x91i1L\\x9b\\x94\\xcc\\xa5\\xe7\\xb4\\x96\\xa5y\\xa2Q\\x8e\\xe6T\\xf2\\xf1\\xfc\\xc3|8\\'\\x83\\xe5\\x1b\\xf2d\\xde\\xc0/\\xd5\\x02\\xff\\xc6\\x98\\x1fP\\xaa8\\x8bh\\x01i0\\xfc\\xdb@\\xe0]\\xa0\\x8b\\xea :\\xe9\\xd11\\x9ck/h\\xc3\\xf4\\xf3\\xda\\x90\\x9c(\\xf3\\x1fE\\xf3edV\\xf0\\xf1\\xfc\\xc3\\xcc\\x9cg\\x14\\x03uR\\x0b\\x9cl\\x1f\\xc6\\xd9!\\xcbU\\x07\\x11\\xcd#\\x05\\x80\\x7f\\xb2a\\xcc\\xf0\\x7f\\x04\\x905i@\\xef.\\x11\\\\wA\\x1b.\\x9b\\x98L\\xdb$Y\\x97/<\\xef\\xc0\\xe12>\\x9a{\\x98\\xb7\\xbe8\\xc8\\x96\\xdd\\xc5\\xaa\\xe3\\xe8\\xa2\\x1a\\xe3p\\xa1\\xa7\\x91\\x95\\x02~G\\n\\x00\\xff\\xd3\\x06x\\x1bc\\xcc?\\xa0\\x05;\\xadL\\x1d\\xdb\\x8a[/Ke\\xfc0\\xd9\\xdfH\\xf8\\xce\\xda-\\x05\\xbc:\\xf3\\x00\\xef}\\x9dNI\\x99\\x9c\\xa7\\x03\\xac\\xc0\\xe8\\r\\xd8\\xab:\\x88h<)\\x00\\xfc\\xcb\\xa5\\xc0+@\\x8c\\xea *\\x1d\\xef\\xe2\\xbf\\xe5\\xd2v\\xc4D\\xcad>\\xa1NQI\\r\\x1f\\xccI\\xe7\\xd5\\x99\\x07X\\xbb\\xa5@u\\x1c\\xd5\\n\\x81;1\\x86%\\x85\\x1f\\x90\\x02\\xc0?\\x84cl\\xe3{\\xab\\xea \\xaaD\\x84\\xd9\\xb9br\\n\\xb7^\\xd6\\x8e\\x01=\\xa3T\\xc7\\x11\\xe2\\x17\\xb6\\xec.\\xe6\\xed/\\x0f\\xf1\\xda\\xc7\\x07\\xc8+\\x0c\\xe8=\\x06fb\\\\\\xab\\x02\\xbe\"\\xd2\\x9d\\x14\\x00\\xfa\\x1b\\x86QQ\\xb7W\\x1dD\\x85\\x01=\\xa3\\xb8\\xf3\\xca\\xf6L\\x9b\\x94\\x8c+D\\xb66\\x10\\xfa+-w\\xf3\\xe1\\x9c\\x0c^|\\x7f/\\xeb\\xb6\\x06\\xec\\xb9:{0\\x8e\\x1b_\\xa5:\\x88h\\x98\\x14\\x00\\xfa\\xb2\\x03\\x0f\\x03\\x7f<\\xf6\\xdf\\x01\\xc3b\\x81)\\xa3\\x13\\xb9\\xef\\x86N\\x8c\\x1d\\x14\\xa7:\\x8e\\x10\\xcd\\xb6pU\\x0e\\xffxs7s\\x96d\\x06\\xe2\\n\\x82\\x1a\\xe01\\xe0q\\xc0\\xad8\\x8b\\xa8\\x87\\x14\\x00z\\x8a\\x03\\xde\\x07\\xc6\\xab\\x0e\\xe2K\\x8e +\\x97ON\\xe6\\x81\\x9b:\\xd3\\xb3S\\xb8\\xea8Bx\\xcc\\xee\\x83\\xa5\\xbc\\xf0\\xee^^\\xfb\\xf8\\x00\\xe5\\x15\\x01\\xd7\\x16.\\x06.\\xc78iPhD\\n\\x00\\xfd\\xa4\\x01\\x9f\\x00\\xa9\\x8as\\xf8Ldx\\x10\\xd7]\\xd0\\x86\\xdf\\xdf\\xd8Y\\xd6\\xed\\x0bS\\xcb\\xca\\xab\\xe4\\xa5\\xf7\\xf7\\xf1\\xef\\xf7\\xf6\\x91[\\x10P\\xf3\\x04\\xd21&1\\xcb\\x90\\x80F\\xa4\\x00\\xd0\\xcb\\xb5\\xc0\\x7f0\\xf6\\xf47\\xbd\\x0e).\\xee\\x9a\\xde\\x81\\x9b/m\\'\\xe3\\xfb\"\\xa0TT\\xd6\\xf2\\xd1\\xdc\\x0c\\x1e\\x7fm\\';\\xf6\\x95\\xa8\\x8e\\xe3+\\x95\\xc0o\\x80\\xd7T\\x07\\x11\\x06)\\x00\\xf4\\x10\\x8c\\xb1\\xb5\\xe6M\\xaa\\x83\\xf8B\\x97\\xd40\\x1e\\xb9\\xb3+\\x97OJ\\xc6j\\x95\\x8f\\xa0\\x08\\\\nw\\x1d\\xef\\xcfN\\xe7\\xb1\\x97w\\xb0\\xeb@\\xc0\\xec\\xaa\\xfb*p\\x17r\\xa8\\x90rr\\xf5U/\\x05\\xf8\\x18\\x18\\xa2:\\x88\\xb7\\xb5k\\x1d\\xcaC\\xb7v\\xe6\\xc6\\x8b\\xdb\\xc9\\xe9{B\\x9c\\xa4\\xb6\\xb6\\x8eO\\xbe9\\xc2C\\xff\\xda\\xca\\xee\\x83\\x01Q\\x08\\xac\\x03.\\x01\\xf6+\\xce\\x11\\xd0\\xe4*\\xac\\xd6\\x18\\xe0C Qu\\x10oJI\\x0c\\xe1\\xbe\\x1b:q\\xfb\\xe5\\xa98\\x1dV\\xd5q\\x84\\xd0VuM-\\xff\\xfb\\xec \\x7fyy\\'\\xe9\\x99\\xe5\\xaa\\xe3x[\\x0ep%\\xb0@u\\x90@%\\x05\\x80\\x1a\\x16\\x8c.\\xb0\\xbfc\\xe2\\xbd\\xfc\\xe3c\\x9c\\xdc{}G\\xee\\x9e\\xde\\x91`\\xa74\\xfcB4VUu-o~~\\x90G^\\xdc\\xc1\\x91\\xec\\n\\xd5q\\xbc\\xc9\\x8d\\xb1\\xd4\\xf9i \\xf0\\x16J*&\\x05\\x80\\xef\\x85\\x02oa\\xcc\\x885\\xa5\\xf8\\x18\\'\\xbf\\xbf\\xb1\\x13w\\\\\\xd9\\x9e\\xd0`\\x99\\xdc\\'Ds\\x95\\x96\\xbby\\xf1\\xbd\\xbd<\\xfd\\xdf\\xddf_5\\xf0\\x11p=`\\xfan\\x0f\\x9dH\\x01\\xe0[\\x89\\xc0\\x97\\xc0`\\xd5A\\xbc\\xc1\\xe9\\xb0\\xf2\\xdbk:\\xf2\\xc7\\xdb\\xba\\x10\\xee\\n\\xa8\\xbd\\x8b\\x84\\xf0\\xaa\\xa2\\x92\\x1a\\xfe\\xfa\\xca\\x0e\\x9e{{/U\\xd5\\xa6=to\\x15p>\\x90\\xa5:H\\xa0\\x90\\x02\\xc0w:\\x03_\\x1f\\xfb\\xd5t\\xce\\x1b\\xd3\\x8a\\x7f\\xfd\\xa1\\x17\\x1d\\xdb\\xb8TG\\x11\\xc2\\xb4v\\x1f,\\xe5\\xa1\\x7fme\\xe6\\xbc\\xc3\\xaa\\xa3x\\xcb>\\xe0\\\\`\\x9b\\xea \\x81@\\n\\x00\\xdf\\x18\\x01|\\x8e\\xb1\\xc3\\x9f\\xa9tk\\x1f\\xc6?\\x1f\\xec\\xcd\\xa4\\x91\\t\\xaa\\xa3\\x08\\x110\\x16\\xae\\xca\\xe1wO\\xfe\\xc8\\xa6\\x9dE\\xaa\\xa3xC>p1\\xb0Hq\\x0e\\xd3\\x93\\x02\\xc0\\xfb.\\x07\\xde\\xc4X\\xebo\\x1a1\\x91\\x0e\\xfe\\xf4\\xab\\xae\\xdcyU{Y\\xd2\\'\\x84\\x02\\xb5\\xb5u\\xbc3+\\x9d\\xfb\\x9f\\xd9BV\\x9e\\xe9\\x96\\xd4Wa\\xec\\x8b\\xf2\\x8e\\xea f&3\\xb4\\xbc\\xc7\\x02<\\x02\\xbc\\x80\\x89f\\xfa\\x07\\xd9\\xad\\xdc|I;>{~0\\xe3\\x86\\xc4\\xc9F>B(b\\xb1X\\xe8\\xdb-\\x92\\x9b/m\\x07\\xc0\\x9a\\xcd\\x05\\xb8kM3\\x91\\xde\\x06\\\\\\x84q\\x1d]\\xac8\\x8bi\\xc9\\xd5\\xdb;\\x1c\\x18\\xdb]^\\xab:\\x88\\'\\x9d=4\\x9e\\x17\\x1f\\xeeC\\xd7\\xf6a\\xaa\\xa3\\x08!N\\xb1mo1w<\\xb6\\x89EkrTG\\xf1\\xb4\\xff\\x01\\xb7\\x01\\xd5\\xaa\\x83\\x98\\x8d\\x14\\x00\\x9e\\x17\\x05|\\n\\x9c\\xa5:\\x88\\xa7D\\x85\\x07\\xf1\\xd4\\xbd=\\xb8\\xe5\\xd2T,\\xf2\\x89\\x11B[uu\\xf0\\xf6\\x97\\x87\\xb8\\xe7\\xe9\\xcdf[6\\xf8-\\xc6\\xd2\\xe9\\x02\\xd5A\\xccD.\\xe7\\x9e\\xd5\\x16\\x98\\x03\\xf4P\\x1d\\xc4S.\\x9b\\xd8\\x9a\\xe7\\x1f\\xeaC\\xab8\\xa7\\xea(B\\x88F:\\x92]\\xc1o\\xfe\\xf6#\\x9f|c\\xaa\\xd5\\x02\\x9b\\x81\\xc9\\x18\\'\\x0b\\n\\x0f\\x90\\x02\\xc0sR1\\xaa\\xd4\\x0e\\x8asxDR|0/\\xfc\\xb17\\x97Lh\\xad:\\x8a\\x10\\xa2\\x99\\xbeZ|\\x94;\\x1e\\xdb\\xc4\\xa1\\xa3\\xa6\\xd9_\\xe7\\x000\\x1e\\xd8\\xad:\\x88\\x19\\xc8$@\\xcf\\xe8\\x86\\xb1d\\xa5\\x9d\\xe2\\x1c-f\\xb1\\xc05\\xe7\\xb7\\xe1\\xcb\\x17\\x870\\xa0G\\x94\\xea8B\\x88\\x16\\xe8\\x92\\x1a\\xc6\\x8d\\x17\\xb7\\xa5\\xac\\xc2\\xcd\\x9a\\xcd\\x05\\xd4\\xf9\\xff\\x1c\\xc1(`\\x1a0\\x0f\\xd90\\xa8\\xc5\\xa4\\x07\\xa0\\xe5\\xfac|\\x18\\xe3U\\x07i\\xa9\\x8em\\\\\\xbc\\xfah?\\xc6\\r1\\xddv\\x05B\\x04\\xbc\\xa5\\xebr\\xb9\\xe5O\\x1b\\xd8\\xbe\\xafDu\\x14O\\xc8\\x02&\\x02\\x1bT\\x07\\xf1g\\xd2\\x03\\xd02\\xc3\\x80\\xf9@\\xac\\xea -a\\xb5Z\\xb8\\xef\\x86N\\xcc\\xfc\\xe7`:\\xb7\\x93\\x9d\\xfc\\x840\\xa3\\xb6I\\xa1\\xdc|I*\\x15\\x95\\xb5\\xac\\xdc\\x98\\xa7:NK\\xb90\\xf6XY\\x04d\\xa8\\x8d\\xe2\\xbf\\xa4\\x07\\xa0\\xf9F\\x03_\\x01\\xe1\\xaa\\x83\\xb4D\\xab8\\'\\xff\\xfdk\\x7f&\\x8f2\\xf5\\x89\\xc4B\\x88\\x93,\\\\\\x95\\xc3\\xb5\\x7fXKF\\xa6\\xdf\\x9f4X\\n\\\\\\x88\\x1c)\\xdc,\\xd2\\x03\\xd0<\\x93\\x81Y\\x18U\\xa8\\xdf\\xbax|\\x12s^\\x19F\\x9f\\xae\\x91\\xaa\\xa3\\x08!|\\xa8}J(7^\\xdc\\x8e\\x03\\x87\\xcb\\xd8\\xbc\\xabXu\\x9c\\x96p`\\xf4\\x04l\\x02v(\\xce\\xe2w\\xa4\\x00h\\xba\\xa9\\xc0\\'\\xf8\\xf1\\xd6\\xbe!\\xc16\\x9e\\xb9\\xaf\\x17\\xcf>\\xd0K\\x8e\\xeb\\x15\"@\\x05;m\\\\zNk:\\xa4\\xb8X\\xb0\"\\xdb\\x9fO\\x19\\xb4\\x03\\x97\\x00\\xdb\\x81\\xad\\x8a\\xb3\\xf8\\x15\\x19\\x02h\\x9a+\\x81\\x19\\x18\\x1f8\\xbf4\\xa8W\\x14\\xef<5\\x80.\\xa9\\xb2\\x9b\\x9f\\x10\\xc2\\xb0/\\xbd\\x8c\\xe9\\x0f\\xace\\xf9\\x06\\xbf\\x9e\\x1b\\xe0\\x06n\\xc68{E4\\x82\\xdc\\xfe5\\xde5\\x18\\x8d\\xbf_\\xbeg6\\x9b\\x85\\x87n\\xed\\xc2\\x8c\\'\\xd3H\\x88\\x91M}\\x84\\x10?\\x89\\x8e\\x08\\xe2\\xda\\x0b\\xdaP]S\\xc7\\xf2\\r\\xf9\\xfe\\xba\\\\\\xd0\\n\\x9c\\x0f\\xec\\xc5\\x18\\x12\\x10g =\\x00\\x8ds\\t\\xf0\\x01~z\\xe7\\x9f\\x92\\x18\\xc2{\\x7f\\x1f\\xc0\\xa8\\x01~\\xbdXA\\x08\\xe1\\x03\\x8b\\xd6\\xe4p\\xf5\\xef\\xd7r8\\xcbo\\'\\x08\\xd6`\\xec\\x15\\xf0\\x99\\xea \\xba\\x93\\x02\\xe0\\xcc&`L\\xf8\\xf3\\xcb\\xdb\\xe6Q\\x03b\\xf9\\xe8\\xd9A\\xb2\\x95\\xaf\\x10\\xa2\\xd1\\xb2\\xf3*\\xb9\\xe2\\xbe\\x1fX\\xb8\\xcao\\x0f\\x16\\xaa\\x02.\\x06\\xbeV\\x1dDg~\\xd9\\x9d\\xedC#0\\x96\\xfa\\x85\\xa8\\x0e\\xd2\\x1c\\xb7^\\x96\\xca\\x87\\xff\\x18Hd\\x98iN#\\x16B\\xf8\\x80+\\xc4\\xce\\xd5\\xe7\\xb5\\xa1\\xaa\\xaa\\x96e\\xeb\\xfdr^\\xc0\\xf1\\xe3\\x84\\x97\\x01\\xfb\\xd5F\\xd1\\x97\\xf4\\x004l\\x08\\xf0\\r~\\xb8\\xce?,\\xd4\\xce\\xeb\\x8f\\xf5\\xe3\\xf2\\xc9\\xc9\\xaa\\xa3\\x08!\\xfc\\xdc\\xfb\\xb3\\xd3\\xb9\\xe5O\\x1b(-w\\xab\\x8e\\xd2\\x1c\\xa5\\xc0$`\\xa9\\xea :\\x92\\x02\\xa0~}\\x81\\x85@\\x8c\\xea M\\xd5\\xb9\\x9d\\x8bO\\xfe5\\x98\\xde]\"TG\\x11B\\x98\\xc4\\xf6}%\\\\\\xf4\\x9bU\\xfe\\xba\\x8dp!0\\x0eX\\xa7:\\x88n\\xa4\\x00\\xf8\\xa5.\\xc0\\xf7\\x80\\xdfm\\x8dw\\xee\\x98D\\xdeyj\\x00Q\\xe1\\xd2\\xe5/\\x84\\xf0\\xac\\xa2\\x92\\x1a\\xae\\xff\\xe3:>[pDu\\x94\\xe6\\xc8\\x06\\xc6\"\\xfb\\x04\\xfc\\x8c\\xcc\\x01\\xf8\\xb9\\x8e\\xc0b Iu\\x90\\xa6\\xb0X\\xe0\\x81\\x9b:\\xf3\\xfac\\xfd\\x08\\x91\\x8d}\\x84\\x10^\\xe0tX\\x996)\\x99\\x90`\\x1b\\x0bW\\xe5\\xf8\\xdbRA\\x17\\xc6\\x96\\xc1\\x9f\\x03\\xf9\\x8a\\xb3hCz\\x00~\\xd2\\x06X\\x82\\x9f\\x1d\\xe9\\x1b\\x16j\\xe7\\x83g\\x06r\\xee\\x18\\xbf\\xeb\\xb0\\x10B\\xf8\\xa9/\\xbf;\\xcaU\\xf7\\xff\\xe0\\x8f\\xf3\\x02\\xf6a\\x9c\\xe3\\x92\\xae:\\x88\\x0e\\xa4\\x000D`L\\x12\\xe9\\xad:HS$\\xc5\\x073\\xeb\\xc5!\\x0c\\xe8\\x19\\xa5:\\x8a\\x10\"\\xc0l\\xdaY\\xc4\\xb9\\xb7\\xaf$=\\xb3\\\\u\\x94\\xa6\\xda\\x8a\\xb1\\xc2\\xab@u\\x10\\xd5\\xa4\\x00\\x80 `60^u\\x90\\xa6\\xe8\\xd59\\x82\\xaf_\\x1eJ\\xdb$\\xbf\\\\\\xa1(\\x840\\x81\\x8c\\xcc\\n\\xce\\xbbc%\\x1b\\xb6\\x17\\xaa\\x8e\\xd2T\\x8b\\x80\\x89\\x18\\xfb\\x05\\x04\\xac@\\x1f0\\xb6\\x00o`l\\x18\\xe17\\xc6\\x0f\\x8bg\\xee+\\xc3H\\x8c\\x95\\xcd}\\x84\\x10\\xeaD\\x84\\xd9\\xb9\\xfa\\xbc\\x146l/b\\xf7\\xc1R\\xd5q\\x9a\"\\x15H\\x06\\xbeT\\x9cC\\xa9@/\\x00\\x1e\\x01\\xeeV\\x1d\\xa2)n\\xb8\\xa8-\\x1f<3\\x90\\xd0\\x10\\xbf\\xdc\\x95X\\x08a2N\\x87\\x95\\xcb\\'\\'\\x93\\x95[\\xc9\\xda-~\\xd5\\xab\\xde\\x1fc\\xdb\\xe0%\\xaa\\x83\\xa8\\x12\\xc8\\x05\\xc0\\x15\\xc0\\xf3\\xf8\\xc90\\x88\\xc5\\x02\\x7f\\xbe\\xa3+\\xff|\\xb076\\xab_D\\x16B\\x04\\x08\\xab\\xd5\\xc2yc[\\x11\\x1d\\xe1`\\xde\\xb2,\\xd5q\\x9a\\xe2,\\x02\\xf8\\xf0\\xa0@-\\x00F\\x03\\x9f\\xe0\\'\\x87\\xfb8\\x1dV\\xde|<\\x8d\\xbb\\xa6wP\\x1dE\\x08!\\x1a4\\xb4o4=:F0k\\xd1Qj\\xdc~\\xb1N\\xd0\\x02\\x9c\\x0b,\\xc7X!\\x10P\\x02\\xf1V\\xb2;\\xc6\\xfe\\xd0\\xd1\\xaa\\x834F\\xb8\\xcb\\xce\\x97/\\x0ea\\xec\\xa08\\xd5Q\\x84\\x10\\xa2Q\\x16\\xae\\xca\\xe1\\x82_\\xaf\\xa2\\xa4\\xacFu\\x94\\xc6\\xca\\x03\\x86\\x03;T\\x07\\xf1\\xa5@+\\x00\\xe2\\x80\\x15@\\'\\xd5A\\x1a#*<\\x88\\xd9\\xff\\x19\\xca\\xb0~~\\xb7#\\xb1\\x10\"\\xc0\\xad\\xd9\\\\\\xc0\\xe4\\xdbV\\x90[\\xe07\\x13\\xed\\xf7\\x01\\xc3\\x80L\\xd5A|%\\x90\\n\\x80\\x10\\x8c\\xfd\\xfd\\x87\\xaa\\x0e\\xd2\\x18\\t1N\\xe6\\xbd6\\x8c~\\xdd\"UG\\x11B\\x88fY\\xbf\\xad\\x90\\x89\\xb7\\xae ;\\xafRu\\x94\\xc6Z\\x83\\xb1ep\\x99\\xe2\\x1c>aU\\x1d\\xc0G,\\xc0\\x0c\\xfc\\xa4\\xf1ON\\x0cf\\xf1\\x8c\\x91\\xd2\\xf8\\x0b!\\xfcZ\\xff\\xee\\x91,zs\\x04\\xad\\x13\\x82UGi\\xacA\\x18K\\xc3\\x03B\\xa0L\\x02|\\x00\\xb8Ku\\x88\\xc6h\\xd7:\\x94\\x85\\xff\\x1bA\\x97\\xd40\\xd5Q\\x84\\x10\\xa2\\xc5\\xe2c\\x9c\\\\2\\xa15_-\\xca$\\xbf\\xa8Zu\\x9c\\xc6\\xe8\\x05\\x14c\\x0c\\x17\\x9bZ \\x0c\\x01\\x8c\\x03\\xe6\\xe1\\x073\\xfe\\xbb\\xb6\\x0fc\\xc1\\x1b\\xc3II\\x94\\xdd\\xfd\\x84\\x10\\xe6r$\\xbb\\x82\\t7/g\\xcb\\xeeb\\xd5Q\\x1a\\xa3\\x06\\x98\\x80\\xb1c\\xa0i\\x99\\xbd\\x00h\\x03\\xac\\x05\\xe2U\\x079\\x93\\x1e\\x1d\\xc3\\xf9\\xe6\\xf5\\xe1\\xfe\\xd4U&\\x84\\x10M\\x92\\x99[\\xc9\\xc4[V\\xb0q\\x87_l\\x1d\\x9c\\x05\\x0c\\xc0\\xc4\\x07\\x07\\x99y\\x0e@0\\xc6Z\\x7f\\xed\\x1b\\xff\\x81=\\xa3X\\xf2\\xf6Hi\\xfc\\x85\\x10\\xa6\\x96\\x18\\xeb\\xe4\\xdb\\xff\\x0e\\xf7\\x97\\x03\\xcc\\x12\\x80\\x99\\x80Cu\\x10o1s\\x01\\xf0\\x02\\xc6\\x84\\x0e\\xad\\xf5\\xee\\x12\\xc1\\xdcW\\x87\\x11\\x13i\\xda\\xcf\\x98\\x10B\\x9c\\x10\\x1b\\xe5`\\xc1\\x1b\\xc3\\xe9\\xdf\\xdd/&9\\x0f\\x05\\x9eS\\x1d\\xc2[\\xcc:\\t\\xf0V\\xe0\\xcf\\xaaC\\x9cI\\xe7v.\\x16\\xfeo$\\t1r\\xa8\\x8f\\x10\"p\\x04;m\\\\4>\\x89\\xaf\\x17g\\x92\\x93\\xaf\\xfd>\\x01\\x031\\x86\\x01\\xd6\\xab\\x0e\\xe2if\\x9c\\x030\\x18\\xf8\\x1e\\xd0\\xbaUm\\x9b\\x14\\xc2\\xf73F\\xd2\\xaeu\\xa8\\xea(B\\x08\\xa1Dzf9\\xa3\\xaf]\\xca\\xbet\\xed\\x97\\xddW\\x00\\xa3\\x80\\x1fT\\x07\\xf1$\\xb3\\x15\\x00\\xb1\\x18\\xff@\\xa9\\x8as\\x9cVrb0\\xdf\\xcf\\x18I\\x87\\x14\\x97\\xea(B\\x08\\xa1\\xd4\\x9eC\\xa5\\x8c\\xbev)\\x87\\xb3*TG9\\x93\\x83\\x18\\x93\\x02sT\\x07\\xf1\\x143\\xcd\\x01\\xb0\\x03\\x1f\\xa1y\\xe3\\x9f\\x10\\xe3d\\xc1\\x1b#\\xa4\\xf1\\x17B\\x08\\xa0c\\x1b\\x17\\xdf\\xbc>\\x9cx\\xfd\\x87B\\xdb\\x02\\xefb\\xa2\\xa1s\\xd3\\xfcE\\x80?\\x017\\xa8\\x0eq:\\x91\\xe1A|\\xf3\\xfapzw\\x89P\\x1dE\\x08!\\xb4\\x11\\x1f\\xe3\\xe4\\x9c\\x11\\xf1|4\\xf70\\xe5\\x95n\\xd5qN\\xa7#P\\t,Q\\x1d\\xc4\\x13\\xcc2\\x040\\x08\\xe3\\x84\\xbf \\xd5A\\x1a\\xe2\\n\\xb11\\xf7\\xd5a\\x8cL\\x8bU\\x1dE\\x08!\\xb4\\xb4rc>\\xe7\\xdc\\xb2\\x9c\\xe2R\\xadO\\x11\\xac\\xc1\\x98\\x0f\\xb0Ru\\x90\\x962C\\x01\\x10\\x811;\\xb3\\x83\\xea \\rq:\\xac\\xcc}u\\x98\\x1c\\xe9+\\x84\\x10g\\xf0\\xed\\xcal\\xa6\\xdc\\xbe\\x92\\xaa\\xeaZ\\xd5QNg7\\xd0\\x1f(Q\\x1d\\xa4%\\xcc0\\x04\\xf0\\x1a\\xc6\\xe9MZ\\xb2X\\xe0\\xbf\\x7f\\xed\\xcf\\x05\\xe3\\x92TG\\x11B\\x08\\xeduHq\\xd1\\xb9m\\x18\\x9f.8\\xac:\\xca\\xe9\\xc4\\x00\\x89\\xc0\\x97\\xaa\\x83\\xb4\\x84\\xbf\\x17\\x00\\x97\\x02\\x7fU\\x1d\\xe2t\\xfevww~}\\x95\\xb6\\x9d\\x13B\\x08\\xa1\\x9d^\\x9d#\\x00\\x0b\\x8b\\xd6h=\\xe1>\\r\\xd8\\x0elQ\\x1d\\xa4\\xb9\\xfc\\xb9\\x00H\\x01\\xbe\\x06\\xb4=9\\xe7\\xc6\\x8b\\xdb\\xf2\\xcc\\xfd\\xbdT\\xc7\\x10B\\x08\\xbf3f`\\x1c\\x07\\x0e\\x97\\xb3a\\xbb\\xd6\\xe7\\x06\\x8c\\x07\\xde\\x07\\xb4\\x0e\\xd9\\x10\\x7f-\\x00\\xac\\xc0g@\\x0f\\xd5A\\x1ar\\xd6\\xe08>xf 6\\x9b\\x19\\xa6Y\\x08!\\x84oY,p\\xee\\x98DVn\\xcag\\xef!m7\\n\\n\\xc6\\xd8\\x1b\\xe0m\\xa0Nq\\x96&\\xf3\\xd7\\x02\\xe0!\\xe0&\\xd5!\\x1a\\xd2\\xb3S8\\xf3^\\x1b\\x8e+D\\xfb\\x13\\x88\\x85\\x10B[6\\xab\\x85\\x0b\\xc6%1\\xfb\\xfbL2s+U\\xc7iH;\\xa0\\x14c%\\x9a_\\xf1\\xc7\\xdb\\xd3\\x01\\xc0r4=\\xa1))>\\x98\\x95\\xef\\x8f\\xa6m\\x92\\xb6#\\x13B\\x08\\xe1W22+\\x18z\\xe5\\xf7\\xa4g\\x96\\xab\\x8e\\xd2\\x90j`$\\xb0Zu\\x90\\xa6\\xf0\\xb7\\x02 \\x0cX\\x07tV\\x1d\\xa4>a\\xa1v\\xbe\\x9f1\\xd2_N\\xb9j\\x91\\x82\\xe2j\\x8edW\\x90\\x99[IUu-\\xad\\xe3\\x83I\\x88u\\xca\\xc1FBxQV^%Y\\xb9\\x95\\x1c\\xce\\xae\\xc0\\x11d%1\\xd6IR|0Q\\xe1\\xdan\\x81\\xe21?l)`\\xecuK)-\\xd7v\\xa3\\xa0\\x1d\\x187\\xa8\\xa5\\xaa\\x834\\x96\\xbf\\x15\\x00/\\x02w\\xa8\\x0eQ\\x1f\\xab\\xd5\\xc2\\x97\\xff\\x1e\\xc2\\xb9c\\x12UG\\xf1\\n\\xb7\\xbb\\x8ey\\xcb\\xb2\\xf8pn\\x06\\x0bW\\xe64X\\x89\\xc7D:\\x18=0\\x96K\\xcfi\\xcdE\\xe3\\x93\\x08\\r\\xf6\\xd7Q&!\\xd4+\\xafp\\xf3\\xd9\\xb7G\\xf8x\\xfea\\xbe\\xff!\\x97\\xdc\\x82\\xfaO\\xceKN\\x0c\\xe6\\xec\\xa1\\xf1L\\x9b\\x98\\xcc\\xa4\\x91\\t\\xa6\\x9d{\\xf4\\xe5wG\\xb9\\xe8\\xae\\xd5\\xd4\\xd6j;\\xdc\\xfe/\\xe0w\\xaaC4\\x96?}J\\xc6\\x02\\x0b\\xd14\\xf3_\\xef\\xea\\xce\\x1fo\\xeb\\xa2:\\x86\\xc7\\xd5\\xd6\\xd6\\xf1\\xbf\\xcf\\x0e\\xf2\\xc4k\\xbb\\xd8s\\xa8i\\x85m\\\\\\xb4\\x83\\xbb\\xa7w\\xe4\\xde\\xeb;\\x12\"\\x85\\x80\\x10\\x8dV^\\xe1\\xe6\\xd9\\xb7\\xf6\\xf0\\xdc;{\\xc9\\xcek\\xda\\xd8w\\x87\\x14\\x17\\x7f\\xb8\\xa537^\\xdc\\x16\\xabU\\xcb\\xcbe\\x8b<\\xf2\\xe2v\\x1e}i\\x87\\xea\\x18\\r\\xa9\\xc5\\xd8%p\\xb9\\xea \\x8d\\xe1/\\x9f\\x8eP`#\\xd0Iu\\x90\\xfaL\\x1d\\xdb\\x8a/\\xfe=\\x04\\x8b\\xbf\\xbc\\x9b\\x8d\\xb4s\\x7f\\t\\xd7<\\xb8\\x8e\\xd5?\\xe6\\xb7\\xe8yR\\x93Cy\\xf3o\\xfd\\x19#;!\\nqFK\\xd6\\xe6r\\xddC\\xebZ|D\\xee\\xa0^Q\\xbc\\xfd\\xe4\\x00\\xba\\xb6\\x0f\\xf3P2=\\xd4\\xd6\\xd6q\\xfe\\xafW\\xf1\\xf5\\xe2L\\xd5Q\\x1a\\xf2#0\\x10\\xa8\\xbf\\xbbF#\\xfer[\\xf6\\x0c0Yu\\x88\\xfatn\\xe7b\\xce+\\xc3\\x08v\\xfa\\xcb[\\xd98_/\\xce\\xe4\\x9c[V\\xb0/\\xa3\\xe5\\xcbo\\n\\x8a\\xaby{V:a\\xa1v\\x86\\xf5\\x8b\\xf1@:!\\xcc\\xe9\\xb9\\xb7\\xf7r\\xd5\\xef\\xd7\\x92WX\\xdd\\xe2\\xe7:\\x9cU\\xc1\\x9b\\x9f\\x1f\\xa2W\\xe7\\x08S\\x15\\x01\\x16\\x8b\\x85)\\xa3\\x13\\xf9d\\xfea\\x8f\\xbcO^\\x90\\x88\\xd1\\xf8\\x7f\\xaf:\\xc8\\x99\\xf8C\\xab5\\x0cx\\x19\\r\\x8f.\\x0e\\x0b\\xb5\\xf3\\xcd\\xeb\\xc3i\\x9b\\x14\\xaa:\\x8aG}47\\x83i\\xf7\\xac\\xa1\\xa2\\xcas{q\\xd7\\xd5\\xc1\\xfceYTV\\xd52~X\\xbc\\xc7\\x9eW\\x08\\xb3\\xf8\\xbf\\x17\\xb6\\xf1\\xd0\\xbf\\xb6Q\\xe7\\xc1\\xe1\\xed\\xaa\\xeaZ>\\x9ew\\x98\\xce\\xed\\\\\\xf4\\xeel\\x9eSH\\x83\\x9d6\\xce\\x1a\\x1c\\xc7\\x8c/\\x0fQ]\\xa3\\xe5|\\x80\\x11\\xc0\\xa7@\\xb6\\xea \\xa7\\xa3{\\x01\\xe0\\x04\\xe6\\x00\\t\\xaa\\x83\\xd4g\\xc6\\x13i\\x8c\\x1bb\\xae\\xc6l\\xd1\\x9a\\x1c.\\xbe{\\x8d\\xd7~\\xa8\\x96\\xae\\xcb\\xa3\\xbc\\xb2\\x96\\tR\\x04\\x08q\\xc2\\xc3\\xcfo\\xe3o\\xaf\\xec\\xf4\\xcas\\xd7\\xd6\\xc1\\x97\\xdfe2\\xbc\\x7f\\x0c\\x1dR\\\\^y\\r\\x15\\x12c\\x9d\\xb4k\\x1d\\xca\\xa7\\x0b\\x8e\\xa8\\x8eR\\x1f;\\xd0\\x17x\\x0b\\x8d7\\x08\\xd2\\xbd\\x00x\\x18c\\xbf\\x7f\\xed\\xdc{}\\'\\xee\\xb9\\xae\\xa3\\xea\\x18\\x1e\\x95\\x95W\\xc9\\x84\\x9bWPX\\xec\\xddn\\xb5e\\xeb\\xa5\\x08\\x10\\xe28o6\\xfe\\xc7\\xd5\\xd6\\x1a\\xabx\\xa6OmCX\\xa8y6(\\xeb\\xd3%\\x82\\xbc\\xc2\\xea\\x16\\xcfS\\xf2\\x92\\xb6@&\\xf0\\x83\\xea \\r\\xd1\\xb9\\x00\\xe8\\x0c\\xbc\\x8bQIieD\\xff\\x18\\xde~*\\r\\x9b\\xc9f\\xd8\\xde\\xfe\\xe8F\\x96\\xaf\\xcf\\xf3\\xc9k-[\\x9fGqi\\r\\x13Gh\\xd9\\xb9#\\x84O\\xfc\\xe9\\x85\\xed\\xfc\\xd5\\xcb\\x8d\\xffq\\xa5\\xe5n\\x0egUp\\xc99\\xad}\\xf2z\\xbe2~X<\\x8b\\x7f\\xc8\\xe5\\xc0a-7\\t\\x1a\\x05\\xbc\\x03\\x14\\xa9\\x0eR\\x1f\\x9d\\x0b\\x80\\x8f\\x00\\xed\\xd6\\xd5%\\xc5\\x07\\xb3\\xe0\\x8d\\xe1D\\x9al\\xe3\\x8du[\\x0b\\xf9\\xcd\\xdf6\\xf9\\xf45Wl\\xcc\\x97\\x9e\\x00\\x11\\xb0\\x1e~~\\x9b\\xcf\\x1a\\xff\\xe3\\xb6\\xec.b\\xca\\xe8V$\\'\\x04\\xfb\\xf4u\\xbd\\xc9f5&\\x05\\xbe?;\\x9d\\xe2\\xd2\\x1a\\xd5qN\\xe5\\x04\\xba\\x02\\xef\\xa9\\x0eR\\x1f]\\x0b\\x80k\\x81{T\\x878\\x95\\xcdf\\xe1\\xab\\x97\\x86\\xd2\\xb3\\x93y&\\xd3\\x1cw\\xef\\xd3[\\xf8q\\x97\\xef\\x8bT\\x19\\x0e\\x10\\x81\\xc8\\x17\\xdd\\xfe\\r\\xc9/\\xaaf\\xda\\xa4d%\\xaf\\xed-a\\xa1v\\xfaw\\x8f\\xe2\\xedY\\xe9\\x1e\\x9dD\\xe9!]\\x80mhxl\\xb0\\x8e\\x05@40\\x0b\\xd0n\\xb6\\xcaC\\xb7v\\xe1\\x86\\x8b\\xda\\xaa\\x8e\\xe1qE%5\\xdc\\xfc\\xe7\\r\\xd4(\\x9aM+\\xc3\\x01\"\\x90\\xf8\\xb2\\xdb\\xbf>\\xbb\\x0e\\x94r\\xc7\\x95\\xedM\\xb7Kg\\xfb\\xe4P\\xca+\\xdc,\\xf3\\xd10f\\x13\\x8d\\x06^\\x03\\xb4:\\xd1H\\xc7O\\xc03\\x18\\xbb\\xfeie@\\xcf(\\xde~\\xd2|\\xe3\\xfe\\x00_,<\\xc2\\xfb\\xb33\\x94f\\x90\\xe1\\x00\\x11\\x08Tt\\xfb\\x9f\\xaa\\xb6\\xb6\\x8e\\xbe\\xdd\"\\xe9\\xdd\\xc5|=\\x99c\\x06\\xc52oY6\\x19Y\\x15\\xaa\\xa3\\x9c*\\x0c\\xe3\\xe8\\xe0y\\xaa\\x83\\x9cL\\xb7\\xb5\\xf5\\xbd\\x80\\xdbT\\x878\\x95+\\xc4\\xc6{O\\x0f \\xc8\\xae\\xdb\\xdb\\xe5\\x19K\\xd7\\xe9Q1?\\xfd\\xc6.\\x1exv\\xab\\xea\\x18Bx\\x85\\xcan\\xffS-Y\\x9b\\xab:\\x82W\\x04\\xd9\\xad\\xbc\\xfb\\xf4\\x00]W:\\xfc\\x1a\\xe8\\xa3:\\xc4\\xc9tj\\xd1,\\xc0\\xbf\\xd1p\\xd6\\xff\\xf3\\x0f\\xf5\\xa1K\\xaayv\\xd2:UK\\xb7\\x1c\\xf5\\xa4\\xa7\\xdf\\xd8\\xc5\\xbdOoV\\x1dC\\x08\\x8f\\xfa\\xd3\\x0b\\xdb\\xb5i\\xfc\\x01\\xf6{`\\x87O]uj\\xeb\\xe2\\x99\\xfb{\\xaa\\x8eQ\\x1f;F\\x1b\\xa7M7\\xb2N\\x05\\xc0\\xd5\\xc0\\x18\\xd5!Nu\\xd1\\xf8$n\\xbc\\xd8|\\xe3\\xfe\\';\\x9a\\xa3Ww\\xd9\\xb3o\\xed\\x91\"@\\x98\\xc6\\x9f^\\xd8\\xce_\\xfe\\xa3\\xd7\\xe15Gs\\xb4\\x1a\\x8a\\xf6\\xb8\\xdb\\xa6\\xa5r\\xd9D-\\x97;\\x8e\\x02.S\\x1d\\xe28]\\n\\x80p\\xe0i\\xd5!N\\x95\\x9c\\x18\\xcc\\xeb\\x8f\\xf5S\\x1d\\xc3\\xeb\\xb2\\xf3\\xf5;\\xb3\\xe2\\xd9\\xb7\\xf6\\xc8p\\x80\\xf0{\\x0f?\\xbfM\\xbb\\xc6\\x1f\\x8cM\\xbf\\xcc\\xee\\xa5\\xff\\xebKk=\\x97;>\\x83q\\xc0\\x9dr\\xba\\x14\\x00\\x0f\\x02I\\xaaC\\x9c\\xccj\\xb5\\xf0\\xd6\\xe3i\\xc4D:TG\\xf1\\xbap\\x97v\\xa3.\\x80\\x0c\\x07\\x08\\xff\\xa6[\\xb7\\xff\\xc9\"4\\xfd\\x99\\xf7\\xa4\\xb8h\\x07o\\xfe-M\\xc7#\\x91\\xdb\\x00\\xf7\\xa9\\x0e\\x01z\\x14\\x00m\\x80\\xdf\\xaa\\x0eq\\xaa{\\xaf\\xef\\xc8\\xd9C\\x03cFz\\xab8\\xa7\\xea\\x08\\r\\x92\\xe1\\x00\\xe1\\x8ft\\xec\\xf6?Y\\xab8-\\xef\\x8c=n\\xc2\\xf0x\\xee\\x9e\\xdeAu\\x8c\\xfa\\xdc\\x8f\\x067\\xbd:\\x14\\x00\\x8f\\xa3Iw\\xc8q]R\\xc3x\\xec\\xd7\\xddU\\xc7\\xf0\\x19M\\xbb\\xc9N\\x90\\xe1\\x00\\xe1Ot\\xed\\xf6?YR\\xbc\\xde?\\xf3\\x9e\\xf4\\xc4\\xefz\\xd0M\\xbf\\xe3\\x90\\xc3\\x80\\xbf\\xa8\\x0e\\xa1\\xba\\x00\\xe8\\x0f\\\\\\xa58\\xc3\\xcfX\\xad\\x16^\\x7f\\xac\\x1f\\xc1N\\xd5o\\x8d\\xef\\xa4u\\x8fR\\x1d\\xe1\\x8cd8@\\xf8\\x03\\x9d\\xbb\\xfdO6\\xa8\\xb7\\xfe?\\xf3\\x9e\\xe2tX\\xf9\\xcf\\x9f\\xfbb\\xd1n$\\x80\\x1b\\x804\\x95\\x01T\\xb7r\\x7f\\xd7 \\xc3\\xcf\\xdc6-\\x95Q\\x03bU\\xc7\\xf0\\xa9\\x89#\\xfdc\\x07>\\xe9\\t\\x10:\\xf3\\x87;\\xff\\xe3\\xce\\x19\\xee\\x1f?\\xf3\\x9e2fP\\x1c7]\\xd2Nu\\x8cSY1&\\x04*\\r\\xa0\\xca\\x14\\xe0l\\x85\\xaf\\xff\\x0b\\xc9\\x89\\xc1<\\xf1\\xdb\\xc0\\xe9\\xfa?\\xae[\\xfb0\\xd2zD\\xaa\\x8e\\xd1(\\xb2Y\\x90\\xd0\\x91N\\x9b\\xfc\\x9cI\\x9f.\\x11\\xf4\\xec\\x14\\xae:\\x86\\xcf\\xfd\\xfd\\xbe\\x9e:\\x0e}\\x9c\\x05LR\\xf5\\xe2*\\xb7\\x02~\\x07\\xd0\\xeaD\\x8a\\x19O\\xa4\\xd1\\xaf\\x9b\\x7f4\\x84\\x9e\\x16\\xe2\\xb4\\xf1\\xf9\\xb7GT\\xc7h\\x149;@\\xe8D\\xf5\\xde\\xfeM\\xf5\\xc4\\xefz\\xd0\\xbf{\\xe0]\\xe7\\x82\\x9d6R\\x93C\\xf9h\\xeea\\xd5QN\\xd5\\x1bx\\x15\\xf0\\xf9a,\\xaa\\n\\x80\\x8b\\xd0\\xec\\xb4\\xbfi\\x93\\x92\\xf9\\xbf\\xdb\\xbb\\xaa\\x8e\\xa1L\\x8fN\\xe1|<\\xff\\x089\\x1a\\xee\\tP\\x1f9;@\\xe8@\\x87\\xbd\\xfd\\x9b\\xa2k\\xfb0^\\xfeS_l6\\xfd\\x06\\xc4}\\xa1G\\xc7p6\\xed,b\\xfb\\xde\\x12\\xd5QN\\xd6\\n\\xe3\\xa4@\\x9fwm\\xaa(\\x00,\\xc0\\xfb\\x18\\x7fi-D\\x86\\x071\\xeb\\xc5!\\xda\\xae\\x87\\xf7\\x05\\x9b\\xd5B\\x8fN\\xe1\\xba\\x1e\\xa7Y/9JX\\xa8\\xe4O\\xdd\\xfe\\x00\\x16\\x0b\\xbc\\xf7\\xf4@Sok\\xde\\x18\\xa3\\x07\\xc6\\xf2\\xdfO\\x0fRQY\\xab:\\xca\\xc9\\xfa\\x02\\xff\\x01|\\x1aJE\\x01p9\\xc6\\xa1\\x08\\xdax\\xf9O}\\x19=0\\xb0&\\xfe\\xd5\\xa7}r(\\x15\\x95nm\\x0e\\x07j\\x0c)\\x02\\x84\\n\\xfe\\xd6\\xf8\\x03\\xdcwC\\'n\\xbf<Uu\\x0c\\xe5\\xc2]v\\xa2\"\\x82\\xf8jq\\xa6\\xea(\\'\\x8b\\x05\\x0e\\x02\\xeb}\\xf9\\xa2\\xbe.\\x00l\\xc0\\x87\\x806W\\xeb\\xb3\\x87\\xc6\\xf3\\xec\\xef{\\xe9\\xb8DD\\x89qC\\xe2\\xd8\\xb6\\xb7\\x98\\xad{\\x8aUGi4\\x99\\x13 |\\xc9\\xdf\\xc6\\xfc\\x01\\xa6\\x8em\\xc5k\\x8f\\xf5\\xd3qW<%\\x06\\xf4\\x88b\\xd1\\x9a\\\\\\x0e\\x1c\\xd6\\xeaP\\xa4\\xfe\\xc0K\\x80\\xdbW/\\xe8\\xeb\\x02\\xe0\\x1a\\xe0\\x16\\x1f\\xbff\\x83\\x82\\xecV\\xbezi(q\\xd1\\xe6\\xdf\\xee\\xb7\\xb1,\\x16\\x0b\\x17\\x8cKb\\xd3\\x8e\"v\\xec\\xd7j\\x9c\\xec\\xb4Vl\\xcc\\x97\"@x\\x9d\\xee;\\xfc\\xd5\\xe7\\x9c\\xe1\\t|\\xfa\\xdc`\\x1cAZ\\xad\\xb8V\\xcab\\x81!}\\xa2yu\\xe6\\x01jk\\xb5\\x19\\xf3\\x8c\\x04\\x8e\\x00k|\\xf5\\x82\\xbe,\\x00\\x8e\\xdf\\xfdk\\xd3\\xd7\\xfe\\xdbk:p\\xd5y)\\xaach\\xc7f\\xb3p\\xc9\\x84\\xd6R\\x04\\x08q\\x12\\x7fm\\xfc\\xbf\\xf8\\xf7\\x90\\x80\\xda\\xd8\\xac\\xb1\\xe2\\xa3\\x9dd\\xe5U\\xb2\\xfa\\xc7\\x02\\xd5QN\\xd6\\x07\\x1f\\xf6\\x02\\xf8\\xb2\\x00\\xb8\\tc\\xe7#-\\xc4D:\\x98\\xf9\\xcfA\\x84\\x04\\xab\\\\\\t\\xa9/)\\x02\\x84\\xf8\\x894\\xfe\\xe64\\xac_\\x0c\\xaf\\x7fr\\x80\\xf2\\n\\x9f\\xf5\\xba\\x9fI$\\x90\\x01\\xfc\\xe0\\x8b\\x17\\xf3U\\xeb\\x17\\x04|\\x04D\\xfb\\xe8\\xf5\\xce\\xe8\\x9f\\x0f\\xf6\\n\\xb8\\x1d\\xff\\x9aJ\\x8a\\x00!\\xa4\\xf17\\xb3\\x10\\xa7\\x8d\\x90`\\x1bs\\x96d\\xa9\\x8er\\xb2\\xbe\\xf8\\xa8\\x17\\xc0W\\x05\\xc0\\xaf\\x80\\xab}\\xf4Zg\\xd4\\xb3S8\\xaf>*\\x13b\\x1aC\\x8a\\x00\\x11\\xc8\\xa4\\xf17\\xbf\\x81=\\xa3\\xf8\\xec\\xdb#d\\xe5V\\xaa\\x8er\\\\$\\x90\\x0e\\xac\\xf5\\xf6\\x0b\\xf9\\xa2\\x00p`\\xdc\\xfdk\\xb3\\xf5\\xd4\\x07\\xcf\\x0c\\xa2c\\x1b\\x97\\xea\\x18~C\\x8a\\x00\\x11\\x88\\xfc\\xb1\\xf1\\x1f7$\\x9eY/\\r\\x95\\xc6\\xbf\\t\\xacV\\x0b\\x1d\\xdb\\xbaxgV\\xba\\xea(\\'\\xeb\\x05\\xbc\\x88\\x97\\xf7\\x05\\xf0E\\x01p\\x1d\\xc6\\xec\\x7f-\\\\<>\\x89\\x07o\\xee\\xac:\\x86\\xdf\\x91\"@\\x04\\x12\\x7fl\\xfc\\xc7\\x0c\\x8cg\\xce+\\xd2\\xf87G\\xc76.\\xd6m-d\\xa7>\\xd7\\xb6(`\\x17\\xb0\\xc9\\x9b/\\xe2\\xed\\x02\\xc0\\x82\\xb1\\xe7\\xbf\\x16\\xeb\\xfe\\x1dAV>}~\\x08\\xb1Q\\xb2\\xec\\xaf9\\xa4\\x08\\x10\\x81\\xc0\\x1f\\x1b\\xff\\xd1\\x03\\xe2\\x99\\xf7\\x9a4\\xfe-1\\xb8O4\\xaf|\\xb4\\x1f\\xb7[\\x9be\\x81\\x9d1v\\x07\\xf4\\x1ao\\x17\\x00\\x17\\xa1\\xd1\\x89\\xa3\\x96\\xaa\\x00\\x00 \\x00IDAT\\xae\\x7f\\xbf\\xbf\\xa9\\x13\\xd3&iu\\xfe\\x90\\xdf9^\\x04l\\xdcQ\\xa4S\\xb5|FR\\x04\\x88\\xc6\\x90\\xc6?p\\xc5D:(,\\xa9a\\xf9\\x06mvBM\\xc4\\xd8\\x13`\\x97\\xb7^\\xc0\\xdb\\x05\\xc0\\xff\\x00-\\x16\\xda\\xc7\\xc78\\x99\\xf9\\xcfA8\\x1d\\xf2C\\xd2R\\xc7\\x8b\\x80\\xf5[\\x8b\\xd8u@\\x8a\\x00a\\x0e\\xd2\\xf8\\x8b!\\xbd\\x8d\\xcd\\x81\\xca+\\xb5Y\\x16\\xd8\\x06\\xa3\\x1d\\xf5\\no\\x16\\x00c\\x80\\x87\\xbd\\xf8\\xfcM\\xf2\\xe8\\x9d\\xdd8kp\\x9c\\xea\\x18\\xa6a\\xb3Y\\xb8tbk\\xd6o\\x93\"@\\xf8?i\\xfc\\x05\\x18G\\x06\\xd7\\xd5\\xc1\\xb7+\\xb3UG9\\xae\\x1d\\xf0\\rp\\xc8\\x1bO\\xee\\xcd\\x02\\xe0y@\\x8b\\xf3u[\\xc59y\\xe7\\xa9\\x01\\x04\\xd9\\xe5\\x07\\xc5\\x93l6\\x0b\\x97\\x9e#E\\x80\\xf0o\\xd2\\xf8\\x8b\\x93\\xf5\\xef\\x1e\\xc5\\x1b\\x9f\\x1c\\xa0\\xb4\\\\\\x9b^\\x80(\\x8c\\x95t\\x1e\\xe7\\xad\\x02\\xa0\\x13\\xf0\\x02\\xc6$@\\xe5\\x1e\\xffm\\x0fF\\xa6\\xc9\\xa6?\\xde E\\x80\\xf0g\\xd2\\xf8\\x8bS9\\x82\\xacX\\xad\\x16\\xe6/\\xd3fs\\xa0\\xae\\x18\\x93\\xe9\\xf3=\\xfd\\xc4\\xde*\\x00\\xfe\\x0c\\x0c\\xf5\\xd2s7I\\xeb\\x84`\\xde\\xfc[\\x9a\\xdc\\xfd{\\x91\\x14\\x01\\xc2\\x1fI\\xe3/\\x1a\\xd2\\xbf{\\x14o}~\\x88\\xa2\\xd2\\x1a\\xd5Q\\x00\\xac\\x18\\xbb\\x02\\xce\\xf7\\xf4\\x13{\\xa3\\x00\\x08\\x07f\\x00N/<w\\x93=s\\x7fO\\x86\\xf6\\x8dQ\\x1d\\xc3\\xf4\\xa4\\x08\\x10\\xfeD\\x1a\\x7fq:v\\xbb\\x05\\xa7\\xc3\\xca\\xec\\xef3UG9\\xee\\xf8\\xc6@\\x1e\\xdd\\xae\\xd0\\x1b\\x9f\\xa4[\\x80\\x08/<o\\x93\\xa5&\\x87r\\xfd\\x85mU\\xc7\\x08\\x18Av+\\x17\\x8fO\\xf2\\xbbcG\\x9f}k\\x0f\\xf7>\\xbdYu\\x0c\\xe1#\\xfe\\xd8\\xf8\\xdbm\\x16\\xa6\\x9e\\x95\\x88#H\\x8bQ\\xd5\\x80p\\xcb\\xa5\\xedh\\x9f\\x12\\xaa:\\xc6q\\xe1\\xc0\\xf5\\x9e~RO\\xf7\\x00X\\x81\\xb7\\xd1\\xe4\\xd0\\x9f\\x7f>\\xd8\\x8b\\x01=\\xa3T\\xc7\\x08\\x08\\x9bw\\x15q\\xc1\\xafW\\xf1\\xd2\\x07\\xfbp\\xebs\\xbev\\xa3IO@`\\xf0\\xc7\\xc6\\x1f\\xa0\\xb6\\x0e\\xbeY\\x9e\\xc5\\xfc\\xe5Y\\x0c\\xeb\\x1bCB\\x8c\\x16\\x1d\\xac\\xa6f\\xb3Yp\\x85\\xd8\\x99\\xb5\\xe8\\xa8\\xea(\\xc7u\\x01\\xfe\\rx\\xec\\x02\\xeb\\xe9\\x02`2\\x9al\\xfc\\xd3\\xb9\\x9d\\x8bW\\x1e\\x91\\x03\\x7f|a\\xc6\\x17\\x87\\xb8\\xe8\\xae\\xd5\\xec\\xcb(S\\x1d\\xa5EVl\\xcc\\'\\'\\xbf\\x8a)\\xa3\\x13UG\\x11^\\xf0\\xe0\\xb3[y\\xfc\\xb5\\x9d\\xaac\\xb4Hzf\\x05\\xff\\xfd\\xec\\x00\\xe1\\xa1A\\x0c\\xed\\xab\\xc5}\\x96\\xa9\\xf5\\xed\\x1a\\xc9\\x07s2\\xc8-\\xa8R\\x1d\\x05 \\x06X\\x01\\xec\\xf1\\xd4\\x13z\\xba\\x00\\xf8\\x07\\x9a,\\xfd\\xfb\\xf7\\xc3}\\xe8\\xdbU\\x9b\\xf3\\x87L\\xa9\\xb8\\xb4\\x86\\x1b\\x1f^\\xcf_\\xfe\\xb3\\x83\\xea\\x1a\\xff\\xbb\\xeb\\xaf\\xcf\\x9a\\xcd\\x05\\xec=T\\xc6E\\xe3\\x93TG\\x11\\x1et\\xcb\\x9f7\\xf0\\xc2\\xbb{U\\xc7\\xf0\\x88\\x1aw\\x1ds\\x97f\\xb17\\xbd\\x8c\\t\\xc3\\xe3\\xfdn\\xc8\\xcd\\x9fX\\xad\\x16\\xa2\\xc2\\x83\\xf8\\xec\\xdb#\\xaa\\xa3\\x1c\\x17\\x06|\\xe8\\xa9\\'\\xf3\\xe4\\xedq[`/\\xbe;b\\xb8A\\x1dR\\\\\\xec\\x9c}66\\x9b\\xdc\\xfd{\\xcb\\xe1\\xac\\n&\\xde\\xba\\x82\\xcd\\xbb\\x8aTG\\xf1\\x8a\\x0b\\xcfN\\xe2\\xb3\\xe7\\x07\\xab\\x8e!<\\xe0\\x8a\\xfb~\\xe0\\xc39\\x19\\xaacxE\\xdf\\xae\\x91\\xccye(I\\xf1\\xc1\\xaa\\xa3\\x98\\x96\\xdb]G\\xd7s\\xbfe\\xcf\\xa1R\\xd5Q\\xc0X\\r\\xd0\\x118\\xe0\\x89\\'\\xf3d\\xe9x\\x1b\\x1a4\\xfe\\x00\\xf7^\\xdfQ\\x1a\\x7f/\\xda\\x9b^\\xca\\xe8k\\x97\\x9a\\xb6\\xf1\\x07\\xf8\\xfc\\xdb#\\x9cs\\xcbr\\xd51D\\x0b]\\xf8\\x9b\\xd5\\xa6m\\xfc\\x016\\xee(d\\xf8\\xd5K\\xfc\\xea\\\\\\x0e\\x7fc\\xb3Y\\xf8\\xcd\\xd5\\x1dT\\xc78\\xce\\x06\\xdc\\xe0\\xa9\\'\\xf3T+\\x19\\x04\\xec\\x07Z{\\xe8\\xf9\\x9a-&\\xd2\\xc1\\xc1o\\xcf\\xc1\\x15\\xa2E-b:k\\xb7\\x140\\xf9\\xf6\\x95d\\xe7yt5\\x8a\\xb6\\xc6\\x0c\\x8ae\\xd1\\x9b#U\\xc7\\x10\\xcdp\\xf6\\x8d\\xcbX\\xb8*Gu\\x0c\\x9fH\\x88q2\\xfb?Ce\\xd2\\xb3\\x97\\x94\\x96\\xbbi7~\\xbe.s\\x01\\x8e`l\\x11\\\\\\xdd\\xd2\\'\\xf2T\\x0f\\xc0\\x05h\\xd0\\xf8\\x03\\xdcqe\\xaa4\\xfe^\\xb2uO1\\xe7\\xdc\\xb2\"`\\x1a\\x7f\\x80\\xc5kr9\\xf7W+U\\xc7\\x10Mt\\xd1]\\xab\\x03\\xa6\\xf1\\x07\\xc8\\xca\\xabd\\xe2\\xad+\\xd8\\xba\\xa7Xu\\x14Sr\\x85\\xd8\\xb8\\xf5\\xb2v\\xaac\\x1c\\x97\\x04\\x9c\\xeb\\x89\\'\\xf2T\\x01p\\xa3\\x87\\x9e\\xa7E\\x9c\\x0e+w^\\xa9MW\\x8d\\xa9\\xa4g\\x963\\xf9\\xb6\\x15\\xe4\\x15jQ\\x01\\xfb\\xd4\\xec\\xef3\\xb9\\xfb\\t\\xd9\\'\\xc0_<\\xf0\\xecV>\\xd7g\\xd2\\x96\\xcf\\xe4\\x16Tq\\xce-\\xcb9p\\xd8\\xbfW\\xe3\\xe8\\xea\\xeek:\\xea\\xb4\\t\\x93G\\x86\\x01<\\xf1\\xb7I\\x06\\xce\\xf1\\xc0\\xf3\\xb4\\xd8\\xb5\\xe7\\xb7\\xa1U\\x9c\\xac\\x8f\\xf5\\xb4\\x9c\\xfc*&\\xdc\\xb4\\x9c\\x83G\\xcaUGQ\\xe6\\xf9w\\xf60s\\xfea\\xd51\\xc4\\x19\\xcc\\x9cw\\x98\\xa7\\xdf\\xf0\\xda\\xf1\\xe9\\xda\\xcb\\xc8\\xac`\\xca\\xed+\\x03\\xb2P\\xf7\\xb6\\xc4X\\'WN\\xd1\\xe2t{\\x80)\\x18=\\x01-\\xe2\\x89\\x02\\xe0Z4\\x98\\xfcg\\xb1\\xc0o\\xaf\\xed\\xa8:\\x86\\xe9\\xd4\\xd6\\xd61\\xfd\\x81\\xb5l\\xdf\\'\\x93\\x8c\\xae\\xf9\\xfdZ\\xf6\\xa6k1\\x13X\\xd4c\\xcf\\xa1R\\xa6?\\xb8Vu\\x0c\\xe5\\xb6\\xee)f\\xfa\\x03\\xeb\\xa83\\xc7\\xca\\\\\\xad\\xfc\\xfe\\xa6\\xceX\\xf4\\x98_n\\x07\\xaen\\xe9\\x93x\\xaa\\x00P\\xee\\xbc1\\xad\\xe8\\xd11\\\\u\\x0c\\xd3y\\xf2\\xf5]\\xcc\\xd3\\xe7T,\\xa5*\\xabk\\xb9\\xe87\\xab\\xa9\\xaa\\xaeU\\x1dE\\x9c\\xa2\\xb2\\xaa\\x96\\x8b\\xef^CU\\x95\\xfc\\xdb\\x00\\xccY\\x92\\xc9\\xdf\\xff\\x1b\\xb8=!\\xde\\xd2\\xad}\\x18\\x93Fj\\xb3Q\\xd8\\xcd-}\\x82\\x96\\x16\\x00#\\x81n-\\r\\xe1\\t\\xf7^/w\\xff\\x9e\\xb6rc>\\x8f\\xbc\\xe8\\x7f\\xdb\\xa6z\\xd3\\xa6\\x9dE<\\xf8\\xecV\\xd51\\xc4)\\xee\\x7ff\\x0b\\x9bv\\x14\\xaa\\x8e\\xa1\\x95?>\\xb7\\x8de\\xeb\\xf3T\\xc70\\x1d\\x8d\\xda\\x9a\\xae\\xc0\\x90\\x96<AK\\x0b\\x00-\\xee\\xfe\\x07\\xf4\\x8cb\\xcc\\xa08\\xd51L\\xa5\\xb4\\xdc\\xcd\\x15\\xf7\\xfd@u\\x8d\\xdcQ\\x9d\\xea_o\\xefa\\xfer\\xe9\\x15\\xd1\\xc5\\x9c%\\x99\\xfc\\xfb=s\\xec\\xf2\\xe7I5\\xee:\\xaeyp-e\\x15n\\xd5QL\\xe5\\xec\\xa1\\xf1\\xf4\\xef\\xae\\xcd.\\xb3\\xd7\\xb5\\xe4\\x9b[R\\x008\\x80\\x8b[\\xf2\\xe2\\x9er\\xe7\\x95\\xedUG0\\x9d\\xbf\\xbc\\xbcCf\\x137\\xa0\\xae\\x0e\\xee\\xfc\\xcb&**\\xa58R\\xad\\xb2\\xaa\\x96\\xdf>\\xb9Y\\xc6\\xbb\\x1b\\xb0/\\xbd\\x8c\\'\\xfc\\xfc\\xfc\\x03\\x1d\\xddq\\x856m\\xce\\xe5\\x18mq\\xb3\\xb4\\xa4\\x00\\x98\\x02\\xc4\\xb6\\xe0\\xfb=\"\\xdce\\xe7\\xb2\\x89ZlA`\\x1a;\\xf7\\x97\\xf0\\xaf\\xb7=v\\xde\\x84)\\xed>X\\xca?\\xde\\xdc\\xad:F\\xc0{\\xf2\\xf5]\\xb2\\x0b\\xde\\x19<\\xfd\\xc6n\\x99\\xc4\\xebaWLI&\"\\xcc\\xae:\\x06\\x18\\x07\\x04Mh\\xee7\\xb7\\xa4\\x00\\xb8\\xb2\\x05\\xdf\\xeb1\\xd3\\xa7\\xb6!,T\\x8b\\x7f\\x08\\xd3\\xf8\\xd5c\\x1b\\xa9\\x94\\xc9Tg\\xf4\\xf8\\xab;\\xa5\\x97D\\xa1}\\xe9e<\\x15\\xc0K\\xfe\\x1a\\xab\\xaa\\xba\\x96\\xbb\\x1f\\xffQu\\x0cS\\t\\x0b\\xb5s\\xf9\\xa4d\\xd51\\x8e\\xbb\\xaa\\xb9\\xdf\\xd8\\xdc\\x02 \\x1c8\\xaf\\xb9/\\xeaI7_\\xa2\\xcd\\xeeL\\xa6\\xb0hMN@\\xed\\xa0\\xd6\\x12e\\x15n\\xfe\\xfa\\x8at\\xaf\\xaa\\xf2\\xd8\\xcb;(\\x97\\xf1\\xedF\\x99\\xbf<\\x8b%ksU\\xc70\\x95[.KU\\x1d\\xe1\\xb8\\x0b1N\\tl\\xb2\\xe6\\x16\\x00\\x17\\x03\\xa1\\xcd\\xfc^\\x8f\\x19\\xd03\\x8a\\xb4\\x1e\\xdaL\\xc60\\x85\\xbfI\\x83\\xd6$o}~(\\xa07HR%=\\xb3\\x9c\\xf7\\xbeNW\\x1d\\xc3\\xaf<\\xfe\\xaa\\xfcl{\\xd2\\xa0^Q\\xbaL\\x06\\x0c\\x05\\xceo\\xce76\\xb7\\x00\\xb8\\xbc\\x99\\xdf\\xe7Q\\xb7\\\\*w\\xff\\x9e\\xb4\\xfa\\xc7|\\x16\\xac\\xc8V\\x1d\\xc3\\xafT\\xd7\\xd4\\xf2\\x9c\\xcc\\x97\\xf0\\xb9g\\xfe\\xb7[\\xf6ch\\xa2\\xb9K\\xb3X\\xb3\\xb9@u\\x0cS\\xb9I\\x9f\\x1e\\xe8f\\xb5\\xc9\\xcd)\\x00\"\\x81\\xb3\\x9b\\xf3b\\x9e\\xe4\\n\\xb1\\xe9\\xb4-\\xa3)\\xfc\\xfd\\xbf2\\xa9\\xad9^\\xf9h?\\xf9E->\\x98K4R^a\\x15\\xaf\\x7f\\xec\\x91\\xe3\\xd0\\x03\\xce3\\xff\\x93\\x9fqO\\x9a~^\\n\\xa1\\xc1\\xca7\\xc2\\x05\\x98\\x08D4\\xf5\\x9b\\x9aS\\x00L\\xa5\\x05\\xcb\\x0e<\\xe5\\x8a))\\xba\\xcc\\xc24\\x85\\xbc\\xc2*f-:\\xaa:\\x86_*-w\\xf3\\xd1\\\\\\xf3\\x9e9\\xaf\\x9b\\x0ffgPZ.c\\xff\\xcd\\xf1\\xf9\\xb7Gt9\\xd2\\xd6\\x14\"\\xc3\\x83\\xb8T\\x8fUhN`rS\\xbf\\xa99\\x05\\xc0%\\xcd\\xf8\\x1e\\x8f\\x93\\xee\\x7f\\xcfz\\x7fv\\x86\\xcc\\xfco\\x81w\\xbf\\x92\\xf1h_\\x91\\xf7\\xba\\xf9\\xaa\\xaak\\xf9X\\x0e\\xb5\\xf2(\\x8d\\xda\\xa2&\\xb7\\xcdM-\\x00B\\xd1\\xe0\\xe4\\xbf\\xde]\"\\x18\\xd2\\'Zu\\x0cSy\\xfb\\xcbC\\xaa#\\xf8\\xb5\\xa5\\xebr\\xd9\\x97.K\\x02\\xbdm\\x7fF\\x19+6\\xca\\xf6\\xb6-!?\\xeb\\x9e52-V\\x97sh\\xce\\x05\\\\M\\xf9\\x86\\xa6\\x16\\x00S\\xd0`\\xf6\\xff\\xb5\\xe7\\xb7Q\\x1d\\xc1T\\xf6\\xa5\\x97\\xb1jS\\xbe\\xea\\x18~\\xad\\xae\\x0e>\\x9a\\'\\xc3\\x00\\xde\\xf6\\xde\\xd7\\xe9\\xb2\\xeb_\\x0b-\\xdf\\x90\\xc7\\xa1\\xa3\\xb2r\\xc5\\x93\\xae\\xd1\\xa3Mj\\xf2\\rzS\\x0b\\x80\\x0b\\x9b\\xf8\\xe7=\\xcebAv\\xfe\\xf3\\xb0oW\\xca\\xcc\\x7fO\\x90\\x15\\x14\\xde\\'\\xefq\\xcb\\xd5\\xd5\\xc9\\xcf\\xbc\\xa7]>)Y\\x97c\\x82/h\\xca\\x1fn\\xca,:\\x1b0\\xa9iY<oX\\xdf\\x18\\xda\\xb5V\\xde\\ta*\\xdf\\xad\\xd6s\\xe3\\x9f\\xc8\\xd0\\x10\\xda%\\xc4\\x10\\x19\\x1aB\\xa8\\xd3Aeu\\r\\xa5\\x95Ud\\xe4\\x16p$\\xbf\\x90:\\xcdn\\x05\\x97\\xaf\\xcf\\xa3\\xaa\\xba\\x16G\\x90\\'N\\xd9\\x16\\xa7\\xaa\\xac\\xaae\\xa5\\x86=U\\x16\\x8b\\x85\\xa4\\xe8H\\x92c\\xa3p9\\x1d8\\x82\\xec\\x94WVQPV\\xce\\xc1\\xac<\\n\\xcb\\xf4\\xbb\\xdb^\\xb8*\\x87\\xeb/l\\xab:\\x86i\\xb4O\\te`\\xcf(\\x1d\\x96YN\\xc1h\\xab\\x1b5K\\xb6)\\x05\\xc0\\x084\\xd8\\xfb\\xff\\xf2\\xc9\\xdal\\xbfh\\nuu\\xfa\\x15\\x00m\\xe3c\\x18\\xd6\\xb5\\x03\\tQ\\r\\x8f\\xab\\x95WU\\xb3v\\xf7\\x016\\xecK\\xd7\\xa6\\x10(\\xabp\\xb3\\xfa\\xc7|F\\xa6)\\xff11\\xa5U\\x9b\\xf2\\xb5\\xda\\xf9\\xcfb\\xb1\\xd0\\xb7}\\n\\x03;\\xb5#\\xc4\\x11\\xd4\\xe0\\x9f\\xcb,(b\\xc5\\x8e}\\x1c\\xca\\xd6g\\xee\\xc2\\xc2U\\xd2\\x03\\xe0i\\x97ON\\xd6\\xa1\\x00\\x88\\x07\\x06\\x03+\\x1a\\xf3\\x87\\x9br\\xab\\xa2|\\xeb_\\xab\\xd5\\xc2%\\x13\\xa4\\xfb\\xdf\\x93\\xf6\\x1c*\\xe5Hv\\x85\\xea\\x18\\x00\\x04\\xd9lLJ\\xeb\\xc9\\x05C\\xfa\\x9e\\xb6\\xf1\\x07\\x08q\\x041\\xb2G\\'\\xae\\x1a3\\x08\\x87]\\x8bu\\xb8\\x00|\\xff\\x83l\\xb7\\xea-:me\\x1bd\\xb7q\\xd5\\x98A\\x8c\\xea\\xd1\\xe9\\xb4\\x8d?@bT\\x04\\x17\\x0e\\xe9\\xcb\\xc4\\xb4\\x9e\\xd8mz|V32+\\xd8\\x9b^\\xaa:\\x86\\xa9L\\xd3g\\x18\\xa0\\xd1muS\\n\\x80\\xa9\\xcd\\x08\\xe2Q\\xa3\\x06\\xc4\\x92\\x9c\\x18\\xac:\\x86\\xa9l\\xdb[\\xac:\\x02\\x00\\xce ;\\x97\\x0c\\xefO\\xe7\\xd6\\tM\\xfa\\xbe\\x980\\x17\\xd7\\x8e\\x1bF\\xf0\\x19.\\xc2\\xbe\\xb2u\\x8f\\x1e\\xef\\xa7\\x19m\\xd9\\xad\\xc7{\\x1b\\xec\\x08\\xe2\\xbaq\\xc3\\x88\\tk\\xd2\\x84k\\xba\\xb4N\\xe0\\x92\\xe1\\xfdq\\xd8\\xf5\\xd8\\xbfd\\xdb\\x1e9!\\xd0\\x93\\xda\\xb4\\naX\\xdf\\x18\\xd51\\xc0\\x0b\\x05@\\x07\\xa0[\\xf3\\xb2x\\xce4\\x99\\xfc\\xe7q\\xdb\\xf7\\xaa\\xbf\\x08X,\\x16\\xce\\xe9\\xdf\\x83\\xf8\\xc8\\xe6-\\xa5\\tq\\x041}\\xec`\\x1cA\\xea/\\xac\\xbb\\x0e\\xc8]\\x95\\xb7\\xec<\\xa0\\xfe\\xb3\\xea\\xb0\\xdb\\xb8j\\xcc\\xe03\\xde\\xf57$!2\\x9c\\xc9\\x03zb\\xd1\\xe0Vq\\x87\\x1c\\xa3\\xecq\\xd3\\xf48!\\xb0\\x0f\\x90\\xda\\x98?\\xd8\\xd8\\x02`J\\xb3\\xa3x\\x88\\xcdf\\xe1\\x92s\\xa4\\x00\\xf04\\x1d.\\xaa}R\\x93IMh\\xd9\\xb8y\\x88\\xc3\\xc1\\xd4A}<\\x94\\xa8\\xf9\\xe4lz\\xef\\xd9\\xa5\\xc1g\\xf5\\xfc!}q9[\\xb6\\x11j\\xdb\\xf8\\x18z\\xb7S\\x7f-\\xdb\\xb1O\\xfd\\xfbi6\\xd3&\\xb5\\xc6fS_\\xdc\\xd1\\xc8\\xe5\\x80\\x8d-\\x00&\\xb4 \\x88G\\x8c\\x1d\\x14Gb\\xacSu\\x0c\\xd3Q}\\xc7\\xea\\xb0\\xdb\\x19\\xd49\\xd5#\\xcf\\xd5:&\\x92\\xf6\\x89q\\x1ey\\xae\\xe6*(\\xae&;\\xafRi\\x063\\xca\\xcc\\xad\\xa4\\xa8\\xa4Fi\\x86\\xf6\\x89q$E{\\xe6\\xf4\\xb7\\xc1\\x9dS\\x95\\xcf]\\xd1\\xa1\\xa02\\x9b\\xa4\\xf8`F\\xf4\\xd7b\\x18\\xa0Qmvc\\n\\x00;0\\xa6eYZNf\\xff{\\x87\\xea}\\xc1;\\xb6\\x8akvwj}z\\xb5U\\x7fg\\x95[(\\x07\\x03yZN\\xbe\\xfa\\xfd\\xeb{y\\xf0\\xae=\\xc4\\xe9P^\\xac\\xe6\\xc9\\xe7\\xd4+.\\xd7c\\x18`<\\xc6r\\xc0\\xd3jL\\x010\\x04\\xe3\\x04@el6\\x0b\\x17\\x8ek\\xa52\\x82i\\x95\\x94\\xa9\\xbf\\xab\\xf2\\xa4\\x94\\xb8h\\xe53\\xad\\x8bK\\xd5\\xbe\\xa7fTZ\\xae\\xf6=\\r\\xb2\\xd9h\\x13\\xe7\\xd9\\xed\\xc7;\\xb4R[\\x00\\x14\\x95J\\x01\\xe0\\r\\x17Oh\\x8d\\xd5\\xaa|\\x18 \\n\\x18x\\xa6?\\xd4\\x98\\x02@\\xf9\\xde\\xff\\x83zE\\x11\\x1f#\\xdd\\xff\\xde\\xa0\\xba[56\"\\xcc\\xa3\\xcfg\\xb7Y\\x89r\\x85x\\xf49\\x9bJuQeF\\xaa\\x8b\\xaa\\xa8\\xb0\\x10lV\\xcfn\\xf0\\x14\\x1b\\xee\\xd9\\xcf~S\\xa9~O\\xcd\\xaaU\\x9c\\x93\\xfe\\xdd\\x95\\xde3\\x1fw\\xc6a\\x80\\xc6|\\xa2\\x95\\x8f\\xffO\\x1e\\x95\\xa8:\\x82i\\xa9n\\xacZ:\\xa1\\xcaW\\xcf\\xd9\\x14ra\\xf5\\xbc\\x922\\xb5\\x1b\\x00\\xb9\\x9c\\x9e\\xbf\\x01\\t\\x0bV{S#\\x9fS\\xef\\x99<\\xaai\\xcb\\x99\\xbd\\xa4\\xc5\\x05@80\\xc83Y\\x9ao\\xd2H-\\xdeL\\xe1\\x05\\xde\\xd8\\xc3O\\x8f}\\x01\\x85\\x99xc\\xb7\\xc9:\\xf9\\xa4\\x9a\\x96&7\\xadC9\\xc3\\xe1}g*\\x00F\\xd0\\xb4\\xed\\x82=..\\xda\\xc1\\xc0\\x9eQ*#\\x98ZX\\xa8\\xda\\xb5\\xf3e\\x95\\x9e\\x9f1_Z\\xa1v\\x16~D\\x98\\xfa\\xfd\\x08\\xcc&\\xdc\\xa5\\xf6=-\\xad\\xf4\\xfc$\\xc4\\x92\\n\\xb5\\x13\\x1bU\\xbf\\xa7f6\\xa4w4\\xb1Qj{\"\\x01\\x070\\xect\\x7f\\xe0L\\x05\\xc0h\\xcfei\\x9eI#\\x13t\\x98PaZ\\xaa\\x1b\\xab\\x9c\"\\xcf.C\\xacq\\xbb\\x95\\x1f\\xbe\\x12\\xae\\xb8\\xa82#\\xd5\\x8dUAi95\\xeeZ\\x8f>gn\\x91\\xdaex\\xaa\\xdfS3\\xb3\\xd9,\\x8c\\x1f\\x16\\xaf:\\x06\\x9c\\xa1\\r?S\\x01\\xa0|\\xf9\\x9f&])\\xa6\\xa5\\xba\\x07`_\\xa6g\\x0f\":\\x90\\x9d\\xe7\\xf1\\x0buS\\xc9\\x85\\xd5\\xf3T\\xbf\\xa75n7\\x87r<{\\x98\\xcf^\\x0f\\x7f\\xf6\\x9b*\\xc2\\xa5\\xc7\\xf6\\xd9f\\xa5I\\xdb\\xd5\\xec\\x02 \\x84F,#\\xf0&\\xabU\\x9b*\\xca\\xb4TwS\\xed=\\x9aMy\\x95\\xe7\\x96#m=x\\xc4c\\xcf\\xd5\\\\1\\x91\\xca\\xbb\\xfeL\\'&R}c\\xb5\\xc5\\x83\\x9f\\xad\\xb2\\xca*\\x8f\\x17\\xbfM\\xa5\\xc3{jf\\x13G$\\xe8p8\\xd0P\\xa0\\xc1\\x03tNW\\x00\\x0c\\xc3\\x18CPf`\\xcf(\\x12d\\xf9\\x9fWun\\xd7\\xb4\\x03M<\\xad\\xaa\\xc6\\xcd\\x9a\\x9d\\xfb=\\xf2\\\\\\xe9\\xb9\\xf9\\xec\\xcfR{b\\\\L\\xa4\\x83\\xb8h)\\x00<-!\\xc6IT\\xb8\\xda\\x06k_f\\x0e\\x19y\\x9e9\\xeeu\\xf5\\xce\\xfdT\\xd7\\xa8]\\xd9\\xd0\\xb9\\x9d\\xdae\\x88f\\xd7*\\xceI\\xbfn\\xca\\x97\\x03\\x06s\\x9a\\x89\\xfc\\xa7+\\x00Fz>K\\xd3h\\xb2\\x94\\xc2\\xd4\\xba\\xa6\\xaa\\xbf\\x08l:\\x90\\xc1\\xfe\\xcc\\x965\\xdc\\x15U\\xd5,\\xdc\\xb8\\xc3C\\x89\\x9a\\xafk{\\xf5\\xef\\xa7Yu\\xd1\\xe0\\xb3\\xba`\\xc3\\xb6\\x16\\xf7X\\x1d\\xcc\\xcec\\xf3\\xc1\\xc3\\x1eJ\\xd4|\\xdd:\\xa8\\x7f?\\xcdn\\xcah-\\x86\\x01F5\\xf4\\x1bg\\xea\\x01PJ\\x931\\x14S\\xd3\\xa1\\xc1\\xaa\\xab\\xabc\\xde\\xfa\\xadd\\x156\\xef\\xb8\\xd7\\xaa\\x9a\\x1a\\xbe\\xfea\\xb3\\xf2\\xc9\\x7f\\x00]\\x14\\xf7\\xa8\\x98\\x99\\x0e\\x9f\\xd5\\xa2\\xb2\\n\\xe6\\xac\\xddLU3\\xef\\xde\\xb3\\n\\x8a\\x99\\xb3v\\x8bW\\x96\\x156U\\x17\\xe9\\x01\\xf0:M\\x96\\xb0\\x0fi\\xe87\\x1a*\\x00,\\xc0`\\xefdi\\x9c\\x880\\xbb,\\xff\\xf3\\x81\\xee\\x1d\\x9aw\\x04\\xaf\\xa7U\\xd5\\xd4\\xf0\\xc9\\xf2\\xf5\\xec:\\x9c\\xd5\\xa4\\xef+(-g\\xe6\\xb2u\\x1c\\xf6P\\xd7lKu\\xef\\xa8\\xc7\\xfbiF\\xba|V3r\\x0b\\xf8x\\xd9Z\\nK\\x9bVp\\xee\\xcc\\xc8\\xe4\\x93\\x15\\xeb\\xa8\\xaa\\xd1c\\x03\\x9e\\xee\\x1d\\xa5\\x00\\xf0\\xb6\\xa1}cp\\x85\\xa8\\xdd\\x9a\\x1cc\\x1e@\\xbd\\x1a*\\x00\\xba\\x00J\\x8f4\\x1a\\xd67F\\x97c\\x15M\\xadS[\\x17\\xad\\x13\\x1a\\x9c#\\xe2S5n7s\\xd7m\\xe1\\xf3U\\x1b9ZPt\\xda?[VY\\xc5\\xd2\\xad\\xbbyo\\xf1j\\xf2\\x8a\\xd5\\x9ehx\\xb2\\xd1\\x03Zv\\xac\\xb1h\\xd8\\xa8\\x01Z\\x9c\\xb2\\x06@nq)\\xef.^\\xcd\\xb2m{(;\\xc3\\x1e\\x01G\\xf3\\x8b\\xf8|\\xe5\\x06\\xe6\\xad\\xdf\\xaa|\\x85\\xcaq)\\x89!tH\\x91\\xde*o\\xb3\\xdb,\\x0c\\xe9\\xe3\\xd93$\\x9a!\\x01\\xe8X\\xdfo4\\xb4\\xb6\\xa6\\xc1.\\x03_\\x19\\x91\\xa6\\xcf\\x0f\\xbb\\xd9\\x9d58\\x8ew\\xbfJW\\x1d\\xe3\\x84C\\xd9y\\x1c\\xca\\xce#\"4\\x98v\\xf1\\xb1D\\xbaB\\x08u:\\xa8\\xac\\xae\\xa6\\xb4\\xa2\\x8a\\x8c\\xbc\\x02\\x8e\\xe6\\x17i\\xd1\\x8dz\\xb2p\\x97\\x9dA\\xbd\\x95\\xff\\xb0\\x9b\\xd6\\x90>\\xd1\\x84\\x85\\xda\\x95o_}\\x9c\\xbb\\xb6\\x96u{\\x0e\\xb2~\\xef!ZEG\\x90\\x1c\\x13\\x85+\\xd8\\x813(\\x88\\xb2\\xca*\\nK\\xcb9\\x90\\x9dKQY\\x85\\xea\\xa8\\xbf0n\\xa8\\xda\\x83\\x88\\x02\\xc9\\x88\\xfe\\xb1,\\\\\\xa5v\\xc5\\x07F/\\xc0\\x9eS\\xbf\\xa8o\\x01\\xd0_\\xee\\xa4|E\\xb7\\x02\\xe0\\xb8\\xa2\\xb2\\n~<\\x90\\xa1:F\\xa3\\x8d\\x19\\x18\\x87]z\\xad\\xbc&\\xc8neD\\xff\\x18\\xe6-k\\xda0\\x91\\xb7\\xd5\\xd5\\xd5q$\\xaf\\x90#y\\x85\\xaa\\xa34\\xda\\xb8!\\xb2\\xbc\\xdaW4\\xb9\\x99\\x1d\\x02\\xbc{\\xea\\x17\\x1b\\x1a\\x02P:\\xfeo\\xb7Y\\x18\\xdc[\\xc6\\xff}\\xe5\\xec\\xa1r1\\xf0\\x84\\xb3\\xe5\\xae\\xca\\xebd_\\x90\\x96\\xb3X\\xe4\\xb3\\xeaK\\x9a\\x0cg\\xd7{S__\\x01\\xe0\\x00z{7\\xcb\\xe9\\xf5\\xed\\x16\\xa9|\\x87\\xba@\\x92\\x9a\\x1c\\xca\\xd0\\xbe\\xd2u\\xdd\\x12V\\xab\\x85K\\'\\xb6V\\x1d\\xc3\\xf4\\xa6MJ\\x96\\xad\\xc1[hD\\xffXR\\x12\\xd5\\x1e\\x99\\x1dH\"\\xc2\\xec\\xf4\\xea\\x14\\xa1:F\\x1f\\xe0\\x17\\x1bi\\xd4W\\x00\\xf4\\x00\\x94\\xee\\xbe3\\xa2\\xbf\\x16]&\\x01\\xe5\\x9a\\xa9mTG\\xf0kg\\x0f\\x8d\\x93\\x8b\\xaa\\x0f\\xb4M\\na\\xcc@\\x19\\x1el\\x89k\\xceOQ\\x1d!\\xe0h0\\x0c\\x10\\x0ct=\\xf5\\x8b\\xf5\\x15\\x00i\\xde\\xcfrzR\\x00\\xf8\\xde\\x15S\\x92q:\\xcet4\\x84h\\x88\\x14P\\xbes\\xcd\\xf9\\xf2^7W\\xb0\\xd3\\xca\\xb4I\\xc9\\xaac\\x04\\x1cM\\xda\\xb4\\xfe\\xa7~\\xa1\\xbe+\\xfe/\\xfe\\x90\\xaf\\r\\xd7\\xe3\\xcd\\n(1\\x91\\x0e\\xce?\\xab\\x95\\xea\\x18~)\"\\xcc\\xceE\\xe3\\x93T\\xc7\\x08\\x18\\x97\\x9e\\xd3Z\\xf9\\xe1@\\xfe\\xea\\x82qI\\xca\\xb7T\\x0eD#\\xd3\\xb4\\xe8\\xb5\\xd2\\xbf\\x00h\\xd7:T\\xbaR\\x15y\\xf0\\xe6.:\\x1c^\\xe1w\\xee\\xbc\\xb2\\xbd\\xccY\\xf1\\xa1p\\x97\\x9d\\xdb/OU\\x1d\\xc3/\\xddwC\\'\\xd5\\x11\\x02R\\xdb\\xa4\\x10\\xda\\xb4R\\xde\\xae\\x9d\\xb1\\x00\\xb0\\x02}}\\x93\\xa5~\\x9at\\x95\\x04\\xa4\\xb4\\x1e\\x91L\\x18\\xa6\\xc5\\xd6\\x95~#4\\xd8\\xc6o\\xaf\\xadw\\x8f\\r\\xe1E\\xf7^\\xdf\\x89\\x90`\\xe5;\\xac\\xf9\\x95)\\xa3\\x13ewU\\x854\\x98\\x07\\xd0\\x0fc\\x97\\xdf\\x13N-\\x00R\\x01\\xa5\\xfbC\\x0e\\x90\\x0f\\xa8R\\x7f\\xbc\\xad\\x8b\\xea\\x08~\\xe5\\xb6i\\xa9rb\\xa5\\x02\\x89\\xb1Nn\\xba\\xb8\\xad\\xea\\x18~\\xe5\\x0f\\xb7tV\\x1d!\\xa0\\xa5uW\\xde\\xb6E\\x01?\\x9b\\x00rj\\x01\\xd0\\xc3wY\\xea\\xd7\\xa7\\x8b\\xf2\\xe5\\x12\\x01m\\xf4\\xc0XYk\\xddH\\xe1.;\\xf7\\xdf(]\\xaa\\xaa<psg\\x1d\\xf6Y\\xf7\\x0b\\x93F&\\xe82\\x0e\\x1d\\xb0\\xfat\\xd5\\xa2m\\xeby\\xf2\\xff\\x9cZ\\x00\\xf4D1M\\xde\\xa4\\x80\\xf6\\xd2\\xff\\xf5\\x95\\x15\\x01\\x8d\\xf0\\xc8\\x9d\\xddH\\x8a\\xd7\\xe3\\x1c\\x85@\\x94\\x92\\x18\\xc2\\xff\\xfd\\xea\\x17+\\x9b\\xc4)\\x1cAV\\xfe\\xf5\\xa0\\xd2\\xad]\\x04\\xda\\xdc\\xdc\\xfe\\xec&\\xff\\xd4\\xab|w\\x1f\\x06\\xf9\\x85VqN\\xe9N\\xd5@\\xe7v.\\xee\\xb9N\\xc6\\xb5O\\xa7g\\xa7p~su{\\xd51\\x02\\xde\\xbd\\xd7w\\xa2\\xb7\\x1e\\x17Vm=xsg-\\x8eR\\x0etI\\xf1\\xc1:\\xb4o\\xfa\\xf6\\x00\\xf4\\xe9\\x12\\xa9\\xf2\\xe5\\xc5I\\x1e\\xbe\\xbd+\\xa9\\xc9\\xa1\\xaach\\xc9b\\x81\\x97\\xff\\xd4\\x97 \\xbb\\xf4\\x92\\xa8f\\xb7Yx\\xfe\\xa1\\xde\\xb2z\\xa5\\x01\\x1dR\\\\<x\\xb3\\x8c\\xfd\\xebB\\x83b\\xb5\\xc1\\x1e\\x00\\x0b\\xd0\\xcd\\xb7Y~N\\xba\\xff\\xf5\\x11\\x1al\\xe3\\x83g\\x06J#W\\x8f\\x07n\\xea\\xcc(9\\xf6W\\x1bc\\x07\\xc5q\\xcfu2\\x17\\xe3Tv\\x9b\\x85\\x19O\\xa6\\xc9j\\t\\x8dhP\\x00\\xf4\\xe4\\xa4\\x95\\x00\\'_\\xddSP\\xbc\\x02\\xa0Wg\\xe5o\\x8e8\\xc9\\x90>\\xd1<\\xf6\\x1b\\xa55\\xa1v\\x86\\xf6\\x95\\xf7DGO\\xde\\xd3\\x83\\xe1\\xfd\\x94/\\xb3\\xd2\\xca\\x93\\xf7\\xf4\\x90e\\xd5\\x9a\\xd1`\\x1e@\\x04pb\\xd7\\xb2\\x93\\x0b\\x00\\xe5\\xfdD}\\xa5\\x07@;\\x0f\\xdc\\xd4Yv\\x08<&:\"HzE4e\\xb7Y\\xf8\\xe0\\x1f\\x03\\x89\\x8dr\\xa8\\x8e\\xa2\\x85)\\xa3\\x13\\xa5WDC\\x1a\\xf4\\x00\\x00\\x9c\\x98\\xe0u\\xf2\\x95L\\xe9\\xa7\\xc5n\\xb3\\xd0\\xbdC\\xb8\\xca\\x08\\xa2\\x1e\\x16\\x0b\\xfc\\xefo\\xfd\\xe9\\xd11\\xb0\\xffm\\x9c\\x0e+\\x9f<7\\x98v\\xade^\\x84\\xae\\xda\\xb4\\n\\xe1\\x83g\\x06\\xe2\\x08\\n\\xec\\x02\\xadW\\xe7\\x08\\xdeyj\\x80\\xcc\\x8b\\xd0P\\xcf\\x8e\\xe1:\\x1c\\r|\\xa2\\xad?\\xf9\\'E\\xe9\\xb4\\xefn\\x1d\\xc2e\\xe9\\x99\\xa6b\"\\x1d\\xcc\\x7fmx\\xc06~V\\xab\\x85\\xb7\\x9f\\x1c\\xc0Y\\x83\\xe5\\x0cu\\xdd\\x8d\\x1f\\x16\\xcf\\x87\\xff\\x18\\xa8\\xc3EV\\x89\\x94\\xc4\\x10\\xbe~y(\\xd1\\x11\\xb2\\xdf\\xbf\\x8eB\\x82mtn\\xebR\\x1dC\\xbf\\x1e\\x80^\\x9d\\x03\\xfb\\x0eSw\\xc9\\x89\\xc1|\\xf3\\xfap\\x1d\\x96\\xb1\\xf8\\xdc?\\x1f\\xe8\\xc5e\\x13[\\xab\\x8e!\\x1a\\xe9\\xc2\\xb3\\x93x\\xe1\\xa1\\xc0[\\xf7\\x1e\\x1b\\xe5`\\xfe\\xeb\\xc3h\\x9b\\xa4|\\xcfyq\\x1a\\x1a\\x0c\\x03\\x9c\\x18\\xee\\xd7\\xa6\\x00\\xe8\\x9a*\\xebTu\\xd7\\xb9\\x9d\\x8b\\xd9\\xff\\x19\\x1a0E\\x80\\xc5\\x02\\xcf>\\xd0\\x8b\\xbb\\xa6wP\\x1dE4\\xd1\\xaf\\xaeh\\xcf3\\xf7\\xf7\\x0c\\x98n\\xf0\\xc4X\\'\\xf3_\\x1b.\\xc3\\xa8~\\xa0\\x8b\\xfa\\xb6\\xae\\xde\\x1e\\x00\\xa5W9Ys\\xee\\x1f\\x06\\xf4\\x8cb\\xc5\\xfb\\xa3\\xe8\\xa4\\xbe\\x1b\\xcb\\xab\\xec6\\x0b\\xaf?\\xd6\\x9f\\xdf\\xc9A?~\\xeb\\xde\\xeb;1\\xe3\\x894\\xd3O\\xdal\\x9f\\x12\\xca\\xf73F\\x92\\xd6C\\xf6Q\\xf1\\x07\\xed\\xd5\\xb7u\\xbf\\x98\\x03\\x10\\x8b\\xe2%\\x80\\x1a\\xbc)\\xa2\\x91:\\xa4\\xb8\\xf8~\\xc6H\\xfav5\\xe7\\x05\\',\\xd4\\xceW/\\x0f\\xe5F9l\\xc6\\xefM\\x9f\\xda\\x86\\xcf_\\x18l\\xda3\\x03\\xfaw\\x8fd\\xf9\\xbb\\xa3u\\xb8\\xab\\x14\\x8d\\xa4\\xc1\\xcdn$\\xc6r\\xc0\\x13\\x05@\\x1buY\\x0c\\x1a\\xbc)\\xa2\\t\\x92\\xe2\\x83Y\\xf1\\xde(n\\xb9\\xb4\\x9d\\xea(\\x1e\\xd5\\xad}\\x18\\xcb\\xdf\\x1d\\xc5\\xc4\\x11r,\\xb2YL\\x19\\x9d\\xc8\\x0f3\\xc7\\xea0\\xf6\\xeaQ\\xd7\\x9c\\xdf\\x86%o\\x8f\\xa2U\\\\`\\x0c\\xc9\\x99E\\xfb\\x14-\\xda\\xba\\xb6\\xa0I\\x01\\x10d\\xb7\\x92\\x92(\\x13W\\xfcMH\\xb0\\x8dW\\x1f\\xed\\xc7[\\x8f\\xa7\\x99\\xe2\\x0e\\xeb\\x9a\\xf3\\xdb\\x98\\xb2\\xa1\\x10Fa\\xb7\\xea\\xfd\\xd1\\xa6(X\\x8f\\xff\\xdc\\xcdx\\xc2\\x1c?w\\x81\\xa6M\\xab\\x10\\x1dV\\xa9\\xb4\\x01M\\n\\x00M\\xde\\x10\\xd1L\\xd7^\\xd0\\x86\\xd5\\x1f\\x8ea\\x98\\x9f\\xee\\xc4\\x96\\x18\\xeb\\xe4\\xbd\\xbf\\x0f\\x90\\x0b\\xaa\\xc9\\x1do8\\xdf~2\\x8dx?\\x9d\\xc8:\\xa2\\x7f\\x0ckg\\x8e1E!\\x13\\xa8\\x82\\xecV\\x92\\x13\\x94\\x9f\"\\xaaO\\x01\\xa0I\\x97\\x88h\\x81\\x1e\\x1d\\xc3Y\\xf6\\xce(\\xdez\\xdc\\x7f.\\xaeV\\xab\\x85k\\xceo\\xc3\\x96/\\xc7q\\xe5\\x94\\x14\\xd5q\\x84\\x8fL\\x9f\\xda\\x86\\x9d\\xb3\\xcf\\xe6\\xae\\xe9\\x1d\\xfc\\xe6\\xc6#&\\xd2\\xc1\\xbf\\x1e\\xec\\xcd\\xf73F\\xcaL\\x7f\\x13h\\x9f\\xa2|\\x12\\xf5\\xcf\\n\\x00\\xa5W?\\x19\\xff7\\x07\\x8b\\xc5\\xe8\\r\\xd86k\\x1c\\xbf\\xbe\\xaa=\\xc1N}g_\\x9f=4\\x9e\\xd5\\x1f\\x8cf\\xc6\\x13i\\xb2}l\\x00\\x8a\\n\\x0f\\xe2\\xb9?\\xf4f\\xc5{\\xa3\\xb5\\xde\\xe0)$\\xd8\\xc6]\\xd3;\\xb0{\\xeex\\xee\\xbe\\xa6\\x03V\\xab\\x7f\\x14,\\xe2\\xf44\\x98\\xf4\\xfe\\xb39\\x00Jw9I\\r\\xd0\\x1d\\xe6\\xcc*6\\xca\\xc1\\x0b\\x7f\\xec\\xc3\\x81\\x05\\xe7\\xf0\\xe7;\\xba\\x12\\x19\\xae\\xcf\\xaed\\xe3\\x87\\xc5\\xb3\\xe2\\xbd\\xd1,xc8\\x03zF\\xa9\\x8e#\\x14\\x1b\\xd4+\\x8a\\x85\\xff\\x1b\\xc1\\xb2wGq\\xde\\x98V\\xda\\xec\\x1b\\x10\\x16j7\\x1a\\xfe9\\xe3y\\xee\\x0f\\xbdeg?\\x93\\xd1\\xe0\\xa67\\t\\xc0~\\xec\\x7f\\x12\\x15\\x06\\x91!\\x00\\x93J\\x88q\\xf2\\xc8\\x9d\\xdd\\xf8\\xcd\\xd5\\x1dx\\xe3\\x93\\x03\\xbc=+\\x9d\\xcd\\xbb\\x8a|\\x9e#6\\xca\\xc1\\x15\\x93\\x93\\xb9\\xf9\\xd2v\\xf4\\xebf\\xce\\xa5\\x8b\\xa2e\\x86\\xf7\\x8ba\\xd6KCX\\xbf\\xad\\x90\\xd7?9\\xc0\\x07\\xb33\\xc8+\\xac\\xf2y\\x8e\\xde]\"\\xb8fj\\x1bn\\xbc\\xb8\\xad\\xf4L\\x99\\x98\\x06=\\x00\\x89\\xf0\\xd3\\xb9\\xc0\\xd9\\x80\\xb2~\\xb0e\\xef\\x8e\\x92\\xa3<\\x03\\xc4\\xfam\\x85\\xcc\\xf8\\xf2\\x10_,<\\xc2\\xbe\\xf42\\xaf\\xbdNdx\\x10\\x13\\x86\\xc53}j\\x1b&\\x8fJ\\x08\\xf8\\x03bD\\xd3TU\\xd72\\xfb\\xfbL\\xde\\x99\\x95\\xce7+\\xb2(*\\xa9\\xf1\\xdakuHqq\\xc1\\xb8V\\\\{A\\x1b)P\\x03\\xc4\\x92\\xb5\\xb9\\x8c\\xbev\\xa9\\xca\\x08G\\x81$\\x0bF/@%?\\xdf\\x15\\xd0\\xa7\\xf6\\xcd\\x9f\\xa0C\\x97\\x88\\xf0\\xb1}\\xe9e,\\\\\\x95\\xcd\\xc2U9\\xac\\xda\\x94\\xcf\\xfe\\xc3e\\xb8\\xddu\\xcdz\\xae\\x84\\x18\\'\\xfd\\xbaE2vp\\x1c\\xe3\\x86\\xc41\\xb0g\\x94\\xdfL\\xf0\\x12z\\xabq\\xd7\\xf1\\xc3\\xe6\\x02\\xbe[\\x9d\\xc3w\\xab\\xb3\\xd9\\xb8\\xbd\\x88\\xac\\xbc\\xcaf=\\x97\\xcdf!\\xb5u(C\\xfaDs\\xf6\\xd0x\\xc6\\r\\x89\\x93k_\\x00\\xda\\x9b^J\\xc7\\x89\\x0bTFp\\x03\\x0e\\x0b\\xc6X\\xc0a\\x95IJ~8O\\x96_\\t\\xaa\\xaak\\xd9}\\xb0\\x94\\xed\\xfbJ\\xd8\\x97^JQI\\r%e5\\x94\\x94\\xb9\\xc9/\\xaa\\xc2\\x15b\\'\\xdce\\',\\xd4Fdx\\x10Iq\\xc1tm\\x1fF\\xd7\\xf6aDi4\\xcf@\\x98_~Q5;\\xf7\\x97\\xb0c_\\tGr*(,\\xae\\xa6\\xa4\\xccMqi\\r\\xa5\\xe55DG8\\x08\\x0b\\xb5\\x11\\xee2>\\xb3\\x1dR\\\\tm\\x1fF\\xa7\\xb6.\\xe9\\x8d\\x12\\x14\\x95\\xd4\\x109\\xe4k\\xd51\\x12,@\\x7f`\\x9d\\xaa\\x04\\xc1N+\\xe5\\xeb\\xa6\\xaazy!\\x84\\x10\\xc2\\xe7\\x9c\\xfdfQU]\\xab2Bo+\\n\\xc7\\xfe\\x01\\x99\\xe8\"\\x84\\x10\"\\xe0h\\xd0\\xf6\\xc5[\\x01\\xa5\\xb3\\xef\\xe2\\xa2\\xfcc\\xd3\\x18!\\x84\\x10\\xc2S4(\\x00\\xa2\\xad\\x80\\xd2\\xc5\\xd0\\xb1Q2v+\\x84\\x10\"\\xb0H\\x01\\x00\\xc4EK\\x0f\\x80\\x10B\\x88\\xc0\\x12\\xa7\\xbe\\x00\\x88\\xb2b\\x9c\\r\\xac\\x8c\\x06U\\x90\\x10B\\x08\\xe1S\\x1a\\xb4}Q\\xea{\\x00\\xd4\\xbf\\tB\\x08!\\x84O\\xc5E+o\\xfb\\xd4\\x17\\x001\\x912\\x07@\\x08!D`\\xd1\\xa0\\x07 \\xda\\n\\x84\\xa9L\\xa0A\\x15$\\x84\\x10B\\xf8\\x94\\x06\\x05\\x80\\xcb\\n\\x84\\xa8L\\x10\\x1d\\xa1\\xfcM\\x10B\\x08!|J\\x83\\xde\\xefP+\\xa0t#j\\x9d\\xcf\\x8c\\x17B\\x08!\\xbc!\\xd8\\xa1|\\xfb\\xfb\\x10\\xe5\\x05\\x80\\xd3!\\x05\\x80\\x10B\\x88\\xc0\\xe2\\x08R~XY\\xa8\\xf2!\\x009\\x18C\\x08!D\\xa0qJ\\x0f\\x80\\xf4\\x00\\x08!\\x84\\x08<\\x1a\\xdc\\xfc\\x86Z\\x81`\\x95\\t\\x82\\xec\\xca\\xdf\\x04!\\x84\\x10\\xc2\\xa74\\xb8\\xf9\\r\\xb1\\x02v\\x95\\t4x\\x13\\x84\\x10B\\x08\\x9f\\xd2\\xa0\\xed\\xb3K\\x01 \\x84\\x10B\\xf8\\x98\\x06C\\x006+\\xa0t&\\x82\\x06o\\x82\\x10B\\x08\\xe1S\\x1a\\xdc\\xfc\\xda\\x95\\x17\\x00N)\\x00\\x84\\x10B\\x04\\x18\\rn~\\xa5\\x07@\\x08!\\x84\\xf05\\xe9\\x01@\\n\\x00!\\x84\\x10\\x81G\\x83\\xdeo\\x9b\\xf2\\x04B\\x08!\\x84\\xf0=+\\xe0V\\x19\\xa0\\xaa\\xbaV\\xe5\\xcb\\x0b!\\x84\\x10>W\\xa9\\xbe\\xedsK\\x01 \\x84\\x10B\\xf8Xe\\x95\\xf2\\xb6\\xafFy\\x01\\xa0A\\x15$\\x84\\x10B\\xf8\\x94\\x067\\xbf\\xd2\\x03 \\x84\\x10B\\xf8\\x9a.=\\x005*\\x13h\\xf0&\\x08!\\x84\\x10>\\xa5A\\xdb\\xe7\\x96\\x02@\\x08!\\x84\\xf01\\rz\\xbfk\\xac@\\x85\\xca\\x04\\x1a\\xbc\\tB\\x08!\\x84Oip\\xf3[n\\x05\\xcaT&\\x90\\x02@\\x08!D\\xa0\\xd1\\xa0\\xed+\\xb3\\x02\\xe5*\\x13h\\xf0&\\x08!\\x84\\x10>UY\\xa5t\\xfe=\\xe8\\xd0\\x03\\xa0A7\\x88\\x10B\\x08\\xe1S\\x1a,\\x81/S^\\x00TT*\\x7f\\x13\\x84\\x10B\\x08\\x9f\\xd2\\xe0\\xe6\\xb7\\\\\\xf9\\x10@^a\\x95\\xca\\x97\\x17B\\x08!|.\\xb7@y\\xdbWf\\x05JT&\\xd0\\xe0M\\x10B\\x08!|*\\xaf\\xb0Zu\\x84R+\\x90\\xaf2A\\x8e\\x14\\x00B\\x08!\\x02Lv^\\xa5\\xea\\x08yv\\xa0@e\\x02\\xe9\\x01\\x10\\xa2e\\xdc\\xee:\\xb2\\xf2*\\xc9/\\xaa\\xa6\\xb0\\xb8\\x9a\\xc2\\x92\\x9ac\\xbfV\\x9f\\xf8Z\\xed\\xb1\\xe1\\xc6\\xa2\\xd2\\x1a\\xdc\\xee:\\xe0\\xa7\\x158\\x8ec\\xe7\\x92\\xdbl\\x16\"\\\\v\\x00\\xacV\\x88\\x0c\\x0f\":\"\\x88\\xc8\\xb0 \"\\xc3\\x83\\x88\\x0c\\xb3\\x9f\\xf8ZB\\x8c\\x13\\x9b\\xcd\\xe2\\xfb\\xbf\\xac\\x10&\\xa1A\\xdbW`\\x07\\nU&\\xd0\\xe0M\\x10B[uu\\x90\\x91U\\xce\\xee\\x83\\xa5\\xec9X\\xca\\x81\\xc3\\xe5\\x1c\\xce\\xae\\xe0hN\\x05\\x87\\xb3*8\\x9aSIfn%\\xb5\\xb5u>\\xcde\\xb3YH\\x88q\\xd2*\\xceI\\xeb\\x84`Z\\xc5\\x05\\x93\\x9c\\x10L\\xdb\\xa4\\x10:\\xb5u\\xd1\\xb1\\xad\\x8b\\xe4\\x84\\x10,R#\\x08Q/\\r\\xda\\xbe\\x02\\xe5=\\x009\\xf9\\xca\\xdf\\x04!\\x94\\xab\\xac\\xaae\\xcb\\xeeb~\\xdcU\\xc4\\xe6]E\\xec:Pb4\\xfa\\x87J\\xb5\\\\)\\xe3v\\xd7q$\\xbb\\x82#\\xd9\\x15\\xac\\xdfV\\xff=D\\xb0\\xd3J\\xa7\\xb6atl\\x13J\\xe7va\\xf4\\xee\\x1cA\\xef.\\x11\\xf4\\xe8\\x18\\x8e\\xd3a\\xf5qb!\\xf4\\xa2\\xc1\\xf0w\\xbe\\xf2\\x02@\\x83*H\\x08\\x9f*(\\xaef\\xd5\\xa6|\\xd6n)`\\xe3\\x8e\"~\\xdci4\\xf85n\\xdf\\xde\\xc5{[Ee-\\x9b\\x8f\\x154\\'\\xb3\\xdb,tI\\r\\xa3w\\x97\\x08\\xfav\\x8dd@\\xcfH\\x86\\xf4\\x8e&2<HQR!|O\\x83\\xb6\\xaf\\xc0\\x8eL\\x02\\x14\\xc2k\\xdc\\xee:\\xb6\\xef+a\\xed\\x96\\x02\\xd6n-`\\xd9\\xfa<\\xd6o+\\xf4y\\x97\\xbdNj\\xdcul\\xddS\\xcc\\xd6=\\xc5|8\\'\\xe3\\xc4\\xd7;\\xa4\\xb8\\x18\\x91\\x16\\xc3\\x80\\x1eQFQ\\xd0\\'\\x9a \\xbb\\xf4\\x14\\x08s\\xd2\\xa1\\x00\\xb0\\x00}\\x81\\r\\xaa\\x128\\x1dV*\\xd6OU\\xf5\\xf2Bx\\xdc\\xde\\xf4R\\x16\\xac\\xc8>\\xf1\\xc8/R\\xbe\\xdc\\xc7/\\x85\\x85\\xda\\x19\\xda7\\x9a\\xf1\\xc3\\xe2\\x19?4\\x9e\\xb4\\x1eQ2\\xa7@\\x98B]\\x1d\\x04\\xf7\\x9f\\xa5z+\\xfc^\\x16\\xa0\\x15pDe\\x8a\\xe25\\xe7\\x12\\x16jW\\x19A\\x88f;\\x92]\\xc1\\xd7\\x8b3\\xf9vU6\\xdf\\xad\\xca!3W\\xf9\\xf2\\x1eSj\\x15\\xe7\\xe4\\xac\\xc1\\xf1\\x8c\\x1f\\x16\\xcf\\x94\\xd1\\x89\\xb4\\x8as\\xaa\\x8e$D\\xb3\\x14\\x16W\\x135t\\xb6\\xea\\x18\\xf1\\x16\\xc0\\x0eT\\x02\\xca\\xfa\\xda\\xf6\\xcd\\x9f@jr\\xa8\\xaa\\x97\\x17\\xa2\\xc9\\xb6\\xec.\\xe6\\xab\\xc5G\\x99\\xf5\\xddQVl\\xcc\\x0f\\xe8.}Uzt\\x0cg\\xea\\xd8V\\x9c76\\x91\\x11\\xfdc\\xa5w@\\xf8\\x8d\\xbd\\xe9\\xa5t\\x9c\\xb8@e\\x84\\x1a\\xc0i?\\xf6\\x1f\\xb9@\\xbc\\xaa$\\x19Y\\x15R\\x00\\x08\\xad\\xd5\\xd6\\xd6\\xb1dm.3\\xe7\\x1df\\xd6\\xa2\\xa3\\x1c<\\xa2t\\x07m\\x01\\'\\xe6\\x11<\\xf5\\xc6.\\xda\\xb5\\x0ee\\xea\\xd8D.\\x9b\\x98\\xcc\\xc8\\xb4\\x18\\xacV\\xa9\\x06\\x84\\xbe\\xd2\\x8fV\\xa8\\x8e\\x90\\r\\xd4\\x1e\\xefw\\xcfDa\\x01\\xb0?\\xa3\\x8c\\x11\\xfdcT\\xbd\\xbc\\x10\\r\\xda\\xb2\\xbb\\x98\\x99\\xf32\\x98\\xf1\\xe5!\\xf6\\xa5+=7K\\x9c\\xc6\\x81\\xc3e\\xfc\\xfb\\xbd}\\xfc\\xfb\\xbd}$\\'\\x06s\\xc9\\x84\\xd6\\\\6\\xb1\\xb5\\xf4\\x0c\\x08-\\xed\\xcbP~-\\xc9\\x04\\xa3\\xfb\\xff\\xf8\\xff\\xf4R\\x95D.\\xacB\\'\\xdb\\xf6\\x163\\xe3\\x8bC|0\\'\\x83\\xfd\\xea\\x7fPE\\x13edV\\xf0\\xfc;{y\\xfe\\x9d\\xbdtHqq\\xf9\\xe4\\xd6\\\\wA[\\xba\\xb6\\x0fS\\x1dM\\x08\\x00\\x1d\\xae+Y\\xf0S\\x01\\xa0t\\x12\\xe0\\xbe\\x8cR\\x95//\\x04\\x15\\x95\\xb5\\xccZt\\x94Wg\\xee\\xe7\\xdb\\x95\\xd9\\xd4\\xc9\\x90\\xbe)\\xecM/\\xe5\\x89\\xd7v\\xf1\\xc4k\\xbb\\x18\\xd03\\x8a[/k\\xc7U\\xe7\\xa6\\xc8\\xa4c\\xa1\\x94\\x06\\x05\\xc0\\x11\\xf8\\xa9\\x008\\xa40\\x88\\x0eo\\x86\\x08P+6\\xe4\\xf1\\xc6\\xa7\\x07\\xf9hn\\x06\\xc5\\xa55\\xaa\\xe3\\x08/Z\\xbb\\xa5\\x80\\xdb\\xb6\\x14p\\xff3[\\xb8|R27]\\xd2\\x8e!}\\xa2U\\xc7\\x12\\x01H\\x83!\\x80\\x83\\xa0I\\x01\\xa0\\xc1\\x9b!\\x02HUu-_,<\\xca\\xb3o\\xedf\\xe5F\\xa5\\xfb`\\t\\x05\\x8aJjx\\xed\\xe3\\x03\\xbc\\xf6\\xf1\\x01\\xfaw\\x8f\\xe4\\xf6\\xcbS\\xb9fj\\x1bB\\x82m\\xaa\\xa3\\x89\\x00\\xb1/]y\\xaf\\xf7!\\x80\\xe3\\xd3c\\xce\\x05\\xbeR\\x95\\xc4n\\xb3P\\xbe~*v9]Lx\\xd1\\xd1\\x9cJ\\xde\\xfa\\xe2 /\\xbc\\xbb\\x97\\x8cL\\xe5\\xb3p\\x85F\\x12b\\x9c\\xdcpQ[~}u{R\\x12CT\\xc7\\x11&V]SKH\\xdaW\\'N\\xe5Td20\\xf7x\\x8b\\xdb\\x07\\xd8\\xa80\\x0c\\xfb\\xbf\\rs\\xf8l\\x00\\x00 \\x00IDAT\\x99@\\xbb\\xd6\\xb2\\x14Px\\xde\\xc6\\x1d\\x85<\\xfd\\xc6nf\\xce;Lu\\x8d~\\x07\\xeb\\x08}8\\x82\\xacL\\x9b\\xd4\\x9a\\xdf\\xdf\\xd8\\x99\\xde]\"T\\xc7\\x11&\\xb4\\xe7P)\\x9d&)\\xdd\\x03\\x00\\xa0\\'\\xb0\\xf5\\xf8\\xe6?J\\x87\\x00@\\x86\\x01\\x84\\xe7\\xad\\xdbZ\\xc8\\xb4{\\xd6\\xd0\\xff\\x92E\\xbc\\xf7u\\xba4\\xfe\\xe2\\x8c\\xaa\\xaakygV:}.\\xfa\\x8e\\t7/\\x97!\"\\xe1q\\x9a\\xccyK\\x87\\x9fv\\xff\\xcb\\x07J\\xd4e\\x91\\xa5\\x80\\xc2s\\x96\\xae\\xcbe\\xea\\x1d\\xab\\x18p\\xd9\"f\\xce;,3\\xfaE\\xb3,X\\x91\\xcd\\xb0\\xab\\xbeg\\xe4\\xf4%\\xccZtTu\\x1ca\\x12\\x1a\\xb4u\\x05@\\x11\\xfc|\\xfb\\xdf=j\\xb2\\x184\\xa9\\x8a\\x84\\x1f[\\xb0\"\\x9b\\xa1W~\\xcf\\xa8k\\x96\\xf2\\xd5b\\xb9`\\x0b\\xcfX\\xb6>\\x8f\\xf3\\xef\\\\\\xc5\\x88\\xab\\x97\\xf0\\xdd\\xea\\x1c\\xd5q\\x84\\x9f\\xd3\\xa0\\xb7{\\xf7\\xf1\\xff\\xb0\\xd6\\xf7E\\x15v\\xecW\\xda\\x01!\\xfc\\xd8\\xaaM\\xf9\\x8c\\xbfi9\\x13n^\\xce\\xaaM\\xd2e+\\xbcc\\xf9\\x86<\\xc6\\xdd\\xb0\\x8c\\x91\\xd3\\x97\\xb0dm\\xae\\xea8\\xc2O\\xed:\\xa0\\xbc\\xad;q\\xb3\\xafM\\x01\\xf0\\xe3\\xce\"\\x95//\\xfc\\xd0\\xd6=\\xc5L\\xbbg\\r\\xc3\\xae\\xfa\\x9eoWf\\xab\\x8e#\\x02\\xc4\\xb2\\xf5y\\x8c\\xbev)\\x13n^\\xce\\xc6\\x1d\\x85\\xaa\\xe3\\x08?\\xb3q\\x87\\xf2\\xb6\\xae\\xde\\x1e\\x00\\xa5C\\x00;\\xf7\\x97PQ)\\x93\\xb4\\xc4\\x99\\x1d\\xce\\xaa\\xe0\\xba\\x87\\xd6\\xd1\\xfb\\xc2\\xefd\\x8c_(\\xb3`E6\\x03.[\\xccM\\xff\\xb7\\x9e\\xa39r\\x04\\xb48\\xb3\\xf2\\n7{\\x0e)\\xdf\\x03@\\xbf\\x1e\\x80\\x1aw\\x1d[\\xf7\\x14\\xab\\x8c 4WU]\\xcbso\\xef\\xa5\\xdby\\xdf2\\xe3\\x8bCr\\x04\\xafP\\xce\\xed\\xae\\xe3\\xbf\\x9f\\x1e\\xa4\\xd3\\xa4ox\\xe4\\xc5\\xedr\\x13#N\\xeb\\xc7]E\\xaa\\xd7\\xffC\\x03=\\x00\\xbb\\x14\\x04\\xf9\\x99M;\\xa5;M\\xd4o\\xd6\\xa2\\xa3t;\\xef[~\\xfb\\xe4\\x8f\\xb2e\\xaf\\xd0Ni\\xb9\\x9bG_\\xdaA\\x97)\\x0b\\x98\\xf1\\x85\\xf2U\\xd5BS\\x9bwiq\\x93[o\\x01\\x90\\x01(M\\'\\xf3\\x00\\xc4\\xa9\\xb6\\xec.f\\xec\\xf5\\xcb8\\xff\\xceU:,\\x9f\\x11\\xe2\\xb4\\x0e\\x1d-\\xe7\\xba\\x87\\xd6q\\xf6\\x8d\\xcb\\xd8\\xbeO\\xf9d/\\xa1\\x19\\rnr\\x8b\\x80\\x13K\\xa4N.\\x00\\xea\\x80\\xed>\\x8fs\\x92MR\\x00\\x88c\\xca+\\xdc<\\xf2\\xe2v\\x06\\\\\\xb6\\x88\\xc5kd\\xe9\\x95\\xf0/\\x0bW\\xe5\\xd0\\xe7\\xc2\\xefx\\xf0\\xd9\\xad2, N\\xd8\\xa4~\\x02\\xe0\\x16\\x8c\\xb6\\x1e\\xf8y\\x01\\x00\\xb0\\xd5\\xb7Y~N\\x83\\xd9\\x91B\\x03\\x8b\\xd7\\xe4\\x90v\\xe9\"\\x1e}i\\x07\\x95Ur\\xf1\\x14\\xfe\\xa9\\xba\\xa6\\x96\\xa7\\xde\\xd8E\\xaf\\x0b\\x16\\xf2\\xcdrY\\xa5\"\\x8c9\\x00\\x8am9\\xf9\\x7f\\xb4*\\x00\\xb2\\xf3*\\xc9\\xcc\\x95\\xd9\\xb4\\x81*+\\xaf\\x92\\xe9\\x0f\\xace\\xec\\xf5\\xd2}*\\xccc\\xcf\\xa1R&\\xde\\xba\\x9c\\xeb\\x1fZGnA\\x95\\xea8B\\x91\\x8c\\xcc\\nr\\xf2\\x95\\xff\\xfb\\x9f\\xb6\\x00\\xd8\\x82b\\x1at\\x91\\x08\\x05f\\x7f\\x9fI\\xbf\\x8b\\x17\\xf1\\xeeW\\xe9\\xaa\\xa3\\x08\\xe1quu\\xf0\\xd6\\x17\\x87\\xe81u!\\x9f\\x7f{Du\\x1c\\xa1\\x80\\x06w\\xffp\\xcaM\\xbeV=\\x00\\xa0\\xc5$\\t\\xe1C\\x85\\xc5\\xd5\\xdc\\xf6\\xc8F\\xce\\xfd\\xd5J\\x8ed\\xcb\\x11\\xbd\\xc2\\xdc\\xb2\\xf2*\\xb9\\xe8\\xae\\xd5L\\xbbg\\ry\\x85\\xca\\xef\\x06\\x85\\x0fm\\xd2c\\xd3\\xa8\\xd3\\xf6\\x00\\x1c@\\xf1J\\x80\\xb5[\\xb4x\\x93\\x84\\x0f|\\xb3<\\x9b^\\x17|\\xc7\\xab3\\xf7\\xab\\x8e\"\\x84O\\xcd\\x9cw\\x98^\\x17|\\xc7\\xd7\\x8b3UG\\x11>\\xb2n\\x9b\\xf2\\xb6-\\x1fc\\xb5\\xdf\\t\\xa7\\x16\\x00\\xb5\\xc0\\x06\\x9f\\xc5\\xa9\\xc7\\xb2\\xf5\\xb2\\xc7\\xb6\\xd9\\x95W\\xb8\\xb9\\xe3/\\x9b\\x98x\\xebr\\xd23\\xcbU\\xc7\\x11B\\x89#\\xd9\\x15L\\xbds%w=\\xfe\\xa3\\xac\\x14\\x08\\x00\\xcb\\xd6\\xe5\\xa9\\x8e\\xb0\\xfe\\xd4/\\xd8\\x1b\\xf8C\\xa3\\xbc\\x9f\\xa5~\\x07\\x8f\\x94s\\xe8h9mZ\\x85\\xa8\\x8a \\xbch\\xeb\\x9eb\\xae\\xb8\\xef\\x07\\xd9\\xf3\\xc1\\x0b\\xc2m6\\xe2\\x83\\x82\\x88\\r\\xb2\\x13\\x13d\\'\\xc2f\\xc7e\\xb3\\xe2\\xb2\\xd9\\x88\\xb4\\xd9\\x08\\xb5\\xd9\\x08\\xb2XN\\xfc\\xf9`\\xab\\xf1\\xdf\\x15\\'\\xed\\xa8X]WG\\xa9\\xdbM\\x91\\xdbM\\xa9\\xdbM\\xa9\\xbb\\x96\"w\\ry\\xd55\\xe4V\\xd7\\x90]]M\\xb1\\xdb\\xed\\xf3\\xbf\\x9bY\\xd5\\xd5\\xc1\\x0b\\xef\\xeee\\xc9\\xda\\\\>xf ]\\xdb\\x87\\xa9\\x8e$\\xbc`\\x7fF\\x99\\x0e7;\\x8d.\\x00\\x94Z\\xb6.\\x8f+\\xa6$\\xab\\x8e!<\\xec\\x8dO\\x0ep\\xd7\\xe3?RV!\\rHs\\xc4\\x06\\xd9\\xe9\\x14\\x12B\\xfb`\\')N\\'m\\x9c\\x0e\\x92\\x9dN\\x92\\x9d\\x0eZ\\x059pX-g~\\x12\\x0f\\xa8\\xaa\\xad\\xe3hu\\x15\\x19\\x95UdTVr\\xa8\\xb2\\x8a\\xf4\\xcaJ\\xf6\\x96W\\xb0\\xa7\\xa2\\x82\\xdcj\\xd9\\xa9\\xb1\\xa96l/d\\xe0\\xb4\\xc5\\xbc\\xf8p\\x1f\\xae\\xbd\\xa0\\x8d\\xea8\\xc2\\xc3\\x96\\xadW~\\xf7\\x0f~S\\x00\\xac\\xcf\\x95\\x02\\xc0D\\x8aJj\\xb8\\xed\\xd1\\r|0;\\xe3\\xcc\\x7fX\\x10f\\xb3\\xd1=4\\x84\\x9e\\xaePz\\xbaB\\xe9\\x16\\x12B\\xc7\\x90`\"\\xed\\xf5\\xfd\\xb8\\xfa\\x9e\\xc3j\\xa1\\xad\\xd3I[\\xa7\\x13\\x08\\xff\\xc5\\xef\\x17\\xd4\\xd4\\xb0\\xb7\\xbc\\x82me\\xe5l-+cKi\\x19\\xdb\\xca\\xca)\\x91\\x9e\\x83\\xd3*)\\xab\\xe1\\xba\\x87\\xd6\\xf1\\xed\\xaal^|\\xb8\\x0fa\\xa1z\\xfc{\\x8b\\x96\\xd3\\xa4\\x00\\xf8\\xc5\\xf0~}\\xb7\\x0cv\\x8c\\x89\\x80\\xc1^\\x8f\\xd3\\x80\\xfe\\xdd#Y\\xf7\\xf1XU//<\\xe8\\xc7\\x9dE\\\\t\\xd7j\\x1dN\\xc0\\xd2\\x92\\xcdb\\xa1kh\\x08\\x03\\xc3\\xc2\\x18\\x10\\x1eFZ\\xb8\\x8b\\xd4\\xe0\\xe0_L\\xce\\xf1w\\xb5\\xc0\\xfe\\x8a\\n\\xd6\\x15\\x97\\xb0\\xb6\\xb8\\x945\\xc5%\\xec,/\\xc7-G9\\xd6\\xab[\\xfb0>}~0\\xdd;\\xfc\\xb2\\xc0\\x12\\xfe\\xa7\\xcfE\\xdf\\xa9\\x1e\\xf6,\\x07\"\\x80\\x9fu\\xcf5\\xd4g\\xb8\\x06\\x18\\xe8\\xedD\\r\\xb1\\xd9,\\xe4\\xaf\\x98B\\xb8K*`\\x7f\\xf6\\xd1\\xdc\\x0cn|x=\\xa5\\xe5r\\xe7w\\x9c\\x15\\xe8\\xe5r122\\x82\\x11\\x91\\xe1\\x0c\\n\\x0f\\xc7e3[s\\xdf8%n7k\\x8aKXVX\\xc4\\xb2\\xc2b6\\x97\\x96\"S\\xe1~\\x12\\xee\\xb23\\xe3\\x894.<;Iu\\x14\\xd1\\x02\\x85\\xc5\\xd5\\xc4\\x0c\\x9f\\xa3\\xfa\\xf4\\xd2\\xd5\\xc0\\x90S\\xbf\\xd8P\\x0b\\xbb\\n\\x85\\x05\\x80\\xdb]\\xc7\\xaaM\\xf9\\x8c\\x1f\\x16\\xaf*\\x82h\\x01\\xb7\\xbb\\x8e\\x87\\x9e\\xdb\\xc6\\xdf\\xff\\xbb\\x0b\\xb9\\xc1\\x83\\x84\\xa0 \\xc6EG2.*\\x8a\\x91\\x91\\xe1\\xdat\\xe5\\xab\\x16f\\xb3qVT$gEE\\x02\\xc6\\xd0\\xc1\\xb2\\xc2b\\x16\\x16\\x14\\xb00\\xbf\\x90\\xac\\xeaj\\xc5\\t\\xd5*.\\xad\\xe1\\xe2\\xbbW\\xf3\\xc7\\xdb\\xba\\xf0\\xe8\\x9d\\xdd\\xb0\\xfah\\x8e\\x87\\xf0\\xac\\xe5\\x1b\\xf2T7\\xfe\\x00+\\xea\\xfb\\xe2\\xe9\\n\\x80;\\xbd\\x97\\xe5\\xcc\\x96\\xad\\xcf\\x93\\x02\\xc0\\x0f\\xe5\\x16Tq\\xe5\\xfd?\\x04\\xfc\\xde\\xe7=\\\\\\xa1L\\x8e\\x89f|t$\\xbd]\\xae\\x06\\xbb\\xda\\xc4O\\xa2\\xecv\\xce\\x8d\\x8d\\xe6\\xdc\\xd8h\\xea\\x80M%\\xa5,\\xc8/`N^\\x01\\xdb\\xca\\x02\\xf3$\\xc8\\xba:\\xf8\\xeb\\x7fv\\xb2~[!\\xef<5\\x80\\xa8\\xf0 \\xd5\\x91D\\x13i2\\xfe\\xbf\\xaa\\xbe/6t]\\xea\\x0c\\xec\\xf4^\\x963\\x9b0<\\x9e\\xf9\\xaf\\rW\\x19A4\\xd1\\xb6\\xbd\\xc5\\x9c\\xf7\\xabU\\xecM\\x0f\\xcc\\xf1\\xfe^\\xaeP\\xce\\x8d\\x8dajl4\\xed\\x83\\x95M\\xa11\\xa5\\xbd\\x15\\x15|\\x95\\x9b\\xc7W\\xb9\\xf9l)\\r\\xccb\\xa0Kj\\x18_\\xbd4\\x94\\xce\\xed\\\\\\xaa\\xa3\\x88&8\\xeb\\xfae,R\\x7f\\xa2i\\x07`\\xdf\\xa9_l\\xa8\\x00\\xb0\\x00\\xd9@\\xac7\\x13\\x9dN\\xb8\\xcbN\\xfe\\x8a)\\xd8lr\\xef\\xe4\\x0f\\x96\\xad\\xcf\\xe3\\xc2\\xdf\\xac\\xd2\\xe1\\xb0\\x0b\\x9f\\x8a\\xb4\\xdb\\x99\\x1a\\x1b\\xcdu\\x89\\t\\xf4p\\x85\\xaa\\x8e\\x13\\x10v\\x97W\\xf0Qv\\x0e\\x1ff\\xe5\\x90\\x13`\\xc3\\x041\\x91\\x0e>}n\\x10c\\x06\\xc5\\xa9\\x8e\"\\x1a\\xa1\\xba\\xa6\\x96\\xe8\\xa1\\xb3U\\xcf\\x83\\xca\\x04Z\\xd5\\xf7\\x1b\\xa7k]\\xbf\\x06\\xa6x%N#\\xadxo4C\\xfbF\\xab\\x8c \\x1a\\xe1\\xcd\\xcf\\x0fr\\xdb#\\x1b\\xa9\\xaa\\x0e\\x8c)\\\\V`Dd\\x04\\x97\\xc6\\xc7r^l\\x0c\\xc1\\xd6\\xc0\\x9c\\xc4\\xa7Zu]\\x1d\\x8b\\n\\n\\xf98;\\x97\\xb9y\\xf9\\xd4\\x04\\xc8\\x84\\x13\\xa7\\xc3\\xca\\xeb\\x8f\\xf5c\\xfaT\\xd9/@wK\\xd6\\xe62\\xfa\\xda\\xa5\\xaac|\\x0e\\\\T\\xdfo\\xd8N\\xf3M\\x1d\\x81\\xb3\\xbc\\x12\\xa7\\x91Z\\xc7\\x07s\\xd6\\x10\\xa9tuUW\\x07\\x8f\\xbe\\xb4\\x9d{\\x9e\\xde\\x8c\\xdbm\\xfe\\x8bo\\x92\\xc3\\xc1u\\xad\\x12x\\xaes\\x07nJJ\\xa4\\x87+\\x14\\xbbEz\\xa8T\\xb1Y,t\\x0c\\tfjl\\x0cW%\\xc4\\x13\\x1bd\\xe7`e%\\x855\\xe6^u\\xe2v\\xd7\\xf1\\xf9\\xb7G\\xa8\\xab\\x831\\x83\\xe2\\x90\\x8f\\xa0\\xbe^\\xf9h?K\\xd5o\\x01\\xfc\\x16Po\\x15r\\xba\\x8f\\xceY\\xc0B\\xaf\\xc4i\\xa4A\\xbd\\xa2X\\xfd\\xe1\\x18\\x95\\x11D\\x03\\xaakj\\xb9\\xe1\\x8f\\xebM\\x7f|\\xaf\\x058+*\\x92\\x9b\\x93\\x12\\x19\\x15\\x15i\\xba\\xf5\\xf9fS\\x0b|_P\\xc8\\xcb\\x87\\x8f\\xb2\\xb4\\xd0\\xfc\\xdbM\\xdfxq[^}\\xa4\\x9f\\x0c\\x95j\\xaa\\xff%\\x8b\\xd8\\xb0]\\xf9!@#\\x81e\\xf5\\xfd\\xc6\\xe9>5!\\x18\\xa7\\x079\\xbd\\x91\\xa81\\xacV\\x0bG\\x16O$!FY\\x04Q\\x8f\\xca\\xaaZ\\xae\\xbc\\xff\\x07>[`\\xdes\\xcd\\x1dV\\x0b\\xe7\\xc7\\xc6pG\\xeb$\\xba\\x86\\xca\\xb9\\x14\\xfehKi\\x19\\xaf\\x1e9\\xca\\xe79y\\xa6\\x1e\\x1e\\x98:\\xb6\\x15\\x1f=;\\x88`\\xa7\\x94\\xa7:9\\x9aSI\\xeb\\xb1sU/\\x85.\\x07\\xa2\\x81\\xca\\xfa~\\xf3t\\x9f\\x98r\\xe0\\x07o$j\\xac\\xda\\xda:\\xe6/\\xcbR\\x19A\\x9c\\xa2\\xb0\\xb8\\x9asnYn\\xda\\xc6?\\xdcf\\xe3\\xae\\xe4$~H\\xeb\\xf7\\xff\\xed\\xddw|TU\\xfe\\xff\\xf1\\xd7Lz \\x84\\x84\\x12BB\\t\\t\"]\\xd0U\\xb0.\\x8a\\x82}\\xed\\xfb\\xd3]\\xd7^\\xb0\\xad\\xb8\\xea\\xae\\x1d\\xd4]u\\xed\"*\\x16\\xb0\\xa2\\xa8(\\xa2t\\x10\\xa5\\xf7\\xd0{\\x02\\xa4\\xf7^g2\\xf3\\xfb\\xe3\\xc2w#\\x86\\x90L\\xee\\xcc9w\\xe6\\xf3|<\\xe6\\x01\\xeb&3o!\\xde\\xf3\\xb9\\xe7\\x9e\\xf39\\xbc\\x91\\xd2G\\x06\\x7f\\x0b\\x1b\\xd8.\\x927R\\xfa\\xf0\\xcbI\\x83\\xf9K\\\\\\x17\\xc2\\xfct\\xad\\xc6\\xec\\xa5\\xb9\\\\2n5\\x95\\xd5r\\x06\\x83N\\xe6.\\xcbS=\\xf8\\x03\\xac\\xe6\\x18\\x83?4_\\x00\\x00\\xfcbn\\x96\\xd6\\x9b\\xb7\\\\\\n\\x00]\\x14\\x97\\xd53\\xe6\\x8eU\\xfc\\xba\\xde\\xff\\x8el\\x8e\\n\\n\\xe2\\x9e\\x84x\\xd6\\x0c\\x1f\\xc2\\xa3=\\x13\\xe9\\x14\"\\xcdz\\xfcE\\xef\\xf00^\\xec\\xd3\\x9b\\xb5\\xc3\\x870>\\xb1;\\x1d\\xfd\\xb0\\x11\\xd3\\xe2\\xd5\\x05\\x8c\\xbaiE\\xc0\\xed\\xc2\\xd1\\x99&c\\xd7\\xaf\\xcd\\xfd\\x9f\\xc7{p4\\x06\\x98g^\\x96\\xd6\\xeb\\x1c\\x13J\\xde\\xafc\\xa5\\x0b\\x96b\\x19\\xb95\\x9c\\x7f\\xdbJv\\xa7W\\xaa\\x8eb\\xaa\\x08\\xbb\\x9d\\xdb\\xe3\\xe3\\x18\\x97\\x10OTPskb\\x85\\xbf\\xa8hh`RV\\x0e\\x1f\\xe4\\xe4Q\\xeb\\xf2\\xaf\\x9d+\\x03S\\xa2X\\xf0\\xfe\\xe9t\\xef*}(Tjhp\\xd3\\xf5\\xacy\\x14\\x97)/\\xc8\\xce\\x05~>\\xd6\\xffy\\xbcQ\\xb5=\\xc6:\\x00\\xa5%\\xf3\\xea\\xe9gs\\xda\\x10\\xd9\\x0e\\xa8JFn\\r\\xa3nZ\\xe1W\\x07\\xfa\\xd8\\x81\\x8b:\\xc5\\xf2D\\xafDz\\x84\\xc9\\x1a\\x93@\\x94[_\\xcfk\\x99\\xd9L\\xcf/\\xf4\\xabC\\x89\\xfa\\xf6j\\xc7\\xcfS\\xcf$!N\\x8a\\x00UVl*\\xe6\\xcc\\xbf,S\\x1d\\xa3\\x1e\\xe3\\xf9\\xff1;g\\x1d\\xef\\x11@%\\xc6!\\x02Ji2\\x95\\x12\\x90\\xfcq\\xf0?+\\xba\\x03\\xf3\\x87\\x0c\\xe4\\xbd\\x13\\x92e\\xf0\\x0f`\\xddBCy\\xb1Oo\\x16\\x0f\\x1d\\xc8%\\x9dbU\\xc71\\xcd\\xde\\x83U\\x8c\\xbay9Yy\\xb5\\xaa\\xa3\\x04\\xac\\xb9\\xcb\\xf2TG\\x00\\xa3\\xff\\x7f\\xb3m3[\\xb2*f\\xa19Y<\\xa7\\xc9\\x1ff\\xc0\\xf1\\xb7\\xc1\\x7fH\\xbbv\\xcc\\x18\\xd0\\x8f/\\x07\\xf4\\x93\\xae}\\xe2\\xff\\xf4\\x8d\\x88\\xe0\\xbd\\x13\\x92\\xf9j@?\\x06\\xfb\\xc9\\xcf\\x85\\x14\\x01ji2f\\x1dw\\xecn\\xc9\\x83\\xf5\\xd39\\xc6\\x1eB_\\x91\\xed\\x80\\xbe\\xe7O\\x83\\x7f\\xe7\\x90\\x10\\x9e\\xec\\xd5\\x83\\xab\\xbat\\x92CyD\\xb3\\\\\\xc0\\xcc\\x82B&\\x1e\\xcc\\xa0\\xc8a\\xfdU\\xf5\\xfd\\x92\\xda\\xb3\\xe4\\xa33dM\\x80\\x0f\\xe5\\x14\\xd4\\x920j\\xbe\\x0e;\\x00N\\xe383\\xf8-\\x99\\x01X\\x0b(\\xedd\\xe0r\\xb9\\x99\\xb9\\xd0?\\xb7\\x9d\\xe9(\\xa7\\xa0\\xd6/\\x06\\x7f\\x1bpm\\x97\\xce,=i\\x10W\\xcb\\xe0/Z\\xc0\\x0e\\\\\\xdd\\xa53\\xbf\\x9c4\\x98k\\xbat\\xb6\\xfc\\xcf\\xcc\\xee\\xf4J\\xce\\xbbe\\x05\\x05\\xc5\\xc7\\xdc\\t&L\\xf6\\xcd\\x82l\\x1d\\x06\\xff\\x12`\\xc3\\xf1\\xbe\\xa8%\\x05\\x80\\x13X\\xda\\xd64m5c^\\x96\\xea\\x08\\x01\\xa1\\xac\\xc2\\xc1\\xc5w\\xaf\\xb6\\xfc\\xe0\\xdf+<\\x8c/\\x06\\xf4\\xe3\\xb5\\x94$b\\xfcp\\xdb\\x97\\xf0\\xae\\x98\\xe0`^OI\\xe2\\x9b\\x81\\'\\x92\\x1ca\\xed\\xbb\\xe7]\\xe9\\x95\\x8c\\xbeu%\\xa5\\x15\\x81up\\x92*3\\xe6e\\xab\\x8e\\x00\\xb0\\x088nO\\xec\\x96v\\xc6P\\xbe\\x0e\\xe0\\x97\\xf5Ed\\xe7\\xcb\\xf3,o\\xaa\\xa9m\\xe0\\xd2{\\xd6\\xb0i\\xa7\\xf2\\xd6\\x95\\x1e\\x0b\\xb6\\xd9\\xb85>\\x8eEC\\x07qvt\\x07\\xd5q\\x84\\xc5\\x8d\\xe8\\x10\\xc5\\x82!\\x03\\x19\\x9f\\xd8\\x9d\\x10\\x0b7\\xdd\\xdf\\xb2\\xa7\\x9c+\\xee[Km\\x9d\\x7fm{\\xd4Mf^\\r+S\\x95\\xf7\\xfe\\x87\\x16\\x8e\\xd9--\\x00~lC\\x10S\\xb8\\\\nf\\xfai\\xf79\\x1d8\\x9c.\\xae~p\\x1d\\xcb6X\\xb7\\xc9\\xcf\\xa0v\\x91\\xcc\\x1e\\xdc\\x9f\\x89\\xbd{\\x12\\xe9\\xa7]\\xdf\\x84\\xef\\x85\\xdb\\xed<\\xd4#\\x81\\xb9C\\x060\\xac};\\xd5q<\\xb6t]!\\xd7\\x8e_\\x873\\x00\\x0e\\xeeR\\xe5\\xeb\\xf9\\xd9\\xb8\\\\Z\\xfc\\xf9.h\\xc9\\x17\\xb5\\xf4*y\\x10\\xd8\\xeey\\x16s|5W\\x1e\\x03x\\x83\\xcb\\xe5\\xe6\\xa6\\xc761\\xe7W-V\\xae\\xb6Z\\xb0\\xcd\\xc6\\xbfz&2g\\xf0\\x00\\x86\\xb4\\xb3\\xee\\x05Z\\xe8\\xad\\x7fd$\\xb3\\x06\\xf5\\xe7\\xd1\\x9e\\t\\x96=\\x05r\\xf6\\xd2\\\\n\\x7f*U\\x87g\\xd4~I\\x931*\\x15c\\xcc>\\xae\\xd6\\xdc&)\\x9f\\x05X\\xb1\\xa9\\x88C95\\xaac\\xf8\\x9dG_\\xdd\\xc1\\x17?Y\\xf3T\\xbf\\x1eaa\\xcc\\x1cx\"\\xf7&\\xc4\\x13d\\xd1\\x8b\\xb2\\xb0\\x8e \\x9b\\x8d\\xfb\\x13\\xba\\xf3\\xed\\xc0\\x13I\\x0c\\x0bU\\x1d\\xc7#\\xd3\\xbe?\\xc4\\x13o\\xeeT\\x1d\\xc3\\xef\\x1c\\xca\\xa9a\\xed\\xd6\\x12\\xd51\\x00f\\xb7\\xf4\\x0b-U\\x00\\xb8\\xdd\\xf0\\xedB-\\x16X\\xf8\\x8d\\x0f\\xbf=\\xc8\\xcbS\\xf7\\xa9\\x8e\\xe1\\x91\\x0bcc\\x98?d\\x00\\'G\\xb5W\\x1dE\\x04\\x98S\\xa2\\xda\\xb3h\\xe8 .\\xefl\\xcd\\x06B\\xff\\x9e\\xb2\\x87)_\\x1fP\\x1d\\xc3\\xaf|9\\'S\\x97\\x99\\x95\\x9fZ\\xfa\\x85\\xad)\\x00V\\x01\\x85\\xad\\xcfb.\\xd9\\r`\\x9e\\x05+\\xf3\\xb9k\\xc2f\\xd51Z-\\xccngB\\xef\\x9e|\\xd0/\\x85hY\\xe1/\\x14\\x89\\n\\nbr\\xdfd\\xdeHI\"\\xc2\\x82kN\\xee}n+\\x8bW\\x17\\xa8\\x8e\\xe17f\\xcc\\xd7\\xe2\\xe64\\x1fX\\xd7\\xd2/n\\xcdOm\\x030\\xb7\\xd5qL\\xb6fK\\t\\x07\\xb2\\x9a\\xedn(Z`\\xc7\\xfe\\n\\xae\\x1b\\xbf\\xder\\x0b\\x82\\xfaFD\\xf0\\xd3\\xe0\\xfe\\xdc\\x16\\x1f\\xa7:\\x8a\\x10\\x80\\xd17`\\xee\\x90\\x01\\xf4\\x8f\\xb4V\\x17A\\x87\\xd3\\xc5\\x95\\x0f\\xace\\xdb\\xder\\xd5Q,/-\\xb3\\x8a\\x8d;JU\\xc7\\x00\\xe3\\xee\\xbf\\xc5[=Z[\\xb6\\xcej\\xe5\\xd7\\x9b\\xce\\xed6VZ\\n\\xcf\\xe5\\x16\\xd6q\\xd1]\\xab-\\xb7/\\xf8\\xba\\xae\\x9d\\x99g\\xc1\\x0b\\xad\\xf0\\x7f}#\"\\x98=\\xb8?\\xd7t\\xe9\\xac:J\\xab\\x94W:\\xf9\\xd3}k\\xa5QP\\x1b}5W\\x8b\\xe6?\\x00?\\xb4\\xe6\\x8b[[\\x00\\xcc\\x05\\x94w\\x88\\x99\\xfa\\xdd!\\xd5\\x11,\\xcb\\xe1tq\\xed\\xf8u\\x1c\\xcc\\xb6\\xce,\\x8a\\r\\x18\\x9f\\xd8\\x9dW\\x93\\x93\\x08\\xb7\\xe0T\\xab\\x08\\x0c\\x11v;\\xaf\\xa7$1\\xa1w\\xcfV_XU\\xda\\x9fQ\\xc5\\x15\\xf7\\xaf\\xc5\\xe1\\x94\\x1e\\x01\\x9e\\xfalv\\x86\\xea\\x08`\\x1c\\xde7\\xbf5\\xdf\\xd0\\xda\\x9f\\xd3\\xea\\xd6~\\x807\\xecL\\xab`\\x95\\x1e\\xcd\\x16,\\xe7\\xc1\\x17\\xb6Yj\\xaf\\x7f\\xbb ;\\x1f\\xf6\\xeb\\xcbC=\\x12TG\\x11\\xa2En\\x8b\\x8f\\xe3\\xe3\\xfe\\'\\x10\\x15\\x14\\xa4:J\\x8b\\xad\\xd8T\\xcc\\xa3\\xaf\\xecP\\x1d\\xc3\\x92\\x96m(b\\xc7\\xfe\\n\\xd51\\xc0\\x98\\xfeo\\xd569O\\n\\xd5o=\\xf8\\x1e\\xd3\\xbd\\xffM\\x8b\\xb69\\x8aF>\\xff1\\x93\\xb7\\xa7\\xa7\\xab\\x8e\\xd1b\\xf1\\xa1\\xa1\\xcc\\x1c\\xd8\\x9f1\\xb1\\x1dUG\\x11\\xa2U\\xce\\xed\\x18\\xcd\\xf7\\x83\\xfa[\\xea\\xb8\\xe9\\xd7>\\xd9\\xcf\\xc7\\xb3\\xb4\\xb8\\x93\\xb5\\x14\\x8d\\xc6\\xa2V\\x8f\\xcd\\x9el\\x9c\\x8e\\xc2Xi\\xa8\\xb4AvDx\\x10\\xd9K\\xc7\\xd01*De\\x0c\\xcb\\xd8\\xbc\\xbb\\x8c\\xd3\\xaf_Fu\\xedq\\xdbCk\\xe1\\xe4\\xa8\\xf6|\\xd8/\\x85.!\\xf2\\xf7+\\xac\\xab\\xd8\\xe9\\xe4\\xf6\\xdd\\xfbX]\\xae\\xc5\\x1d\\xe2qE\\x84\\x07\\xb1\\xfc\\xd3\\xb3\\x18> Zu\\x14K(\\xabp\\xd0\\xfd\\x8f\\xf3u\\xb8\\xae\\xd6\\x00]1\\x1e\\x03\\xb4\\x98\\'3\\x00\\x15\\x18\\x07\\r(US\\xdb\\xc0\\x97sdK`K\\x14\\x97\\xd5s\\xe5\\xfd\\xebt\\xf8!m\\x91\\xcb;\\xc72c@?\\x19\\xfc\\x85\\xe5\\xc5\\x06\\x073\\xbd\\x7f?\\xae\\xb6\\xc8\\xe2\\xc0\\x9a\\xda\\x06\\xae\\xfa\\xfbZ\\x8aJ\\xebUG\\xb1\\x84Ogg\\xear]\\x9dG+\\x07\\x7f\\xf0\\xac\\x00\\x00\\x98\\xe1\\xe1\\xf7\\x99\\xea\\xdd\\xaf\\x0e\\xa8\\x8e\\xa0=\\xb7\\x1bn\\xfc\\xd7F\\xd22\\x95\\xaf\\xddl\\x91\\x07\\x13\\xbb3\\xb9o\\xb2,\\xf6\\x13~#\\xd4n\\xe3\\xf5\\x94$\\xeeO\\xe8\\xae:J\\x8b\\x1c\\xc8\\xaa\\xe66i\\x17\\xdc\"\\x1f~\\xab\\xcd\\xf4\\xbfGc\\xb2\\xa7W\\xd9\\x99h\\xb0\\x1b`\\xf3\\xee26\\xee\\xb0\\xee\\xc9u\\xbe\\xf0\\xc6\\xa7\\xfb\\xf9\\xe9\\x17k\\xf4\\xf8\\x7f\\xb8G\\x02\\xff\\x90\\xc5~\\xc2\\x0f\\xd9\\x80G{&\\xf0X\\xcfD\\xd5QZ\\xe4\\xfb\\xc59L\\xfe\\xd2:\\xeb\\x85TX\\xbb\\xb5\\x84\\xd4]Z\\x8c?U\\xb4\\xa2\\xfdoc\\x9e\\x16\\x00Uh\\xd0\\x1a\\x18\\xe0\\xfdo\\x0e\\xa8\\x8e\\xa0\\xad-{\\xca\\xf9\\xd7\\xeb\\xfa\\xaf\\xec\\xb5\\x01\\x13z\\xf7\\xe4\\xef\\x89\\xd6\\xb8C\\x12\\xc2S\\xf7$\\xc4\\xf3\\x9f>\\xbd,\\xb1M\\xf0\\xa1\\x97\\xb6\\xe92\\xc0iI\\xa3\\xc5\\x7f\\xdf\\xe1\\xe1\\ry[~\\x0e\\xbfh\\xc3\\xf7\\x9a\\xe6\\xb3\\xd9\\x99TT9U\\xc7\\xd0NUM\\x03\\xd7\\x8e_\\xa7\\xfd\\xf9\\xdfA6\\x1b/\\'\\'Ig?\\x110n\\x8c\\xeb\\xca\\xeb)}\\xb4?Q\\xb0\\xae\\xde\\xe8\\x19RY-\\xd7\\xd7\\xa3UV;u9\\xf9\\x0f\\xda0\\x16\\xb7\\xa5\\x00\\x98\\x0b(\\xdfP^Y\\xed\\x94\\xce\\x80M\\xb8{\\xe2fv\\xa7\\xb7zM\\x88O\\x05\\xdbl\\xbc\\x9a\\x9c\\xc4\\x9f\\xbbZc\\x81\\x94\\x10f\\xb9\\xaaK\\'\\xde\\xea\\xab\\x7f\\x11\\xb0\\xf7`\\x15\\x0f\\xbe\\xb8Mu\\x0c\\xedL\\x9f\\x93\\xa5\\xcb\\x8dg\\x01mX\\x94\\xdf\\x96\\x02\\xc0\\x81&=\\x01\\xde\\x9e\\x9e\\xa6:\\x82V\\xbe\\x9c\\x93\\xc5\\xa7?\\xe8\\xbd\\x9f7\\xd4n\\xe3\\xfd~)\\\\\\xdd\\xa5\\x93\\xea(B(qY\\xa7X\\xa6\\x9c\\x90B\\xa8]\\xef\"\\xe0\\x83o\\x0e\\xca)\\xacG\\x99\\xacO?\\x95\\xaf1\\xc6b\\x8f\\xb4\\xf5Q\\xd4\\'m\\xfc~Sl\\xdcQ\\xc6\\x925\\xca\\x0f*\\xd4Bna\\x1d\\xf7>\\xbfEu\\x8cf\\x85\\xdamL\\xed\\xd7\\x97\\x0bb\\xa4\\xc1\\x8f\\x08lcb;\\xf2Q\\xbf\\xbe\\xda\\x17\\x01\\xe3&n\\x91\\xf3\\x02\\x0e[\\xb8\\xb2@\\xa7\\xb5\\x11\\x1f\\xb7\\xe5\\x9b\\xdbZ\\x00\\xac\\x00v\\xb5\\xf1=L\\xf1\\xca4k\\x9eio\\xb6{\\x9e\\xdd\\xac\\xf5\\x1e^;\\xf0fJ\\x1f\\xfe\\xd8Q\\x1a\\x8d\\x08\\x010\\xaac4\\xef\\xf6M\\xd1\\xfaq@~q\\x1d\\xb7?\\x9d\\xaa:\\x86\\x164\\x1ak\\xb6\\x03k\\xdb\\xf2\\x06f,FmS\\x05b\\x96\\xb9\\xcb\\xf2\\xd8\\xbe\\xcf\\x1a\\xdd\\xb6\\xbc\\xe5\\x93Y\\x19\\xcc\\\\\\x94\\xa3:F\\xb3\\x9e\\xe9\\xdd\\x93K;\\xc5\\xaa\\x8e!\\x84V\\xc6\\xc4v\\xe4\\xb5\\x94$\\xadw\\x07\\xccZ\\x92\\x1b\\xf0\\xcd\\xd7\\xb6\\xed-g\\xc1\\xca|\\xd51\\x8e\\x98\\xda\\xd670\\xe3\\xe7m\\x1a\\xa0|5\\x84\\xdbm\\xf4\\xb2\\x0eTYy\\xb5\\xfc\\xfd\\x85\\xad\\xaac4\\xeb\\xd1\\x9e\\t\\xdc*\\xab\\xfd\\x85h\\xd2\\x95\\x9d;\\xf1\\xef>\\xbdT\\xc7h\\xd6\\xbd\\xcfo!\\xb70p\\x1f\\x05\\xbc<u\\x9f.\\r\\x92\\x9c\\xc0\\xe7m}\\x133\\n\\x80\\\\`\\x81\\t\\xef\\xd3f\\x9f\\xcd\\xce \\xa7\\xa0Vu\\x0c%\\xee\\x9c\\x90JI\\xb9\\xc7kA\\xbc\\xee\\xb6\\xf88\\xcbtB\\x13B\\x95\\xbf\\xc6ue\\xbc\\xc6\\xfd0\\x8aJ\\xeb\\xb9{\\xe2f\\xd51\\x94\\xc8\\xce\\xafe\\xba>3 ?a\\x8c\\xbdmb\\xd6\\x8c\\xd3G&\\xbdO\\x9b\\xd4\\xd5\\xbb\\x98\\xf4\\x856\\xab3}f\\xc6\\xbc,\\xad\\xbb\\xfd]\\xd1\\xb9\\x13O\\xf7\\xee\\xa9:\\x86\\x10\\x96\\xf0P\\x8f\\x04\\xfe\\xd6\\xad\\xab\\xea\\x18\\xc7\\xf4\\xfd\\xe2\\x1c\\xbe_\\xac\\xf7\\xa3Fox\\xf3\\xb34\\xea\\x1d\\xda\\xf4Ui\\xf3\\xf4?xv\\x1a`SB\\x80\\x03\\x80\\xf2\\xd25\\xa6C\\x08\\x87\\x16_@\\xfb\\xc8`\\xd5Q|\\xa2\\xbc\\xd2\\xc9\\x80\\xcb\\x16\\x93\\x95\\xa7\\xe7\\xcc\\xc7y1\\x1d\\xf9\\xa8\\x9f\\xde\\x0b\\x9c\\x84\\xd0M\\x83\\xdb\\xcd\\xed{\\xf61\\xbf\\xb8Tu\\x94&\\xf5\\xe8\\x16\\xc1\\x8e\\xd9\\xe7\\x06\\xccu\\xb6\\xa2\\xcaI\\xcf\\xf3\\x16PZ\\xa1\\xc5,k\\x0e\\xd0\\x8b6l\\xff;\\xc2\\xac\\x19\\x00\\x07&U$mUR\\xee`\\xeaw\\x87T\\xc7\\xf0\\x99\\'\\xde\\xdc\\xa9\\xed\\xe0?\\xa8]$\\xef\\x9e\\x90,\\x83\\xbf\\x10\\xad\\x14d\\xb3\\xf1VJ2\\'FF\\xa8\\x8e\\xd2\\xa4\\x8c\\xdc\\x1a\\x9ey{\\xb7\\xea\\x18>\\xf3\\xfe7\\x07u\\x19\\xfc\\x01\\xa6`\\xc2\\xe0\\x0f\\xe6\\xcd\\x00\\x00\\xf4\\x00\\xd2\\x81 \\x13\\xdf\\xd3#I\\x89\\x91\\xec\\x993\\x9a\\xe0 \\xff\\x1ex6l/\\xe5\\xb4\\xff\\xf7+\\r\\rz\\xacJi\\xackH\\x08?\\r\\x19@\\xf7\\xd0P\\xd5Q\\x84\\xb0\\xac\\x8c\\xba:.\\xda\\xb2\\x83b\\xa7\\xf2u\\xd6\\xbf\\x13\\x1cdc\\xdd\\x8cs8\\xe9D\\xff\\xde\\xd2\\xeblp\\x932v\\x11\\x07\\xb3\\xabUG\\x01c\\xf1_\\x12\\x90i\\xc6\\x9b\\x99\\xb9\\xeb$\\x03\\x98c\\xe2\\xfby,=\\xb3Z\\xa7>\\xcd^\\xe1r\\xb9\\xb9\\xe7\\xb9-Z\\x0e\\xfeav;\\x1f\\xf6K\\x91\\xc1_\\x886\\xea\\x11\\x16\\xc6\\xdb\\'$\\x13\\xa4\\xe1,\\x9a\\xb3\\xc1\\xcd\\x9d\\xcfl\\xc6\\xe5\\xd2\\xef\\x1ad\\xa6\\xcffg\\xe82\\xf8\\x83q\\xea\\x9f)\\x83?\\x98[\\x00\\x00\\xbcc\\xf2\\xfby\\xec\\x99\\xb7w\\xe1\\xd4pp4\\xcb{3\\x0e\\xb0fK\\x89\\xea\\x18Mz\\xa9Oo\\x86G\\xb5W\\x1dC\\x08\\xbfpvt\\x07\\x1e\\xd1\\xf4\\x98\\xec\\xb5[K\\x98\\xf6\\xbd\\xdem\\xc7\\xdb\\xc2\\xe1t\\xf1\\xec;{T\\xc7h\\xec]3\\xdf\\xcc\\xec\\x02`>\\xa0\\xc5f\\xfc}\\x87\\xaa\\xf8d\\x96\\x7f\\xfe`VT9\\x990Y\\xcf\\xe7o7w\\xeb*\\xfd\\xfd\\x850\\xd9=\\t\\xf1\\\\\\xa6i\\x03\\xad\\xc7^\\xdfAy\\xa5~\\x8f(\\xcc0\\xf5\\xbbC\\xa4ezt\\xd2\\xae7\\xec\\xa3\\r\\x07\\xff4\\xc5\\xec\\x02\\xc0\\x05\\xbca\\xf2{zl\\xe2;\\xbbu\\xda\\xb6a\\x9ag\\xdf\\xddM^\\x91~\\xcd8Nj\\xdf\\x8e\\xa7z\\xc9v?!\\xccf\\x03^KIbp\\xbbH\\xd5Q~\\'\\xaf\\xa8\\x8e\\x97>\\xda\\xab:\\x86\\xe9\\xea\\x1d.\\xfe\\xf3\\xbeV\\xff^\\xafa\\x8c\\xb1\\xa6\\xf1F\\xe7\\xc9\\x0f\\xd1\\xe0\\x98`\\x80\\x83\\xd9\\xd5|\\xf8\\xedA\\xd51L\\x95\\x9eY\\xcd\\x9b\\x9f\\xe9w\\xfaa\\xc7\\xe0`\\xde=!Y\\xfbCM\\x84\\xb0\\xaap\\xbb\\x9d\\xf7\\xfb\\xa5\\x10\\x1b\\xac\\xdf\\xd6\\xbbW\\xa6\\xed\\xd3\\xe99\\xb9)\\xde\\xfd\\xea\\x00\\x07\\xb2\\xb4\\xf9w*\\xc6\\x0bm\\xf7\\xbdQ\\x00Tc\\xf2s\\x8a\\xb6x\\xf6\\xdd=\\xd4\\xd46\\xa8\\x8ea\\x9aG_\\xddN]\\xbd^\\xb3\\x1a6\\xe0\\xad\\xbe}\\xe8\\x11\\x16\\xa6:\\x8a\\x10~\\xadGX\\x18\\xaf\\xa5$\\x99\\xba}\\xcb\\x0c\\xb5u.\\x1e{}\\xa7\\xea\\x18\\xa6\\xa9\\xads\\xe96\\xab1\\t0\\xfdY\\x84\\xb7\\xce\\x9ex\\x13\\xd0bszNA-S\\xbe\\xf6\\x8fY\\x80\\x15\\x9b\\x8a\\xf9f\\x81~\\xe7r\\xdf\\x16\\x1f\\xc7\\xb9r\\xba\\x9f\\x10>1:\\xa6#7w\\xd3\\xefL\\x8d\\xe9s2\\xb5]\\x98\\xdcZ\\x93\\xbeH\\xd3\\xa9\\xbfJ\\x1d^Z`\\xef\\xad\\x02 \\x1f\\xf8\\xc2K\\xef\\xddj\\xcfO\\xd9Ce\\xb5\\xf5\\x17\\xa9<\\xfe\\xc6N]\\x0e\\xa2\\xf8?\\'FF\\xf0\\xaf\\x9e\\x89\\xaac\\x08\\x11P\\x9e\\xec\\xd5\\x83\\x81\\x9a\\xad\\x07p\\xbb\\xe1\\xe1\\x97\\xb7\\xab\\x8e\\xd1fU5\\r\\xfc\\xf7#m\\x8e\\xfc\\x05\\xe3\\xc0\\xbd6\\xf7\\xfdo\\x8a7O\\x9f\\xfc/&/X\\xf0TAq\\x1d\\x93\\xa7[\\xfb\\x8c\\x80\\xf9+\\xf2\\xf9e]\\xa1\\xea\\x18\\xbf\\x11i\\xb73\\xe5\\x84\\x14\\xc2\\xec:\\x1fb*\\x84\\xff\\t\\xb5\\xdb\\x98\\xd4\\xb7\\x0f\\xe1\\x9a\\xfd\\xb7\\xb7lC\\x11K\\xd6\\xe8u\\x9dj\\xad\\xd7?\\xd9O~\\xb16\\x8b\\xac\\xddxqa\\xbd7\\x7fzv\\x01\\xf3\\xbc\\xf8\\xfe\\xad\\xf2\\xdf\\xa9\\xfb,\\xbdU\\xe5\\xe9I\\xbbTG\\xf8\\x9d\\'z\\xf5 9\"\\\\u\\x0c!\\x02\\xd2\\t\\x11\\x11\\xfcS\\xc3\\xd9\\xb7\\'\\xdf\\xb4\\xeeZ\\x80\\xd2\\n\\x07\\xafL\\xd3\\xea\\xee\\x7f6\\xe0\\xb5?Po\\x97\\x8f\\xafx\\xf9\\xfd[\\xac\\xb0\\xa4\\x9e\\xe7\\xde\\xd3s\\xef\\xfc\\xf1\\xccZ\\x92\\xab\\xdd\\xb3\\xb53\\xa2;p\\xa3\\xc6\\'\\x96\\t\\x11\\x08n\\x8d\\x8fcd\\x87(\\xd51~cej1s\\x97\\xe9{:is&L\\xde\\xad\\xdb\\xb1\\xea/{\\xf3\\xcd\\xbd]\\x00,\\x01\\xd6z\\xf93Z\\xec\\x8dO\\xd3\\xd8s\\xa0Ru\\x8cVq\\xbb\\x8d\\xae\\x86:\\x89\\xb4\\xdb\\xf9o\\x9f\\xde\\xda\\xadD\\x16\"\\xd0\\xd8\\x81WS\\x92h\\x1f\\xa4\\xfc\\x08\\x96\\xdfx\\xf2\\xad]\\xda\\xadW:\\x9e]\\xe9\\x95\\xbc\\xad\\xd7q\\xf2\\xeb\\x80e\\xde\\xfc\\x00_<@\\xd2\\xa61P\\xbd\\xc3\\xc5#\\xafXk\\x91\\xca\\xd7\\xf3\\xb3H\\xddU\\xa6:\\xc6o<\\xd5\\xbb\\'\\xbd\\xc2e\\xcb\\x9f\\x10:\\xe8\\x19\\x16\\xc6c\\x9a=\\n\\xd8\\xb0\\xbd\\x94YKrT\\xc7h\\x95\\xf1/n\\xc3\\xe1\\xd4b\\xd9\\xda\\x11\\xff\\xf5\\xf6\\x07\\xf8\\xa2\\x00\\x98\\x01hs>\\xef\\xac%\\xb9,ZU\\xa0:F\\x8b\\xbd\\xf0\\x81V{Q\\x19\\xd6\\xbe\\x1d7\\xc4uQ\\x1dC\\x08\\xd1\\xc8_\\xbbu\\xe5\\x14\\xcd\\xce\\xdf\\xf8\\xf7\\x14\\xadz\\xe87k\\xee\\xb2<\\xdd\\x1e[\\xa4\\x013\\xbd\\xfd!\\xbe(\\x00\\x9c\\xc0\\x0b>\\xf8\\x9c\\x16{\\xe0?[u\\xab\\xf4\\x9a4oy>\\x9bv\\xeas\\xf7\\x1fl\\xb3\\xf1R\\x9f\\xde>\\xf9\\xa1\\x11B\\xb4\\x9c\\x1dx\\xb1Oo\\x825:5p\\xdd\\xb6RK\\xec\\x08p6\\xb8u\\xdc\\xbe\\xf8\"\\xe0\\xf5\\x0ev\\xbe\\xba\\x96\\x7f\\x00h\\xf3pe\\xc7\\xfe\\nK4\\x07zQ\\xb3\\xbb\\xffq\\xdd\\xe3\\x19\\xa0\\xd9\\xdec!\\x84\\xe1\\xc4\\xc8\\x08\\xee\\xec\\xdeMu\\x8c\\xdf\\xd0\\xed\\x1a\\xd6\\x94\\xb7>Oc\\xfb\\xbe\\n\\xd51\\x1a;\\x84\\xb1\\xf7\\xdf\\xeb|U\\x008\\x80\\xe7}\\xf4Y-\\xf2\\xe4\\x9b;)*\\xadW\\x1d\\xe3\\x98\\xd6n-a\\xa9F\\xfb\\xfe{\\x86\\x85\\xf1@b\\xbc\\xea\\x18B\\x88f<\\x98\\xd8\\x9d\\xc4\\xb0P\\xd51\\xfe\\xcf\\x82\\x95z\\xcdb\\x1e\\xad\\xb8\\xac\\x9e\\xe7\\xde\\xd5\\xeeQ\\xc5\\xbf\\x01\\x9f\\x0cN\\xbe\\x9c\\xcd\\x9d\\x06h\\xb3\\x0f\\xaf\\xa4\\xdc\\xc1\\xc4w\\xb4\\x89\\xf3;\\xbaU\\xceO\\xf5\\xee\\xa1]\\xd3\\x11!\\xc4oE\\xd8\\xed\\xda\\x9d\\xc8\\xf9\\xe2\\x87z]\\xcb\\x1a{\\xfc\\x8d\\x9d\\x14\\x97iu#\\x98\\x01L\\xf5\\xd5\\x87\\xf9\\xf2\\x8a\\xde\\x00<\\xe7\\xc3\\xcf;\\xae\\xc9\\xd3\\xd3\\xd9\\xb6\\xb7\\\\u\\x8c\\xdf\\xd9{\\xb0\\x8a\\xef\\x97x\\xa5\\xf3\\xa3G\\xce\\x88\\xee\\xc0\\x85\\xb11\\xaac\\x08!Z\\xe0\\xe2N1Z\\xf5\\x06\\xf8fA6i\\x99\\xa6\\x9fc\\xd3f\\xdb\\xf7U\\xf0\\xc17\\xda=\\n\\xf6\\xd9\\xdd?\\xf8\\xb6\\x00\\x00\\x98\\x0e\\xec\\xf0\\xf1g\\x1e\\x93\\xb3\\xc1\\xcd\\xfd\\xff\\xde\\xaa\\xdd~\\xd5I_\\xa4\\xe1r\\xe9\\x11*\\xc8fcB\\xef\\x1e\\xaac\\x08!Z\\xe1\\xf9\\xa4^\\xda,\\x08lhp\\xeb\\xb6\\xbf\\x1e\\x97\\xcb\\xcd]\\x136\\xe3l\\xd0\\xe3:{\\xd8!|x\\xf7\\x0f(\\xe9\\xe5r-\\xf0\\x95\\x82\\xcf=\\xa6\\xf7\\'\\x9c\\xc4mW\\xf7R\\x1d\\x030\\x0e\\xa2H\\x185\\x9f\\xb2\\n=\\xbaQ\\xc5\\x04\\x07sFt\\x07\\xd51\\x84\\x10\\xad\\xb4\\xa2\\xac\\x9c\\x12\\xa7\\x1e\\xed\\xcfc:\\x84\\x90\\xf9\\xf3\\x18\"\\xc3\\xf5hX4yz:\\xf7<\\xb7Eu\\x8c\\xa3\\xddB\\x00\\x14\\x006`#p\\x92\\x82\\xcfnRtT\\x08\\xdbg\\x9dKB\\x9c\\xfa\\xbe\\xf6\\xef~u\\x80\\xbb\\'nV\\x1dC\\x08!L\\xf5\\xc1\\xc4\\x93\\xb8\\xf5*\\xf57Z\\xd9\\xf9\\xb5\\x0c\\xbcl\\t\\xa5\\x9a\\xdcd\\x1d\\xb6\\x07\\x18\\x88\\xb1m\\xdegT\\xac\\xear\\x03\\xcf(\\xf8\\xdcc*\\xabp\\xf0\\xc0\\x7f\\xb6\\xaa\\x8e\\x01\\xc0;_\\xea5U&\\x84\\x10f\\x98\\xa4\\xc9c\\x80{\\x9e\\xdb\\xa2\\xdb\\xe0\\x0f\\xf0\\x18>\\x1e\\xfcAM\\x01\\x000\\x0b\\x8d\\xce\\x08\\x00\\xf8va6\\xdf-R\\xdb\\xba\\xf2\\xd7\\xf5El\\xd9\\xa3\\xdf\\xa2D!\\x84h\\xab\\xd4]e\\xacL-V\\x9aa\\xc6\\xbc,\\xbe_\\xac]\\x8b\\xe2\\r\\xf8\\xa0\\xeb_ST\\xee\\xebzZ\\xe1g7\\xe9\\xde\\xe7\\xb7(}\\xf6>Y\\xee\\xfe\\x85\\x10~L\\xe5b\\xc0\\x92r}fz\\x8f\\xf2\\x18\\xc6\\xcc\\xb8\\xcf\\xa9,\\x00\\xe6\\x01\\xf3\\x15~\\xfe\\xefd\\xe7\\xd7\\xf2\\xc8+j6)\\x14\\x97\\xd5\\xebX\\x99\\n!\\x84if.\\xcaVv\\xdc\\xee?\\xfe\\xbb\\x8d\\xdc\\xc2:%\\x9f\\xdd\\x8cE\\xc0\\x02U\\x1f\\xae\\xba\\xb3\\xcbx\\x14<\\xf7h\\xce\\xfb\\xdf\\x1c`\\xf1j\\xdf\\x1f\\x164}N\\x16u\\xf5\\xfa\\x9fO \\x84\\x10\\x9e\\xaa\\xads\\xf1\\xd5\\xdc,\\x9f\\x7f\\xee\\xd2u\\x85L\\xfdN\\x9b3\\xe9\\x8ep\\x02\\x7fW\\x19@u\\x01\\xb0\\x03xOq\\x86\\xdfp\\xbb\\xe1\\xee\\x89\\x9b\\xa9\\xa9\\xf5\\xfa9\\x0c\\xbf\\xf1\\xf1\\xf7\\xda\\xfdp\\n!\\x84\\xe9>\\x9e\\xe5\\xdbk]Mm\\x03\\xb7?\\x95\\xaa]\\xbf\\x17`\\x12\\xa0\\xf4\\x14\"\\xd5\\x05\\x00\\x18k\\x01\\xd4\\xae\\x0c9\\xca\\xde\\x83U<\\xf1\\xe6N\\x9f}\\xde\\x9e\\x03\\x95\\xac\\xdbV\\xea\\xb3\\xcf\\x13B\\x08UVo.aWz\\xa5\\xcf>\\xef_\\xaf\\xef`\\xdf!\\xed:\\x11\\x16\\x02\\x13U\\x87\\xd0\\xa1\\x00(\\x02&\\xa8\\x0eq\\xb4\\xd7>\\xd9\\xef\\xb3\\xf3\\xa1?\\x9a)w\\xffB\\x88\\xc0\\xf1\\x89\\x8ff\\x01\\x16\\xac\\xcc\\xe7\\xcd\\xcf\\xd2|\\xf2Y\\xad\\xf4\\x14P\\xa2:\\x84\\x1e\\xbd\"!\\x18\\xd8\\x04\\x0cR\\x1d\\xa4\\xb1\\xee]\\xc3\\xd9<s\\x14\\x9dc\\xbcw\\xba\\x96\\xcb\\xe5\\xa6\\xf7\\xf9\\x0b\\xc9\\xc8\\xad\\xf1\\xdag\\x08!\\x84N\\x12\\xe2\\xc29\\xb8\\xf0\\x02\\x82\\x82\\xbc7\\x04\\x15\\x96\\xd43\\xe4\\x8a\\x9f\\xc9)\\xa8\\xf5\\xdagxh\\x070\\x14\\r\\xd6\\xbf\\xe90\\x03\\x00\\x1a,\\x86hJv~-\\xb7?\\x9d\\xea\\xd5\\xcfX\\x99Z,\\x83\\xbf\\x10\"\\xa0d\\xe5\\xd5\\xb2j\\xb3w\\x9f\\xfc\\xde\\xfa\\xe4&\\x1d\\x07\\x7f\\x80\\x07\\xd1`\\xf0\\x07}\\n\\x00\\x80\\xc5\\xc0\\x8f\\xaaC\\x1c\\xed\\xfb\\xc59\\xbc\\xef\\xc5\\x13\\xa3\\xe6.\\xcb\\xf7\\xda{\\x0b!\\x84\\xae\\xe6\\xaf\\xf0\\xde\\xb5o\\xf2\\xf4t~\\xf8Y\\x9f\\x13U\\x1b\\xf9\\x0e\\x85\\xdb\\xfe\\x8e\\xa6S\\x01\\x00\\xc6,\\x80v\\x1b5\\x1f|a+\\xbb\\xbd\\xb4he\\xdd6\\xe5\\x8f\\x81\\x84\\x10\\xc2\\xe7\\xd6{i\\xe1\\xf3\\xce\\xb4\\n\\x1e~Y\\xe9\\xe2\\xfac\\xa9\\x07\\x1eU\\x1d\\xa21\\xdd\\n\\x80\\xfd\\x18[#\\xb4RU\\xd3\\xc0\\xf5\\x8f\\xac\\xa7\\xdea\\xfe>}o\\x15\\x16B\\x08\\xa13o\\xec\\x04\\xa8\\xabwq\\xc3#\\x1b\\xa8\\xf6\\xf16\\xee\\x16z\\x15\\xd8\\xab:Dc\\xba\\x15\\x00\\x00\\xcf\\x02\\xbeY~\\xdf\\n\\x1bw\\x94\\xf1\\xf4\\xa4]\\xa6\\xbfoaI\\xbd\\xe9\\xef)\\x84\\x10\\xba+*5\\xff\\xda\\xf7\\xf8\\x1b;\\xd9\\xb4\\xb3\\xcc\\xf4\\xf75A\\x0e\\xf0\\x1f\\xd5!\\x8e\\xa6c\\x01P\\x86\\x86\\x0b\\x02\\x01^\\xfah\\x1fK\\xd7\\x15\\x9a\\xfa\\x9eu^\\x98U\\x10B\\x08\\xdd\\x99\\xdd\\xf9t\\xd1\\xaa\\x02^\\xfbd\\xbf\\xa9\\xefi\\xa2\\xfb\\x01\\xedNz\\xd3\\xb1\\x00\\x00\\xf8\\x12\\xe3\\xc4@\\xad\\xb8\\\\n\\xfe\\xdf?\\xd6\\x93\\x9do\\xde\\xca\\xd2\\xe8\\xf6!\\xa6\\xbd\\x97\\x10BXEt\\x94y\\xd7\\xbe\\xdc\\xc2:n\\xfc\\xd7F\\\\.\\xfd\\xda\\xfda,n\\xffFu\\x88\\xa6\\xe8Z\\x00\\x00\\x8c\\xc3\\x98\\r\\xd0Jna\\x1dW?\\xb8\\xce\\xb4\\xf5\\x00\\xdd:\\x87\\x99\\xf2>B\\x08a%q\\x9d\\xcc\\xb9\\xf69\\x9c.\\xaeyp\\x9d\\xae[\\xfe\\xca\\x81\\xbbU\\x878\\x16\\x9d\\x0b\\x80l\\xe0q\\xd5!\\x9a\\xb2*\\xb5\\xd8\\xb4U\\xa6C\\xfbE\\x9b\\xf2>B\\x08a%\\xc3\\xfa\\x9bs\\xed{\\xe0?\\xdbX\\xbe\\xb1\\xc8\\x94\\xf7\\xf2\\x82G\\x80L\\xd5!\\x8eE\\xe7\\x02\\x00\\xe0\\x1d`\\xb9\\xea\\x10My\\xf3\\xb34>\\x9e\\x95\\xd1\\xe6\\xf7\\x1914\\xc6\\x844B\\x08a-#M\\xb8\\xf6}6;\\x83w\\xbeL7!\\x8dW\\xfc\\nLQ\\x1d\\xa29\\xba\\xb4\\x02nN? \\x15\\x08W\\x1d\\xe4h\\x11\\xe1A,\\xff\\xf4,\\x86\\x0f\\xf0\\xbc\\x92\\xcd\\xcc\\xab\\xa1\\xe7y\\x0bt<\\xa9J\\x08!\\xbc\\xc2n\\xb7\\x91\\xb1\\xf8\\x02\\xbaw\\xf5\\xfc\\xb2\\xbeyw\\x19\\xa7_\\xbfL\\xd7-\\x7fu\\xc00\\xc0w\\xa7\\xcay@\\xf7\\x19\\x00\\x80\\xddh\\xb8}\\x02\\x8cc&\\xaf\\xfa\\xfb\\xda6mgI\\x8c\\x8b\\xe0\\xdc\\xd3\\xba\\x98\\x98J\\x08!\\xf46zD\\x976\\r\\xfe%\\xe5\\x0e\\xae\\xbc\\x7f\\x9d\\xae\\x83?\\x18\\'\\xfdi=\\xf8\\x835\\n\\x00\\x80\\x17\\x80m\\xaaC4\\xe5@V5\\xd7?\\xbc\\x81\\x86\\x06\\xcfo\\xe1\\x1f\\xb95\\xc5\\xc4DB\\x08\\xa1\\xb7\\xb6\\\\\\xf3\\\\.77<\\xb2\\x81\\xb4L\\xed\\x8e\\xf8=b+\\xf0_\\xd5!Z\"Hu\\x80\\x16j\\x006\\x00\\xb7\\xa0a\\xd1\\xb2?\\xa3\\n\\xbb\\xdd\\xc6\\x1f\\xff\\xd0\\xd9\\xa3\\xefO\\xee\\xd1\\x8e\\xf5\\xdbK\\xd9{P\\xdb\\x1fh!\\x840\\xa1A*A\\x00\\x00\\x16\\xcaIDAT\\xc5\\x983\\xba\\xf2\\xd4\\xdd\\xfd<\\xfe\\xfe\\'\\xdf\\xda\\xa5\\xf3\\x11\\xea.\\xe0J\\xc0{\\x07\\xc8\\x98\\xc8*\\x05\\x00@\\x16\\xd0\\t8Mu\\x90\\xa6\\xfc\\xba\\xa1\\x88a\\xfd\\xa3\\xe9\\x97\\xd4\\xde\\xa3\\xef\\x1f14\\x86\\xa9\\xdf\\x1d\\xf2J\\xbba!\\x84\\xd0AT\\xbb`~\\x9c<\\x82\\x98\\x0e\\x9e\\xf5\\x00\\xf8nQ\\x0e\\xf7=\\xbf\\xc5\\xe4T\\xa6z\\x1d\\xf8Pu\\x88\\x96\\xb2R\\x01\\x00\\xb0\\x0c\\xb8\\n\\xf0\\xecV\\xdb\\x8b\\xdcn\\x98\\xb5$\\x97\\xd1#\\xbb\\x90\\x18\\x17\\xd1\\xea\\xef\\x8f\\xe9\\x10\\xca\\x80\\xe4\\x0e\\xcc\\x98\\x9f-\\x0b\\x02\\x85\\x10~\\xc7f\\x83\\xcf^<\\x993\\x86\\xc5z\\xf4\\xfd\\xeb\\xb7\\x97r\\xf9\\xbdk\\xa8wh{\\x81\\xdc\\t\\xfc\\x19p\\xa8\\x0e\\xd2RV+\\x00\\x1c\\xc0J\\xe0f4\\xcc\\xeet\\xba\\xf9\\xf1\\x97\\\\\\xae\\x19\\xd3\\x9d\\x8e\\x1et\\xb9:1\\xa9=\\x9dcB\\x99\\xbbL\\xbb\\xa3\\x10\\x84\\x10\\xc2c6\\x1bL~r(7^\\xde\\xc3\\xa3\\xef?\\x90U\\xcd\\xb97\\xaf\\xa0\\xa4\\\\\\xdb\\xb1\\xd5\\x01\\\\\\x8aE\\xa6\\xfe\\x8f\\xd0n\\x10m\\x81\\x1c\\x8c5\\x01\\xe7\\xa9\\x0e\\xd2\\x94\\xca\\xea\\x06\\x16\\xac,\\xe0\\xfa\\x8b\\x13\\x89\\x08k\\xfd\\x1f\\xef\\xa9\\x83c\\xe8\\xd5=\\x92\\xf9+\\xf2q\\xb6aa\\xa1\\x10B\\xe8 <\\xcc\\xceG\\xcf\\x0e\\xe3\\xd6\\xabzy\\xf4\\xfde\\x15\\x0e\\xce\\xbfm\\x15\\xe9\\x99\\xd5&\\'3\\xd5?\\xd1\\xb4\\xddos\\xac\\xd0\\x07\\xa0)v`!p\\xae\\xea \\xc7r\\xce\\x1f:3\\x7f\\xcaH\\xc2B=[\\xb3\\xb8a{)7\\xfek#;\\xf6W\\x98\\x9cL\\x08!|cP\\xdf\\x0e|\\xfa\\xc2pN:\\xd1\\xb3^)\\x0e\\xa7\\x8b\\x0b\\xef\\\\\\xcd\\xe2\\xd5\\x05&\\'3\\xd5/\\x18c\\x91\\xe5\\x16pYq\\x06\\x00\\xc0\\r,\\x01n\\x02Z\\xff\\xc0\\xdd\\x07\\x0efW\\xb3?\\xa3\\x9a+\\xcf\\xef\\x8e\\xcd\\x832\\xab{\\xd7p\\xee\\xb8\\xa6\\x17\\xb1\\xd1\\xa1l\\xdbWNE\\x95\\xd3\\xfc\\x90B\\x08\\xe1\\x05\\tq\\xe1<{_\\x7f>|n\\x98\\xc7\\xfb\\xfd\\xddn\\xb8\\xe5\\xc9M|\\xbf8\\xc7\\xe4t\\xa6*\\x01\\xc6\\x00\\xa5\\xaa\\x83x\\xc2\\xaa\\x05\\x00\\x18\\x87,\\xec\\x03\\xaeS\\x1d\\xe4X\\xb6\\xed-\\xc7n\\xb7q\\x8e\\x87\\xdb\\x03\\x83\\xec6F\\x0c\\x8d\\xe5\\xbe\\x1b\\xfa0\\xf8\\x84h\\x82\\x82l\\xe4\\x16\\xd6\\xe9\\xdc\\xfcB\\x08\\x11\\xa0\\xba\\xc4\\x86q\\xf9\\xa8x\\x9e\\x1e\\xd7\\x8fw\\x9e\\x1a\\xca\\xe9\\xc3b\\xb1\\xdb=\\x9fd~z\\xd2.\\xde\\xfa<\\xcd\\xc4\\x84^q\\x13\\xc6\\xba4K\\xb2\\xea#\\x80\\xc6\\xa6b\\xfc%h\\xc9f\\x83i\\xcf\\x0f\\xf7x\\xf1KS\\xb2\\xf2jI\\xcb\\xac\\xa2\\xb4\\xc2Am\\x9d\\xe5f\\x9d\\x84\\x10~\"<\\xccN\\xc7\\xa8\\x10\\xfa$\\xb6#!\\xce\\xbcn\\xed\\xd3\\xe7dr\\xc3#\\x1bt\\xdf\\x11\\xf5>p\\x87\\xea\\x10m\\xe1\\x0f\\x05@\\x14\\xb0\\tHV\\x1d\\xe4XBC\\xec\\xcc}o$\\xe7\\x9e\\xa6\\xdd\\xeeE!\\x84\\xd0\\xca\\x82\\x95\\xf9\\\\r\\xf7\\x1a\\x1cN\\xadon\\xf6\\x00\\xc3\\x01Kwo\\xd3\\xae\\xab\\x9e\\x07*\\xd0|\\xefe\\xbd\\xc3\\xc5\\xa5\\xe3V\\xb3l\\x83\\xb6GV\\n!\\x84r\\xabR\\x8b\\xb9\\xea\\x81u\\xba\\x0f\\xfeN\\xe0F,>\\xf8\\x83\\xb5\\xd7\\x004\\x96\\x8d1\\x9b1Ju\\x90cq8\\xdd\\xcc\\\\\\x94\\xc3\\xf9#\\xdbv\\x08\\x86\\x10B\\xf8\\xa3\\xd4]e\\x8c\\xb9}\\x15\\xe5\\x95\\xda/x~\\x1c\\xf8Ju\\x083\\xf8\\xc3#\\x80#\\x82\\x80y\\xc0h\\xd5A\\x9a\\xd3%6\\x8c\\xa5\\xd3\\xce`@r\\x94\\xea(B\\x08\\xa1\\x85m{\\xcb\\xf9\\xe3M+\\xdat\\xb2\\xaa\\x8f\\xcc\\x03.\\xc6\\x82[\\xfe\\x9a\\xe2O\\x05\\x00@,\\xb0\\x1eHR\\x1d\\xa49q\\x9d\\xc2\\xf8\\xe5\\xe33=>7@\\x08!\\xfc\\xc5\\xbeCU\\x9c}\\xe3rr\\njUG9\\x9e\\x83\\xc0)@\\xa1\\xea f\\xf1\\x875\\x00\\x8d\\x15c\\x9c\\xc4T\\xa3:Hs\\xf2\\x8a\\xea8\\xff\\xb6\\x95\\x1c\\xc8\\xd2\\xba\\xb3\\x95\\x10BxUFn\\r\\xe7\\xdf\\xb6\\xd2\\n\\x83\\x7f-\\xc694~3\\xf8\\x83\\xff\\x15\\x00\\x00\\xa9\\xc0\\x9d\\xaaC\\x1c\\x8f\\x85~\\xf0\\x85\\x10\\xc2t\\xf9\\xc5u\\\\`\\x9d\\x1b\\xa1q\\x18G\\xd2\\xfb\\x15\\x7fY\\x04x\\xb4-@w\\xe0d\\xd5A\\x9aS\\\\\\xe6`\\xc1\\xca\\x02\\xae\\x1d\\x9b@d\\xb8\\xbf\\xfeU\\x08!\\xc4o\\x15\\x96\\xd43\\xea\\xe6\\x15\\xecL\\xabT\\x1d\\xa5%&\\x01\\xffV\\x1d\\xc2\\x1b\\xfcm\\r@ca\\x18=\\x9aOS\\x1d\\xe4xN\\x1e\\xd8\\x91\\xf9SF\\xd2\\xa9c\\xa8\\xea(B\\x08\\xe1U\\x85%\\xf5\\x8c\\xb9c%\\x1bw\\x94\\xa9\\x8e\\xd2\\x12+1v\\x97i\\xbf:\\xd1\\x13\\xfe\\\\\\x00\\x00\\xc4cL\\xdb\\xc4\\xab\\x0er<\\xfd\\xfbD\\xb1\\xe8\\xc3\\xd3e\\x8b\\xa0\\x10\\xc2o\\x1dY\\xff\\xb4uO\\xb9\\xea(-\\x91\\x871\\x8b\\x9c\\xa5:\\x88\\xb7\\xf8\\xe3\\x1a\\x80\\xc6r\\x80\\x1b0\\x1a7hmgZ\\x05g\\xfeu\\x99\\xeeG^\\n!\\x84G\\x0e\\xe5\\xd4p\\xd6_\\x97Ye\\xf0wb\\x9c3\\xe3\\xb7\\x83?\\xf8\\xef\\x1a\\x80\\xc6\\x0e`\\xec\\n\\xb8@q\\x8e\\xe3*-w\\xf0\\xdd\\xe2\\x1c.9\\xa7\\x9b<\\x0e\\x10B\\xf8\\x8d\\xf4\\xccj\\xce\\xbbe%\\xfb3,\\xd3<o<~\\xd2\\xec\\xa79\\xfe\\xfe\\x08\\xe0\\x08\\x1b\\xf0%p\\xad\\xea -\\xd1\\xbdk8\\x0b?8]\\x9a\\x05\\t!,o\\xdb\\xder\\xce\\xbfm%\\xb9\\x85u\\xaa\\xa3\\xb4\\xd4\\x17\\x183\\xc7~/P\\n\\x00\\x80\\x08`10Ru\\x90\\x96\\x88\\xe9\\x10\\xc2\\xbc)#9up\\x8c\\xea(B\\x08\\xe1\\x91\\x8d;\\xca\\x18s\\xc7J\\nK,\\xb3\\x86n-\\xc6\\xa2\\xbf\\x80x\\x16\\x1bH\\x05\\x00@g`\\x15\\x90\\xa2:HKDG\\x850\\xe7\\xdd\\x11\\x9c~R\\xac\\xea(B\\x08\\xd1*\\xcb7\\x16q\\xc9\\xb85\\x94Uh{N\\xdb\\xd1\\xd20n\\x10\\xf3U\\x07\\xf1\\x15\\x7f_\\x04x\\xb4B\\xe0R\\x8c\\x8e\\x81\\xda+\\xabp0\\xe6\\xf6U,^]\\xa0:\\x8a\\x10B\\xb4\\xd8\\x82\\x95\\xf9\\x8c\\xbdc\\x95\\x95\\x06\\xff\"`,\\x014\\xf8C`,\\x02<Z!\\xc6,\\xc0\\xf5@\\xb0\\xe2,\\xc7U\\xefp\\xf1\\xe5\\xdc,z\\xc5G2\\xf4\\xc4h\\xd5q\\x84\\x10\\xa2Y\\xd3\\xbe?\\xc4\\xf5\\x0fo\\xa0\\xb6\\xce2\\xe7\\xe5\\xd4\\x03\\x97\\xe3\\x87\\x9d\\xfe\\x8e\\'\\x10\\x0b\\x00\\x80C\\xc0^\\x8c\\xde\\xce\\xda?\\x06ip\\xb9\\x99\\xb5$\\x07\\xb7\\x1b\\xce\\xf9Cgl\\xda\\'\\x16B\\x04\\x1a\\xb7\\x1b&L\\xde\\xc5\\xf8\\x97\\xb6\\xd1\\xd0\\xe0V\\x1d\\xa7\\xa5\\xdc\\xc0\\xcd\\xc0\\x0f\\xaa\\x83\\xa8\\x10\\xa8\\x05\\x00\\xc0v\\x8c#\\x1dG\\xa9\\x0e\\xd2R\\xbf\\xac+\\xe2@V5\\x17\\x9d\\x1dGP\\x90T\\x01B\\x08=\\xd4;\\\\\\xdc\\xf2\\xc4&\\xde\\xfc,Mu\\x94\\xd6z\\x0c\\x98\\xac:\\x84*\\x81\\\\\\x00\\x00\\xfc\\nt\\xc38\\xe2\\xd1\\x126\\xef.g\\xe5\\xa6b.?7\\x9e\\xf0\\xb0@\\xff\\xeb\\x13B\\xa8VR\\xee\\xe0\\xd2qk\\xf8\\xe1\\xe7\\\\\\xd5QZ\\xebC\\xe0\\x11\\xd5!T\\x92\\xdbH\\x08\\x01~\\x02\\xceW\\x1d\\xa45\\x06$G\\xf1\\xd3;#\\xe8\\x9d\\x10\\xa9:\\x8a\\x10\"@\\xa5gVs\\xf1\\xdd\\xab\\xd9\\x99V\\xa1:Jk\\xcd\\x07.\\xc1\\x02]b\\xbdI\\n\\x00C\\x07`\\x190Du\\x90\\xd6\\xe8\\xd69\\x8c\\xd9\\x93Gp\\xca\\xc0\\x8e\\xaa\\xa3\\x08!\\x02\\xcc\\xda\\xad%\\\\v\\xcf\\x1a\\xf2\\x8a,\\xd3\\xe0\\xe7\\x88\\xed\\xc0\\x19\\x80%N#\\xf2\\xa6@\\xdb\\x06x,\\xe5\\xc0\\xc5@\\xba\\xea \\xad\\x91[X\\xc7\\x1f\\xff\\xb6\\xdc\\x8aSoB\\x08\\x0b\\xfbnQ\\x0e\\xa3nZa\\xc5\\xc1\\x7f?F[\\xf8\\x80\\x1f\\xfcA\\xd6\\x004V\\x0e|\\x07\\\\\\tX\\xe6\\x96\\xda\\xe1t\\xf3\\xd5\\xdc,jj]\\x9c{Zgl\\xb2E@\\x08\\xe1%n7\\xbc\\xf4\\xd1^\\xee\\x9c\\xb0\\x99z\\x87e\\xb6\\xf9\\x1d\\x91\\t\\x9c\\x0bd\\xa8\\x0e\\xa2\\x0b\\x19-~\\xaf/\\xff[\\x1ch)\\x17\\x9e\\x15\\xc7\\xe7/\\x9dLL\\x87\\x10\\xd5Q\\x84\\x10~\\xa6\\xb8\\xac\\x9e\\x1b\\x1e\\xd9\\xc0\\xbc\\xe5\\x96\\xec\\x95S\\x00\\x9c\\x03\\xecT\\x1dD\\'R\\x004m\\x08\\xf03`\\xb9\\x1e\\xbc=\\xe3#\\xf8\\xf6\\x8dSe]\\x80\\x10\\xc24\\xa9\\xbb\\xca\\xb8\\xea\\x81u\\xa4eZ\\xe64\\xbf\\xc6J1\\xee\\xfc7\\xa9\\x0e\\xa2\\x1by\\x04\\xd0\\xb4<\\xe0\\x17\\x8c\\xf3\\xa0\\xc3\\x14gi\\x95\\xb2J\\'\\x9f\\xfe\\x90AB\\xd7\\x08\\x86\\xf5\\x97\\xce\\x81B\\x88\\xb6\\xf9\\xfc\\xc7L\\xae\\xb8o-\\xf9\\xc5\\x96{\\xde\\x0f\\xc6\\xa3\\xdd\\xf3\\t\\xc0.\\x7f-!\\x05\\xc0\\xb1ea<\\n\\xb8\\x0e\\x08U\\x9c\\xa5U\\x9c\\rnf-\\xc9%\\xa7\\xa0\\x8e1gt\\x95\\xa6AB\\x88Vs6\\xb8y\\xec\\xf5\\x9d<\\xf4\\xd26\\x1cN\\xcbt\\xf6k\\xac\\x06c\\xab\\xdfJ\\xd5At%#\\xc3\\xf1\\x9d\\x0f\\xcc\\xc6b3\\x01G\\x9c1,\\x96\\x19\\xaf\\xfe\\x81\\xee]\\xc3UG\\x11BXDV^-\\xd7\\x8c_\\xc7\\xaaTK\\x9c\\x9b\\xd6\\x94z\\xe0\\n`\\x8e\\xea :\\x93\\x19\\x80\\xe3K\\x03v`\\x9c\\x1b`\\xb9m\\x93\\x19\\xb95L\\x9f\\x93\\xc5\\xf0\\x01\\x1dI\\x92\\xa6AB\\x88\\xe3X\\xb4\\xaa\\x80\\xb1w\\xacbWz\\xa5\\xea(\\x9er\\x02\\xd7b\\xdc\\xb8\\x89fH\\x01\\xd02;1z\\x04\\xfc\\t\\x0b\\xce\\x9aTV;\\xf9tv&\\xd5\\xb5\\r\\x9csJ\\'y$ \\x84\\xf8\\x9d\\xbaz\\x17\\xff|u\\x07\\xe3\\x9e\\xddLeu\\x83\\xea8\\x9er\\x01\\x7f\\x03\\xbeV\\x1d\\xc4\\nd$h\\x9d?\\x03\\x9f`\\xb4\\x0f\\xb6\\xa4A};\\xf0\\xc5K\\'3\\xf8\\x84\\x0e\\xaa\\xa3\\x08!4\\xb1+\\xbd\\x92\\xeb\\x1f^\\xcf\\xa6\\x9d\\x96\\xee\\x8f\\xd3\\x00\\xdc\\n|\\xac:\\x88U\\xc8\\x0c@\\xebl\\x03R1\\x9e-\\x05+\\xce\\xe2\\x91\\xfc\\xe2:\\xa6\\xcd\\xca\\xa0}d0\\xa7\\r\\x89\\x91\\xa3\\x85\\x85\\x08p\\x9f\\xcc\\xca\\xe0\\xf2{\\xd7p(\\xa7Fu\\x94\\xb6\\xa8\\xc7\\xb8A\\xfbRu\\x10+\\x91\\xcb\\xbfgFa\\x9c\\x1f\\xdd^u\\x90\\xb6\\x18{fW\\xa6>?\\x9cn\\x9d-\\xb9\\xbeQ\\x08\\xd1\\x06\\x05\\xc5u\\xdc\\xf6T\\xaa?\\xb4\\x12\\xaf\\xc6\\xe8\\xe0:_u\\x10\\xab\\x91\\x02\\xc0sg\\x01?b\\x1c$dYq\\x9d\\xc2\\xf8\\xe8\\xb9a\\\\tv\\x9c\\xea(B\\x08\\x1fY\\xb4\\xaa\\x80\\xbf=\\xb6\\x91\\xec\\xfcZ\\xd5Q\\xda\\xaa\\x12\\xb8\\x1cX\\xa2:\\x88\\x15\\xc9#\\x00\\xcf\\x1d\\xc2\\xe8\\x16x\\x15\\x10\\xa18\\x8b\\xc7\\xaaj\\x1a\\x98>\\'\\x93\\xb2\\n\\'g\\x9f\\xd2\\x89\\x90`\\xcbmt\\x10B\\xb4PMm\\x03\\x0f\\xbf\\xbc\\x9d{\\x9f\\xdfBE\\x95\\xe5O\\xc2-\\xc6\\xd8\\xa6\\xbdBu\\x10\\xab\\x92\\x19\\x80\\xb6\\x1b\\x08,\\x04\\xe2U\\x07i\\xab>\\x89\\xedx\\xef\\x99\\xa1\\x8c\\x1e\\xd9Eu\\x14!\\x84\\xc9\\x96m(\\xe2\\xf6\\xa7S\\xd9m\\xdd\\xed}\\x8d\\xe5\\x01c\\x80\\xcd\\xaa\\x83X\\x99\\x14\\x00\\xe6\\xe8\\x07,\\x02\\x12U\\x07i+\\x9b\\r\\xferi\\x0f^{t\\x10\\x9d:Z\\xaa\\x01\\xa2\\x10\\xa2\\t\\xa5\\x15\\x0e\\x1e}e\\x07\\xef\\x7fs\\x00\\xb7%\\x1b\\xfa\\xfdN\\x0e\\xc6\\x9d\\xffv\\xd5A\\xacN\\n\\x00\\xf3\\xf4\\xc2(\\x02RT\\x071C\\xb7\\xcea\\xbc8~ 7^\\xdeCu\\x14!\\x84\\x87f/\\xcd\\xe5\\xee\\x89\\x9b\\xc9\\xca\\xb3\\xfc\\xb3\\xfe#\\x0e\\x00\\xa3\\x81\\xfd\\x8as\\xf8\\x05)\\x00\\xcc\\x95\\x08\\xcc\\x05\\x06\\xa9\\x0eb\\x96+F\\xc73\\xe9\\xf1!\\xd2JX\\x08\\x0b\\xc9\\xca\\xabe\\xdc\\xb3\\x9b\\xfda\\x85\\x7fc[\\x80\\x0b\\x81l\\xd5A\\xfc\\x85,\\x024W9\\xf0)p\\x12\\xd0Wq\\x16S\\xecJ\\xab\\xe4\\xc3\\x99\\x87\\x88\\x08\\x0b\\xe2\\xd4\\xc1\\x1d\\xb1I\\xe3\\x00!\\xb4\\xe5v\\xc3\\xa7?d\\xf0\\xa7\\xfb\\xd6\\x92\\xba\\xcb\\xd2M}\\x8e\\xb6\\x10\\xb8\\x08(T\\x1d\\xc4\\x9f\\xc8\\xd5\\xdc;B\\x80w\\x81[T\\x071\\xd39\\x7f\\xe8\\xcc\\xdbO\\x0ca`J\\x94\\xea(B\\x88\\xa3l\\xddS\\xce\\xb8g\\xb7\\xb0|c\\x91\\xea(f{\\x1f\\x18\\x87\\xd1\\xe3_\\x98H\\n\\x00\\xefz\\x00x\\x15\\x0b\\x1e\"t,v\\xbb\\x8d\\x1b.I\\xe4\\x95\\x87\\x07\\xd2%V\\x1a\\x08\\t\\xa1ZqY=\\x13&\\xeff\\xf2\\xf4t\\x9c\\r\\xfe\\xb1\\xca\\xef070\\x11xFq\\x0e\\xbf%\\x8f\\x00\\xbck\\r\\xc6I\\x82\\x97a\\xd1\\xd6\\xc1Gs\\xbba\\xcb\\xeer>\\xf8\\xf6 \\xd8\\xe0\\xd4\\xc11r\\xb8\\x90\\x10\\n8\\x1b\\xdc|\\xf0\\xedA\\xae\\xb8\\x7f-?\\xaf-\\xc4\\xe5Wc?u\\x18\\x87\\xfa\\xbc\\xa5:\\x88?\\x93+\\xb7o\\x8c\\x04f\\x01~\\xb7\\xc1\\xbe_R{^yx\\x10\\x17\\x9f#\\x9d\\x04\\x85\\xf0\\x95E\\xab\\nx\\xf0\\xc5ml\\xdb[\\xae:\\x8a7\\x14c\\x9c\\xb7\\xf2\\xab\\xea \\xfeN\\n\\x00\\xdfI\\x06\\xe6\\x00\\'\\xa8\\x0e\\xe2\\r\\xa3Gv\\xe1\\xf5\\x7f\\x0e\\x96\\xf5\\x01Bx\\xd1\\xde\\x83U<\\xfe\\xc6\\x0e\\xbe\\x9e\\xef\\xb7\\x0b\\xe1\\xd30\\x16\\xfb\\xedV\\x1d$\\x10H\\x01\\xe0[]0\\x0e\\x11\\x1a\\xa1:\\x887\\x84\\x86\\xd8\\xb9\\xff/}x\\xe2\\xce\\x13\\x88\\x8e\\xb2\\xec\\x89\\xc9Bh\\xa7\\xb4\\xc2\\xc1\\xc4\\xc9\\xbb\\x99\\xf4E:\\x0e\\xa7Ku\\x1coY\\x89\\xd1\\xd7_V\\xfa\\xfb\\x88\\x14\\x00\\xbe\\x17\\x01|\\x84qt\\xa5_\\x8a\\x8d\\x0e\\xe5\\xe1[R\\xb8\\xef\\x86>\\xb4\\x8b\\x90e&Bx\\xaa\\xb2\\xda\\xc9\\x9b\\x9f\\xa5\\xf1\\xf2\\xd4}\\x94\\x94;T\\xc7\\xf1\\xa6/\\x80[\\x01\\xbf\\xe9Xd\\x05R\\x00\\xa8s\\x070\\tc\\xcb\\xa0_\\xea\\x1c\\x13\\xca?nN\\xe1\\xfe\\x1b\\xfa\\x10\\x11.\\x85\\x80\\x10-UW\\xef\\xe2\\xe3Y\\x87xz\\xd2.r\\x0b\\xebT\\xc7\\xf1&\\'\\xf0\\x04\\xf0\\xa2\\xea \\x81H\\n\\x00\\xb5\\xce\\x02f\\x00\\xddT\\x07\\xf1\\xa6\\xae\\xb1a\\x8c\\xbf)\\x99\\x07\\xfe\\x92Lx\\x98\\xdf\\xec\\x88\\x14\\xc2t\\xf5\\x0e\\x17\\xd3\\xbe?\\xc4\\x84\\xc9\\xbb\\xfd\\xe1\\xa8\\xde\\xe3)\\xc0\\x98\\t\\x95\\xa3|\\x15\\x91\\x02@\\xbd\\x04\\xe0k\\x8c\\x9d\\x02~\\xadG\\xb7\\x08\\x1e\\xba)\\x85\\xbb\\xae\\xebMX\\xa8\\x14\\x02B\\x1c\\xe1p\\xba\\x98\\xfeS\\x16\\x13&\\xef&-\\xb3Ju\\x1c_X\\x8fq\\x94\\xfa!\\xd5A\\x02\\x99\\x14\\x00z\\x08\\x05\\xde\\x00\\xeeR\\x1d\\xc4\\x17\\x92{\\xb4\\xe3\\xe9q\\xfd\\xb8\\xfe\\xe2D\\xe9! \\x02\\x9a\\xb3\\xc1\\xcdg\\xb33\\x98\\xf8\\xcen\\xd23\\xabU\\xc7\\xf1\\x95\\xb7\\x81\\xf1@\\xbd\\xea \\x81N\\xae\\xbez\\xf9\\x0b\\xf0\\x1e\\x10\\xa9:\\x88/\\xf4N\\x88\\xe4\\xae\\xebzs\\xd7\\xb5\\xbde\\xd7\\x80\\x08(\\x95\\xd5N>\\xfc\\xf6\\x10\\xaf}\\xb2\\x9f\\x83\\xd9\\x013\\xf0\\xd7\\x02\\xf7`,\\x82\\x16\\x1a\\x90\\x02@?\\'\\x013\\x81$\\xd5A|\\xa5C\\xfb`n\\xfaSO\\x1e\\xbe%\\x85\\xc4\\xb8\\x08\\xd5q\\x84\\xf0\\x9a\\xbc\\xa2:\\xde\\xf92\\x9d\\xb7>O\\xa7\\xb8,\\xa0n\\x80\\x0f\\x01W\\x03\\xebT\\x07\\x11\\xff#\\x05\\x80\\x9e:\\x01\\x9f\\x03cT\\x07\\xf1\\xa5\\xd0\\x10;\\xd7]\\x98\\xc0#\\xb7\\xa40\\xa8o\\x07\\xd5q\\x840\\xcd\\x9e\\x03\\x95\\xbc==\\x9d)_\\x1f\\xa0\\xb6\\xceo\\xf7\\xf1\\x1f\\xcb<\\xe0\\x06\\x8c\\x0e\\x7fB#R\\x00\\xe8+\\x08x\\x14\\xe3 \\x8c\\x80\\x9a\\x1f\\xb7\\xd9`\\xec\\x99q<tS2\\xe7\\x8d\\xf0\\xbb\\xee\\xc9\"\\x80,ZU\\xc0+\\xd3\\xf61\\x7fE>n\\xff\\xea\\xd5\\xdf\\x12\\x0e\\xe0)\\xe0% \\xe0\\xaa\\x1e+\\x90\\x02@\\x7f\\xa7\\x02\\x9f\\x01}U\\x07QaX\\xffh\\xc6\\xfd9\\x89?_\\x94@\\xfbH\\xbf8OI\\xf8\\xb9\\x8a*\\'_\\xcd\\xcd\\xe2\\xed\\xe9\\xe9\\xa4\\xee*S\\x1dG\\x95=\\x18w\\xfd\\xebU\\x07\\x11\\xc7&\\x05\\x805D\\x00/\\x00\\xf7\\xab\\x0e\\xa2JT\\xbb`\\xfet^<7^\\xd6\\x83\\xd1#eV@\\xe8g\\xc3\\xf6R\\xa6|}\\x90\\xe9s2\\xa9\\xa8\\n\\xe8\\xa3\\xeb?\\x05\\xc6\\x01\\x95\\xaa\\x83\\x88\\xe6I\\x01`-W\\x02S0\\xd6\\x08\\x04\\xac\\x01\\xc9Q\\xdcxy\\x0fn\\xbb\\xaa\\x17\\x9d:\\x86\\xaa\\x8e#\\x02XY\\x85\\x83\\xaf\\xe6e\\xf1\\xeeW\\x07\\xd8\\xb43`\\xef\\xf6\\x8f(\\x05\\xee\\x06\\xbeT\\x1dD\\xb4\\x8c\\x14\\x00\\xd6\\xd3\\r\\x98\\n\\x8cU\\x1dD\\xb5\\xf00;\\x97\\xfe\\xb1\\x1bw\\\\\\xd3\\x9b\\xf3Ft\\xc1&?\\xcd\\xc2G\\x8e\\xdc\\xed\\x7f\\xfec\\x06U5\\r\\xaa\\xe3\\xe8`\\tp#\\x90\\xa5:\\x88h9\\xb9dZ\\x93\\x1d\\xf8\\x07\\xf0,F\\x13\\xa1\\x80\\xd7\\xbf\\x8f1+p\\xdd\\xd8\\x04\\x92\\x12\\x03\\xa2\\x8d\\x82\\xf0\\xb1\\xfd\\x19U\\xcc\\x98\\x97\\xcd\\'\\xb3\\x0e\\xb1+]f\\xb7\\x0f\\xab\\x07\\x1e\\x07^E\\x16\\xfaY\\x8e\\x14\\x00\\xd66\\x08\\xe3\\x14\\xad\\xc1\\xaa\\x83\\xe8d@r\\x14\\xd7\\x8c\\xe9\\xce_/\\xebAr\\x8fv\\xaa\\xe3\\x08\\x0b\\xcb\\xc8\\xada\\xe6\\xc2\\x1c\\xbe\\x9e\\x9f\\xc5\\xca\\xd4\\xe2@\\\\\\xc9\\xdf\\x9c]\\x18\\x0b\\xfd6\\xaa\\x0e\"<#\\x05\\x80\\xf5E\\x02\\xcf\\x03\\xf7al\\x1d\\x14\\x87\\xd9l0rh,\\xd7\\x8eM\\xe0\\x9a1\\xdd\\xe9\\xde5\\\\u$a\\x01Yy\\xb5|=?\\x8b\\x19\\xf3\\xb3Y\\xbdY\\x06\\xfd&4\\x00ob\\x9c\\xe2\\x170m\\x0c\\xfd\\x91\\x14\\x00\\xfe\\xe3T\\xe0\\x03d6\\xa0Iv\\xbb\\x8d3\\x87\\xc7r\\xdd\\xd8\\x04\\xae\\xba\\xa0;q\\x9d\\xc2TG\\x12\\x1a\\xc9)\\xa8\\xe5\\xdb\\x859\\xcc\\x98\\x97\\xc5\\x8aM\\xc5\\xb8\\\\2\\xea\\x1f\\xc3\\x16\\xe06\\xa4\\xa3\\x9f_\\x90\\x02\\xc0\\xbf\\x04\\x03\\x0fa4\\x0f\\x92\\xdb\\xddf\\x0cH\\x8e\\xe2\\xd2?vc\\xf4\\xc8.\\x9c\\xf3\\x87N\\x84\\x04\\xcb\\xe9\\x84\\x81\\xa4\\xa1\\xc1M\\xea\\xae2\\x16\\xad.`\\xf6\\xcf\\xb9\\xac\\xda\\\\\"\\x83~\\xf3\\x1c\\x18\\xcf\\xf9\\x9fB\\x0e\\xf1\\xf1\\x1bR\\x00\\xf8\\xa7\\x14\\x8c\\xed\\x82\\xa3T\\x07\\xb1\\x82\\xd8\\xe8P\\xce\\x1b\\xd1\\x99\\xd1#\\xbbp\\xf1\\xd9\\xddH\\x88\\x93\\xda\\xc9\\x1f\\x15\\x14\\xd7\\xb1t]\\x11\\xb3\\x97\\xe6\\xf2\\xe3\\xd2\\\\J\\xca\\x1d\\xaa#Y\\xc5\\n\\xe0v`\\xa7\\xea \\xc2\\\\R\\x00\\xf8/;p\\'F\\x03!i\\xac\\xdfB6\\x9b\\xd1}p\\xec\\x99q\\\\xVWF\\x0c\\x8d%X\\x8e,\\xb6$g\\x83\\x9bU\\xa9\\xc5\\xcc]\\x96\\xc7\\xbc\\xe5\\xf9\\xa4\\xee*\\x93\\xe7\\xf9\\xadS\\x86\\xd1\\x8e|\\n \\x7fr~H\\xael\\xfe/\\x1ex\\x0b\\xb8Ju\\x10+j\\x17\\x11\\xc4I\\'Fs\\xe6\\xf0N\\x9c1<\\x963\\x86\\xc5\\x12\\x1b-;/uTY\\xed$uW\\x19+6\\x15\\xb3|C1\\xcb6\\x16QV!w\\xf9\\x1e\\xfa\\x11\\xa3\\x9b_\\x86\\xea \\xc2{\\xa4\\x00\\x08\\x1c\\xd7b\\xac\\xdc\\x8dS\\x1d\\xc4\\xca\\x82\\x82l\\x0cJ\\xe9\\xc0\\x99\\xc3c9}X,g\\x0e\\xefD\\xcfx9\\xc2X\\x85\\x83\\xd9\\xd5,\\xdfX\\xcc\\xca\\xd4b\\x96o(b\\xdb\\xbe\\ny\\x8e\\xdfv9\\x18-\\xc7\\xbfQ\\x1dDx\\x9f\\x14\\x00\\x81%\\x1a\\x98\\x00\\xdc\\x83\\xb1`P\\x98 1.\\x823O\\x8eex\\xff\\x8e\\x0c=\\xb1\\x03\\x83\\xfbv \\xbe\\x8b\\xac#0Sv~-[\\xf7\\x96\\xb3ew9\\x1bv\\x94\\xb2|c\\x11Yy\\xb5\\xaac\\xf9\\x93:\\xe0\\r\\xe09\\xa0Bq\\x16\\xe1#R\\x00\\x04\\xa6~\\x18\\xff\\xb1\\x8fQ\\x1d\\xc4_u\\x8c\\na`J\\x14\\x03S:0 9\\x8a\\x93\\x07F3\\xac\\x7fG\\xdaEH\\xab\\x86\\xe6\\xd4;\\\\\\xec=X\\xc5\\x86\\xed\\xa5\\xec\\xd8_\\xc1\\xf6}\\x15\\xac\\xdf^Bna\\x9d\\xeah\\xfe\\xecG\\xe0\\xef\\xc0~\\xd5A\\x84oI\\x01\\x10\\xd8\\xae\\x05^\\x06z\\xa8\\x0e\\x12\\x08\\x82\\x82l\\xa4\\xf4l\\xc7\\x90\\x13:\\xd0/\\xa9=\\xbd\\xbbG\\x92\\x94\\xd8\\x8e\\xde\\t\\x11\\xf4\\xe8\\x16\\x110[\\x11\\x1dN\\x17\\x87rj8\\x90UMzf5\\x07\\xb2\\xab\\xd9s\\xa0\\x92\\xcd\\xbb\\xcb\\xd9\\x9fQEC\\x83L\\xe3\\xfb\\xc8V\\xe0A`\\xb1\\xea B\\r)\\x00D$\\xc6\\xb9\\x02\\x8f\\x00\\xd27W\\x91\\xa0 \\x1b\\x89q\\x11$%D\\xd2\\xfb\\xf0+)!\\x92\\xa4\\xc4H\\x12\\xe2\\xc2\\xe9\\x12\\x13FT;k<\\xb5)\\xaftRXZGV^-\\xe9\\x99\\xd5\\xa4gU\\x1b\\x83\\xfd\\xe1_3\\xf3jd\\x90W\\xab\\x08c?\\xff\\x14 \\xa0\\xcf-\\x0etR\\x00\\x88#\\xe21\\x0e\\x17\\xba\\x19c\\x0b\\xa1\\xd0Lh\\x88\\x9dN\\x1dC\\xff\\xf7\\x8a\\x0e\\xa1sL\\x18\\x9dc\\x1a\\xfd\\xb3\\x8e!\\x84\\x87\\x06a\\xb3\\x19\\x8f!\\x00\\xc2\\xc3\\x82\\x88\\x087\\xfeJ\\xa3\\xdb\\x87`\\xb7\\xdb\\x08\\t\\xb6\\xd1>\\xd2((*\\xab\\x9d8\\x9cn\\\\.7e\\x95\\xc6\\xaa\\xf9\\x9aZ\\x17\\xb5u\\xc6)w\\xa5\\x15\\x0e\\xdcn\\xa8\\xado\\xa0\\xa8\\xd4AQi=E\\xa5\\xf5\\x14\\x96\\xd4SXRGQ\\xd9o\\xff\\x99\\xc3)g\\xc2h\\xca\\x01L\\xc6X\\x07T\\xa28\\x8b\\xd0\\x80\\x14\\x00\\xe2h\\xfd1\\x1e\\x0b\\\\\\xa4:\\x88\\x10\\xc24\\x8b1\\x9e\\xf3oS\\x1dD\\xe8C\\xee\\xf4\\xc4\\xd1v\\x02\\x17\\x03c\\x91S\\xbe\\x84\\xb0\\xba\\xf5\\x18\\x8b}G#\\x83\\xbf\\x10\\xa2\\x15l\\xc0\\xa5\\x18\\x07\\x80\\xb8\\xe5%/yY\\xe6\\xb5\\x13\\xb8\\x06\\x99\\xe5\\x15B\\xb4Q0p+p\\x08\\xf5\\x176y\\xc9K^\\xc7~\\x1d\\xc4X\\xc7#\\xfbM\\xc5qIu(Z#\\x14\\xf83\\xf04\\xd0Gq\\x16!\\xc4\\xffd\\x00\\xaf\\x00\\xef\\x01\\xd2!I\\x08\\xe15\\xa1\\xc0\\x8d\\xc0>\\xd4\\xdf\\xf1\\xc8K^\\x81\\xfc:\\x08<\\x80\\x1c\\xff-\\x84\\xf0\\xb1P\\xe0. \\x1d\\xf5\\x17By\\xc9+\\x90^\\xfb\\x81;0\\xfe\\x1b\\x14B\\x08e\\xec\\x18\\x8b\\x05\\xd7\\xa1\\xfe\\xc2(/y\\xf9\\xf3k\\x03\\xc6\\xec\\x9b5\\xbaB\\t!\\x02\\xca\\x99\\xc0l\\xd4_(\\xe5%/\\x7fy\\xb9\\x80\\x85\\x18E\\xb6\\x10Bh\\xeft\\x8c#E\\x9d\\xa8\\xbf\\x80\\xcaK^V|\\xd5`\\xb4\\xeb=\\x11!\\xbc@v\\x01\\x08o\\xeb\\x8d\\xb1N\\xe0v Vm\\x14!,\\xa1\\x0c\\xf8\\x18x\\x11\\xc8V\\x9cE\\xf81)\\x00\\x84\\xafDa\\xecO\\xbe\\x0fHQ\\x9cE\\x08\\x1d\\xed\\x03^\\x03\\xa6\\x01\\xd5j\\xa3\\x88@ \\x05\\x80\\xf05;p.\\xc6\\n\\xe6+\\x90\\xc5L\"\\xb0\\xb9\\x80%\\x18S\\xfd3\\x81\\x06\\xb5qD \\x91\\x02@\\xa8\\x14\\x8f\\xb1\\xa2y\\x1c\\xd0Sq\\x16!|)\\x07\\xf8\\x04x\\x07c/\\xbf\\x10>\\'\\x05\\x80\\xd0A0p\\tp\\x0bp!2+ \\xfc\\x93\\x03\\x98\\x0b|\\x04\\xfc\\x84\\xb1@V\\x08e\\xa4\\x00\\x10\\xba\\xe9\\x06\\\\\\x87\\xb1^`\\xa8\\xe2,B\\x98a\\x17\\xc6s\\xfdi@\\x9e\\xd2$B4\"\\x05\\x80\\xd0\\xd9\\x08\\x8cG\\x04\\xd7\\x00\\x9d\\x15g\\x11\\xa25\\n\\x80\\xaf1\\xa6\\xf9\\xd7(\\xce\"D\\x93\\xa4\\x00\\x10V\\x10\\x04\\x8c\\xc2(\\x06\\xfe\\x84\\xb1\\xa3@\\x08\\xdd\\xd4\\x00?\\x02\\x9f\\x02\\xf30\\xa6\\xfc\\x85\\xd0\\x96\\x14\\x00\\xc2j\\xda\\x01\\x97\\x03\\xd7\\x02c\\x90CP\\x84Z5\\xc0|`\\x060\\x0b\\xd9\\xbe\\',D\\n\\x00ae\\x11\\xc0h\\x8cG\\x0423 |\\xa5\\x06X\\x8c1\\xc5\\xff=P\\xae6\\x8e\\x10\\x9e\\x91\\x02@\\xf8\\x8b\\x08`,\\xc6\\xec\\xc0E@\\x17\\xb5q\\x84\\x9f\\xc9\\x07\\xe6`\\xdc\\xe5\\xcf\\xc7(\\x02\\x84\\xb04)\\x00\\x84?\\xb2\\x03\\xc30\\x0eO\\xb9\\x04\\x18\\x8e\\xfc\\xac\\x8b\\xd6\\xdb\\x81q\\xb0\\xd5\"`)\\xb2mO\\xf8\\x19\\xb9(\\x8a@\\xd0\\x13cv\\xe0\\x02\\x8c.\\x841j\\xe3\\x08M\\x15cL\\xed/\\xc4X\\xc4\\x97\\xa16\\x8e\\x10\\xde%\\x05\\x80\\x084A\\xc0)\\xc0\\xf9\\x87_#\\x81\\x10\\xa5\\x89\\x84*\\xf5\\xc0*\\x8c\\x01\\x7f!\\xb0\\x01i\\xc5+\\x02\\x88\\x14\\x00\"\\xd0Eb<\"8\\x03cA\\xe1\\x19\\x18\\xeb\\t\\x84\\xffq\\x00[0\\xa6\\xf4W\\x00\\xbf \\x0b\\xf8D\\x00\\x93\\x02@\\x88\\xdf\\n\\x03N\\x05\\xce\\xc2hDt\\x1a\\xd0Ui\"\\xe1\\xa9<\\x8c&<\\xab\\x81e\\xc0Z\\x8c\\xbb~!\\x04R\\x00\\x08\\xd1\\x12\\xc9\\xfc\\xaf\\x188\\r\\x18\\x82\\xf4\\x1f\\xd0M\\r\\xc6\\xdd\\xfd\\x1a\\xfe7\\xe8\\xa7)M$\\x84\\xe6\\xa4\\x00\\x10\\xa2\\xf5\\x82\\x81~\\xc0\\x00` p2Fa [\\x0f}\\xa3\\x1c\\xd8\\x8a\\xf1\\xcc~;\\xc6j\\xfdu@\\x9d\\xcaPBX\\x8d\\x14\\x00B\\x98\\'\\x06\\xa3 \\x18\\xd0\\xe8\\xd7\\xa1Ha\\xe0\\xa9r`/\\xc6\\x00\\xbf\\xbd\\xd1\\xaf\\xe9\\x80[a.!\\xfc\\x82\\x14\\x00Bx_w \\xe5\\xf0+\\xf9\\xa8\\xdfG+\\xcc\\xa5\\x83R`?\\xb0\\xaf\\xd1\\xafG^9\\ns\\t\\xe1\\xf7\\xa4\\x00\\x10B\\xad\\x0e@\\x0f\\xa0\\x17\\x90x\\xf8\\xf7=1\\x8eE\\x8e\\xc7\\x98=\\xe8\\x82\\xb1}\\xd1J\\x1a0N\\xc4\\xcb\\x07r\\x0f\\xbf\\x0e\\x02\\x99\\x18\\xfb\\xeb\\x0f\\x1d~U\\xa8\\n(D\\xa0\\x93\\x02@\\x08\\xfd\\xd90\\x8a\\x80\\xae\\x87\\x7f\\x8d9\\xfc\\xeax\\xf8u\\xe4\\xf7\\x11\\x18\\x05E\\x18\\xc6\\xf6\\xc6v@(\\xc6,\\x83\\xbd\\xd1\\xfb\\x85\\xf3\\xfb\\xad\\x8e5@m\\xa3\\xff\\xed\\x02\\xca0V\\xcdWa\\x1crS\\x871-_\\x03\\x94`\\xdc\\xbd\\x976\\xfa}\\t\\xc6\\x80_p\\xf8%\\xd3\\xf4Bh\\xec\\xff\\x03$\\x90\\xb4\\xd2\\xc3\"\\x92\\xb5\\x00\\x00\\x00\\x00IEND\\xaeB`\\x82'}"
            ]
          },
          "metadata": {},
          "execution_count": 6
        }
      ],
      "source": [
        "\n",
        "from google.colab import files\n",
        "\n",
        "files.upload()"
      ]
    },
    {
      "cell_type": "markdown",
      "metadata": {
        "id": "V47yoVxsU8VD"
      },
      "source": [
        "# Sentiments analysis"
      ]
    },
    {
      "cell_type": "code",
      "execution_count": 5,
      "metadata": {
        "id": "BX7v2dSfKnUk"
      },
      "outputs": [],
      "source": [
        "VOCAB_SIZE = 88584\n",
        "\n",
        "MAXLEN = 250\n",
        "BATCH_SIZE = 64\n",
        "\n",
        "(train_data, train_labels), (test_data, test_labels) = imdb.load_data(num_words = VOCAB_SIZE)"
      ]
    },
    {
      "cell_type": "code",
      "execution_count": 6,
      "metadata": {
        "id": "ZeXizi7ULLLU",
        "colab": {
          "base_uri": "https://localhost:8080/"
        },
        "collapsed": true,
        "outputId": "4eb80efc-9550-47d9-8664-be10062b690a"
      },
      "outputs": [
        {
          "output_type": "execute_result",
          "data": {
            "text/plain": [
              "[1,\n",
              " 194,\n",
              " 1153,\n",
              " 194,\n",
              " 8255,\n",
              " 78,\n",
              " 228,\n",
              " 5,\n",
              " 6,\n",
              " 1463,\n",
              " 4369,\n",
              " 5012,\n",
              " 134,\n",
              " 26,\n",
              " 4,\n",
              " 715,\n",
              " 8,\n",
              " 118,\n",
              " 1634,\n",
              " 14,\n",
              " 394,\n",
              " 20,\n",
              " 13,\n",
              " 119,\n",
              " 954,\n",
              " 189,\n",
              " 102,\n",
              " 5,\n",
              " 207,\n",
              " 110,\n",
              " 3103,\n",
              " 21,\n",
              " 14,\n",
              " 69,\n",
              " 188,\n",
              " 8,\n",
              " 30,\n",
              " 23,\n",
              " 7,\n",
              " 4,\n",
              " 249,\n",
              " 126,\n",
              " 93,\n",
              " 4,\n",
              " 114,\n",
              " 9,\n",
              " 2300,\n",
              " 1523,\n",
              " 5,\n",
              " 647,\n",
              " 4,\n",
              " 116,\n",
              " 9,\n",
              " 35,\n",
              " 8163,\n",
              " 4,\n",
              " 229,\n",
              " 9,\n",
              " 340,\n",
              " 1322,\n",
              " 4,\n",
              " 118,\n",
              " 9,\n",
              " 4,\n",
              " 130,\n",
              " 4901,\n",
              " 19,\n",
              " 4,\n",
              " 1002,\n",
              " 5,\n",
              " 89,\n",
              " 29,\n",
              " 952,\n",
              " 46,\n",
              " 37,\n",
              " 4,\n",
              " 455,\n",
              " 9,\n",
              " 45,\n",
              " 43,\n",
              " 38,\n",
              " 1543,\n",
              " 1905,\n",
              " 398,\n",
              " 4,\n",
              " 1649,\n",
              " 26,\n",
              " 6853,\n",
              " 5,\n",
              " 163,\n",
              " 11,\n",
              " 3215,\n",
              " 10156,\n",
              " 4,\n",
              " 1153,\n",
              " 9,\n",
              " 194,\n",
              " 775,\n",
              " 7,\n",
              " 8255,\n",
              " 11596,\n",
              " 349,\n",
              " 2637,\n",
              " 148,\n",
              " 605,\n",
              " 15358,\n",
              " 8003,\n",
              " 15,\n",
              " 123,\n",
              " 125,\n",
              " 68,\n",
              " 23141,\n",
              " 6853,\n",
              " 15,\n",
              " 349,\n",
              " 165,\n",
              " 4362,\n",
              " 98,\n",
              " 5,\n",
              " 4,\n",
              " 228,\n",
              " 9,\n",
              " 43,\n",
              " 36893,\n",
              " 1157,\n",
              " 15,\n",
              " 299,\n",
              " 120,\n",
              " 5,\n",
              " 120,\n",
              " 174,\n",
              " 11,\n",
              " 220,\n",
              " 175,\n",
              " 136,\n",
              " 50,\n",
              " 9,\n",
              " 4373,\n",
              " 228,\n",
              " 8255,\n",
              " 5,\n",
              " 25249,\n",
              " 656,\n",
              " 245,\n",
              " 2350,\n",
              " 5,\n",
              " 4,\n",
              " 9837,\n",
              " 131,\n",
              " 152,\n",
              " 491,\n",
              " 18,\n",
              " 46151,\n",
              " 32,\n",
              " 7464,\n",
              " 1212,\n",
              " 14,\n",
              " 9,\n",
              " 6,\n",
              " 371,\n",
              " 78,\n",
              " 22,\n",
              " 625,\n",
              " 64,\n",
              " 1382,\n",
              " 9,\n",
              " 8,\n",
              " 168,\n",
              " 145,\n",
              " 23,\n",
              " 4,\n",
              " 1690,\n",
              " 15,\n",
              " 16,\n",
              " 4,\n",
              " 1355,\n",
              " 5,\n",
              " 28,\n",
              " 6,\n",
              " 52,\n",
              " 154,\n",
              " 462,\n",
              " 33,\n",
              " 89,\n",
              " 78,\n",
              " 285,\n",
              " 16,\n",
              " 145,\n",
              " 95]"
            ]
          },
          "metadata": {},
          "execution_count": 6
        }
      ],
      "source": [
        "# Lets look at one review\n",
        "train_data[1]"
      ]
    },
    {
      "cell_type": "code",
      "execution_count": 7,
      "metadata": {
        "id": "ljDsOziRLOXj"
      },
      "outputs": [],
      "source": [
        "train_data = sequence.pad_sequences(train_data, MAXLEN)\n",
        "test_data = sequence.pad_sequences(test_data, MAXLEN)"
      ]
    },
    {
      "cell_type": "markdown",
      "metadata": {
        "id": "OVbWJaufOCI6"
      },
      "source": [
        "## RNN"
      ]
    },
    {
      "cell_type": "code",
      "execution_count": null,
      "metadata": {
        "colab": {
          "base_uri": "https://localhost:8080/"
        },
        "id": "Aw1OpqLrOD3M",
        "outputId": "bbee1a51-9b50-470b-da75-a09fbc8645c3"
      },
      "outputs": [
        {
          "name": "stderr",
          "output_type": "stream",
          "text": [
            "/usr/local/lib/python3.11/dist-packages/keras/src/layers/core/embedding.py:90: UserWarning: Argument `input_length` is deprecated. Just remove it.\n",
            "  warnings.warn(\n"
          ]
        }
      ],
      "source": [
        "# Modèle RNN\n",
        "model_rnn = tf.keras.Sequential([\n",
        "    tf.keras.layers.Embedding(VOCAB_SIZE, 32, input_length=MAXLEN),\n",
        "    tf.keras.layers.SimpleRNN(32, return_sequences=False),\n",
        "    tf.keras.layers.Dense(1, activation='sigmoid')\n",
        "])"
      ]
    },
    {
      "cell_type": "code",
      "execution_count": null,
      "metadata": {
        "colab": {
          "base_uri": "https://localhost:8080/",
          "height": 232
        },
        "id": "Z-6Z1FPmOfoS",
        "outputId": "4cf8d137-157d-4b11-eeb4-5a46d621edd3"
      },
      "outputs": [
        {
          "data": {
            "text/html": [
              "<pre style=\"white-space:pre;overflow-x:auto;line-height:normal;font-family:Menlo,'DejaVu Sans Mono',consolas,'Courier New',monospace\"><span style=\"font-weight: bold\">Model: \"sequential_2\"</span>\n",
              "</pre>\n"
            ],
            "text/plain": [
              "\u001b[1mModel: \"sequential_2\"\u001b[0m\n"
            ]
          },
          "metadata": {},
          "output_type": "display_data"
        },
        {
          "data": {
            "text/html": [
              "<pre style=\"white-space:pre;overflow-x:auto;line-height:normal;font-family:Menlo,'DejaVu Sans Mono',consolas,'Courier New',monospace\">┏━━━━━━━━━━━━━━━━━━━━━━━━━━━━━━━━━━━━━━┳━━━━━━━━━━━━━━━━━━━━━━━━━━━━━┳━━━━━━━━━━━━━━━━━┓\n",
              "┃<span style=\"font-weight: bold\"> Layer (type)                         </span>┃<span style=\"font-weight: bold\"> Output Shape                </span>┃<span style=\"font-weight: bold\">         Param # </span>┃\n",
              "┡━━━━━━━━━━━━━━━━━━━━━━━━━━━━━━━━━━━━━━╇━━━━━━━━━━━━━━━━━━━━━━━━━━━━━╇━━━━━━━━━━━━━━━━━┩\n",
              "│ embedding_2 (<span style=\"color: #0087ff; text-decoration-color: #0087ff\">Embedding</span>)              │ ?                           │     <span style=\"color: #00af00; text-decoration-color: #00af00\">0</span> (unbuilt) │\n",
              "├──────────────────────────────────────┼─────────────────────────────┼─────────────────┤\n",
              "│ simple_rnn (<span style=\"color: #0087ff; text-decoration-color: #0087ff\">SimpleRNN</span>)               │ ?                           │     <span style=\"color: #00af00; text-decoration-color: #00af00\">0</span> (unbuilt) │\n",
              "├──────────────────────────────────────┼─────────────────────────────┼─────────────────┤\n",
              "│ dense_2 (<span style=\"color: #0087ff; text-decoration-color: #0087ff\">Dense</span>)                      │ ?                           │     <span style=\"color: #00af00; text-decoration-color: #00af00\">0</span> (unbuilt) │\n",
              "└──────────────────────────────────────┴─────────────────────────────┴─────────────────┘\n",
              "</pre>\n"
            ],
            "text/plain": [
              "┏━━━━━━━━━━━━━━━━━━━━━━━━━━━━━━━━━━━━━━┳━━━━━━━━━━━━━━━━━━━━━━━━━━━━━┳━━━━━━━━━━━━━━━━━┓\n",
              "┃\u001b[1m \u001b[0m\u001b[1mLayer (type)                        \u001b[0m\u001b[1m \u001b[0m┃\u001b[1m \u001b[0m\u001b[1mOutput Shape               \u001b[0m\u001b[1m \u001b[0m┃\u001b[1m \u001b[0m\u001b[1m        Param #\u001b[0m\u001b[1m \u001b[0m┃\n",
              "┡━━━━━━━━━━━━━━━━━━━━━━━━━━━━━━━━━━━━━━╇━━━━━━━━━━━━━━━━━━━━━━━━━━━━━╇━━━━━━━━━━━━━━━━━┩\n",
              "│ embedding_2 (\u001b[38;5;33mEmbedding\u001b[0m)              │ ?                           │     \u001b[38;5;34m0\u001b[0m (unbuilt) │\n",
              "├──────────────────────────────────────┼─────────────────────────────┼─────────────────┤\n",
              "│ simple_rnn (\u001b[38;5;33mSimpleRNN\u001b[0m)               │ ?                           │     \u001b[38;5;34m0\u001b[0m (unbuilt) │\n",
              "├──────────────────────────────────────┼─────────────────────────────┼─────────────────┤\n",
              "│ dense_2 (\u001b[38;5;33mDense\u001b[0m)                      │ ?                           │     \u001b[38;5;34m0\u001b[0m (unbuilt) │\n",
              "└──────────────────────────────────────┴─────────────────────────────┴─────────────────┘\n"
            ]
          },
          "metadata": {},
          "output_type": "display_data"
        },
        {
          "data": {
            "text/html": [
              "<pre style=\"white-space:pre;overflow-x:auto;line-height:normal;font-family:Menlo,'DejaVu Sans Mono',consolas,'Courier New',monospace\"><span style=\"font-weight: bold\"> Total params: </span><span style=\"color: #00af00; text-decoration-color: #00af00\">0</span> (0.00 B)\n",
              "</pre>\n"
            ],
            "text/plain": [
              "\u001b[1m Total params: \u001b[0m\u001b[38;5;34m0\u001b[0m (0.00 B)\n"
            ]
          },
          "metadata": {},
          "output_type": "display_data"
        },
        {
          "data": {
            "text/html": [
              "<pre style=\"white-space:pre;overflow-x:auto;line-height:normal;font-family:Menlo,'DejaVu Sans Mono',consolas,'Courier New',monospace\"><span style=\"font-weight: bold\"> Trainable params: </span><span style=\"color: #00af00; text-decoration-color: #00af00\">0</span> (0.00 B)\n",
              "</pre>\n"
            ],
            "text/plain": [
              "\u001b[1m Trainable params: \u001b[0m\u001b[38;5;34m0\u001b[0m (0.00 B)\n"
            ]
          },
          "metadata": {},
          "output_type": "display_data"
        },
        {
          "data": {
            "text/html": [
              "<pre style=\"white-space:pre;overflow-x:auto;line-height:normal;font-family:Menlo,'DejaVu Sans Mono',consolas,'Courier New',monospace\"><span style=\"font-weight: bold\"> Non-trainable params: </span><span style=\"color: #00af00; text-decoration-color: #00af00\">0</span> (0.00 B)\n",
              "</pre>\n"
            ],
            "text/plain": [
              "\u001b[1m Non-trainable params: \u001b[0m\u001b[38;5;34m0\u001b[0m (0.00 B)\n"
            ]
          },
          "metadata": {},
          "output_type": "display_data"
        }
      ],
      "source": [
        "model_rnn.summary()"
      ]
    },
    {
      "cell_type": "code",
      "execution_count": null,
      "metadata": {
        "colab": {
          "base_uri": "https://localhost:8080/"
        },
        "id": "WBlSct6XOg7-",
        "outputId": "bfaa1bd6-1306-465e-ca69-dbfb2594fc4a"
      },
      "outputs": [
        {
          "name": "stdout",
          "output_type": "stream",
          "text": [
            "Epoch 1/10\n",
            "\u001b[1m625/625\u001b[0m \u001b[32m━━━━━━━━━━━━━━━━━━━━\u001b[0m\u001b[37m\u001b[0m \u001b[1m53s\u001b[0m 81ms/step - acc: 0.6072 - loss: 0.6359 - val_acc: 0.8106 - val_loss: 0.4241\n",
            "Epoch 2/10\n",
            "\u001b[1m625/625\u001b[0m \u001b[32m━━━━━━━━━━━━━━━━━━━━\u001b[0m\u001b[37m\u001b[0m \u001b[1m79s\u001b[0m 77ms/step - acc: 0.8310 - loss: 0.4021 - val_acc: 0.8432 - val_loss: 0.3666\n",
            "Epoch 3/10\n",
            "\u001b[1m625/625\u001b[0m \u001b[32m━━━━━━━━━━━━━━━━━━━━\u001b[0m\u001b[37m\u001b[0m \u001b[1m48s\u001b[0m 77ms/step - acc: 0.8959 - loss: 0.2623 - val_acc: 0.8360 - val_loss: 0.3781\n",
            "Epoch 4/10\n",
            "\u001b[1m625/625\u001b[0m \u001b[32m━━━━━━━━━━━━━━━━━━━━\u001b[0m\u001b[37m\u001b[0m \u001b[1m81s\u001b[0m 76ms/step - acc: 0.9269 - loss: 0.1941 - val_acc: 0.7996 - val_loss: 0.4925\n",
            "Epoch 5/10\n",
            "\u001b[1m625/625\u001b[0m \u001b[32m━━━━━━━━━━━━━━━━━━━━\u001b[0m\u001b[37m\u001b[0m \u001b[1m83s\u001b[0m 78ms/step - acc: 0.9566 - loss: 0.1214 - val_acc: 0.8394 - val_loss: 0.4490\n",
            "Epoch 6/10\n",
            "\u001b[1m625/625\u001b[0m \u001b[32m━━━━━━━━━━━━━━━━━━━━\u001b[0m\u001b[37m\u001b[0m \u001b[1m84s\u001b[0m 81ms/step - acc: 0.9759 - loss: 0.0739 - val_acc: 0.8172 - val_loss: 0.5464\n",
            "Epoch 7/10\n",
            "\u001b[1m625/625\u001b[0m \u001b[32m━━━━━━━━━━━━━━━━━━━━\u001b[0m\u001b[37m\u001b[0m \u001b[1m78s\u001b[0m 75ms/step - acc: 0.9861 - loss: 0.0423 - val_acc: 0.7664 - val_loss: 0.7433\n",
            "Epoch 8/10\n",
            "\u001b[1m625/625\u001b[0m \u001b[32m━━━━━━━━━━━━━━━━━━━━\u001b[0m\u001b[37m\u001b[0m \u001b[1m87s\u001b[0m 83ms/step - acc: 0.9918 - loss: 0.0274 - val_acc: 0.8026 - val_loss: 0.7307\n",
            "Epoch 9/10\n",
            "\u001b[1m625/625\u001b[0m \u001b[32m━━━━━━━━━━━━━━━━━━━━\u001b[0m\u001b[37m\u001b[0m \u001b[1m81s\u001b[0m 81ms/step - acc: 0.9951 - loss: 0.0162 - val_acc: 0.8068 - val_loss: 0.7943\n",
            "Epoch 10/10\n",
            "\u001b[1m625/625\u001b[0m \u001b[32m━━━━━━━━━━━━━━━━━━━━\u001b[0m\u001b[37m\u001b[0m \u001b[1m78s\u001b[0m 75ms/step - acc: 0.9928 - loss: 0.0215 - val_acc: 0.8184 - val_loss: 0.8033\n"
          ]
        }
      ],
      "source": [
        "model_rnn.compile(loss=\"binary_crossentropy\",optimizer=\"rmsprop\",metrics=['acc'])\n",
        "\n",
        "history = model_rnn.fit(train_data, train_labels, epochs=10, validation_split=0.2)"
      ]
    },
    {
      "cell_type": "code",
      "execution_count": null,
      "metadata": {
        "id": "Jvyxslw_Olb0"
      },
      "outputs": [],
      "source": [
        "with open('model_rnn.pkl', 'wb') as f:\n",
        "    pickle.dump(model_rnn, f)\n",
        "\n",
        "files.download('model_rnn.pkl')"
      ]
    },
    {
      "cell_type": "code",
      "source": [
        "#model_rnn=tf.keras.models.load_model('model_rnn.pkl')\n",
        "from google.colab import files\n",
        "import pickle\n",
        "# Charger le fichier .pkl\n",
        "with open('model_rnn.pkl', 'rb') as f:\n",
        "    model_rnn = pickle.load(f)\n",
        "\n",
        "# Vérifier le type de l'objet chargé\n",
        "print(type(model_rnn))"
      ],
      "metadata": {
        "id": "FsqVQwK7LVik",
        "colab": {
          "base_uri": "https://localhost:8080/"
        },
        "outputId": "99f7d694-5449-494e-871b-5e1693adbe9e"
      },
      "execution_count": null,
      "outputs": [
        {
          "output_type": "stream",
          "name": "stdout",
          "text": [
            "<class 'keras.src.models.sequential.Sequential'>\n"
          ]
        }
      ]
    },
    {
      "cell_type": "code",
      "execution_count": null,
      "metadata": {
        "colab": {
          "base_uri": "https://localhost:8080/"
        },
        "id": "bIJOC9TGOoEn",
        "outputId": "05455663-55e8-4334-a982-fb35d34bbe83"
      },
      "outputs": [
        {
          "output_type": "stream",
          "name": "stdout",
          "text": [
            "\u001b[1m782/782\u001b[0m \u001b[32m━━━━━━━━━━━━━━━━━━━━\u001b[0m\u001b[37m\u001b[0m \u001b[1m12s\u001b[0m 14ms/step - acc: 0.8088 - loss: 0.8266\n",
            "[0.826721727848053, 0.8083199858665466]\n"
          ]
        }
      ],
      "source": [
        "results_rnn = model_rnn.evaluate(test_data, test_labels)\n",
        "print(results_rnn)"
      ]
    },
    {
      "cell_type": "code",
      "execution_count": null,
      "metadata": {
        "colab": {
          "base_uri": "https://localhost:8080/"
        },
        "id": "h9pNxDKsOrS7",
        "outputId": "0d33357a-8689-4665-c76d-f6c3a73400f8"
      },
      "outputs": [
        {
          "output_type": "stream",
          "name": "stdout",
          "text": [
            "Downloading data from https://storage.googleapis.com/tensorflow/tf-keras-datasets/imdb_word_index.json\n",
            "\u001b[1m1641221/1641221\u001b[0m \u001b[32m━━━━━━━━━━━━━━━━━━━━\u001b[0m\u001b[37m\u001b[0m \u001b[1m0s\u001b[0m 0us/step\n",
            "[  0   0   0   0   0   0   0   0   0   0   0   0   0   0   0   0   0   0\n",
            "   0   0   0   0   0   0   0   0   0   0   0   0   0   0   0   0   0   0\n",
            "   0   0   0   0   0   0   0   0   0   0   0   0   0   0   0   0   0   0\n",
            "   0   0   0   0   0   0   0   0   0   0   0   0   0   0   0   0   0   0\n",
            "   0   0   0   0   0   0   0   0   0   0   0   0   0   0   0   0   0   0\n",
            "   0   0   0   0   0   0   0   0   0   0   0   0   0   0   0   0   0   0\n",
            "   0   0   0   0   0   0   0   0   0   0   0   0   0   0   0   0   0   0\n",
            "   0   0   0   0   0   0   0   0   0   0   0   0   0   0   0   0   0   0\n",
            "   0   0   0   0   0   0   0   0   0   0   0   0   0   0   0   0   0   0\n",
            "   0   0   0   0   0   0   0   0   0   0   0   0   0   0   0   0   0   0\n",
            "   0   0   0   0   0   0   0   0   0   0   0   0   0   0   0   0   0   0\n",
            "   0   0   0   0   0   0   0   0   0   0   0   0   0   0   0   0   0   0\n",
            "   0   0   0   0   0   0   0   0   0   0   0   0   0   0   0   0   0   0\n",
            "   0   0   0   0   0   0   0   0   0  12  17  13  40 477  35 477]\n"
          ]
        }
      ],
      "source": [
        "word_index = imdb.get_word_index()\n",
        "\n",
        "def encode_text(text):\n",
        "  tokens = tf.keras.preprocessing.text.text_to_word_sequence(text)\n",
        "  tokens = [word_index[word] if word in word_index else 0 for word in tokens]\n",
        "  return sequence.pad_sequences([tokens], MAXLEN)[0]\n",
        "\n",
        "text = \"that movie was just amazing, so amazing\"\n",
        "encoded = encode_text(text)\n",
        "print(encoded)\n"
      ]
    },
    {
      "cell_type": "code",
      "execution_count": null,
      "metadata": {
        "colab": {
          "base_uri": "https://localhost:8080/"
        },
        "id": "yVChhLjvO4N3",
        "outputId": "0d145929-1bed-4a83-ca94-9d04e32eae2f"
      },
      "outputs": [
        {
          "output_type": "stream",
          "name": "stdout",
          "text": [
            "that movie was just amazing so amazing\n"
          ]
        }
      ],
      "source": [
        "# while were at it lets make a decode function\n",
        "\n",
        "reverse_word_index = {value: key for (key, value) in word_index.items()}\n",
        "\n",
        "def decode_integers(integers):\n",
        "    PAD = 0\n",
        "    text = \"\"\n",
        "    for num in integers:\n",
        "      if num != PAD:\n",
        "        text += reverse_word_index[num] + \" \"\n",
        "\n",
        "    return text[:-1]\n",
        "\n",
        "print(decode_integers(encoded))"
      ]
    },
    {
      "cell_type": "code",
      "execution_count": null,
      "metadata": {
        "colab": {
          "base_uri": "https://localhost:8080/"
        },
        "id": "B95zNQehPO1s",
        "outputId": "f64ec9a8-3390-4b6e-f87e-5c54841abe86"
      },
      "outputs": [
        {
          "output_type": "stream",
          "name": "stdout",
          "text": [
            "\u001b[1m1/1\u001b[0m \u001b[32m━━━━━━━━━━━━━━━━━━━━\u001b[0m\u001b[37m\u001b[0m \u001b[1m0s\u001b[0m 204ms/step\n",
            "[0.9949482]\n",
            "\u001b[1m1/1\u001b[0m \u001b[32m━━━━━━━━━━━━━━━━━━━━\u001b[0m\u001b[37m\u001b[0m \u001b[1m0s\u001b[0m 46ms/step\n",
            "[0.06237121]\n"
          ]
        }
      ],
      "source": [
        "# now time to make a prediction\n",
        "\n",
        "def predict(model,text):\n",
        "  encoded_text = encode_text(text)\n",
        "  pred = np.zeros((1,250))\n",
        "  pred[0] = encoded_text\n",
        "  result = model.predict(pred)\n",
        "  print(result[0])\n",
        "\n",
        "positive_review = \"it was amazingly very great\"\n",
        "predict(model_rnn,positive_review)\n",
        "\n",
        "negative_review = \"that movie really sucked. I hated it and wouldn't watch it again.\"\n",
        "predict(model_rnn,negative_review)\n"
      ]
    },
    {
      "cell_type": "code",
      "execution_count": null,
      "metadata": {
        "colab": {
          "base_uri": "https://localhost:8080/"
        },
        "id": "iWGlMqDWTI1q",
        "outputId": "a3f0035f-5bcc-43eb-9395-a6191d0a0060"
      },
      "outputs": [
        {
          "output_type": "stream",
          "name": "stdout",
          "text": [
            "Enter your review: \n",
            "very happy\n",
            "\u001b[1m1/1\u001b[0m \u001b[32m━━━━━━━━━━━━━━━━━━━━\u001b[0m\u001b[37m\u001b[0m \u001b[1m0s\u001b[0m 49ms/step\n",
            "[0.02142405]\n"
          ]
        }
      ],
      "source": [
        "text=input(\"Enter your review: \\n\")\n",
        "predict(model_rnn,text)"
      ]
    },
    {
      "cell_type": "markdown",
      "metadata": {
        "id": "No5hPcaFN6lU"
      },
      "source": [
        "## LSTM"
      ]
    },
    {
      "cell_type": "code",
      "execution_count": null,
      "metadata": {
        "id": "qYiCd6CzLT59"
      },
      "outputs": [],
      "source": [
        "model_lstm = tf.keras.Sequential([\n",
        "    tf.keras.layers.Embedding(VOCAB_SIZE, 32),\n",
        "    tf.keras.layers.LSTM(32),\n",
        "    tf.keras.layers.Dense(1, activation=\"sigmoid\")\n",
        "])"
      ]
    },
    {
      "cell_type": "code",
      "execution_count": null,
      "metadata": {
        "colab": {
          "base_uri": "https://localhost:8080/",
          "height": 232
        },
        "id": "jLi2MOtzLXpd",
        "outputId": "bce9ede0-9911-4aea-8c7c-fcf8d8eacbb7"
      },
      "outputs": [
        {
          "data": {
            "text/html": [
              "<pre style=\"white-space:pre;overflow-x:auto;line-height:normal;font-family:Menlo,'DejaVu Sans Mono',consolas,'Courier New',monospace\"><span style=\"font-weight: bold\">Model: \"sequential_1\"</span>\n",
              "</pre>\n"
            ],
            "text/plain": [
              "\u001b[1mModel: \"sequential_1\"\u001b[0m\n"
            ]
          },
          "metadata": {},
          "output_type": "display_data"
        },
        {
          "data": {
            "text/html": [
              "<pre style=\"white-space:pre;overflow-x:auto;line-height:normal;font-family:Menlo,'DejaVu Sans Mono',consolas,'Courier New',monospace\">┏━━━━━━━━━━━━━━━━━━━━━━━━━━━━━━━━━━━━━━┳━━━━━━━━━━━━━━━━━━━━━━━━━━━━━┳━━━━━━━━━━━━━━━━━┓\n",
              "┃<span style=\"font-weight: bold\"> Layer (type)                         </span>┃<span style=\"font-weight: bold\"> Output Shape                </span>┃<span style=\"font-weight: bold\">         Param # </span>┃\n",
              "┡━━━━━━━━━━━━━━━━━━━━━━━━━━━━━━━━━━━━━━╇━━━━━━━━━━━━━━━━━━━━━━━━━━━━━╇━━━━━━━━━━━━━━━━━┩\n",
              "│ embedding_1 (<span style=\"color: #0087ff; text-decoration-color: #0087ff\">Embedding</span>)              │ ?                           │     <span style=\"color: #00af00; text-decoration-color: #00af00\">0</span> (unbuilt) │\n",
              "├──────────────────────────────────────┼─────────────────────────────┼─────────────────┤\n",
              "│ lstm_1 (<span style=\"color: #0087ff; text-decoration-color: #0087ff\">LSTM</span>)                        │ ?                           │     <span style=\"color: #00af00; text-decoration-color: #00af00\">0</span> (unbuilt) │\n",
              "├──────────────────────────────────────┼─────────────────────────────┼─────────────────┤\n",
              "│ dense_1 (<span style=\"color: #0087ff; text-decoration-color: #0087ff\">Dense</span>)                      │ ?                           │     <span style=\"color: #00af00; text-decoration-color: #00af00\">0</span> (unbuilt) │\n",
              "└──────────────────────────────────────┴─────────────────────────────┴─────────────────┘\n",
              "</pre>\n"
            ],
            "text/plain": [
              "┏━━━━━━━━━━━━━━━━━━━━━━━━━━━━━━━━━━━━━━┳━━━━━━━━━━━━━━━━━━━━━━━━━━━━━┳━━━━━━━━━━━━━━━━━┓\n",
              "┃\u001b[1m \u001b[0m\u001b[1mLayer (type)                        \u001b[0m\u001b[1m \u001b[0m┃\u001b[1m \u001b[0m\u001b[1mOutput Shape               \u001b[0m\u001b[1m \u001b[0m┃\u001b[1m \u001b[0m\u001b[1m        Param #\u001b[0m\u001b[1m \u001b[0m┃\n",
              "┡━━━━━━━━━━━━━━━━━━━━━━━━━━━━━━━━━━━━━━╇━━━━━━━━━━━━━━━━━━━━━━━━━━━━━╇━━━━━━━━━━━━━━━━━┩\n",
              "│ embedding_1 (\u001b[38;5;33mEmbedding\u001b[0m)              │ ?                           │     \u001b[38;5;34m0\u001b[0m (unbuilt) │\n",
              "├──────────────────────────────────────┼─────────────────────────────┼─────────────────┤\n",
              "│ lstm_1 (\u001b[38;5;33mLSTM\u001b[0m)                        │ ?                           │     \u001b[38;5;34m0\u001b[0m (unbuilt) │\n",
              "├──────────────────────────────────────┼─────────────────────────────┼─────────────────┤\n",
              "│ dense_1 (\u001b[38;5;33mDense\u001b[0m)                      │ ?                           │     \u001b[38;5;34m0\u001b[0m (unbuilt) │\n",
              "└──────────────────────────────────────┴─────────────────────────────┴─────────────────┘\n"
            ]
          },
          "metadata": {},
          "output_type": "display_data"
        },
        {
          "data": {
            "text/html": [
              "<pre style=\"white-space:pre;overflow-x:auto;line-height:normal;font-family:Menlo,'DejaVu Sans Mono',consolas,'Courier New',monospace\"><span style=\"font-weight: bold\"> Total params: </span><span style=\"color: #00af00; text-decoration-color: #00af00\">0</span> (0.00 B)\n",
              "</pre>\n"
            ],
            "text/plain": [
              "\u001b[1m Total params: \u001b[0m\u001b[38;5;34m0\u001b[0m (0.00 B)\n"
            ]
          },
          "metadata": {},
          "output_type": "display_data"
        },
        {
          "data": {
            "text/html": [
              "<pre style=\"white-space:pre;overflow-x:auto;line-height:normal;font-family:Menlo,'DejaVu Sans Mono',consolas,'Courier New',monospace\"><span style=\"font-weight: bold\"> Trainable params: </span><span style=\"color: #00af00; text-decoration-color: #00af00\">0</span> (0.00 B)\n",
              "</pre>\n"
            ],
            "text/plain": [
              "\u001b[1m Trainable params: \u001b[0m\u001b[38;5;34m0\u001b[0m (0.00 B)\n"
            ]
          },
          "metadata": {},
          "output_type": "display_data"
        },
        {
          "data": {
            "text/html": [
              "<pre style=\"white-space:pre;overflow-x:auto;line-height:normal;font-family:Menlo,'DejaVu Sans Mono',consolas,'Courier New',monospace\"><span style=\"font-weight: bold\"> Non-trainable params: </span><span style=\"color: #00af00; text-decoration-color: #00af00\">0</span> (0.00 B)\n",
              "</pre>\n"
            ],
            "text/plain": [
              "\u001b[1m Non-trainable params: \u001b[0m\u001b[38;5;34m0\u001b[0m (0.00 B)\n"
            ]
          },
          "metadata": {},
          "output_type": "display_data"
        }
      ],
      "source": [
        "model_lstm.summary()"
      ]
    },
    {
      "cell_type": "code",
      "execution_count": null,
      "metadata": {
        "colab": {
          "base_uri": "https://localhost:8080/"
        },
        "id": "zK7n5ixbLZ8l",
        "outputId": "94437101-5637-48b3-ed7b-a1d30f721dc0"
      },
      "outputs": [
        {
          "name": "stdout",
          "output_type": "stream",
          "text": [
            "Epoch 1/10\n",
            "\u001b[1m625/625\u001b[0m \u001b[32m━━━━━━━━━━━━━━━━━━━━\u001b[0m\u001b[37m\u001b[0m \u001b[1m73s\u001b[0m 113ms/step - acc: 0.6896 - loss: 0.5593 - val_acc: 0.8594 - val_loss: 0.3320\n",
            "Epoch 2/10\n",
            "\u001b[1m625/625\u001b[0m \u001b[32m━━━━━━━━━━━━━━━━━━━━\u001b[0m\u001b[37m\u001b[0m \u001b[1m83s\u001b[0m 114ms/step - acc: 0.8887 - loss: 0.2846 - val_acc: 0.8730 - val_loss: 0.3016\n",
            "Epoch 3/10\n",
            "\u001b[1m625/625\u001b[0m \u001b[32m━━━━━━━━━━━━━━━━━━━━\u001b[0m\u001b[37m\u001b[0m \u001b[1m79s\u001b[0m 110ms/step - acc: 0.9162 - loss: 0.2228 - val_acc: 0.8774 - val_loss: 0.2936\n",
            "Epoch 4/10\n",
            "\u001b[1m625/625\u001b[0m \u001b[32m━━━━━━━━━━━━━━━━━━━━\u001b[0m\u001b[37m\u001b[0m \u001b[1m91s\u001b[0m 125ms/step - acc: 0.9369 - loss: 0.1787 - val_acc: 0.8684 - val_loss: 0.3080\n",
            "Epoch 5/10\n",
            "\u001b[1m625/625\u001b[0m \u001b[32m━━━━━━━━━━━━━━━━━━━━\u001b[0m\u001b[37m\u001b[0m \u001b[1m72s\u001b[0m 115ms/step - acc: 0.9467 - loss: 0.1529 - val_acc: 0.8832 - val_loss: 0.3559\n",
            "Epoch 6/10\n",
            "\u001b[1m625/625\u001b[0m \u001b[32m━━━━━━━━━━━━━━━━━━━━\u001b[0m\u001b[37m\u001b[0m \u001b[1m74s\u001b[0m 118ms/step - acc: 0.9560 - loss: 0.1312 - val_acc: 0.8786 - val_loss: 0.3041\n",
            "Epoch 7/10\n",
            "\u001b[1m625/625\u001b[0m \u001b[32m━━━━━━━━━━━━━━━━━━━━\u001b[0m\u001b[37m\u001b[0m \u001b[1m79s\u001b[0m 114ms/step - acc: 0.9646 - loss: 0.1092 - val_acc: 0.8874 - val_loss: 0.3283\n",
            "Epoch 8/10\n",
            "\u001b[1m625/625\u001b[0m \u001b[32m━━━━━━━━━━━━━━━━━━━━\u001b[0m\u001b[37m\u001b[0m \u001b[1m78s\u001b[0m 124ms/step - acc: 0.9689 - loss: 0.0925 - val_acc: 0.8836 - val_loss: 0.3588\n",
            "Epoch 9/10\n",
            "\u001b[1m625/625\u001b[0m \u001b[32m━━━━━━━━━━━━━━━━━━━━\u001b[0m\u001b[37m\u001b[0m \u001b[1m75s\u001b[0m 114ms/step - acc: 0.9725 - loss: 0.0831 - val_acc: 0.8808 - val_loss: 0.3797\n",
            "Epoch 10/10\n",
            "\u001b[1m625/625\u001b[0m \u001b[32m━━━━━━━━━━━━━━━━━━━━\u001b[0m\u001b[37m\u001b[0m \u001b[1m90s\u001b[0m 127ms/step - acc: 0.9777 - loss: 0.0704 - val_acc: 0.8808 - val_loss: 0.3971\n"
          ]
        }
      ],
      "source": [
        "model_lstm.compile(loss=\"binary_crossentropy\",optimizer=\"rmsprop\",metrics=['acc'])\n",
        "\n",
        "history = model_lstm.fit(train_data, train_labels, epochs=10, validation_split=0.2)"
      ]
    },
    {
      "cell_type": "code",
      "execution_count": null,
      "metadata": {
        "id": "8FJ5Ice6MooO"
      },
      "outputs": [],
      "source": [
        "from google.colab import files\n",
        "import pickle\n",
        "\n",
        "with open('model_lstm.pkl', 'wb') as f:\n",
        "    pickle.dump(model_lstm, f)\n",
        "\n",
        "files.download('model_lstm.pkl')"
      ]
    },
    {
      "cell_type": "code",
      "source": [
        "# Charger le fichier model_lstm.pkl\n",
        "with open('model_lstm.pkl', 'rb') as f:\n",
        "    model_lstm = pickle.load(f)\n",
        "\n",
        "# Vérifier le type de l'objet chargé\n",
        "print(type(model_lstm))"
      ],
      "metadata": {
        "colab": {
          "base_uri": "https://localhost:8080/"
        },
        "id": "XGfHOBTKUVSb",
        "outputId": "e6af02f3-275c-4051-d538-08b4abef78a8"
      },
      "execution_count": null,
      "outputs": [
        {
          "output_type": "stream",
          "name": "stdout",
          "text": [
            "<class 'keras.src.models.sequential.Sequential'>\n"
          ]
        }
      ]
    },
    {
      "cell_type": "code",
      "execution_count": null,
      "metadata": {
        "colab": {
          "base_uri": "https://localhost:8080/"
        },
        "id": "M97DVzDVLqE8",
        "outputId": "b16bdd2b-fe52-41ac-c78d-1a5ab8b42c2c"
      },
      "outputs": [
        {
          "output_type": "stream",
          "name": "stdout",
          "text": [
            "\u001b[1m782/782\u001b[0m \u001b[32m━━━━━━━━━━━━━━━━━━━━\u001b[0m\u001b[37m\u001b[0m \u001b[1m19s\u001b[0m 24ms/step - acc: 0.8599 - loss: 0.4689\n",
            "[0.46708691120147705, 0.8599600195884705]\n"
          ]
        }
      ],
      "source": [
        "results_lstm = model_lstm.evaluate(test_data, test_labels)\n",
        "print(results_lstm)"
      ]
    },
    {
      "cell_type": "code",
      "execution_count": null,
      "metadata": {
        "colab": {
          "base_uri": "https://localhost:8080/"
        },
        "id": "opOEG1lwL5-P",
        "outputId": "810e9320-6b4f-4724-af5f-5735069967ce"
      },
      "outputs": [
        {
          "output_type": "stream",
          "name": "stdout",
          "text": [
            "[  0   0   0   0   0   0   0   0   0   0   0   0   0   0   0   0   0   0\n",
            "   0   0   0   0   0   0   0   0   0   0   0   0   0   0   0   0   0   0\n",
            "   0   0   0   0   0   0   0   0   0   0   0   0   0   0   0   0   0   0\n",
            "   0   0   0   0   0   0   0   0   0   0   0   0   0   0   0   0   0   0\n",
            "   0   0   0   0   0   0   0   0   0   0   0   0   0   0   0   0   0   0\n",
            "   0   0   0   0   0   0   0   0   0   0   0   0   0   0   0   0   0   0\n",
            "   0   0   0   0   0   0   0   0   0   0   0   0   0   0   0   0   0   0\n",
            "   0   0   0   0   0   0   0   0   0   0   0   0   0   0   0   0   0   0\n",
            "   0   0   0   0   0   0   0   0   0   0   0   0   0   0   0   0   0   0\n",
            "   0   0   0   0   0   0   0   0   0   0   0   0   0   0   0   0   0   0\n",
            "   0   0   0   0   0   0   0   0   0   0   0   0   0   0   0   0   0   0\n",
            "   0   0   0   0   0   0   0   0   0   0   0   0   0   0   0   0   0   0\n",
            "   0   0   0   0   0   0   0   0   0   0   0   0   0   0   0   0   0   0\n",
            "   0   0   0   0   0   0   0   0   0  12  17  13  40 477  35 477]\n"
          ]
        }
      ],
      "source": [
        "word_index = imdb.get_word_index()\n",
        "\n",
        "def encode_text(text):\n",
        "  tokens = tf.keras.preprocessing.text.text_to_word_sequence(text)\n",
        "  tokens = [word_index[word] if word in word_index else 0 for word in tokens]\n",
        "  return sequence.pad_sequences([tokens], MAXLEN)[0]\n",
        "\n",
        "text = \"that movie was just amazing, so amazing\"\n",
        "encoded = encode_text(text)\n",
        "print(encoded)\n"
      ]
    },
    {
      "cell_type": "code",
      "execution_count": null,
      "metadata": {
        "colab": {
          "base_uri": "https://localhost:8080/"
        },
        "id": "mUpsY0Y1L9Fn",
        "outputId": "0a49a852-a1a8-49a0-b0c9-b81c30854263"
      },
      "outputs": [
        {
          "output_type": "stream",
          "name": "stdout",
          "text": [
            "that movie was just amazing so amazing\n"
          ]
        }
      ],
      "source": [
        "# while were at it lets make a decode function\n",
        "\n",
        "reverse_word_index = {value: key for (key, value) in word_index.items()}\n",
        "\n",
        "def decode_integers(integers):\n",
        "    PAD = 0\n",
        "    text = \"\"\n",
        "    for num in integers:\n",
        "      if num != PAD:\n",
        "        text += reverse_word_index[num] + \" \"\n",
        "\n",
        "    return text[:-1]\n",
        "\n",
        "print(decode_integers(encoded))"
      ]
    },
    {
      "cell_type": "code",
      "execution_count": null,
      "metadata": {
        "colab": {
          "base_uri": "https://localhost:8080/"
        },
        "id": "LwZ6QZ8aL_Wa",
        "outputId": "77e09b74-c41a-40b1-819f-46213f13dc75"
      },
      "outputs": [
        {
          "output_type": "stream",
          "name": "stdout",
          "text": [
            "\u001b[1m1/1\u001b[0m \u001b[32m━━━━━━━━━━━━━━━━━━━━\u001b[0m\u001b[37m\u001b[0m \u001b[1m0s\u001b[0m 470ms/step\n",
            "[0.9041555]\n",
            "\u001b[1m1/1\u001b[0m \u001b[32m━━━━━━━━━━━━━━━━━━━━\u001b[0m\u001b[37m\u001b[0m \u001b[1m0s\u001b[0m 48ms/step\n",
            "[0.03734026]\n"
          ]
        }
      ],
      "source": [
        "# now time to make a prediction\n",
        "\n",
        "def predict(model,text):\n",
        "  encoded_text = encode_text(text)\n",
        "  pred = np.zeros((1,250))\n",
        "  pred[0] = encoded_text\n",
        "  result = model.predict(pred)\n",
        "  print(result[0])\n",
        "\n",
        "positive_review = \"That movie was! really loved it and would great watch it again because it was amazingly great\"\n",
        "predict(model_lstm,positive_review)\n",
        "\n",
        "negative_review = \"that movie really sucked. I hated it and wouldn't watch it again. Was one of the worst things I've ever watched\"\n",
        "predict(model_lstm,negative_review)\n"
      ]
    },
    {
      "cell_type": "code",
      "execution_count": null,
      "metadata": {
        "colab": {
          "base_uri": "https://localhost:8080/"
        },
        "id": "Eb2kEvhWMBv5",
        "outputId": "e48fcd2c-aff4-431f-8890-61dd43e98b15"
      },
      "outputs": [
        {
          "output_type": "stream",
          "name": "stdout",
          "text": [
            "Enter your review: very good\n",
            "\u001b[1m1/1\u001b[0m \u001b[32m━━━━━━━━━━━━━━━━━━━━\u001b[0m\u001b[37m\u001b[0m \u001b[1m0s\u001b[0m 77ms/step\n",
            "[0.83986473]\n"
          ]
        }
      ],
      "source": [
        "text=input(\"Enter your review: \")\n",
        "predict(model_lstm,text)"
      ]
    },
    {
      "cell_type": "markdown",
      "source": [
        "\n",
        "## LSTM Avec Attention"
      ],
      "metadata": {
        "id": "GX-6ir_eF9Z7"
      }
    },
    {
      "cell_type": "code",
      "execution_count": null,
      "metadata": {
        "id": "BImb3Q0LTN9h"
      },
      "outputs": [],
      "source": [
        "from tensorflow.keras import regularizers\n",
        "from tensorflow.keras.layers import Layer\n",
        "from tensorflow.keras import backend as K\n",
        "\n",
        "\n",
        "@keras.saving.register_keras_serializable()\n",
        "class AttentionLayer(Layer):\n",
        "    def __init__(self, units, **kwargs):\n",
        "        super(AttentionLayer, self).__init__(**kwargs)\n",
        "        self.units = units\n",
        "\n",
        "    def build(self, input_shape):\n",
        "        # input_shape = (batch_size, time_steps, features)\n",
        "        self.W = self.add_weight(name=\"att_weight\",\n",
        "                                 shape=(input_shape[-1], self.units),\n",
        "                                 initializer=\"random_normal\",\n",
        "                                 trainable=True)\n",
        "        self.b = self.add_weight(name=\"att_bias\",\n",
        "                                 shape=(self.units,),\n",
        "                                 initializer=\"zeros\",\n",
        "                                 trainable=True)\n",
        "        self.u = self.add_weight(name=\"att_u\",\n",
        "                                 shape=(self.units, 1),\n",
        "                                 initializer=\"random_normal\",\n",
        "                                 trainable=True)\n",
        "        super(AttentionLayer, self).build(input_shape)\n",
        "\n",
        "    def call(self, inputs, **kwargs):\n",
        "      score = K.tanh(K.dot(inputs, self.W) + self.b)\n",
        "      attention_weights = K.softmax(K.dot(score, self.u), axis=1)\n",
        "      context_vector = attention_weights * inputs\n",
        "      context_vector = K.sum(context_vector, axis=1)\n",
        "      return context_vector, attention_weights\n",
        "\n",
        "    def compute_output_shape(self, input_shape):\n",
        "        return (input_shape[0], input_shape[-1])\n"
      ]
    },
    {
      "cell_type": "code",
      "source": [
        "from tensorflow.keras import regularizers\n",
        "\n",
        "model_lstm_attention = tf.keras.Sequential([\n",
        "    tf.keras.layers.Embedding(VOCAB_SIZE, 64, input_length=MAXLEN),\n",
        "    tf.keras.layers.Bidirectional(\n",
        "        tf.keras.layers.LSTM(64, return_sequences=True,\n",
        "                             kernel_regularizer=regularizers.l2(0.0005))\n",
        "    ),\n",
        "    tf.keras.layers.Dropout(0.2),\n",
        "    AttentionLayer(units=64),  # Teste aussi avec 128 pour comparer\n",
        "    tf.keras.layers.Dense(64, activation=\"relu\"),\n",
        "    tf.keras.layers.Dense(1, activation=\"sigmoid\")\n",
        "])"
      ],
      "metadata": {
        "id": "ci1D8bYSVZ7f",
        "colab": {
          "base_uri": "https://localhost:8080/"
        },
        "outputId": "d406e656-a693-4adc-9e54-0c8eeca442ad"
      },
      "execution_count": null,
      "outputs": [
        {
          "output_type": "stream",
          "name": "stderr",
          "text": [
            "/usr/local/lib/python3.11/dist-packages/keras/src/layers/core/embedding.py:90: UserWarning: Argument `input_length` is deprecated. Just remove it.\n",
            "  warnings.warn(\n"
          ]
        }
      ]
    },
    {
      "cell_type": "code",
      "source": [
        "# Résumé du modèle\n",
        "model_lstm_attention.summary()"
      ],
      "metadata": {
        "colab": {
          "base_uri": "https://localhost:8080/",
          "height": 318
        },
        "id": "9sS0uA08VZ9w",
        "outputId": "6c092b6b-972d-449e-b60d-98192c9c6f71"
      },
      "execution_count": null,
      "outputs": [
        {
          "output_type": "display_data",
          "data": {
            "text/plain": [
              "\u001b[1mModel: \"sequential_4\"\u001b[0m\n"
            ],
            "text/html": [
              "<pre style=\"white-space:pre;overflow-x:auto;line-height:normal;font-family:Menlo,'DejaVu Sans Mono',consolas,'Courier New',monospace\"><span style=\"font-weight: bold\">Model: \"sequential_4\"</span>\n",
              "</pre>\n"
            ]
          },
          "metadata": {}
        },
        {
          "output_type": "display_data",
          "data": {
            "text/plain": [
              "┏━━━━━━━━━━━━━━━━━━━━━━━━━━━━━━━━━━━━━━┳━━━━━━━━━━━━━━━━━━━━━━━━━━━━━┳━━━━━━━━━━━━━━━━━┓\n",
              "┃\u001b[1m \u001b[0m\u001b[1mLayer (type)                        \u001b[0m\u001b[1m \u001b[0m┃\u001b[1m \u001b[0m\u001b[1mOutput Shape               \u001b[0m\u001b[1m \u001b[0m┃\u001b[1m \u001b[0m\u001b[1m        Param #\u001b[0m\u001b[1m \u001b[0m┃\n",
              "┡━━━━━━━━━━━━━━━━━━━━━━━━━━━━━━━━━━━━━━╇━━━━━━━━━━━━━━━━━━━━━━━━━━━━━╇━━━━━━━━━━━━━━━━━┩\n",
              "│ embedding_4 (\u001b[38;5;33mEmbedding\u001b[0m)              │ ?                           │     \u001b[38;5;34m0\u001b[0m (unbuilt) │\n",
              "├──────────────────────────────────────┼─────────────────────────────┼─────────────────┤\n",
              "│ bidirectional_4 (\u001b[38;5;33mBidirectional\u001b[0m)      │ ?                           │     \u001b[38;5;34m0\u001b[0m (unbuilt) │\n",
              "├──────────────────────────────────────┼─────────────────────────────┼─────────────────┤\n",
              "│ dropout_4 (\u001b[38;5;33mDropout\u001b[0m)                  │ ?                           │               \u001b[38;5;34m0\u001b[0m │\n",
              "├──────────────────────────────────────┼─────────────────────────────┼─────────────────┤\n",
              "│ attention_layer_4 (\u001b[38;5;33mAttentionLayer\u001b[0m)   │ ?                           │     \u001b[38;5;34m0\u001b[0m (unbuilt) │\n",
              "├──────────────────────────────────────┼─────────────────────────────┼─────────────────┤\n",
              "│ dense_5 (\u001b[38;5;33mDense\u001b[0m)                      │ ?                           │     \u001b[38;5;34m0\u001b[0m (unbuilt) │\n",
              "├──────────────────────────────────────┼─────────────────────────────┼─────────────────┤\n",
              "│ dense_6 (\u001b[38;5;33mDense\u001b[0m)                      │ ?                           │     \u001b[38;5;34m0\u001b[0m (unbuilt) │\n",
              "└──────────────────────────────────────┴─────────────────────────────┴─────────────────┘\n"
            ],
            "text/html": [
              "<pre style=\"white-space:pre;overflow-x:auto;line-height:normal;font-family:Menlo,'DejaVu Sans Mono',consolas,'Courier New',monospace\">┏━━━━━━━━━━━━━━━━━━━━━━━━━━━━━━━━━━━━━━┳━━━━━━━━━━━━━━━━━━━━━━━━━━━━━┳━━━━━━━━━━━━━━━━━┓\n",
              "┃<span style=\"font-weight: bold\"> Layer (type)                         </span>┃<span style=\"font-weight: bold\"> Output Shape                </span>┃<span style=\"font-weight: bold\">         Param # </span>┃\n",
              "┡━━━━━━━━━━━━━━━━━━━━━━━━━━━━━━━━━━━━━━╇━━━━━━━━━━━━━━━━━━━━━━━━━━━━━╇━━━━━━━━━━━━━━━━━┩\n",
              "│ embedding_4 (<span style=\"color: #0087ff; text-decoration-color: #0087ff\">Embedding</span>)              │ ?                           │     <span style=\"color: #00af00; text-decoration-color: #00af00\">0</span> (unbuilt) │\n",
              "├──────────────────────────────────────┼─────────────────────────────┼─────────────────┤\n",
              "│ bidirectional_4 (<span style=\"color: #0087ff; text-decoration-color: #0087ff\">Bidirectional</span>)      │ ?                           │     <span style=\"color: #00af00; text-decoration-color: #00af00\">0</span> (unbuilt) │\n",
              "├──────────────────────────────────────┼─────────────────────────────┼─────────────────┤\n",
              "│ dropout_4 (<span style=\"color: #0087ff; text-decoration-color: #0087ff\">Dropout</span>)                  │ ?                           │               <span style=\"color: #00af00; text-decoration-color: #00af00\">0</span> │\n",
              "├──────────────────────────────────────┼─────────────────────────────┼─────────────────┤\n",
              "│ attention_layer_4 (<span style=\"color: #0087ff; text-decoration-color: #0087ff\">AttentionLayer</span>)   │ ?                           │     <span style=\"color: #00af00; text-decoration-color: #00af00\">0</span> (unbuilt) │\n",
              "├──────────────────────────────────────┼─────────────────────────────┼─────────────────┤\n",
              "│ dense_5 (<span style=\"color: #0087ff; text-decoration-color: #0087ff\">Dense</span>)                      │ ?                           │     <span style=\"color: #00af00; text-decoration-color: #00af00\">0</span> (unbuilt) │\n",
              "├──────────────────────────────────────┼─────────────────────────────┼─────────────────┤\n",
              "│ dense_6 (<span style=\"color: #0087ff; text-decoration-color: #0087ff\">Dense</span>)                      │ ?                           │     <span style=\"color: #00af00; text-decoration-color: #00af00\">0</span> (unbuilt) │\n",
              "└──────────────────────────────────────┴─────────────────────────────┴─────────────────┘\n",
              "</pre>\n"
            ]
          },
          "metadata": {}
        },
        {
          "output_type": "display_data",
          "data": {
            "text/plain": [
              "\u001b[1m Total params: \u001b[0m\u001b[38;5;34m0\u001b[0m (0.00 B)\n"
            ],
            "text/html": [
              "<pre style=\"white-space:pre;overflow-x:auto;line-height:normal;font-family:Menlo,'DejaVu Sans Mono',consolas,'Courier New',monospace\"><span style=\"font-weight: bold\"> Total params: </span><span style=\"color: #00af00; text-decoration-color: #00af00\">0</span> (0.00 B)\n",
              "</pre>\n"
            ]
          },
          "metadata": {}
        },
        {
          "output_type": "display_data",
          "data": {
            "text/plain": [
              "\u001b[1m Trainable params: \u001b[0m\u001b[38;5;34m0\u001b[0m (0.00 B)\n"
            ],
            "text/html": [
              "<pre style=\"white-space:pre;overflow-x:auto;line-height:normal;font-family:Menlo,'DejaVu Sans Mono',consolas,'Courier New',monospace\"><span style=\"font-weight: bold\"> Trainable params: </span><span style=\"color: #00af00; text-decoration-color: #00af00\">0</span> (0.00 B)\n",
              "</pre>\n"
            ]
          },
          "metadata": {}
        },
        {
          "output_type": "display_data",
          "data": {
            "text/plain": [
              "\u001b[1m Non-trainable params: \u001b[0m\u001b[38;5;34m0\u001b[0m (0.00 B)\n"
            ],
            "text/html": [
              "<pre style=\"white-space:pre;overflow-x:auto;line-height:normal;font-family:Menlo,'DejaVu Sans Mono',consolas,'Courier New',monospace\"><span style=\"font-weight: bold\"> Non-trainable params: </span><span style=\"color: #00af00; text-decoration-color: #00af00\">0</span> (0.00 B)\n",
              "</pre>\n"
            ]
          },
          "metadata": {}
        }
      ]
    },
    {
      "cell_type": "code",
      "source": [
        "model_lstm_attention.compile(loss=\"binary_crossentropy\", optimizer=\"rmsprop\", metrics=[\"acc\"])"
      ],
      "metadata": {
        "id": "1xYPCS3OVaAH"
      },
      "execution_count": null,
      "outputs": []
    },
    {
      "cell_type": "code",
      "source": [
        "# Entraînement du modèle\n",
        "history = model_lstm_attention.fit(train_data, train_labels, epochs=10, validation_split=0.2)"
      ],
      "metadata": {
        "colab": {
          "base_uri": "https://localhost:8080/"
        },
        "id": "vdKrm_xlgRc_",
        "outputId": "2995f7b1-d77b-4473-a042-be8930025f20"
      },
      "execution_count": null,
      "outputs": [
        {
          "output_type": "stream",
          "name": "stdout",
          "text": [
            "Epoch 1/10\n",
            "\u001b[1m625/625\u001b[0m \u001b[32m━━━━━━━━━━━━━━━━━━━━\u001b[0m\u001b[37m\u001b[0m \u001b[1m220s\u001b[0m 342ms/step - acc: 0.5316 - loss: 0.7393 - val_acc: 0.8116 - val_loss: 0.4353\n",
            "Epoch 2/10\n",
            "\u001b[1m625/625\u001b[0m \u001b[32m━━━━━━━━━━━━━━━━━━━━\u001b[0m\u001b[37m\u001b[0m \u001b[1m232s\u001b[0m 371ms/step - acc: 0.8423 - loss: 0.3808 - val_acc: 0.8068 - val_loss: 0.4450\n",
            "Epoch 3/10\n",
            "\u001b[1m625/625\u001b[0m \u001b[32m━━━━━━━━━━━━━━━━━━━━\u001b[0m\u001b[37m\u001b[0m \u001b[1m215s\u001b[0m 344ms/step - acc: 0.9003 - loss: 0.2502 - val_acc: 0.8338 - val_loss: 0.4041\n",
            "Epoch 4/10\n",
            "\u001b[1m625/625\u001b[0m \u001b[32m━━━━━━━━━━━━━━━━━━━━\u001b[0m\u001b[37m\u001b[0m \u001b[1m270s\u001b[0m 356ms/step - acc: 0.9339 - loss: 0.1880 - val_acc: 0.8944 - val_loss: 0.2721\n",
            "Epoch 5/10\n",
            "\u001b[1m625/625\u001b[0m \u001b[32m━━━━━━━━━━━━━━━━━━━━\u001b[0m\u001b[37m\u001b[0m \u001b[1m261s\u001b[0m 354ms/step - acc: 0.9504 - loss: 0.1463 - val_acc: 0.8306 - val_loss: 0.4331\n",
            "Epoch 6/10\n",
            "\u001b[1m625/625\u001b[0m \u001b[32m━━━━━━━━━━━━━━━━━━━━\u001b[0m\u001b[37m\u001b[0m \u001b[1m256s\u001b[0m 344ms/step - acc: 0.9606 - loss: 0.1177 - val_acc: 0.8658 - val_loss: 0.4052\n",
            "Epoch 7/10\n",
            "\u001b[1m625/625\u001b[0m \u001b[32m━━━━━━━━━━━━━━━━━━━━\u001b[0m\u001b[37m\u001b[0m \u001b[1m261s\u001b[0m 342ms/step - acc: 0.9709 - loss: 0.0938 - val_acc: 0.8830 - val_loss: 0.3295\n",
            "Epoch 8/10\n",
            "\u001b[1m625/625\u001b[0m \u001b[32m━━━━━━━━━━━━━━━━━━━━\u001b[0m\u001b[37m\u001b[0m \u001b[1m260s\u001b[0m 339ms/step - acc: 0.9776 - loss: 0.0772 - val_acc: 0.8666 - val_loss: 0.4144\n",
            "Epoch 9/10\n",
            "\u001b[1m625/625\u001b[0m \u001b[32m━━━━━━━━━━━━━━━━━━━━\u001b[0m\u001b[37m\u001b[0m \u001b[1m262s\u001b[0m 339ms/step - acc: 0.9833 - loss: 0.0582 - val_acc: 0.8844 - val_loss: 0.3692\n",
            "Epoch 10/10\n",
            "\u001b[1m625/625\u001b[0m \u001b[32m━━━━━━━━━━━━━━━━━━━━\u001b[0m\u001b[37m\u001b[0m \u001b[1m262s\u001b[0m 340ms/step - acc: 0.9891 - loss: 0.0419 - val_acc: 0.8732 - val_loss: 0.4912\n"
          ]
        }
      ]
    },
    {
      "cell_type": "code",
      "source": [
        "from tensorflow.keras.models import save_model\n",
        "\n",
        "model_lstm_attention.save(\"model_lstm_attention.h5\")\n",
        "\n"
      ],
      "metadata": {
        "colab": {
          "base_uri": "https://localhost:8080/"
        },
        "id": "a5C4UJ6aeS_c",
        "outputId": "29ddd4c4-bcd1-46a2-e36d-baf084ad11a2"
      },
      "execution_count": null,
      "outputs": [
        {
          "output_type": "stream",
          "name": "stderr",
          "text": [
            "WARNING:absl:You are saving your model as an HDF5 file via `model.save()` or `keras.saving.save_model(model)`. This file format is considered legacy. We recommend using instead the native Keras format, e.g. `model.save('my_model.keras')` or `keras.saving.save_model(model, 'my_model.keras')`. \n"
          ]
        }
      ]
    },
    {
      "cell_type": "code",
      "source": [
        "from google.colab import files\n",
        "\n",
        "files.download(\"model_lstm_attention.h5\")\n"
      ],
      "metadata": {
        "colab": {
          "base_uri": "https://localhost:8080/",
          "height": 17
        },
        "id": "ZNxV0mPGh-fg",
        "outputId": "222da4fd-976b-4820-9d06-3554cea7a642"
      },
      "execution_count": null,
      "outputs": [
        {
          "output_type": "display_data",
          "data": {
            "text/plain": [
              "<IPython.core.display.Javascript object>"
            ],
            "application/javascript": [
              "\n",
              "    async function download(id, filename, size) {\n",
              "      if (!google.colab.kernel.accessAllowed) {\n",
              "        return;\n",
              "      }\n",
              "      const div = document.createElement('div');\n",
              "      const label = document.createElement('label');\n",
              "      label.textContent = `Downloading \"${filename}\": `;\n",
              "      div.appendChild(label);\n",
              "      const progress = document.createElement('progress');\n",
              "      progress.max = size;\n",
              "      div.appendChild(progress);\n",
              "      document.body.appendChild(div);\n",
              "\n",
              "      const buffers = [];\n",
              "      let downloaded = 0;\n",
              "\n",
              "      const channel = await google.colab.kernel.comms.open(id);\n",
              "      // Send a message to notify the kernel that we're ready.\n",
              "      channel.send({})\n",
              "\n",
              "      for await (const message of channel.messages) {\n",
              "        // Send a message to notify the kernel that we're ready.\n",
              "        channel.send({})\n",
              "        if (message.buffers) {\n",
              "          for (const buffer of message.buffers) {\n",
              "            buffers.push(buffer);\n",
              "            downloaded += buffer.byteLength;\n",
              "            progress.value = downloaded;\n",
              "          }\n",
              "        }\n",
              "      }\n",
              "      const blob = new Blob(buffers, {type: 'application/binary'});\n",
              "      const a = document.createElement('a');\n",
              "      a.href = window.URL.createObjectURL(blob);\n",
              "      a.download = filename;\n",
              "      div.appendChild(a);\n",
              "      a.click();\n",
              "      div.remove();\n",
              "    }\n",
              "  "
            ]
          },
          "metadata": {}
        },
        {
          "output_type": "display_data",
          "data": {
            "text/plain": [
              "<IPython.core.display.Javascript object>"
            ],
            "application/javascript": [
              "download(\"download_0eb9d791-fda4-4ae5-be3b-b83e0dabea35\", \"model_lstm_attention.h5\", 46067304)"
            ]
          },
          "metadata": {}
        }
      ]
    },
    {
      "cell_type": "code",
      "source": [
        "model_lstm_attention1 = load_model(\"model_lstm_attention.h5\", custom_objects={\"AttentionLayer\": AttentionLayer})\n"
      ],
      "metadata": {
        "id": "Ja9HW5AqcPlB"
      },
      "execution_count": null,
      "outputs": []
    },
    {
      "cell_type": "code",
      "source": [
        "results_lstm_attention = model_lstm_attention.evaluate(test_data, test_labels)\n",
        "print(\"Résultats du modèle LSTM avec attention :\", results_lstm_attention)"
      ],
      "metadata": {
        "colab": {
          "base_uri": "https://localhost:8080/"
        },
        "id": "C_w_MY0wVaCq",
        "outputId": "fc925563-eddd-4e93-aeee-8e1ee9417278"
      },
      "execution_count": null,
      "outputs": [
        {
          "output_type": "stream",
          "name": "stdout",
          "text": [
            "\u001b[1m782/782\u001b[0m \u001b[32m━━━━━━━━━━━━━━━━━━━━\u001b[0m\u001b[37m\u001b[0m \u001b[1m66s\u001b[0m 84ms/step - acc: 0.8628 - loss: 0.5233\n",
            "Résultats du modèle LSTM avec attention : [0.5147583484649658, 0.8629599809646606]\n"
          ]
        }
      ]
    },
    {
      "cell_type": "code",
      "source": [
        "word_index = imdb.get_word_index()\n",
        "\n",
        "def encode_text(text):\n",
        "  tokens = tf.keras.preprocessing.text.text_to_word_sequence(text)\n",
        "  tokens = [word_index[word] if word in word_index else 0 for word in tokens]\n",
        "  return sequence.pad_sequences([tokens], MAXLEN)[0]\n",
        "\n",
        "text = \"that movie was just amazing, so amazing\"\n",
        "encoded = encode_text(text)\n",
        "print(encoded)"
      ],
      "metadata": {
        "colab": {
          "base_uri": "https://localhost:8080/"
        },
        "id": "FSq8p4hdVaFO",
        "outputId": "6b640e6a-571b-4b1a-ed75-05ad532d68a9"
      },
      "execution_count": null,
      "outputs": [
        {
          "output_type": "stream",
          "name": "stdout",
          "text": [
            "[  0   0   0   0   0   0   0   0   0   0   0   0   0   0   0   0   0   0\n",
            "   0   0   0   0   0   0   0   0   0   0   0   0   0   0   0   0   0   0\n",
            "   0   0   0   0   0   0   0   0   0   0   0   0   0   0   0   0   0   0\n",
            "   0   0   0   0   0   0   0   0   0   0   0   0   0   0   0   0   0   0\n",
            "   0   0   0   0   0   0   0   0   0   0   0   0   0   0   0   0   0   0\n",
            "   0   0   0   0   0   0   0   0   0   0   0   0   0   0   0   0   0   0\n",
            "   0   0   0   0   0   0   0   0   0   0   0   0   0   0   0   0   0   0\n",
            "   0   0   0   0   0   0   0   0   0   0   0   0   0   0   0   0   0   0\n",
            "   0   0   0   0   0   0   0   0   0   0   0   0   0   0   0   0   0   0\n",
            "   0   0   0   0   0   0   0   0   0   0   0   0   0   0   0   0   0   0\n",
            "   0   0   0   0   0   0   0   0   0   0   0   0   0   0   0   0   0   0\n",
            "   0   0   0   0   0   0   0   0   0   0   0   0   0   0   0   0   0   0\n",
            "   0   0   0   0   0   0   0   0   0   0   0   0   0   0   0   0   0   0\n",
            "   0   0   0   0   0   0   0   0   0  12  17  13  40 477  35 477]\n"
          ]
        }
      ]
    },
    {
      "cell_type": "code",
      "source": [
        "# while were at it lets make a decode function\n",
        "\n",
        "reverse_word_index = {value: key for (key, value) in word_index.items()}\n",
        "\n",
        "def decode_integers(integers):\n",
        "    PAD = 0\n",
        "    text = \"\"\n",
        "    for num in integers:\n",
        "      if num != PAD:\n",
        "        text += reverse_word_index[num] + \" \"\n",
        "\n",
        "    return text[:-1]\n",
        "\n",
        "print(decode_integers(encoded))"
      ],
      "metadata": {
        "colab": {
          "base_uri": "https://localhost:8080/"
        },
        "id": "PZKsb9UZXmJe",
        "outputId": "df794a23-bb72-4700-df3e-b75e89a8d6ad"
      },
      "execution_count": null,
      "outputs": [
        {
          "output_type": "stream",
          "name": "stdout",
          "text": [
            "that movie was just amazing so amazing\n"
          ]
        }
      ]
    },
    {
      "cell_type": "code",
      "source": [
        "# now time to make a prediction\n",
        "from IPython.display import Image, display\n",
        "\n",
        "def predict(model,text):\n",
        "  encoded_text = encode_text(text)\n",
        "  # On s'assure que la forme du tableau correspond à (1, MAXLEN)\n",
        "  pred = np.reshape(encoded_text, (1, MAXLEN))\n",
        "  result = model.predict(pred)\n",
        "  print(result[0])\n",
        "  if result[0] > 0.5:\n",
        "      display(Image('/content/smile.jpg',width=100,height=100))\n",
        "  else:\n",
        "      display(Image('/content/sad.png',width=100,height=100))\n",
        "\n",
        "positive_review = \"That movie was! really loved it and would great watch it again because it was amazingly great\"\n",
        "predict(model_lstm_attention,positive_review)\n",
        "\n",
        "negative_review = \"that movie really sucked. I hated it and wouldn't watch it again. Was one of the worst things I've ever watched\"\n",
        "predict(model_lstm_attention,negative_review)\n"
      ],
      "metadata": {
        "colab": {
          "base_uri": "https://localhost:8080/",
          "height": 286
        },
        "id": "4dy_-tELXmM_",
        "outputId": "1ca5d9fa-e8aa-4ee1-8d5e-f1d6a7d289a2"
      },
      "execution_count": null,
      "outputs": [
        {
          "output_type": "stream",
          "name": "stdout",
          "text": [
            "\u001b[1m1/1\u001b[0m \u001b[32m━━━━━━━━━━━━━━━━━━━━\u001b[0m\u001b[37m\u001b[0m \u001b[1m1s\u001b[0m 655ms/step\n",
            "[0.9676099]\n"
          ]
        },
        {
          "output_type": "display_data",
          "data": {
            "image/jpeg": "[encoded data removed]",
            "text/plain": [
              "<IPython.core.display.Image object>"
            ]
          },
          "metadata": {
            "image/jpeg": {
              "width": 100,
              "height": 100
            }
          }
        },
        {
          "output_type": "stream",
          "name": "stdout",
          "text": [
            "\u001b[1m1/1\u001b[0m \u001b[32m━━━━━━━━━━━━━━━━━━━━\u001b[0m\u001b[37m\u001b[0m \u001b[1m0s\u001b[0m 79ms/step\n",
            "[0.19224057]\n"
          ]
        },
        {
          "output_type": "display_data",
          "data": {
            "image/png": "[encoded data removed]",
            "text/plain": [
              "<IPython.core.display.Image object>"
            ]
          },
          "metadata": {
            "image/png": {
              "width": 100,
              "height": 100
            }
          }
        }
      ]
    },
    {
      "cell_type": "markdown",
      "source": [
        "## Tronsformers"
      ],
      "metadata": {
        "id": "iDNc5ntXYlfS"
      }
    },
    {
      "cell_type": "code",
      "source": [
        "import tensorflow as tf\n",
        "from transformers import BertTokenizer, TFBertForSequenceClassification\n",
        "from tensorflow.keras.preprocessing.sequence import pad_sequences\n",
        "from keras.datasets import imdb\n",
        "import numpy as np\n",
        "\n",
        "# Activer le mixed precision\n",
        "from tensorflow.keras.mixed_precision import set_global_policy\n",
        "set_global_policy('mixed_float16')\n",
        "\n",
        "# Charger le dataset IMDB\n",
        "VOCAB_SIZE = 8858\n",
        "MAXLEN = 128  # Réduire la longueur maximale\n",
        "BATCH_SIZE = 32  # Augmenter la taille du batch\n",
        "\n",
        "(train_data, train_labels), (test_data, test_labels) = imdb.load_data(num_words=VOCAB_SIZE)\n",
        "\n",
        "# Réduire la taille du dataset (optionnel)\n",
        "train_data = train_data[:50]\n",
        "train_labels = train_labels[:50]\n",
        "test_data = test_data[:10]\n",
        "test_labels = test_labels[:10]\n",
        "\n",
        "# Padding des séquences\n",
        "train_data = pad_sequences(train_data, maxlen=MAXLEN)\n",
        "test_data = pad_sequences(test_data, maxlen=MAXLEN)\n",
        "\n",
        "# Convertir les labels en numpy array\n",
        "train_labels = np.array(train_labels)\n",
        "test_labels = np.array(test_labels)\n",
        "\n",
        "# Charger le tokenizer BERT\n",
        "tokenizer = BertTokenizer.from_pretrained('bert-base-uncased')\n",
        "\n",
        "# Convertir les séquences d'entiers en texte\n",
        "word_index = imdb.get_word_index()\n",
        "reverse_word_index = {value: key for (key, value) in word_index.items()}\n",
        "\n",
        "def decode_review(encoded_review):\n",
        "    return ' '.join([reverse_word_index.get(i - 3, '?') for i in encoded_review])\n",
        "\n",
        "# Décoder les reviews\n",
        "train_texts = [decode_review(review) for review in train_data]\n",
        "test_texts = [decode_review(review) for review in test_data]\n",
        "\n",
        "# Tokenizer les textes pour BERT\n",
        "train_encodings = tokenizer(train_texts, truncation=True, padding=True, max_length=MAXLEN, return_tensors='tf')\n",
        "test_encodings = tokenizer(test_texts, truncation=True, padding=True, max_length=MAXLEN, return_tensors='tf')\n",
        "\n",
        "# Convertir les encodages en datasets TensorFlow\n",
        "train_dataset = tf.data.Dataset.from_tensor_slices((\n",
        "    dict(train_encodings),\n",
        "    train_labels\n",
        ")).batch(BATCH_SIZE).cache().prefetch(tf.data.AUTOTUNE)\n",
        "\n",
        "test_dataset = tf.data.Dataset.from_tensor_slices((\n",
        "    dict(test_encodings),\n",
        "    test_labels\n",
        ")).batch(BATCH_SIZE).cache().prefetch(tf.data.AUTOTUNE)\n"
      ],
      "metadata": {
        "colab": {
          "base_uri": "https://localhost:8080/"
        },
        "id": "70svaNJb-ZLF",
        "outputId": "f78ad96e-933a-4cfe-e598-304d5ddb6c6b"
      },
      "execution_count": 1,
      "outputs": [
        {
          "output_type": "stream",
          "name": "stderr",
          "text": [
            "/usr/local/lib/python3.11/dist-packages/huggingface_hub/utils/_auth.py:94: UserWarning: \n",
            "The secret `HF_TOKEN` does not exist in your Colab secrets.\n",
            "To authenticate with the Hugging Face Hub, create a token in your settings tab (https://huggingface.co/settings/tokens), set it as secret in your Google Colab and restart your session.\n",
            "You will be able to reuse this secret in all of your notebooks.\n",
            "Please note that authentication is recommended but still optional to access public models or datasets.\n",
            "  warnings.warn(\n"
          ]
        }
      ]
    },
    {
      "cell_type": "code",
      "source": [
        "\n",
        "# Charger le modèle BERT pré-entraîné\n",
        "model = TFBertForSequenceClassification.from_pretrained('bert-base-uncased', num_labels=2)\n",
        "\n",
        "from transformers import AdamWeightDecay\n",
        "\n",
        "optimizer = AdamWeightDecay(learning_rate=2e-5, weight_decay_rate=0.01)\n",
        "loss = tf.keras.losses.SparseCategoricalCrossentropy(from_logits=True)\n",
        "model.compile(optimizer=optimizer, loss=loss, metrics=['accuracy'])\n",
        "\n",
        "# Entraîner le modèle\n",
        "history = model.fit(train_dataset, epochs=10, validation_data=test_dataset)\n",
        "\n"
      ],
      "metadata": {
        "colab": {
          "base_uri": "https://localhost:8080/"
        },
        "id": "ebnCMY2W-wyT",
        "outputId": "ec20f223-97f2-4638-fd29-7fe1d990a395"
      },
      "execution_count": 4,
      "outputs": [
        {
          "output_type": "stream",
          "name": "stderr",
          "text": [
            "All PyTorch model weights were used when initializing TFBertForSequenceClassification.\n",
            "\n",
            "Some weights or buffers of the TF 2.0 model TFBertForSequenceClassification were not initialized from the PyTorch model and are newly initialized: ['classifier.weight', 'classifier.bias']\n",
            "You should probably TRAIN this model on a down-stream task to be able to use it for predictions and inference.\n"
          ]
        },
        {
          "output_type": "stream",
          "name": "stdout",
          "text": [
            "Epoch 1/10\n",
            "2/2 [==============================] - 116s 37s/step - loss: 0.6897 - accuracy: 0.5600 - val_loss: 0.7297 - val_accuracy: 0.4000\n",
            "Epoch 2/10\n",
            "2/2 [==============================] - 82s 32s/step - loss: 0.6139 - accuracy: 0.7200 - val_loss: 0.6937 - val_accuracy: 0.5000\n",
            "Epoch 3/10\n",
            "2/2 [==============================] - 88s 37s/step - loss: 0.5760 - accuracy: 0.8600 - val_loss: 0.7006 - val_accuracy: 0.5000\n",
            "Epoch 4/10\n",
            "2/2 [==============================] - 85s 33s/step - loss: 0.5564 - accuracy: 0.8600 - val_loss: 0.6630 - val_accuracy: 0.5000\n",
            "Epoch 5/10\n",
            "2/2 [==============================] - 83s 32s/step - loss: 0.4765 - accuracy: 0.9400 - val_loss: 0.6574 - val_accuracy: 0.6000\n",
            "Epoch 6/10\n",
            "2/2 [==============================] - 81s 32s/step - loss: 0.4133 - accuracy: 1.0000 - val_loss: 0.6906 - val_accuracy: 0.5000\n",
            "Epoch 7/10\n",
            "2/2 [==============================] - 83s 33s/step - loss: 0.3794 - accuracy: 0.9600 - val_loss: 0.6903 - val_accuracy: 0.6000\n",
            "Epoch 8/10\n",
            "2/2 [==============================] - 95s 40s/step - loss: 0.3230 - accuracy: 1.0000 - val_loss: 0.6996 - val_accuracy: 0.5000\n",
            "Epoch 9/10\n",
            "2/2 [==============================] - 93s 32s/step - loss: 0.2810 - accuracy: 1.0000 - val_loss: 0.7299 - val_accuracy: 0.6000\n",
            "Epoch 10/10\n",
            "2/2 [==============================] - 82s 33s/step - loss: 0.2393 - accuracy: 1.0000 - val_loss: 0.7570 - val_accuracy: 0.6000\n"
          ]
        }
      ]
    },
    {
      "cell_type": "code",
      "source": [
        "# Fonction pour prédire le sentiment d'un texte\n",
        "def predict_sentiment(text):\n",
        "    inputs = tokenizer(text, return_tensors='tf', truncation=True, padding=True, max_length=MAXLEN)\n",
        "    outputs = model(inputs)\n",
        "    logits = outputs.logits\n",
        "    probabilities = tf.nn.softmax(logits, axis=-1)\n",
        "    predicted_class = tf.argmax(probabilities, axis=-1).numpy()[0]\n",
        "    from IPython.display import Image, display\n",
        "\n",
        "    if probabilities[0][1] > 0.5:\n",
        "      display(Image('/content/smile.jpg',width=100,height=100))\n",
        "    else:\n",
        "      display(Image('/content/sad.png',width=100,height=100))\n",
        "    return \"Positive\" if predicted_class == 1 else \"Negative\",probabilities[0][1]\n",
        "\n",
        "# Exemple de prédiction\n",
        "text = \"the thing that really ? people and this film proves that as the director ? that we can never really be sure of exactly what is round the corner and this helps to ensure that ? actually does manage to be quite frightening the film is memorable for a lot of reasons outside the central plot the characters are all very interesting in their own way and the fact that the book itself almost takes on its own character is very well done anyone worried that the film won't deliver by the end won't be disappointed either as the ending both makes sense and manages to be quite horrifying overall ? is a truly great horror film and one of the best of the decade highly recommended viewingg.\"\n",
        "print(predict_sentiment(text))\n",
        "text = \"This movie was absolutely bad! I hated every minute of it.\"\n",
        "print(predict_sentiment(text))"
      ],
      "metadata": {
        "colab": {
          "base_uri": "https://localhost:8080/",
          "height": 252
        },
        "id": "ezuY_LID-xVS",
        "outputId": "aeb0362f-1558-494b-a357-8cd53e1eb309"
      },
      "execution_count": 14,
      "outputs": [
        {
          "output_type": "display_data",
          "data": {
            "image/jpeg": "[encoded data removed]",
            "text/plain": [
              "<IPython.core.display.Image object>"
            ]
          },
          "metadata": {
            "image/jpeg": {
              "width": 100,
              "height": 100
            }
          }
        },
        {
          "output_type": "stream",
          "name": "stdout",
          "text": [
            "('Positive', <tf.Tensor: shape=(), dtype=float32, numpy=0.801487922668457>)\n"
          ]
        },
        {
          "output_type": "display_data",
          "data": {
            "image/png": "[encoded data removed]",
            "text/plain": [
              "<IPython.core.display.Image object>"
            ]
          },
          "metadata": {
            "image/png": {
              "width": 100,
              "height": 100
            }
          }
        },
        {
          "output_type": "stream",
          "name": "stdout",
          "text": [
            "('Negative', <tf.Tensor: shape=(), dtype=float32, numpy=0.23638194799423218>)\n"
          ]
        }
      ]
    },
    {
      "cell_type": "code",
      "source": [
        "decode_review(train_data[10])"
      ],
      "metadata": {
        "colab": {
          "base_uri": "https://localhost:8080/",
          "height": 70
        },
        "id": "MA50GvXyJVeY",
        "outputId": "e6335e27-1eb4-4352-fa1f-6a098c4e8fe2"
      },
      "execution_count": 11,
      "outputs": [
        {
          "output_type": "execute_result",
          "data": {
            "text/plain": [
              "\"the thing that really ? people and this film proves that as the director ? that we can never really be sure of exactly what is round the corner and this helps to ensure that ? actually does manage to be quite frightening the film is memorable for a lot of reasons outside the central plot the characters are all very interesting in their own way and the fact that the book itself almost takes on its own character is very well done anyone worried that the film won't deliver by the end won't be disappointed either as the ending both makes sense and manages to be quite horrifying overall ? is a truly great horror film and one of the best of the decade highly recommended viewing\""
            ],
            "application/vnd.google.colaboratory.intrinsic+json": {
              "type": "string"
            }
          },
          "metadata": {},
          "execution_count": 11
        }
      ]
    },
    {
      "cell_type": "code",
      "source": [],
      "metadata": {
        "id": "mLMk0WcIJqz_"
      },
      "execution_count": null,
      "outputs": []
    }
  ],
  "metadata": {
    "colab": {
      "provenance": [],
      "collapsed_sections": [
        "OVbWJaufOCI6",
        "No5hPcaFN6lU",
        "GX-6ir_eF9Z7"
      ]
    },
    "kernelspec": {
      "display_name": "Python 3",
      "name": "python3"
    },
    "language_info": {
      "name": "python"
    }
  },
  "nbformat": 4,
  "nbformat_minor": 0
}